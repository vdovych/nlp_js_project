{
 "cells": [
  {
   "cell_type": "markdown",
   "metadata": {},
   "source": [
    "### import data & modules"
   ]
  },
  {
   "cell_type": "code",
   "execution_count": null,
   "metadata": {},
   "outputs": [],
   "source": [
    "import numpy as np\n",
    "import pandas as pd\n",
    "from sklearn.feature_extraction.text import TfidfVectorizer\n",
    "from sklearn.metrics import accuracy_score, confusion_matrix, classification_report\n",
    "from sklearn.model_selection import train_test_split, GridSearchCV"
   ]
  },
  {
   "cell_type": "code",
   "execution_count": null,
   "metadata": {
    "colab": {},
    "colab_type": "code",
    "id": "JwCbVAW5z4tV"
   },
   "outputs": [],
   "source": [
    "from keras.models import Sequential\n",
    "from keras.layers import Conv2D, MaxPooling2D\n",
    "from keras.layers import Activation, Dropout, Flatten, Dense\n",
    "from keras.regularizers import l2\n",
    "from keras.callbacks import EarlyStopping, ModelCheckpoint"
   ]
  },
  {
   "cell_type": "markdown",
   "metadata": {},
   "source": [
    "### load model for test"
   ]
  },
  {
   "cell_type": "code",
   "execution_count": null,
   "metadata": {
    "colab": {},
    "colab_type": "code",
    "id": "8h78kLn2T7MY"
   },
   "outputs": [],
   "source": [
    "simple_model = Sequential([Dense(150,activation='relu', input_dim=features.shape[1], kernel_regularizer=l2(0.01)),\n",
    "                           Dropout(0.6, noise_shape=None, seed=None),\n",
    "                           Dense(200,activation='relu', kernel_regularizer=l2(0.01)),\n",
    "                           Dropout(0.4, noise_shape=None, seed=None),\n",
    "                           Dense(1,activation='sigmoid')])\n",
    "\n",
    "simple_model.load_weights('improvement-10-0.9714-0.9181.hdf5')\n",
    "\n",
    "simple_model.compile(loss='binary_crossentropy',\n",
    "                     optimizer='adam',\n",
    "                     metrics=['binary_accuracy'])"
   ]
  },
  {
   "cell_type": "markdown",
   "metadata": {
    "colab_type": "text",
    "id": "uTvBQ4OSLS7R"
   },
   "source": [
    "### tfidf ctreation from file"
   ]
  },
  {
   "cell_type": "code",
   "execution_count": 2,
   "metadata": {
    "colab": {
     "base_uri": "https://localhost:8080/",
     "height": 34
    },
    "colab_type": "code",
    "id": "cyUr8AfBMYa1",
    "outputId": "0c02c756-c8eb-4886-98be-093abd5bd883"
   },
   "outputs": [],
   "source": [
    "with open('tfidf_vocab.json') as f:\n",
    "    vocab=json.load(f)\n",
    "type(vocab)"
   ]
  },
  {
   "cell_type": "code",
   "execution_count": 3,
   "metadata": {
    "colab": {
     "base_uri": "https://localhost:8080/",
     "height": 17812
    },
    "colab_type": "code",
    "id": "mdnYwtrolQov",
    "outputId": "d6c46708-6ae0-4f73-b91b-de2cbdd59b65"
   },
   "outputs": [],
   "source": [
    "with open('idf_.json') as f:\n",
    "    idf=json.load(f)\n",
    "idf"
   ]
  },
  {
   "cell_type": "code",
   "execution_count": null,
   "metadata": {
    "colab": {},
    "colab_type": "code",
    "id": "whCKQDS5LRa0"
   },
   "outputs": [],
   "source": [
    "tfidf = TfidfVectorizer(stop_words='english', vocabulary=vocab, norm=None, min_df=0.0003, ngram_range=(1, 2))\n",
    "tfidf.idf_=idf"
   ]
  },
  {
   "cell_type": "code",
   "execution_count": null,
   "metadata": {
    "colab": {},
    "colab_type": "code",
    "id": "dCm5IuhgLyRH"
   },
   "outputs": [],
   "source": [
    "text = \"\"\"The average American would rather share their health data with pharmaceutical companies, health insurers and the government than tech companies like Amazon and Facebook.\n",
    "\n",
    "That's according to the latest results of a new survey of 4,000 diverse participants from Rock Health, which conducts research and invests in health tech companies.\n",
    "\n",
    "The survey, which was conducted in the fall of 2018, asked people who they'd be wiling to share health data with. Tech companies came in at the bottom:\n",
    "\n",
    "My doctor: 72 percent willing to share\n",
    "My health insurer: 49 percent\n",
    "My pharmacy: 47 percent\n",
    "Research institution: 35 percent\n",
    "Pharmaceutical company: 20 percent\n",
    "Government organization: 12 percent\n",
    "Tech company: 11 percent\n",
    "This is the fourth year that Rock Health has released survey results.\n",
    "\n",
    "This year, Rock Health dug a little deeper into the opinions of that 11 percent who said they'd share health info with a tech company to find out which companies they trusted most. The most trusted company among them was Google, while IBM brought up the rear:\"\"\""
   ]
  },
  {
   "cell_type": "code",
   "execution_count": null,
   "metadata": {
    "colab": {},
    "colab_type": "code",
    "id": "e3jnZtOpPoCt"
   },
   "outputs": [],
   "source": [
    "transformed = tfidf.transform([text])"
   ]
  },
  {
   "cell_type": "code",
   "execution_count": null,
   "metadata": {
    "colab": {
     "base_uri": "https://localhost:8080/",
     "height": 34
    },
    "colab_type": "code",
    "id": "P7OxV6kKLyNq",
    "outputId": "4c66f7fc-089d-4d03-8258-2032bd15d918"
   },
   "outputs": [
    {
     "data": {
      "text/plain": [
       "array([[0.9318109]], dtype=float32)"
      ]
     },
     "execution_count": 42,
     "metadata": {
      "tags": []
     },
     "output_type": "execute_result"
    }
   ],
   "source": [
    "simple_model.predict(transformed)"
   ]
  },
  {
   "cell_type": "markdown",
   "metadata": {
    "colab_type": "text",
    "id": "BL9WsrMIzpvd"
   },
   "source": [
    "### Manual trial"
   ]
  },
  {
   "cell_type": "code",
   "execution_count": null,
   "metadata": {
    "colab": {},
    "colab_type": "code",
    "id": "HzrAwBS2zvjA"
   },
   "outputs": [],
   "source": [
    "# text = 'i want to use this classifier for a commercial project. It is light-weighted and can work in a chrome plugin'\n",
    "# text = 'i care for my country very much, vote for me. believeme, i will be the best president you have ever known'\n",
    "# text = 'This ballet style is often performed barefoot. Contemporary ballets may include mime and acting, and are usually set to music (typically orchestral but occasionally vocal). It can be difficult to differentiate this form from neoclassical or modern ballet. Contemporary ballet is also close to contemporary dance, because many contemporary ballet concepts come from the ideas and innovations of twentieth-century modern dance, including floor work and turn-in of the legs. The main distinction is that ballet technique is essential to perform a contemporary ballet.George Balanchine is considered to have been a pioneer of contemporary ballet. Another early contemporary ballet choreographer, Twyla Tharp, choreographed Push Comes To Shove for the American Ballet Theatre in 1976, and in 1986 created In The Upper Room for her own company. Both of these pieces were considered innovative for their melding of distinctly modern movements with the use of pointe shoes and classically trained dancers.Today there are many contemporary ballet companies and choreographers. These include Alonzo King and his company LINES Ballet; Matthew Bourne and his company New Adventures; Complexions Contemporary Ballet; Nacho Duato and his Compañia Nacional de Danza; William Forsythe and The Forsythe Company; and Jiří Kylián of the Nederlands Dans Theater. Traditionally \"classical\" companies, such as the Mariinsky (Kirov) Ballet and the Paris Opera Ballet, also regularly perform contemporary works.The term ballet has evolved to include all forms associated with it. Someone training as a ballet dancer will now be expected to perform neoclassical, modern and contemporary work. A ballet dancer is expected to be able to be stately and regal for classical work, free and lyrical in neoclassical work, and unassuming, harsh or pedestrian for modern and contemporary work. In addition, there are several modern varieties of dance that fuse classical ballet technique with contemporary dance, such as Hiplet, that require dancers to be practised in non-Western dance styles.'\n",
    "# text='The first thing that comes into our minds while thinking of employees at tech companies is probably Software Engineers and Data Scientists. But a technology company requires employees beyond those in technical roles, so they hire for non-tech roles too. The current scenario at the job market doesn’t necessarily require you to be a tech pro to get hired by technology companies. As the growth tech companies increases, they need more non-technical workforce to help transform their technology into revenue. Roles such as sales, marketing, business operation, etc. are crucial to their expansion. These highly coveted positions are also well compensated by tech employers.'\n",
    "# # text = '''As part of an effort to reduce noise in Ghana’s capital, Accra, the environment minister has suggested that the Muslim call to prayer, normally broadcast over loudspeakers across the city, should instead be sent out on WhatsApp. The notion has proved immensely unpopular – not least because it equates the call to prayer with noise pollution. But it also highlights religion’s growing, if sometimes uneasy, reliance on tech.\n",
    "\n",
    "# Contactless collection Catholic and Protestant churches in the UK have begun using contactless card readers for donations and other payments, hoping to make life easier for parishioners who may not be carrying cash. A contactless collection plate is being trialled by the Church of England, but it is being held up because it is feared the technology might slow things down.\n",
    "\n",
    "# The confession app Confession (version 2.1) walks sinners through the business of confession, pings you push notifications when it’s time for your next shriving and includes a handy sin checklist in case you have forgotten what you’ve done wrong. What it doesn’t do is offer absolution. You still need a priest for that.\n",
    "\n",
    "# Televangelist tech American TV preachers tend to be at home in the digital realm, particularly those espousing “prosperity theology”, which holds that God rewards the pious with material wealth. It works for them, anyway. Controversial televangelist Joel Osteen’s free app offers daily devotional messages and sermons. And Creflo Dollar’s latest app boasts a “give” feature that makes handing your money over to Creflo A Dollar Ministries as easy as gambling. Webcast rites Funerals broadcast online are at least a decade old. Many UK crematoria now offer it as part of the package, and rabbis and vicars routinely officiate at live-streamed services. It is not quite the same as being there, but in many cases it’s probably preferable.Halal apps There are several apps that help Muslims find halal restaurants and stores in the immediate area . There is even one – Scan Halal – that allows you to scan the barcode of any food in a supermarket to instantly determine whether it contains non-halal ingredients. Online reviews for this idea are decidedly mixed.'\n",
    "# '''\n",
    "# text = \"Redux Redux DevTools debugging\"\n",
    "# text = \"Redux DevTools for debugging application's state changes.\"\n",
    "text = \"NodeSource is a company focused on providing enterprise-grade Node support and they maintain a repository containing the latest versions of Node.js.\"\n",
    "text = \"\"\"made that was made.\n",
    "4In him was life; and the life was the light of men.\n",
    "5And the light shineth in darkness; and the darkness comprehended it not.\n",
    "6There was a man sent from God, whose name was John.\n",
    "7The same came for a witness, to bear witness of the Light, that all men through him might believe.\n",
    "8He was not that Light, but was sent to bear witness of that Light.\n",
    "9That was the true Light, which lighteth every man that cometh into the world.\"\"\""
   ]
  },
  {
   "cell_type": "code",
   "execution_count": null,
   "metadata": {
    "colab": {},
    "colab_type": "code",
    "id": "-IQb64pnzx76"
   },
   "outputs": [],
   "source": [
    "transformed = tfidf.transform([text])"
   ]
  },
  {
   "cell_type": "code",
   "execution_count": null,
   "metadata": {
    "colab": {},
    "colab_type": "code",
    "id": "bREdJjnerm3y"
   },
   "outputs": [],
   "source": [
    "tfidf._tfidf._idf_diag.toarray()"
   ]
  },
  {
   "cell_type": "code",
   "execution_count": null,
   "metadata": {
    "colab": {},
    "colab_type": "code",
    "id": "EVD7nps_qgUb"
   },
   "outputs": [],
   "source": [
    "transformed.toarray().tolist()"
   ]
  },
  {
   "cell_type": "code",
   "execution_count": null,
   "metadata": {
    "colab": {},
    "colab_type": "code",
    "id": "7i0h9law98Sd"
   },
   "outputs": [],
   "source": [
    "tfidf.idf_.tolist()"
   ]
  },
  {
   "cell_type": "code",
   "execution_count": null,
   "metadata": {
    "colab": {},
    "colab_type": "code",
    "id": "bO_Z6f2X8Fv7"
   },
   "outputs": [],
   "source": [
    "tfidf.vocabulary_"
   ]
  },
  {
   "cell_type": "code",
   "execution_count": null,
   "metadata": {
    "colab": {
     "base_uri": "https://localhost:8080/",
     "height": 33
    },
    "colab_type": "code",
    "id": "u1ZHUElQzx3Y",
    "outputId": "ebf2a0d3-fd16-412c-e15f-e9892349d123"
   },
   "outputs": [
    {
     "data": {
      "text/plain": [
       "array([[0.49849725]], dtype=float32)"
      ]
     },
     "execution_count": 24,
     "metadata": {
      "tags": []
     },
     "output_type": "execute_result"
    }
   ],
   "source": [
    "simple_model.predict(transformed)\n"
   ]
  },
  {
   "cell_type": "markdown",
   "metadata": {
    "colab_type": "text",
    "id": "h5jhLnknf9PF"
   },
   "source": [
    "### for js testing"
   ]
  },
  {
   "cell_type": "code",
   "execution_count": null,
   "metadata": {
    "colab": {},
    "colab_type": "code",
    "id": "NsTkdiVYf77o"
   },
   "outputs": [],
   "source": [
    "text = [\"Redux DevTools for debugging application's state changes.\", \"I want to use this classifier for a commercial project.\", \"for debugging application's I want to use this classifier\"]"
   ]
  },
  {
   "cell_type": "code",
   "execution_count": null,
   "metadata": {
    "colab": {},
    "colab_type": "code",
    "id": "XrvFPQj-f736"
   },
   "outputs": [],
   "source": [
    "tfidf = TfidfVectorizer(stop_words='english', norm=None, use_idf=True, smooth_idf=True, sublinear_tf=True)\n",
    "feat = tfidf.fit_transform(text)"
   ]
  }
 ],
 "metadata": {
  "kernelspec": {
   "display_name": "Python 3",
   "language": "python",
   "name": "python3"
  },
  "language_info": {
   "codemirror_mode": {
    "name": "ipython",
    "version": 3
   },
   "file_extension": ".py",
   "mimetype": "text/x-python",
   "name": "python",
   "nbconvert_exporter": "python",
   "pygments_lexer": "ipython3",
   "version": "3.6.6"
  }
 },
 "nbformat": 4,
 "nbformat_minor": 2
}
