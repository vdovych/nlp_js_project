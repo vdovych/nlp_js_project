{
  "nbformat": 4,
  "nbformat_minor": 0,
  "metadata": {
    "colab": {
      "name": "data_preparation.ipynb",
      "version": "0.3.2",
      "provenance": [],
      "toc_visible": true
    },
    "language_info": {
      "codemirror_mode": {
        "name": "ipython",
        "version": 3
      },
      "file_extension": ".py",
      "mimetype": "text/x-python",
      "name": "python",
      "nbconvert_exporter": "python",
      "pygments_lexer": "ipython3",
      "version": "3.6.6"
    },
    "kernelspec": {
      "display_name": "Python 3",
      "language": "python",
      "name": "python3"
    },
    "accelerator": "GPU"
  },
  "cells": [
    {
      "metadata": {
        "colab_type": "text",
        "id": "gx4bpiiUMKhM"
      },
      "cell_type": "markdown",
      "source": [
        "### BBC data preprocessing"
      ]
    },
    {
      "metadata": {
        "colab_type": "code",
        "id": "f6ocM7g5MKhP",
        "colab": {}
      },
      "cell_type": "code",
      "source": [
        "from subprocess import Popen, PIPE, STDOUT"
      ],
      "execution_count": 0,
      "outputs": []
    },
    {
      "metadata": {
        "colab_type": "code",
        "id": "t4qk7pBOMKhW",
        "colab": {}
      },
      "cell_type": "code",
      "source": [
        "target = []\n",
        "text = []"
      ],
      "execution_count": 0,
      "outputs": []
    },
    {
      "metadata": {
        "colab_type": "code",
        "id": "RKxDXSWvMKhe",
        "outputId": "ed4471a0-6623-4bde-8441-0b46531525eb",
        "colab": {}
      },
      "cell_type": "code",
      "source": [
        "out = Popen(['ls', 'bbc_filetext/'], \n",
        "           stdout=PIPE, \n",
        "           stderr=STDOUT)\n",
        "stdout, stderr = out.communicate()\n",
        "topics = stdout.decode().split('\\n')\n",
        "topics.remove('')\n",
        "topics"
      ],
      "execution_count": 0,
      "outputs": [
        {
          "output_type": "execute_result",
          "data": {
            "text/plain": [
              "['business', 'entertainment', 'politics', 'sport', 'tech']"
            ]
          },
          "metadata": {
            "tags": []
          },
          "execution_count": 3
        }
      ]
    },
    {
      "metadata": {
        "colab_type": "code",
        "id": "wuYWfi5aMKhs",
        "outputId": "a897f973-397c-4106-f127-98fbea416a84",
        "colab": {}
      },
      "cell_type": "code",
      "source": [
        "for topic in topics:\n",
        "    out = Popen(['ls', 'bbc_filetext/'+topic+'/'], \n",
        "           stdout=PIPE, \n",
        "           stderr=STDOUT)\n",
        "    stdout, stderr = out.communicate()\n",
        "    files = stdout.decode().split('\\n')\n",
        "    files.remove('')\n",
        "    print(topic + '___Done___')\n",
        "    for file in files:\n",
        "        target.append(topic)\n",
        "        text.append(open('bbc_filetext/' + topic+ \"/\" + file, 'r').read().replace('\\n', ''))"
      ],
      "execution_count": 0,
      "outputs": [
        {
          "output_type": "stream",
          "text": [
            "business___Done___\n",
            "entertainment___Done___\n",
            "politics___Done___\n",
            "sport___Done___\n",
            "tech___Done___\n"
          ],
          "name": "stdout"
        }
      ]
    },
    {
      "metadata": {
        "colab_type": "code",
        "id": "9eBVs4jEMKh2",
        "outputId": "5e70ab29-943b-485f-bdfe-913e1f67b033",
        "colab": {}
      },
      "cell_type": "code",
      "source": [
        "len(target)"
      ],
      "execution_count": 0,
      "outputs": [
        {
          "output_type": "execute_result",
          "data": {
            "text/plain": [
              "2224"
            ]
          },
          "metadata": {
            "tags": []
          },
          "execution_count": 5
        }
      ]
    },
    {
      "metadata": {
        "colab_type": "code",
        "id": "m6bWigvzMKh8",
        "outputId": "a3fc2c72-4ae8-49ae-c06a-299668f03920",
        "colab": {}
      },
      "cell_type": "code",
      "source": [
        "len(text)"
      ],
      "execution_count": 0,
      "outputs": [
        {
          "output_type": "execute_result",
          "data": {
            "text/plain": [
              "2224"
            ]
          },
          "metadata": {
            "tags": []
          },
          "execution_count": 6
        }
      ]
    },
    {
      "metadata": {
        "colab_type": "code",
        "id": "pVaS6SeDMKiH",
        "outputId": "d8f012e0-5cbf-465a-db27-cf735e426793",
        "colab": {}
      },
      "cell_type": "code",
      "source": [
        "open('bbc_target.csv', 'w').write(str(target).strip('[]').replace(', ', '\\n'))"
      ],
      "execution_count": 0,
      "outputs": [
        {
          "output_type": "execute_result",
          "data": {
            "text/plain": [
              "23259"
            ]
          },
          "metadata": {
            "tags": []
          },
          "execution_count": 7
        }
      ]
    },
    {
      "metadata": {
        "colab_type": "code",
        "id": "22kT1bDPMKiM",
        "colab": {}
      },
      "cell_type": "code",
      "source": [
        "import csv\n",
        "with open('bbc_text.csv', 'w') as f:\n",
        "    writer = csv.writer(f)\n",
        "    for article in text:\n",
        "        writer.writerow([article])"
      ],
      "execution_count": 0,
      "outputs": []
    },
    {
      "metadata": {
        "colab_type": "text",
        "id": "E2IpxiusMKiU"
      },
      "cell_type": "markdown",
      "source": [
        "### Webhouse data preprocessing"
      ]
    },
    {
      "metadata": {
        "colab_type": "code",
        "id": "TexrN0tYMKiX",
        "colab": {}
      },
      "cell_type": "code",
      "source": [
        "from subprocess import Popen, PIPE, STDOUT\n",
        "import pandas as pd \n",
        "import numpy as np\n",
        "import json"
      ],
      "execution_count": 0,
      "outputs": []
    },
    {
      "metadata": {
        "colab_type": "code",
        "id": "0Y5pC-nJMKib",
        "outputId": "08a3c7b3-b0eb-4e2c-d5b8-84cb6ec91879",
        "colab": {}
      },
      "cell_type": "code",
      "source": [
        "out = Popen(['ls', 'webhouse_data/'], \n",
        "           stdout=PIPE, \n",
        "           stderr=STDOUT)\n",
        "stdout, stderr = out.communicate()\n",
        "topics = stdout.decode().split('\\n')\n",
        "topics.remove('')\n",
        "topics"
      ],
      "execution_count": 0,
      "outputs": [
        {
          "output_type": "execute_result",
          "data": {
            "text/plain": [
              "['entertainment', 'finance', 'politics', 'sports', 'tech', 'travel']"
            ]
          },
          "metadata": {
            "tags": []
          },
          "execution_count": 5
        }
      ]
    },
    {
      "metadata": {
        "colab_type": "code",
        "id": "3aqsmfegmghW",
        "colab": {}
      },
      "cell_type": "code",
      "source": [
        "def get_folder_content(folder_path):\n",
        "    out = Popen(['ls', folder_path], \n",
        "           stdout=PIPE, \n",
        "           stderr=STDOUT)\n",
        "    stdout, stderr = out.communicate()\n",
        "    files = stdout.decode().split('\\n')\n",
        "    files.remove('')\n",
        "    return files"
      ],
      "execution_count": 0,
      "outputs": []
    },
    {
      "metadata": {
        "colab_type": "code",
        "id": "Rsm4bMaAOrva",
        "colab": {}
      },
      "cell_type": "code",
      "source": [
        "def process_folder(folder_files, folder_path, text_file_path):   \n",
        "    \n",
        "    for file in folder_files:       \n",
        "        with open(folder_path+'/'+file) as f:\n",
        "            article = json.load(f)[\"text\"]\n",
        "        \n",
        "        open(text_file_path, 'a').write(article.replace('\\n', '').replace('\"', '').replace(',', '') + \"\\n\")"
      ],
      "execution_count": 0,
      "outputs": []
    },
    {
      "metadata": {
        "colab_type": "code",
        "id": "-nQCX_zcMKii",
        "outputId": "c3ca11c7-6cce-45d8-ae04-26f09255d22f",
        "colab": {}
      },
      "cell_type": "code",
      "source": [
        "for topic in topics:\n",
        "    content = get_folder_content('webhouse_data/'+topic+'/')\n",
        "    \n",
        "    print(topic)\n",
        "    if len(content)<=4:\n",
        "        for directory in content:\n",
        "            files = get_folder_content('webhouse_data/'+topic+'/'+directory+'/')\n",
        "            process_folder(files, \n",
        "                           'webhouse_data/'+topic+'/'+directory,\n",
        "                           'webhouse_processed/text_'+topic+'.csv')\n",
        "    else:\n",
        "        process_folder(content, \n",
        "                        'webhouse_data/'+topic,\n",
        "                        'webhouse_processed/text_'+topic+'.csv')\n",
        "    print('===================done========================')"
      ],
      "execution_count": 0,
      "outputs": [
        {
          "output_type": "stream",
          "text": [
            "entertainment\n",
            "===================done========================\n",
            "finance\n",
            "===================done========================\n",
            "politics\n",
            "===================done========================\n",
            "sports\n",
            "===================done========================\n",
            "tech\n",
            "===================done========================\n",
            "travel\n",
            "===================done========================\n"
          ],
          "name": "stdout"
        }
      ]
    },
    {
      "metadata": {
        "colab_type": "text",
        "id": "zhAAVKUcy1rG"
      },
      "cell_type": "markdown",
      "source": [
        "#### Mixing data for final balanced dataset"
      ]
    },
    {
      "metadata": {
        "colab_type": "code",
        "id": "LJxLxjGhMKjA",
        "outputId": "c311f577-7545-47ef-b5b6-d14985196f27",
        "colab": {}
      },
      "cell_type": "code",
      "source": [
        "tech_data = pd.read_csv('webhouse_processed/text_tech.csv', header=None, engine='python', error_bad_lines=False)[0]\n",
        "tech_data"
      ],
      "execution_count": 0,
      "outputs": [
        {
          "output_type": "execute_result",
          "data": {
            "text/plain": [
              "0        SAN MATEO Calif. The Portland Trail Blazers ar...\n",
              "1        The ANC has tightened the noose on members who...\n",
              "2        Nokia and the French Government announce agree...\n",
              "3        Submitted by admin on 9/21/2015 @ 4:20 PM   Re...\n",
              "4        DNA analysis identifies long-lost remains of e...\n",
              "5        BENGALURU: Homegrown e-commerce giant Flipkart...\n",
              "6        BEIJING: Xiaomi China's leading smartphone mak...\n",
              "7        3 big developments in new solar technology By ...\n",
              "8        PARIS Music streaming service Deezer plans to ...\n",
              "9        - Website builds & sales o Example: Built up a...\n",
              "10       Windform 3D Printing Material Passes ESA Tests...\n",
              "11       Fancred announced today the launch of live str...\n",
              "12       Image Gallery (5 images) Although mobility sco...\n",
              "13       iiNet’s 2700 call centre staff will be spared ...\n",
              "14       (Corrects to Tuesday from Wednesday in paragra...\n",
              "15       * Comment: * Email: (Date:9/23/2015)...  Sept ...\n",
              "16       Tencent Holdings Ltd. Chief Executive Officer ...\n",
              "17       AN UNIQUE EXPERIENCE OF JUSTICE; A MOSAIC OF A...\n",
              "18       September 22 2015 at 2:45 pm September 22 2015...\n",
              "19       SHENZHEN China  Sept.   A research team led by...\n",
              "20       * Comment: * Email: (Date:9/11/2015)... FRANKL...\n",
              "21       Order Reprint of this Story HONG KONG Chinese ...\n",
              "22       From bike rental to car sharing some travel pl...\n",
              "23       NEW YORK — German engineering may lose some ma...\n",
              "24       NASA scientists use jet to measure air quality...\n",
              "25       Related: Tech Apple lists top 25 apps hit by m...\n",
              "26       Submitted by admin on 9/24/2015 @ 10:46 AM   L...\n",
              "27       Lockheed introduces its new amphibious combat ...\n",
              "28       The latest news about 3D printing cool gadgets...\n",
              "29       Which Kardashian sister has the most popular a...\n",
              "                               ...                        \n",
              "40242    iPhone 6s owners are seeing their new phones r...\n",
              "40243    BOSTON Massachusetts Attorney General Maura He...\n",
              "40244    CUPERTINO Calif. (AP) — Apple has filled a voi...\n",
              "40245    Belarusian independent media outlets are accus...\n",
              "40246    GARTNER SYMPOSIUM/ITxpo ORLANDO Florida  Octob...\n",
              "40247    Blue blood on ice: How an Antarctic octopus su...\n",
              "40248    HTC Corp. said Monday it swung to a net loss i...\n",
              "40249    New marine parks named as Chile hosts oceans s...\n",
              "40250    Fresh Roasted Hosting  a leading provider of w...\n",
              "40251    Istanbul - Turkey issued a sharp warning on Mo...\n",
              "40252    Cedexis  the leading provider of Internet meas...\n",
              "40253    Submitted by admin on 10/4/2015 @ 9:01 PM   Bi...\n",
              "40254    Huawei Honor 7 is one of the most popular Andr...\n",
              "40255    Facebook to beam free internet to Africa with ...\n",
              "40256    Why It Matters Battery life is a major limitat...\n",
              "40257    FDA orders safety studies from scope manufactu...\n",
              "40258    Brightness-equalized quantum dots improve biol...\n",
              "40259    McHenry County courts avoiding lack of court r...\n",
              "40260    BRIEF-PSI renews network control system for E....\n",
              "40261    Photo: Dan Hiff AP Image 1 of / 2 2 This image...\n",
              "40262    BRIEF-Archos reports 9-month revenue up at 103...\n",
              "40263    Research and Markets: Eight is Enough - Indepe...\n",
              "40264    I would rather not eat for a week than get my ...\n",
              "40265    SA hopes to attract companies such as Google f...\n",
              "40266    MARKETWATCH FRONT PAGE Big U.S. companies are ...\n",
              "40267    Exhibit spotlights growing capabilities of tec...\n",
              "40268    GoDaddy Transformation Fueling Culture Where W...\n",
              "40269    October 4 2015 16:12 BST OnePlus provides info...\n",
              "40270    McHenry County courts avoiding lack of court r...\n",
              "40271    Lenovo introduced its tablet/smartphone hybrid...\n",
              "Name: 0, Length: 40272, dtype: object"
            ]
          },
          "metadata": {
            "tags": []
          },
          "execution_count": 18
        }
      ]
    },
    {
      "metadata": {
        "colab_type": "code",
        "id": "TmQQDxv3MKjJ",
        "colab": {}
      },
      "cell_type": "code",
      "source": [
        "target = ['tech' for i in range(tech_data.shape[0])]"
      ],
      "execution_count": 0,
      "outputs": []
    },
    {
      "metadata": {
        "colab_type": "code",
        "id": "L6MHdmedy1rb",
        "outputId": "504c795d-ff89-4225-de4e-b6987e215d66",
        "colab": {}
      },
      "cell_type": "code",
      "source": [
        "sample_size = int(tech_data.shape[0]/(len(topics)-1))\n",
        "sample_size"
      ],
      "execution_count": 0,
      "outputs": [
        {
          "output_type": "execute_result",
          "data": {
            "text/plain": [
              "8054"
            ]
          },
          "metadata": {
            "tags": []
          },
          "execution_count": 6
        }
      ]
    },
    {
      "metadata": {
        "colab_type": "code",
        "id": "U8ON9i1Fy1ri",
        "outputId": "cfa5640a-a132-433a-9f87-19ff2407eba9",
        "colab": {}
      },
      "cell_type": "code",
      "source": [
        "# topics.remove('tech')\n",
        "for topic in topics:\n",
        "    data = pd.read_csv('webhouse_processed/text_'+topic+'.csv',\n",
        "                       header=None, engine='python', error_bad_lines=False)\n",
        "    tech_data = tech_data.append(data.sample(sample_size)[0], ignore_index=True)\n",
        "    target.extend([topic for i in range(sample_size)])\n",
        "    print(topic+' added')"
      ],
      "execution_count": 0,
      "outputs": [
        {
          "output_type": "stream",
          "text": [
            "entertainment added\n"
          ],
          "name": "stdout"
        },
        {
          "output_type": "stream",
          "text": [
            "Skipping line 18827: field larger than field limit (131072)\n",
            "Skipping line 23319: field larger than field limit (131072)\n",
            "Skipping line 26388: field larger than field limit (131072)\n"
          ],
          "name": "stderr"
        },
        {
          "output_type": "stream",
          "text": [
            "finance added\n",
            "politics added\n",
            "sports added\n"
          ],
          "name": "stdout"
        },
        {
          "output_type": "stream",
          "text": [
            "Skipping line 2603: field larger than field limit (131072)\n",
            "Skipping line 6860: field larger than field limit (131072)\n",
            "Skipping line 17075: field larger than field limit (131072)\n",
            "Skipping line 19852: field larger than field limit (131072)\n",
            "Skipping line 20341: field larger than field limit (131072)\n",
            "Skipping line 21271: field larger than field limit (131072)\n",
            "Skipping line 21579: field larger than field limit (131072)\n",
            "Skipping line 30709: field larger than field limit (131072)\n",
            "Skipping line 34607: field larger than field limit (131072)\n",
            "Skipping line 34633: field larger than field limit (131072)\n",
            "Skipping line 36126: field larger than field limit (131072)\n",
            "Skipping line 38303: field larger than field limit (131072)\n",
            "Skipping line 41424: field larger than field limit (131072)\n",
            "Skipping line 42048: field larger than field limit (131072)\n",
            "Skipping line 44339: field larger than field limit (131072)\n",
            "Skipping line 44422: field larger than field limit (131072)\n",
            "Skipping line 45156: field larger than field limit (131072)\n"
          ],
          "name": "stderr"
        },
        {
          "output_type": "stream",
          "text": [
            "travel added\n"
          ],
          "name": "stdout"
        }
      ]
    },
    {
      "metadata": {
        "colab_type": "code",
        "id": "2WfdHE4gy1rr",
        "outputId": "b5022b89-a4d2-48f7-b0e7-b5826ef13f99",
        "colab": {}
      },
      "cell_type": "code",
      "source": [
        "len(target)"
      ],
      "execution_count": 0,
      "outputs": [
        {
          "output_type": "execute_result",
          "data": {
            "text/plain": [
              "90612"
            ]
          },
          "metadata": {
            "tags": []
          },
          "execution_count": 48
        }
      ]
    },
    {
      "metadata": {
        "colab_type": "code",
        "id": "VYDEOmtuy1r3",
        "outputId": "5bc039ea-8848-4a50-add5-bd0d4a5a7bb0",
        "colab": {}
      },
      "cell_type": "code",
      "source": [
        "tech_data.shape"
      ],
      "execution_count": 0,
      "outputs": [
        {
          "output_type": "execute_result",
          "data": {
            "text/plain": [
              "(90612,)"
            ]
          },
          "metadata": {
            "tags": []
          },
          "execution_count": 49
        }
      ]
    },
    {
      "metadata": {
        "colab_type": "code",
        "id": "v9YR8gXCy1sB",
        "outputId": "c07c4fb7-e9bc-4155-fadb-16f2bfda74a9",
        "colab": {}
      },
      "cell_type": "code",
      "source": [
        "open('webhouse_target.csv', 'w').write(str(target).strip('[]').replace(', ', '\\n').replace(\"'\", ''))"
      ],
      "execution_count": 0,
      "outputs": [
        {
          "output_type": "execute_result",
          "data": {
            "text/plain": [
              "835643"
            ]
          },
          "metadata": {
            "tags": []
          },
          "execution_count": 50
        }
      ]
    },
    {
      "metadata": {
        "colab_type": "code",
        "id": "tBATS5HAy1sT",
        "outputId": "c34d1c12-b9d8-4077-e928-cbeb96293e7a",
        "colab": {}
      },
      "cell_type": "code",
      "source": [
        "tech_data.to_csv('webhouse_text.csv', index=False)"
      ],
      "execution_count": 0,
      "outputs": [
        {
          "output_type": "stream",
          "text": [
            "/home/maryana/anaconda3/lib/python3.6/site-packages/ipykernel_launcher.py:1: FutureWarning: The signature of `Series.to_csv` was aligned to that of `DataFrame.to_csv`, and argument 'header' will change its default value from False to True: please pass an explicit value to suppress this warning.\n",
            "  \"\"\"Entry point for launching an IPython kernel.\n"
          ],
          "name": "stderr"
        }
      ]
    },
    {
      "metadata": {
        "colab_type": "code",
        "id": "yYzWSsRvy1si",
        "outputId": "c25dae84-50d0-4c80-deb2-fa911654c62c",
        "colab": {}
      },
      "cell_type": "code",
      "source": [
        "pd.read_csv('webhouse_target.csv', header=None)[0].unique()"
      ],
      "execution_count": 0,
      "outputs": [
        {
          "output_type": "execute_result",
          "data": {
            "text/plain": [
              "array([\"'tech'\", \"'entertainment'\", \"'finance'\", \"'politics'\", \"'sports'\",\n",
              "       \"'travel'\"], dtype=object)"
            ]
          },
          "metadata": {
            "tags": []
          },
          "execution_count": 17
        }
      ]
    },
    {
      "metadata": {
        "colab_type": "code",
        "id": "pD9ekGe3y1ss",
        "outputId": "1ab98045-1b8d-4e75-f63d-ca5cd5ec9b49",
        "colab": {}
      },
      "cell_type": "code",
      "source": [
        "pd.read_csv('webhouse_text.csv', header=None)"
      ],
      "execution_count": 0,
      "outputs": [
        {
          "output_type": "execute_result",
          "data": {
            "text/html": [
              "<div>\n",
              "<style scoped>\n",
              "    .dataframe tbody tr th:only-of-type {\n",
              "        vertical-align: middle;\n",
              "    }\n",
              "\n",
              "    .dataframe tbody tr th {\n",
              "        vertical-align: top;\n",
              "    }\n",
              "\n",
              "    .dataframe thead th {\n",
              "        text-align: right;\n",
              "    }\n",
              "</style>\n",
              "<table border=\"1\" class=\"dataframe\">\n",
              "  <thead>\n",
              "    <tr style=\"text-align: right;\">\n",
              "      <th></th>\n",
              "      <th>0</th>\n",
              "    </tr>\n",
              "  </thead>\n",
              "  <tbody>\n",
              "    <tr>\n",
              "      <th>0</th>\n",
              "      <td>SAN MATEO Calif. The Portland Trail Blazers ar...</td>\n",
              "    </tr>\n",
              "    <tr>\n",
              "      <th>1</th>\n",
              "      <td>The ANC has tightened the noose on members who...</td>\n",
              "    </tr>\n",
              "    <tr>\n",
              "      <th>2</th>\n",
              "      <td>Nokia and the French Government announce agree...</td>\n",
              "    </tr>\n",
              "    <tr>\n",
              "      <th>3</th>\n",
              "      <td>Submitted by admin on 9/21/2015 @ 4:20 PM   Re...</td>\n",
              "    </tr>\n",
              "    <tr>\n",
              "      <th>4</th>\n",
              "      <td>DNA analysis identifies long-lost remains of e...</td>\n",
              "    </tr>\n",
              "    <tr>\n",
              "      <th>5</th>\n",
              "      <td>BENGALURU: Homegrown e-commerce giant Flipkart...</td>\n",
              "    </tr>\n",
              "    <tr>\n",
              "      <th>6</th>\n",
              "      <td>BEIJING: Xiaomi China's leading smartphone mak...</td>\n",
              "    </tr>\n",
              "    <tr>\n",
              "      <th>7</th>\n",
              "      <td>3 big developments in new solar technology By ...</td>\n",
              "    </tr>\n",
              "    <tr>\n",
              "      <th>8</th>\n",
              "      <td>PARIS Music streaming service Deezer plans to ...</td>\n",
              "    </tr>\n",
              "    <tr>\n",
              "      <th>9</th>\n",
              "      <td>- Website builds &amp; sales o Example: Built up a...</td>\n",
              "    </tr>\n",
              "    <tr>\n",
              "      <th>10</th>\n",
              "      <td>Windform 3D Printing Material Passes ESA Tests...</td>\n",
              "    </tr>\n",
              "    <tr>\n",
              "      <th>11</th>\n",
              "      <td>Fancred announced today the launch of live str...</td>\n",
              "    </tr>\n",
              "    <tr>\n",
              "      <th>12</th>\n",
              "      <td>Image Gallery (5 images) Although mobility sco...</td>\n",
              "    </tr>\n",
              "    <tr>\n",
              "      <th>13</th>\n",
              "      <td>iiNet’s 2700 call centre staff will be spared ...</td>\n",
              "    </tr>\n",
              "    <tr>\n",
              "      <th>14</th>\n",
              "      <td>(Corrects to Tuesday from Wednesday in paragra...</td>\n",
              "    </tr>\n",
              "    <tr>\n",
              "      <th>15</th>\n",
              "      <td>* Comment: * Email: (Date:9/23/2015)...  Sept ...</td>\n",
              "    </tr>\n",
              "    <tr>\n",
              "      <th>16</th>\n",
              "      <td>Tencent Holdings Ltd. Chief Executive Officer ...</td>\n",
              "    </tr>\n",
              "    <tr>\n",
              "      <th>17</th>\n",
              "      <td>AN UNIQUE EXPERIENCE OF JUSTICE; A MOSAIC OF A...</td>\n",
              "    </tr>\n",
              "    <tr>\n",
              "      <th>18</th>\n",
              "      <td>September 22 2015 at 2:45 pm September 22 2015...</td>\n",
              "    </tr>\n",
              "    <tr>\n",
              "      <th>19</th>\n",
              "      <td>SHENZHEN China  Sept.   A research team led by...</td>\n",
              "    </tr>\n",
              "    <tr>\n",
              "      <th>20</th>\n",
              "      <td>* Comment: * Email: (Date:9/11/2015)... FRANKL...</td>\n",
              "    </tr>\n",
              "    <tr>\n",
              "      <th>21</th>\n",
              "      <td>Order Reprint of this Story HONG KONG Chinese ...</td>\n",
              "    </tr>\n",
              "    <tr>\n",
              "      <th>22</th>\n",
              "      <td>From bike rental to car sharing some travel pl...</td>\n",
              "    </tr>\n",
              "    <tr>\n",
              "      <th>23</th>\n",
              "      <td>NEW YORK — German engineering may lose some ma...</td>\n",
              "    </tr>\n",
              "    <tr>\n",
              "      <th>24</th>\n",
              "      <td>NASA scientists use jet to measure air quality...</td>\n",
              "    </tr>\n",
              "    <tr>\n",
              "      <th>25</th>\n",
              "      <td>Related: Tech Apple lists top 25 apps hit by m...</td>\n",
              "    </tr>\n",
              "    <tr>\n",
              "      <th>26</th>\n",
              "      <td>Submitted by admin on 9/24/2015 @ 10:46 AM   L...</td>\n",
              "    </tr>\n",
              "    <tr>\n",
              "      <th>27</th>\n",
              "      <td>Lockheed introduces its new amphibious combat ...</td>\n",
              "    </tr>\n",
              "    <tr>\n",
              "      <th>28</th>\n",
              "      <td>The latest news about 3D printing cool gadgets...</td>\n",
              "    </tr>\n",
              "    <tr>\n",
              "      <th>29</th>\n",
              "      <td>Which Kardashian sister has the most popular a...</td>\n",
              "    </tr>\n",
              "    <tr>\n",
              "      <th>...</th>\n",
              "      <td>...</td>\n",
              "    </tr>\n",
              "    <tr>\n",
              "      <th>90582</th>\n",
              "      <td>Entertainment Gaming Asia Inc.HONG KONG  Sept...</td>\n",
              "    </tr>\n",
              "    <tr>\n",
              "      <th>90583</th>\n",
              "      <td>Bavarian companies solidly back third runway a...</td>\n",
              "    </tr>\n",
              "    <tr>\n",
              "      <th>90584</th>\n",
              "      <td>By David Brown Washington Post Loch Calavie a ...</td>\n",
              "    </tr>\n",
              "    <tr>\n",
              "      <th>90585</th>\n",
              "      <td>Death of Cecil the Lion Ignites Long Overdue D...</td>\n",
              "    </tr>\n",
              "    <tr>\n",
              "      <th>90586</th>\n",
              "      <td>How to nab travel deals as competition shrinks...</td>\n",
              "    </tr>\n",
              "    <tr>\n",
              "      <th>90587</th>\n",
              "      <td>Travel Articles | August 20 2015 If you want t...</td>\n",
              "    </tr>\n",
              "    <tr>\n",
              "      <th>90588</th>\n",
              "      <td>BING NEWS: New MileHi app: Tinder of the skies...</td>\n",
              "    </tr>\n",
              "    <tr>\n",
              "      <th>90589</th>\n",
              "      <td>BING SEARCH: Amazon.com: Toys &amp; Games Follow u...</td>\n",
              "    </tr>\n",
              "    <tr>\n",
              "      <th>90590</th>\n",
              "      <td>Home » travel » Crazy for currents OUTDOOR PHO...</td>\n",
              "    </tr>\n",
              "    <tr>\n",
              "      <th>90591</th>\n",
              "      <td>New Sanctum Inle Resort appoints general manag...</td>\n",
              "    </tr>\n",
              "    <tr>\n",
              "      <th>90592</th>\n",
              "      <td>October 5 2015 A trot around central Copenhage...</td>\n",
              "    </tr>\n",
              "    <tr>\n",
              "      <th>90593</th>\n",
              "      <td>Summer driving tips from AAA Comment Posted Ju...</td>\n",
              "    </tr>\n",
              "    <tr>\n",
              "      <th>90594</th>\n",
              "      <td>TUMWATER — Mud Bay an Olympia-grown retailer o...</td>\n",
              "    </tr>\n",
              "    <tr>\n",
              "      <th>90595</th>\n",
              "      <td>Win a VIP London experience with Qatar 23 July...</td>\n",
              "    </tr>\n",
              "    <tr>\n",
              "      <th>90596</th>\n",
              "      <td>SANTO DOMINGO Dominican Republic (AP) — Tropic...</td>\n",
              "    </tr>\n",
              "    <tr>\n",
              "      <th>90597</th>\n",
              "      <td>Storms to bring rain gusty winds to Eastern US...</td>\n",
              "    </tr>\n",
              "    <tr>\n",
              "      <th>90598</th>\n",
              "      <td>ReportBuyerLONDON  Sept. 3 Report DetailsVisi...</td>\n",
              "    </tr>\n",
              "    <tr>\n",
              "      <th>90599</th>\n",
              "      <td>Carnival gets approval to ship cruisers to Cub...</td>\n",
              "    </tr>\n",
              "    <tr>\n",
              "      <th>90600</th>\n",
              "      <td>Image Source/Photodisc/Getty Images In April 2...</td>\n",
              "    </tr>\n",
              "    <tr>\n",
              "      <th>90601</th>\n",
              "      <td>(MENAFN Press) John Taylor has been appointed ...</td>\n",
              "    </tr>\n",
              "    <tr>\n",
              "      <th>90602</th>\n",
              "      <td>Charmed by Dubrovnik and the Dalmatian coast R...</td>\n",
              "    </tr>\n",
              "    <tr>\n",
              "      <th>90603</th>\n",
              "      <td>Airbus Helicopters delivers 15th NH90 NFH to t...</td>\n",
              "    </tr>\n",
              "    <tr>\n",
              "      <th>90604</th>\n",
              "      <td>Rebekah Bell JULY 24 2015 How many over-the-to...</td>\n",
              "    </tr>\n",
              "    <tr>\n",
              "      <th>90605</th>\n",
              "      <td>Neighborhoods: London's Bloomsbury has books a...</td>\n",
              "    </tr>\n",
              "    <tr>\n",
              "      <th>90606</th>\n",
              "      <td>telegraph.co.uk Follow @telegraphnews</td>\n",
              "    </tr>\n",
              "    <tr>\n",
              "      <th>90607</th>\n",
              "      <td>Seychelles Tourism Board gears up for South Af...</td>\n",
              "    </tr>\n",
              "    <tr>\n",
              "      <th>90608</th>\n",
              "      <td>Daily 10:00 a.m. - 7:00 p.m. Last admission is...</td>\n",
              "    </tr>\n",
              "    <tr>\n",
              "      <th>90609</th>\n",
              "      <td>(MENAFN - The Peninsula) ZAGREB (Croatia): Mig...</td>\n",
              "    </tr>\n",
              "    <tr>\n",
              "      <th>90610</th>\n",
              "      <td>Where Dracula Was Born and It’s Not Transylvan...</td>\n",
              "    </tr>\n",
              "    <tr>\n",
              "      <th>90611</th>\n",
              "      <td>HNA TourismThe Fourth Global Tourism Economy ...</td>\n",
              "    </tr>\n",
              "  </tbody>\n",
              "</table>\n",
              "<p>90612 rows × 1 columns</p>\n",
              "</div>"
            ],
            "text/plain": [
              "                                                       0\n",
              "0      SAN MATEO Calif. The Portland Trail Blazers ar...\n",
              "1      The ANC has tightened the noose on members who...\n",
              "2      Nokia and the French Government announce agree...\n",
              "3      Submitted by admin on 9/21/2015 @ 4:20 PM   Re...\n",
              "4      DNA analysis identifies long-lost remains of e...\n",
              "5      BENGALURU: Homegrown e-commerce giant Flipkart...\n",
              "6      BEIJING: Xiaomi China's leading smartphone mak...\n",
              "7      3 big developments in new solar technology By ...\n",
              "8      PARIS Music streaming service Deezer plans to ...\n",
              "9      - Website builds & sales o Example: Built up a...\n",
              "10     Windform 3D Printing Material Passes ESA Tests...\n",
              "11     Fancred announced today the launch of live str...\n",
              "12     Image Gallery (5 images) Although mobility sco...\n",
              "13     iiNet’s 2700 call centre staff will be spared ...\n",
              "14     (Corrects to Tuesday from Wednesday in paragra...\n",
              "15     * Comment: * Email: (Date:9/23/2015)...  Sept ...\n",
              "16     Tencent Holdings Ltd. Chief Executive Officer ...\n",
              "17     AN UNIQUE EXPERIENCE OF JUSTICE; A MOSAIC OF A...\n",
              "18     September 22 2015 at 2:45 pm September 22 2015...\n",
              "19     SHENZHEN China  Sept.   A research team led by...\n",
              "20     * Comment: * Email: (Date:9/11/2015)... FRANKL...\n",
              "21     Order Reprint of this Story HONG KONG Chinese ...\n",
              "22     From bike rental to car sharing some travel pl...\n",
              "23     NEW YORK — German engineering may lose some ma...\n",
              "24     NASA scientists use jet to measure air quality...\n",
              "25     Related: Tech Apple lists top 25 apps hit by m...\n",
              "26     Submitted by admin on 9/24/2015 @ 10:46 AM   L...\n",
              "27     Lockheed introduces its new amphibious combat ...\n",
              "28     The latest news about 3D printing cool gadgets...\n",
              "29     Which Kardashian sister has the most popular a...\n",
              "...                                                  ...\n",
              "90582   Entertainment Gaming Asia Inc.HONG KONG  Sept...\n",
              "90583  Bavarian companies solidly back third runway a...\n",
              "90584  By David Brown Washington Post Loch Calavie a ...\n",
              "90585  Death of Cecil the Lion Ignites Long Overdue D...\n",
              "90586  How to nab travel deals as competition shrinks...\n",
              "90587  Travel Articles | August 20 2015 If you want t...\n",
              "90588  BING NEWS: New MileHi app: Tinder of the skies...\n",
              "90589  BING SEARCH: Amazon.com: Toys & Games Follow u...\n",
              "90590  Home » travel » Crazy for currents OUTDOOR PHO...\n",
              "90591  New Sanctum Inle Resort appoints general manag...\n",
              "90592  October 5 2015 A trot around central Copenhage...\n",
              "90593  Summer driving tips from AAA Comment Posted Ju...\n",
              "90594  TUMWATER — Mud Bay an Olympia-grown retailer o...\n",
              "90595  Win a VIP London experience with Qatar 23 July...\n",
              "90596  SANTO DOMINGO Dominican Republic (AP) — Tropic...\n",
              "90597  Storms to bring rain gusty winds to Eastern US...\n",
              "90598   ReportBuyerLONDON  Sept. 3 Report DetailsVisi...\n",
              "90599  Carnival gets approval to ship cruisers to Cub...\n",
              "90600  Image Source/Photodisc/Getty Images In April 2...\n",
              "90601  (MENAFN Press) John Taylor has been appointed ...\n",
              "90602  Charmed by Dubrovnik and the Dalmatian coast R...\n",
              "90603  Airbus Helicopters delivers 15th NH90 NFH to t...\n",
              "90604  Rebekah Bell JULY 24 2015 How many over-the-to...\n",
              "90605  Neighborhoods: London's Bloomsbury has books a...\n",
              "90606              telegraph.co.uk Follow @telegraphnews\n",
              "90607  Seychelles Tourism Board gears up for South Af...\n",
              "90608  Daily 10:00 a.m. - 7:00 p.m. Last admission is...\n",
              "90609  (MENAFN - The Peninsula) ZAGREB (Croatia): Mig...\n",
              "90610  Where Dracula Was Born and It’s Not Transylvan...\n",
              "90611   HNA TourismThe Fourth Global Tourism Economy ...\n",
              "\n",
              "[90612 rows x 1 columns]"
            ]
          },
          "metadata": {
            "tags": []
          },
          "execution_count": 54
        }
      ]
    },
    {
      "metadata": {
        "colab_type": "text",
        "id": "_PjfBWm6y1sz"
      },
      "cell_type": "markdown",
      "source": [
        "### HuffPost data preparation"
      ]
    },
    {
      "metadata": {
        "id": "f6T7WcpwdpUk",
        "colab_type": "text"
      },
      "cell_type": "markdown",
      "source": [
        "#### extract links and categories"
      ]
    },
    {
      "metadata": {
        "colab_type": "code",
        "id": "JZrsM6Fh0lrl",
        "outputId": "2d13e581-a840-403c-87d6-9c734addd6d4",
        "colab": {
          "base_uri": "https://localhost:8080/",
          "height": 33
        }
      },
      "cell_type": "code",
      "source": [
        "from google.colab import drive\n",
        "\n",
        "drive.mount('/content/gdrive')\n",
        "root_path = 'gdrive/My Drive/data/'  #change dir to your project folder"
      ],
      "execution_count": 19,
      "outputs": [
        {
          "output_type": "stream",
          "text": [
            "Drive already mounted at /content/gdrive; to attempt to forcibly remount, call drive.mount(\"/content/gdrive\", force_remount=True).\n"
          ],
          "name": "stdout"
        }
      ]
    },
    {
      "metadata": {
        "colab_type": "code",
        "id": "3jNV0zjZy1s4",
        "colab": {}
      },
      "cell_type": "code",
      "source": [
        "import pandas as pd\n",
        "import numpy as np"
      ],
      "execution_count": 0,
      "outputs": []
    },
    {
      "metadata": {
        "colab_type": "code",
        "id": "bIomKZmqy1tD",
        "colab": {}
      },
      "cell_type": "code",
      "source": [
        "with open('gdrive/My Drive/data/huff_post_data/News_Category_Dataset_v2.json', 'r') as f:\n",
        "    json_text = f.read().replace('\\n', ',')\n",
        "    json_text = '[' + json_text + ']'\n",
        "    json_text = json_text[:-2] + json_text[-1:]"
      ],
      "execution_count": 0,
      "outputs": []
    },
    {
      "metadata": {
        "id": "cNv6Mh0USNiV",
        "colab_type": "code",
        "colab": {
          "base_uri": "https://localhost:8080/",
          "height": 53
        },
        "outputId": "f0e779a7-3ef9-4c71-abde-96d9411cf52f"
      },
      "cell_type": "code",
      "source": [
        "json_text[276:800]"
      ],
      "execution_count": 22,
      "outputs": [
        {
          "output_type": "execute_result",
          "data": {
            "text/plain": [
              "'er husband. He killed their children. Just another day in America.\", \"date\": \"2018-05-26\"},{\"category\": \"ENTERTAINMENT\", \"headline\": \"Will Smith Joins Diplo And Nicky Jam For The 2018 World Cup\\'s Official Song\", \"authors\": \"Andy McDonald\", \"link\": \"https://www.huffingtonpost.com/entry/will-smith-joins-diplo-and-nicky-jam-for-the-official-2018-world-cup-song_us_5b09726fe4b0fdb2aa541201\", \"short_description\": \"Of course it has a song.\", \"date\": \"2018-05-26\"},{\"category\": \"ENTERTAINMENT\", \"headline\": \"Hugh Grant Marries F'"
            ]
          },
          "metadata": {
            "tags": []
          },
          "execution_count": 22
        }
      ]
    },
    {
      "metadata": {
        "colab_type": "code",
        "id": "-OAZneJiy1tQ",
        "colab": {
          "base_uri": "https://localhost:8080/",
          "height": 191
        },
        "outputId": "d7c16aac-be85-475a-f532-1c05bf10839e"
      },
      "cell_type": "code",
      "source": [
        "hp_dataset = pd.read_json(json_text, orient='records')\n",
        "hp_dataset.head()"
      ],
      "execution_count": 23,
      "outputs": [
        {
          "output_type": "execute_result",
          "data": {
            "text/html": [
              "<div>\n",
              "<style scoped>\n",
              "    .dataframe tbody tr th:only-of-type {\n",
              "        vertical-align: middle;\n",
              "    }\n",
              "\n",
              "    .dataframe tbody tr th {\n",
              "        vertical-align: top;\n",
              "    }\n",
              "\n",
              "    .dataframe thead th {\n",
              "        text-align: right;\n",
              "    }\n",
              "</style>\n",
              "<table border=\"1\" class=\"dataframe\">\n",
              "  <thead>\n",
              "    <tr style=\"text-align: right;\">\n",
              "      <th></th>\n",
              "      <th>authors</th>\n",
              "      <th>category</th>\n",
              "      <th>date</th>\n",
              "      <th>headline</th>\n",
              "      <th>link</th>\n",
              "      <th>short_description</th>\n",
              "    </tr>\n",
              "  </thead>\n",
              "  <tbody>\n",
              "    <tr>\n",
              "      <th>0</th>\n",
              "      <td>Melissa Jeltsen</td>\n",
              "      <td>CRIME</td>\n",
              "      <td>2018-05-26</td>\n",
              "      <td>There Were 2 Mass Shootings In Texas Last Week...</td>\n",
              "      <td>https://www.huffingtonpost.com/entry/texas-ama...</td>\n",
              "      <td>She left her husband. He killed their children...</td>\n",
              "    </tr>\n",
              "    <tr>\n",
              "      <th>1</th>\n",
              "      <td>Andy McDonald</td>\n",
              "      <td>ENTERTAINMENT</td>\n",
              "      <td>2018-05-26</td>\n",
              "      <td>Will Smith Joins Diplo And Nicky Jam For The 2...</td>\n",
              "      <td>https://www.huffingtonpost.com/entry/will-smit...</td>\n",
              "      <td>Of course it has a song.</td>\n",
              "    </tr>\n",
              "    <tr>\n",
              "      <th>2</th>\n",
              "      <td>Ron Dicker</td>\n",
              "      <td>ENTERTAINMENT</td>\n",
              "      <td>2018-05-26</td>\n",
              "      <td>Hugh Grant Marries For The First Time At Age 57</td>\n",
              "      <td>https://www.huffingtonpost.com/entry/hugh-gran...</td>\n",
              "      <td>The actor and his longtime girlfriend Anna Ebe...</td>\n",
              "    </tr>\n",
              "    <tr>\n",
              "      <th>3</th>\n",
              "      <td>Ron Dicker</td>\n",
              "      <td>ENTERTAINMENT</td>\n",
              "      <td>2018-05-26</td>\n",
              "      <td>Jim Carrey Blasts 'Castrato' Adam Schiff And D...</td>\n",
              "      <td>https://www.huffingtonpost.com/entry/jim-carre...</td>\n",
              "      <td>The actor gives Dems an ass-kicking for not fi...</td>\n",
              "    </tr>\n",
              "    <tr>\n",
              "      <th>4</th>\n",
              "      <td>Ron Dicker</td>\n",
              "      <td>ENTERTAINMENT</td>\n",
              "      <td>2018-05-26</td>\n",
              "      <td>Julianna Margulies Uses Donald Trump Poop Bags...</td>\n",
              "      <td>https://www.huffingtonpost.com/entry/julianna-...</td>\n",
              "      <td>The \"Dietland\" actress said using the bags is ...</td>\n",
              "    </tr>\n",
              "  </tbody>\n",
              "</table>\n",
              "</div>"
            ],
            "text/plain": [
              "           authors       category       date  \\\n",
              "0  Melissa Jeltsen          CRIME 2018-05-26   \n",
              "1    Andy McDonald  ENTERTAINMENT 2018-05-26   \n",
              "2       Ron Dicker  ENTERTAINMENT 2018-05-26   \n",
              "3       Ron Dicker  ENTERTAINMENT 2018-05-26   \n",
              "4       Ron Dicker  ENTERTAINMENT 2018-05-26   \n",
              "\n",
              "                                            headline  \\\n",
              "0  There Were 2 Mass Shootings In Texas Last Week...   \n",
              "1  Will Smith Joins Diplo And Nicky Jam For The 2...   \n",
              "2    Hugh Grant Marries For The First Time At Age 57   \n",
              "3  Jim Carrey Blasts 'Castrato' Adam Schiff And D...   \n",
              "4  Julianna Margulies Uses Donald Trump Poop Bags...   \n",
              "\n",
              "                                                link  \\\n",
              "0  https://www.huffingtonpost.com/entry/texas-ama...   \n",
              "1  https://www.huffingtonpost.com/entry/will-smit...   \n",
              "2  https://www.huffingtonpost.com/entry/hugh-gran...   \n",
              "3  https://www.huffingtonpost.com/entry/jim-carre...   \n",
              "4  https://www.huffingtonpost.com/entry/julianna-...   \n",
              "\n",
              "                                   short_description  \n",
              "0  She left her husband. He killed their children...  \n",
              "1                           Of course it has a song.  \n",
              "2  The actor and his longtime girlfriend Anna Ebe...  \n",
              "3  The actor gives Dems an ass-kicking for not fi...  \n",
              "4  The \"Dietland\" actress said using the bags is ...  "
            ]
          },
          "metadata": {
            "tags": []
          },
          "execution_count": 23
        }
      ]
    },
    {
      "metadata": {
        "colab_type": "code",
        "id": "WDPyfdphy1tZ",
        "colab": {
          "base_uri": "https://localhost:8080/",
          "height": 191
        },
        "outputId": "4c1fab35-9420-4fb0-e258-119241356207"
      },
      "cell_type": "code",
      "source": [
        "needed_info = hp_dataset[['category', 'link']]\n",
        "needed_info.head()"
      ],
      "execution_count": 24,
      "outputs": [
        {
          "output_type": "execute_result",
          "data": {
            "text/html": [
              "<div>\n",
              "<style scoped>\n",
              "    .dataframe tbody tr th:only-of-type {\n",
              "        vertical-align: middle;\n",
              "    }\n",
              "\n",
              "    .dataframe tbody tr th {\n",
              "        vertical-align: top;\n",
              "    }\n",
              "\n",
              "    .dataframe thead th {\n",
              "        text-align: right;\n",
              "    }\n",
              "</style>\n",
              "<table border=\"1\" class=\"dataframe\">\n",
              "  <thead>\n",
              "    <tr style=\"text-align: right;\">\n",
              "      <th></th>\n",
              "      <th>category</th>\n",
              "      <th>link</th>\n",
              "    </tr>\n",
              "  </thead>\n",
              "  <tbody>\n",
              "    <tr>\n",
              "      <th>0</th>\n",
              "      <td>CRIME</td>\n",
              "      <td>https://www.huffingtonpost.com/entry/texas-ama...</td>\n",
              "    </tr>\n",
              "    <tr>\n",
              "      <th>1</th>\n",
              "      <td>ENTERTAINMENT</td>\n",
              "      <td>https://www.huffingtonpost.com/entry/will-smit...</td>\n",
              "    </tr>\n",
              "    <tr>\n",
              "      <th>2</th>\n",
              "      <td>ENTERTAINMENT</td>\n",
              "      <td>https://www.huffingtonpost.com/entry/hugh-gran...</td>\n",
              "    </tr>\n",
              "    <tr>\n",
              "      <th>3</th>\n",
              "      <td>ENTERTAINMENT</td>\n",
              "      <td>https://www.huffingtonpost.com/entry/jim-carre...</td>\n",
              "    </tr>\n",
              "    <tr>\n",
              "      <th>4</th>\n",
              "      <td>ENTERTAINMENT</td>\n",
              "      <td>https://www.huffingtonpost.com/entry/julianna-...</td>\n",
              "    </tr>\n",
              "  </tbody>\n",
              "</table>\n",
              "</div>"
            ],
            "text/plain": [
              "        category                                               link\n",
              "0          CRIME  https://www.huffingtonpost.com/entry/texas-ama...\n",
              "1  ENTERTAINMENT  https://www.huffingtonpost.com/entry/will-smit...\n",
              "2  ENTERTAINMENT  https://www.huffingtonpost.com/entry/hugh-gran...\n",
              "3  ENTERTAINMENT  https://www.huffingtonpost.com/entry/jim-carre...\n",
              "4  ENTERTAINMENT  https://www.huffingtonpost.com/entry/julianna-..."
            ]
          },
          "metadata": {
            "tags": []
          },
          "execution_count": 24
        }
      ]
    },
    {
      "metadata": {
        "id": "g5s3yvhgSNil",
        "colab_type": "code",
        "colab": {
          "base_uri": "https://localhost:8080/",
          "height": 163
        },
        "outputId": "685389e0-b5ff-4c3c-a327-e0dd687d9ea6"
      },
      "cell_type": "code",
      "source": [
        "needed_info.category.unique()"
      ],
      "execution_count": 25,
      "outputs": [
        {
          "output_type": "execute_result",
          "data": {
            "text/plain": [
              "array(['CRIME', 'ENTERTAINMENT', 'WORLD NEWS', 'IMPACT', 'POLITICS',\n",
              "       'WEIRD NEWS', 'BLACK VOICES', 'WOMEN', 'COMEDY', 'QUEER VOICES',\n",
              "       'SPORTS', 'BUSINESS', 'TRAVEL', 'MEDIA', 'TECH', 'RELIGION',\n",
              "       'SCIENCE', 'LATINO VOICES', 'EDUCATION', 'COLLEGE', 'PARENTS',\n",
              "       'ARTS & CULTURE', 'STYLE', 'GREEN', 'TASTE', 'HEALTHY LIVING',\n",
              "       'THE WORLDPOST', 'GOOD NEWS', 'WORLDPOST', 'FIFTY', 'ARTS',\n",
              "       'WELLNESS', 'PARENTING', 'HOME & LIVING', 'STYLE & BEAUTY',\n",
              "       'DIVORCE', 'WEDDINGS', 'FOOD & DRINK', 'MONEY', 'ENVIRONMENT',\n",
              "       'CULTURE & ARTS'], dtype=object)"
            ]
          },
          "metadata": {
            "tags": []
          },
          "execution_count": 25
        }
      ]
    },
    {
      "metadata": {
        "id": "nRkekKnQSNiq",
        "colab_type": "text"
      },
      "cell_type": "markdown",
      "source": [
        "* Business Domain\n",
        "* Medical\n",
        "* Medical Standards\n",
        "* Clinical Trials\n",
        "* Pharma\n",
        "* Law\n",
        "* Finance\n",
        "* Insurance\n",
        "* Marketing\n",
        "* Advertisement\n",
        "* Manufacturing\n",
        "* Renewables & Environment"
      ]
    },
    {
      "metadata": {
        "id": "w0fiHZD_tnBD",
        "colab_type": "code",
        "colab": {}
      },
      "cell_type": "code",
      "source": [
        "needed_info.to_csv('gdrive/My Drive/data/huff_post_data/links.csv')"
      ],
      "execution_count": 0,
      "outputs": []
    },
    {
      "metadata": {
        "id": "DtWuFYa9uVLF",
        "colab_type": "code",
        "colab": {}
      },
      "cell_type": "code",
      "source": [
        ""
      ],
      "execution_count": 0,
      "outputs": []
    }
  ]
}