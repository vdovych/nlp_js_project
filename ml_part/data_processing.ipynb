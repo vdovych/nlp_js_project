{
 "cells": [
  {
   "cell_type": "markdown",
   "metadata": {
    "colab_type": "text",
    "id": "4d2LEhoBz4sp"
   },
   "source": [
    "# data mixing & preprocessing"
   ]
  },
  {
   "cell_type": "code",
   "execution_count": 1,
   "metadata": {
    "colab": {},
    "colab_type": "code",
    "id": "aYiSMk1Jz4sq"
   },
   "outputs": [],
   "source": [
    "import numpy as np\n",
    "import pandas as pd\n",
    "from sklearn.datasets import fetch_20newsgroups\n",
    "from sklearn.feature_extraction.text import TfidfVectorizer\n",
    "from sklearn.naive_bayes import MultinomialNB\n",
    "from sklearn.metrics import accuracy_score\n",
    "from sklearn.model_selection import train_test_split"
   ]
  },
  {
   "cell_type": "markdown",
   "metadata": {},
   "source": [
    "### load & split data"
   ]
  },
  {
   "cell_type": "code",
   "execution_count": 2,
   "metadata": {
    "colab": {
     "base_uri": "https://localhost:8080/",
     "height": 50
    },
    "colab_type": "code",
    "id": "Hs8f3E2pz4sw",
    "outputId": "41a46d53-cbd8-4a51-9314-c1477b58a0a2"
   },
   "outputs": [
    {
     "name": "stderr",
     "output_type": "stream",
     "text": [
      "Downloading 20news dataset. This may take a few minutes.\n",
      "Downloading dataset from https://ndownloader.figshare.com/files/5975967 (14 MB)\n"
     ]
    }
   ],
   "source": [
    "gen_target = pd.read_csv('bbc_target.csv', header=None)[0].append(pd.Series(data=fetch_20newsgroups(subset='all').target), ignore_index=True)\n",
    "gen_text = pd.read_csv('bbc_text.csv', header=None)[0].append(pd.Series(data=fetch_20newsgroups(subset='all', remove=('headers', 'footers')).data), ignore_index=True)\n",
    "gen_target = gen_target.append(pd.read_csv('webhouse_target.csv', header=None)[0])\n",
    "gen_text = gen_text.append(pd.read_csv('webhouse_text.csv', header=None)[0])"
   ]
  },
  {
   "cell_type": "code",
   "execution_count": 3,
   "metadata": {
    "colab": {
     "base_uri": "https://localhost:8080/",
     "height": 33
    },
    "colab_type": "code",
    "id": "wuYChpkciHik",
    "outputId": "4772fa6b-6480-4e2b-c5a7-81755c76893a"
   },
   "outputs": [
    {
     "data": {
      "text/plain": [
       "((111682,), (111682,))"
      ]
     },
     "execution_count": 3,
     "metadata": {},
     "output_type": "execute_result"
    }
   ],
   "source": [
    "gen_target.shape, gen_text.shape"
   ]
  },
  {
   "cell_type": "markdown",
   "metadata": {},
   "source": [
    "Current topic labels:\n",
    "\n",
    "*  'alt.atheism' - 0,0\n",
    "*  'comp.graphics' - 1,1\n",
    "*  'comp.os.ms-windows.misc' - 2,1\n",
    "*  'comp.sys.ibm.pc.hardware' - 3,1\n",
    "*  'comp.sys.mac.hardware' - 4,1\n",
    "*  'comp.windows.x' - 5,1\n",
    "*  'misc.forsale' - 6,1\n",
    "*  'rec.autos' - 7,0\n",
    "*  'rec.motorcycles' - 8,0\n",
    "*  'rec.sport.baseball' - 9.0\n",
    "*  'rec.sport.hockey' - 10,0\n",
    "*  'sci.crypt' - 11,1\n",
    "*  'sci.electronics' - 12,1\n",
    "*  'sci.med' - 13,1\n",
    "*  'sci.space' - 14,1\n",
    "*  'soc.religion.christian' - 15,0\n",
    "*  'talk.politics.guns' - 16,0\n",
    "*  'talk.politics.mideast' - 17,0\n",
    "*  'talk.politics.misc' - 18,0\n",
    "*  'talk.religion.misc' - 19,0\n",
    "\n",
    "\n",
    "*  'business' - 20,1\n",
    "*  'entertainment' - 21, 0\n",
    "*  'politics' - 22,0\n",
    "*  'sport' - 23,0\n",
    "*  'tech'  - 24,1\n",
    "*  'finance' - 25,1\n",
    "*  'travel' - 26,0"
   ]
  },
  {
   "cell_type": "markdown",
   "metadata": {},
   "source": [
    "Get counts for categories:"
   ]
  },
  {
   "cell_type": "code",
   "execution_count": 4,
   "metadata": {
    "colab": {},
    "colab_type": "code",
    "id": "M4ETcSK2mGYt"
   },
   "outputs": [],
   "source": [
    "gen_target.replace({\"'business'\":20, \"'entertainment'\":21, \"'politics'\":22, \"'sport'\":23, \"'tech'\":24, \"'finance'\":25, \"'travel'\":26, \"'sports'\":23 }, inplace=True)\n",
    "\n",
    "unique, counts = np.unique(gen_target, return_counts=True)\n",
    "dict(zip(unique, counts))"
   ]
  },
  {
   "cell_type": "code",
   "execution_count": 6,
   "metadata": {
    "colab": {},
    "colab_type": "code",
    "id": "-mgvTrevb51w"
   },
   "outputs": [],
   "source": [
    "x_train, x_test, y_train, y_test = train_test_split(gen_text, gen_target, stratify=gen_target)"
   ]
  },
  {
   "cell_type": "markdown",
   "metadata": {},
   "source": [
    "### transform data\n",
    "transform x"
   ]
  },
  {
   "cell_type": "code",
   "execution_count": null,
   "metadata": {
    "colab": {},
    "colab_type": "code",
    "id": "vjcv5Z-fq2mx"
   },
   "outputs": [],
   "source": [
    "# tfidf = TfidfVectorizer(sublinear_tf=True, norm='l2', stop_words='english', min_df=20, max_df=100000, ngram_range=(1, 2))\n",
    "tfidf = TfidfVectorizer(stop_words='english', norm=None, min_df=0.0003, ngram_range=(1, 2))\n",
    "\n",
    "features = tfidf.fit_transform(x_train)\n",
    "vectors_test = tfidf.transform(x_test)"
   ]
  },
  {
   "cell_type": "code",
   "execution_count": null,
   "metadata": {
    "colab": {
     "base_uri": "https://localhost:8080/",
     "height": 33
    },
    "colab_type": "code",
    "id": "sLdfyAfVz4tH",
    "outputId": "f3cd6b00-3e95-43fc-9171-fa6d0f9575de"
   },
   "outputs": [],
   "source": [
    "features.shape"
   ]
  },
  {
   "cell_type": "markdown",
   "metadata": {},
   "source": [
    "transform y"
   ]
  },
  {
   "cell_type": "code",
   "execution_count": null,
   "metadata": {
    "colab": {},
    "colab_type": "code",
    "id": "hqyJpC6ez4tt"
   },
   "outputs": [],
   "source": [
    "tech = [1,2,3,4,5,6,11,12,13,14,20,24,25]\n",
    "\n",
    "bin_tr_y = np.isin(y_train.values, tech).astype(np.uint8)\n",
    "bin_tes_y = np.isin(y_test.values, tech).astype(np.uint8)\n",
    "\n",
    "unique, counts = np.unique(bin_tr_y, return_counts=True)\n",
    "dict(zip(unique, counts))"
   ]
  },
  {
   "cell_type": "markdown",
   "metadata": {},
   "source": [
    "train smth easy"
   ]
  },
  {
   "cell_type": "code",
   "execution_count": null,
   "metadata": {
    "colab": {
     "base_uri": "https://localhost:8080/",
     "height": 33
    },
    "colab_type": "code",
    "id": "07soFeKVz4tN",
    "outputId": "c0f4edf7-22ec-4154-d296-aad96ae061e0"
   },
   "outputs": [
    {
     "data": {
      "text/plain": [
       "0.8839941262848752"
      ]
     },
     "execution_count": 17,
     "metadata": {
      "tags": []
     },
     "output_type": "execute_result"
    }
   ],
   "source": [
    "clf = MultinomialNB(alpha=.01)\n",
    "clf.fit(features, bin_tr_y)\n",
    "pred = clf.predict(vectors_test)\n",
    "accuracy_score(bin_tes_y, pred)"
   ]
  },
  {
   "cell_type": "code",
   "execution_count": null,
   "metadata": {},
   "outputs": [],
   "source": [
    "# save transformed data\n",
    "np.savetxt('train_test_data/vectors_test', vectors_test, del=',')\n",
    "np.savetxt('train_test_data/features', features, del=',')\n",
    "np.savetxt('train_test_data/bin_train_y', bin_train_y, del=',')\n",
    "np.savetxt('train_test_data/bin_tes_y', bin_tes_y, del=',')\n",
    "\n",
    "# save plain data\n",
    "x_train.to_csv('train_test_data/x_train')\n",
    "x_test.to_csv('train_test_data/x_test')\n",
    "y_train.to_csv('train_test_data/y_train')\n",
    "y_test.to_csv('train_test_data/y_test')"
   ]
  },
  {
   "cell_type": "markdown",
   "metadata": {
    "colab_type": "text",
    "id": "XEn2SAdM4QNn"
   },
   "source": [
    "### Save data for js tf-idf vectorization"
   ]
  },
  {
   "cell_type": "code",
   "execution_count": null,
   "metadata": {
    "colab": {},
    "colab_type": "code",
    "id": "NjTdxE7z1x-m"
   },
   "outputs": [],
   "source": [
    "import json"
   ]
  },
  {
   "cell_type": "code",
   "execution_count": null,
   "metadata": {
    "colab": {},
    "colab_type": "code",
    "id": "P24xVXly5y5y"
   },
   "outputs": [],
   "source": [
    "def default(o):\n",
    "    if isinstance(o, np.int64): return int(o)  \n",
    "    if isinstance(o, np.float64): return float(o)\n",
    "    raise TypeError"
   ]
  },
  {
   "cell_type": "code",
   "execution_count": null,
   "metadata": {
    "colab": {},
    "colab_type": "code",
    "id": "1_icNOqk2Th7"
   },
   "outputs": [],
   "source": [
    "with open('tfidf_vocab.json', 'w') as f:\n",
    "    json.dump(tfidf.vocabulary_, f, default=default)"
   ]
  },
  {
   "cell_type": "code",
   "execution_count": null,
   "metadata": {
    "colab": {},
    "colab_type": "code",
    "id": "UJtoQpZh66_C"
   },
   "outputs": [],
   "source": [
    "with open('idf_.json', 'w') as f:\n",
    "    json.dump(tfidf.idf_.tolist(), f)"
   ]
  },
  {
   "cell_type": "code",
   "execution_count": 1,
   "metadata": {
    "colab": {},
    "colab_type": "code",
    "id": "ksP9dHZlL7tT"
   },
   "outputs": [],
   "source": [
    "# with open('transformed.json', 'w') as f:\n",
    "#     json.dump(transformed.toarray().tolist(), f)"
   ]
  }
 ],
 "metadata": {
  "kernelspec": {
   "display_name": "Python 3",
   "language": "python",
   "name": "python3"
  },
  "language_info": {
   "codemirror_mode": {
    "name": "ipython",
    "version": 3
   },
   "file_extension": ".py",
   "mimetype": "text/x-python",
   "name": "python",
   "nbconvert_exporter": "python",
   "pygments_lexer": "ipython3",
   "version": "3.6.6"
  }
 },
 "nbformat": 4,
 "nbformat_minor": 2
}
