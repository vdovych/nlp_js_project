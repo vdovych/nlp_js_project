{
  "nbformat": 4,
  "nbformat_minor": 0,
  "metadata": {
    "colab": {
      "name": "categorical_model",
      "version": "0.3.2",
      "provenance": [],
      "collapsed_sections": [],
      "toc_visible": true
    },
    "kernelspec": {
      "name": "python3",
      "display_name": "Python 3"
    },
    "accelerator": "GPU"
  },
  "cells": [
    {
      "cell_type": "markdown",
      "metadata": {
        "id": "wFBag65FZ00Z",
        "colab_type": "text"
      },
      "source": [
        "todo organize topcs within datasets and numofentries\n",
        "\n",
        "save all new configs in drive\n",
        "\n",
        "requirements"
      ]
    },
    {
      "cell_type": "code",
      "metadata": {
        "id": "0bnVSlbAwma1",
        "colab_type": "code",
        "colab": {}
      },
      "source": [
        "!pip install tensorflowjs"
      ],
      "execution_count": 0,
      "outputs": []
    },
    {
      "cell_type": "markdown",
      "metadata": {
        "id": "FAod629r12-v",
        "colab_type": "text"
      },
      "source": [
        "* Business Domain\n",
        "* Medical\n",
        "Medical Standards\n",
        "Clinical Trials\n",
        "* Pharma\n",
        "* Law\n",
        "* Finance\n",
        "* Insurance\n",
        "* Marketing\n",
        "* Advertisement\n",
        "* Manufacturing\n",
        "* Renewables & Environment\n"
      ]
    },
    {
      "cell_type": "markdown",
      "metadata": {
        "id": "UCqNaJsT03Z4",
        "colab_type": "text"
      },
      "source": [
        "### load data"
      ]
    },
    {
      "cell_type": "code",
      "metadata": {
        "colab_type": "code",
        "id": "aYiSMk1Jz4sq",
        "colab": {}
      },
      "source": [
        "import numpy as np\n",
        "import pandas as pd\n",
        "from sklearn.metrics import accuracy_score, confusion_matrix, classification_report\n",
        "from sklearn.model_selection import train_test_split, GridSearchCV"
      ],
      "execution_count": 0,
      "outputs": []
    },
    {
      "cell_type": "code",
      "metadata": {
        "id": "Mea6PDkIOK81",
        "colab_type": "code",
        "outputId": "37e7b308-f255-463f-905e-6cd3850a0c29",
        "colab": {
          "base_uri": "https://localhost:8080/",
          "height": 33
        }
      },
      "source": [
        "from google.colab import drive\n",
        "\n",
        "drive.mount('/content/gdrive')\n",
        "root_path = 'gdrive/My Drive/data/'  #change dir to your project folder"
      ],
      "execution_count": 0,
      "outputs": [
        {
          "output_type": "stream",
          "text": [
            "Drive already mounted at /content/gdrive; to attempt to forcibly remount, call drive.mount(\"/content/gdrive\", force_remount=True).\n"
          ],
          "name": "stdout"
        }
      ]
    },
    {
      "cell_type": "code",
      "metadata": {
        "id": "eFUgcB1wqXxA",
        "colab_type": "code",
        "colab": {}
      },
      "source": [
        "features = np.load('gdrive/My Drive/data/train_test_data/features.npy').item()\n",
        "vectors_test = np.load('gdrive/My Drive/data/train_test_data/vectors_test.npy').item()\n",
        "# bin_tes_y = np.genfromtxt('bin_tes_y', delimiter=',')\n",
        "# bin_tr_y = np.genfromtxt('bin_tr_y', delimiter=',')\n",
        "\n",
        "\n",
        "y_test = pd.read_csv('gdrive/My Drive/data/train_test_data/unprocessed/y_test', usecols=[1], header=None)\n",
        "y_train = pd.read_csv('gdrive/My Drive/data/train_test_data/unprocessed/y_train', usecols=[1], header=None)\n",
        "# y_test = np.genfromtxt('y_test', delimiter=',')[:,1]\n",
        "# y_train = np.genfromtxt('y_train', delimiter=',')[:,1]\n",
        "# x_train = np.genfromtxt('x_train', delimiter=',')\n",
        "# x_test = np.genfromtxt('x_test', delimiter=',')"
      ],
      "execution_count": 0,
      "outputs": []
    },
    {
      "cell_type": "code",
      "metadata": {
        "id": "g8-JyQsizrDT",
        "colab_type": "code",
        "outputId": "dc7a5da2-6b3f-4f3b-e525-83625700d131",
        "colab": {
          "base_uri": "https://localhost:8080/",
          "height": 33
        }
      },
      "source": [
        "y_train.shape, y_test.shape, features.shape, vectors_test.shape"
      ],
      "execution_count": 0,
      "outputs": [
        {
          "output_type": "execute_result",
          "data": {
            "text/plain": [
              "((83761, 1), (27921, 1), (83761, 70436), (27921, 70436))"
            ]
          },
          "metadata": {
            "tags": []
          },
          "execution_count": 28
        }
      ]
    },
    {
      "cell_type": "code",
      "metadata": {
        "id": "a9ErANMCdUMj",
        "colab_type": "code",
        "colab": {}
      },
      "source": [
        "chosen = [1,2,3,4,5,11,12,13,14,20,24,25]\n",
        "\n",
        "train_mask = np.isin(y_train, chosen).flatten() \n",
        "test_mask = np.isin(y_test, chosen).flatten()\n",
        "\n",
        "y_test = y_test[test_mask].replace({1:0, 2:0, 3:0, 4:0, 5:0, 11:1, 12:2, 13:3, 14:4, 20:5, 24:6, 25:7})\n",
        "y_train = y_train[train_mask].replace({1:0, 2:0, 3:0, 4:0, 5:0, 11:1, 12:2, 13:3, 14:4, 20:5, 24:6, 25:7})\n",
        "features = features[train_mask]\n",
        "vectors_test = vectors_test[test_mask]"
      ],
      "execution_count": 0,
      "outputs": []
    },
    {
      "cell_type": "code",
      "metadata": {
        "id": "gK0Vz6hod_dj",
        "colab_type": "code",
        "outputId": "a3f2a44a-1d99-4773-f8b9-d490bafdc1e9",
        "colab": {
          "base_uri": "https://localhost:8080/",
          "height": 33
        }
      },
      "source": [
        "y_train.shape, y_test.shape, features.shape, vectors_test.shape"
      ],
      "execution_count": 0,
      "outputs": [
        {
          "output_type": "execute_result",
          "data": {
            "text/plain": [
              "((45071, 1), (15023, 1), (45071, 70436), (15023, 70436))"
            ]
          },
          "metadata": {
            "tags": []
          },
          "execution_count": 30
        }
      ]
    },
    {
      "cell_type": "code",
      "metadata": {
        "id": "iud7EL053gOV",
        "colab_type": "code",
        "colab": {}
      },
      "source": [
        "from tensorflow.keras.utils import to_categorical\n",
        "y_binary_train = to_categorical(y_train)\n",
        "y_binary_test = to_categorical(y_test)"
      ],
      "execution_count": 0,
      "outputs": []
    },
    {
      "cell_type": "markdown",
      "metadata": {
        "colab_type": "text",
        "id": "usZwaHdoz4tT"
      },
      "source": [
        "### Model & train"
      ]
    },
    {
      "cell_type": "code",
      "metadata": {
        "colab_type": "code",
        "id": "JwCbVAW5z4tV",
        "colab": {}
      },
      "source": [
        "from tensorflow.keras.models import Sequential\n",
        "from tensorflow.keras.layers import Conv2D, MaxPooling2D\n",
        "from tensorflow.keras.layers import Activation, Dropout, Flatten, Dense\n",
        "from tensorflow.keras.regularizers import l2\n",
        "from tensorflow.keras.callbacks import EarlyStopping, ModelCheckpoint"
      ],
      "execution_count": 0,
      "outputs": []
    },
    {
      "cell_type": "code",
      "metadata": {
        "colab_type": "code",
        "id": "KEtYp36wz4td",
        "colab": {}
      },
      "source": [
        "simple_model = Sequential([Dense(200,activation='relu', input_dim=features.shape[1], kernel_regularizer=l2(0.001)),\n",
        "                           Dropout(0.3, noise_shape=None, seed=None),\n",
        "                           Dense(100,activation='relu', kernel_regularizer=l2(0.001)),\n",
        "                           Dropout(0.3, noise_shape=None, seed=None),\n",
        "                           Dense(50,activation='relu', kernel_regularizer=l2(0.001)),\n",
        "                           Dropout(0.1, noise_shape=None, seed=None),\n",
        "                           Dense(6,activation='sigmoid')])\n",
        "\n",
        "ES_callback = EarlyStopping(monitor='val_accuracy', min_delta=0.00005, patience=4)\n",
        "\n",
        "filepath=\"improvement-{epoch:02d}-{loss:.4f}-{val_accuracy:.4f}.hdf5\"\n",
        "checkpoint = ModelCheckpoint(filepath, monitor='val_accuracy', verbose=1, save_best_only=True, mode='max')\n",
        "\n",
        "simple_model.compile(loss='categorical_crossentropy',\n",
        "                     optimizer='adam',\n",
        "                     metrics=['accuracy'])\n",
        "\n",
        "model_output= simple_model.fit(features,\n",
        "                               y_binary_train,\n",
        "                               batch_size=128,\n",
        "                               epochs=40,\n",
        "                               verbose=1,\n",
        "                               validation_data=(vectors_test, y_binary_test),\n",
        "                               callbacks=[ES_callback, checkpoint])\n",
        "                              "
      ],
      "execution_count": 0,
      "outputs": []
    },
    {
      "cell_type": "code",
      "metadata": {
        "colab_type": "code",
        "id": "8h78kLn2T7MY",
        "colab": {}
      },
      "source": [
        "simple_model = Sequential([Dense(200,activation='relu', input_dim=features.shape[1], kernel_regularizer=l2(0.001)),\n",
        "                           Dropout(0.3, noise_shape=None, seed=None),\n",
        "                           Dense(100,activation='relu', kernel_regularizer=l2(0.001)),\n",
        "                           Dropout(0.3, noise_shape=None, seed=None),\n",
        "                           Dense(50,activation='relu', kernel_regularizer=l2(0.001)),\n",
        "                           Dropout(0.1, noise_shape=None, seed=None),\n",
        "                           Dense(6,activation='sigmoid')])\n",
        "\n",
        "simple_model.load_weights('improvement-08-1.2047-0.8255.hdf5')\n",
        "\n",
        "simple_model.compile(loss='categorical_crossentropy',\n",
        "                     optimizer='adam',\n",
        "                     metrics=['accuracy'])"
      ],
      "execution_count": 0,
      "outputs": []
    },
    {
      "cell_type": "markdown",
      "metadata": {
        "colab_type": "text",
        "id": "LHJc6EG3l3DX"
      },
      "source": [
        "### Model evaluation\n"
      ]
    },
    {
      "cell_type": "code",
      "metadata": {
        "colab_type": "code",
        "id": "Pe2N6ZOdmxDc",
        "colab": {}
      },
      "source": [
        "predicted = simple_model.predict_classes(vectors_test)\n",
        "predicted"
      ],
      "execution_count": 0,
      "outputs": []
    },
    {
      "cell_type": "code",
      "metadata": {
        "colab_type": "code",
        "id": "wsoqgOjwl2QE",
        "outputId": "53269bed-8cb6-4a48-a157-a43b69e02a77",
        "colab": {
          "base_uri": "https://localhost:8080/",
          "height": 115
        }
      },
      "source": [
        "confusion_matrix(y_test, predicted)"
      ],
      "execution_count": 0,
      "outputs": [
        {
          "output_type": "execute_result",
          "data": {
            "text/plain": [
              "array([[1978,   69,  156,  285,   37,   89],\n",
              "       [  71, 2129,  110,  229,   57,   25],\n",
              "       [  94,  761, 1617,  119,   11,   43],\n",
              "       [ 123,  133,   48, 9389,  296,  179],\n",
              "       [  19,   45,   13,  457, 1908,   75],\n",
              "       [  75,   40,   38,  233,   98, 2033]])"
            ]
          },
          "metadata": {
            "tags": []
          },
          "execution_count": 23
        }
      ]
    },
    {
      "cell_type": "code",
      "metadata": {
        "colab_type": "code",
        "id": "DjxbAQpupzb8",
        "outputId": "d4c1b4cb-19eb-434b-cbbd-962dffa117f9",
        "colab": {
          "base_uri": "https://localhost:8080/",
          "height": 228
        }
      },
      "source": [
        "print(classification_report(y_test, predicted))"
      ],
      "execution_count": 0,
      "outputs": [
        {
          "output_type": "stream",
          "text": [
            "              precision    recall  f1-score   support\n",
            "\n",
            "           0       0.84      0.76      0.80      2614\n",
            "           1       0.67      0.81      0.73      2621\n",
            "           2       0.82      0.61      0.70      2645\n",
            "           3       0.88      0.92      0.90     10168\n",
            "           4       0.79      0.76      0.77      2517\n",
            "           5       0.83      0.81      0.82      2517\n",
            "\n",
            "   micro avg       0.83      0.83      0.83     23082\n",
            "   macro avg       0.80      0.78      0.79     23082\n",
            "weighted avg       0.83      0.83      0.82     23082\n",
            "\n"
          ],
          "name": "stdout"
        }
      ]
    },
    {
      "cell_type": "markdown",
      "metadata": {
        "id": "AmDRDW1xNNap",
        "colab_type": "text"
      },
      "source": [
        "### Load model"
      ]
    },
    {
      "cell_type": "code",
      "metadata": {
        "id": "zTVgB_-UNC7g",
        "colab_type": "code",
        "colab": {}
      },
      "source": [
        "import tensorflowjs as tfjs\n",
        "tfjs.converters.save_keras_model(simple_model, 'model')"
      ],
      "execution_count": 0,
      "outputs": []
    },
    {
      "cell_type": "code",
      "metadata": {
        "id": "e0JQDJorwJFU",
        "colab_type": "code",
        "colab": {}
      },
      "source": [
        ""
      ],
      "execution_count": 0,
      "outputs": []
    }
  ]
}