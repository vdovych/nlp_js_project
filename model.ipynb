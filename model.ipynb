{
  "nbformat": 4,
  "nbformat_minor": 0,
  "metadata": {
    "colab": {
      "name": "model.ipynb",
      "version": "0.3.2",
      "provenance": [],
      "collapsed_sections": [
        "LHJc6EG3l3DX",
        "hLpdSv-M2_EB",
        "BL9WsrMIzpvd",
        "h5jhLnknf9PF",
        "XEn2SAdM4QNn"
      ],
      "toc_visible": true,
      "include_colab_link": true
    },
    "kernelspec": {
      "name": "python3",
      "display_name": "Python 3"
    },
    "accelerator": "GPU"
  },
  "cells": [
    {
      "cell_type": "markdown",
      "metadata": {
        "id": "view-in-github",
        "colab_type": "text"
      },
      "source": [
        "<a href=\"https://colab.research.google.com/github/vdovych/nlp_js_project/blob/master/model.ipynb\" target=\"_parent\"><img src=\"https://colab.research.google.com/assets/colab-badge.svg\" alt=\"Open In Colab\"/></a>"
      ]
    },
    {
      "metadata": {
        "id": "BYqkR043gq7i",
        "colab_type": "text"
      },
      "cell_type": "markdown",
      "source": [
        "### TODO:\n",
        "__need__:\n",
        "* balance classes ?\n",
        "\n",
        "__would be good__\n",
        "\n",
        "__experiment__\n",
        "\n",
        "__questions__\n",
        "* як лейбити "
      ]
    },
    {
      "metadata": {
        "id": "4d2LEhoBz4sp",
        "colab_type": "text"
      },
      "cell_type": "markdown",
      "source": [
        "### data mixing & preprocessing"
      ]
    },
    {
      "metadata": {
        "id": "aYiSMk1Jz4sq",
        "colab_type": "code",
        "colab": {}
      },
      "cell_type": "code",
      "source": [
        "import numpy as np\n",
        "import pandas as pd\n",
        "from sklearn.datasets import fetch_20newsgroups\n",
        "from sklearn.feature_extraction.text import TfidfVectorizer\n",
        "from sklearn.naive_bayes import MultinomialNB\n",
        "from sklearn.metrics import accuracy_score, confusion_matrix, classification_report\n",
        "from sklearn.model_selection import train_test_split, GridSearchCV"
      ],
      "execution_count": 0,
      "outputs": []
    },
    {
      "metadata": {
        "id": "Hs8f3E2pz4sw",
        "colab_type": "code",
        "colab": {}
      },
      "cell_type": "code",
      "source": [
        "gen_target = pd.read_csv('bbc_target.csv', header=None)[0].append(pd.Series(data=fetch_20newsgroups(subset='all').target), ignore_index=True)\n",
        "gen_text = pd.read_csv('bbc_text.csv', header=None)[0].append(pd.Series(data=fetch_20newsgroups(subset='all', remove=('headers', 'footers')).data), ignore_index=True)\n",
        "gen_target = gen_target.append(pd.read_csv('webhouse_target.csv', header=None)[0])\n",
        "gen_text = gen_text.append(pd.read_csv('webhouse_text.csv', header=None)[0])"
      ],
      "execution_count": 0,
      "outputs": []
    },
    {
      "metadata": {
        "id": "wuYChpkciHik",
        "colab_type": "code",
        "outputId": "9dbcf59a-74ca-4c6a-963b-f859f0a42b7d",
        "colab": {
          "base_uri": "https://localhost:8080/",
          "height": 34
        }
      },
      "cell_type": "code",
      "source": [
        "gen_target.shape, gen_text.shape"
      ],
      "execution_count": 101,
      "outputs": [
        {
          "output_type": "execute_result",
          "data": {
            "text/plain": [
              "((111682,), (111682,))"
            ]
          },
          "metadata": {
            "tags": []
          },
          "execution_count": 101
        }
      ]
    },
    {
      "metadata": {
        "id": "M4ETcSK2mGYt",
        "colab_type": "code",
        "colab": {}
      },
      "cell_type": "code",
      "source": [
        "gen_target.replace({\"'business'\":20, \"'entertainment'\":21, \"'politics'\":22, \"'sport'\":23, \"'tech'\":24, \"'finance'\":25, \"'travel'\":26, \"'sports'\":23 }, inplace=True)"
      ],
      "execution_count": 0,
      "outputs": []
    },
    {
      "metadata": {
        "id": "yDMsf0be9gWm",
        "colab_type": "code",
        "outputId": "76698cdc-5aa2-4aab-dc6f-14564336c19c",
        "colab": {
          "base_uri": "https://localhost:8080/",
          "height": 496
        }
      },
      "cell_type": "code",
      "source": [
        "unique, counts = np.unique(gen_target, return_counts=True)\n",
        "dict(zip(unique, counts))"
      ],
      "execution_count": 103,
      "outputs": [
        {
          "output_type": "execute_result",
          "data": {
            "text/plain": [
              "{0: 799,\n",
              " 1: 973,\n",
              " 2: 985,\n",
              " 3: 982,\n",
              " 4: 963,\n",
              " 5: 988,\n",
              " 6: 975,\n",
              " 7: 990,\n",
              " 8: 996,\n",
              " 9: 994,\n",
              " 10: 999,\n",
              " 11: 991,\n",
              " 12: 984,\n",
              " 13: 990,\n",
              " 14: 987,\n",
              " 15: 997,\n",
              " 16: 910,\n",
              " 17: 940,\n",
              " 18: 775,\n",
              " 19: 628,\n",
              " 20: 510,\n",
              " 21: 10454,\n",
              " 22: 10485,\n",
              " 23: 10578,\n",
              " 24: 40673,\n",
              " 25: 10068,\n",
              " 26: 10068}"
            ]
          },
          "metadata": {
            "tags": []
          },
          "execution_count": 103
        }
      ]
    },
    {
      "metadata": {
        "id": "-mgvTrevb51w",
        "colab_type": "code",
        "colab": {}
      },
      "cell_type": "code",
      "source": [
        "x_train, x_test, y_train, y_test = train_test_split(gen_text, gen_target, stratify=gen_target)"
      ],
      "execution_count": 0,
      "outputs": []
    },
    {
      "metadata": {
        "id": "vjcv5Z-fq2mx",
        "colab_type": "code",
        "colab": {}
      },
      "cell_type": "code",
      "source": [
        "# tfidf = TfidfVectorizer(sublinear_tf=True, norm='l2', stop_words='english', min_df=20, max_df=100000, ngram_range=(1, 2))\n",
        "tfidf = TfidfVectorizer(stop_words='english', norm=None, min_df=0.0003, ngram_range=(1, 2))\n",
        "features = tfidf.fit_transform(x_train)"
      ],
      "execution_count": 0,
      "outputs": []
    },
    {
      "metadata": {
        "id": "sLdfyAfVz4tH",
        "colab_type": "code",
        "outputId": "a3a8a9ef-0454-4091-c09b-5b2f3b1d4221",
        "colab": {
          "base_uri": "https://localhost:8080/",
          "height": 34
        }
      },
      "cell_type": "code",
      "source": [
        "features.shape"
      ],
      "execution_count": 106,
      "outputs": [
        {
          "output_type": "execute_result",
          "data": {
            "text/plain": [
              "(83761, 70371)"
            ]
          },
          "metadata": {
            "tags": []
          },
          "execution_count": 106
        }
      ]
    },
    {
      "metadata": {
        "id": "hqyJpC6ez4tt",
        "colab_type": "code",
        "colab": {}
      },
      "cell_type": "code",
      "source": [
        "# ['alt.atheism',0,0\n",
        "#  'comp.graphics',1,1\n",
        "#  'comp.os.ms-windows.misc',2,1\n",
        "#  'comp.sys.ibm.pc.hardware',3,1\n",
        "#  'comp.sys.mac.hardware',4,1\n",
        "#  'comp.windows.x',5,1\n",
        "#  'misc.forsale',6,1\n",
        "#  'rec.autos',7,0\n",
        "#  'rec.motorcycles',8,0\n",
        "#  'rec.sport.baseball',9.0\n",
        "#  'rec.sport.hockey',10,0\n",
        "#  'sci.crypt',11,1\n",
        "#  'sci.electronics',12,1\n",
        "#  'sci.med',13,1\n",
        "#  'sci.space',14,1\n",
        "#  'soc.religion.christian',15,0\n",
        "#  'talk.politics.guns',16,0\n",
        "#  'talk.politics.mideast',17,0\n",
        "#  'talk.politics.misc',18,0\n",
        "#  'talk.religion.misc',19,0]\n",
        "#  'business',20, 1\n",
        "#  'entertainment',21, 0\n",
        "#  'politics',22, 0\n",
        "#  'sport',23, 0\n",
        "#  'tech',24, 1\n",
        "#  'finance',25,0\n",
        "#  'travel', 26, 0\n",
        "tech = [1,2,3,4,5,6,11,12,13,14,20,24]"
      ],
      "execution_count": 0,
      "outputs": []
    },
    {
      "metadata": {
        "id": "5IGGr8Jjz4ty",
        "colab_type": "code",
        "colab": {}
      },
      "cell_type": "code",
      "source": [
        "bin_tr_y = np.isin(y_train.values, tech).astype(np.uint8)\n",
        "bin_tes_y = np.isin(y_test.values, tech).astype(np.uint8)"
      ],
      "execution_count": 0,
      "outputs": []
    },
    {
      "metadata": {
        "id": "klpx4WSnv-sR",
        "colab_type": "code",
        "colab": {}
      },
      "cell_type": "code",
      "source": [
        "vectors_test = tfidf.transform(x_test)"
      ],
      "execution_count": 0,
      "outputs": []
    },
    {
      "metadata": {
        "id": "07soFeKVz4tN",
        "colab_type": "code",
        "outputId": "96521c0e-a4c5-4fb2-9172-5dab090a8da0",
        "colab": {
          "base_uri": "https://localhost:8080/",
          "height": 34
        }
      },
      "cell_type": "code",
      "source": [
        "# np.savetxt('test_x', vectors_test.toarray()[:2])\n",
        "clf = MultinomialNB(alpha=.01)\n",
        "clf.fit(features, bin_tr_y)\n",
        "pred = clf.predict(vectors_test)\n",
        "accuracy_score(bin_tes_y, pred)"
      ],
      "execution_count": 110,
      "outputs": [
        {
          "output_type": "execute_result",
          "data": {
            "text/plain": [
              "0.8656566741878873"
            ]
          },
          "metadata": {
            "tags": []
          },
          "execution_count": 110
        }
      ]
    },
    {
      "metadata": {
        "colab_type": "code",
        "outputId": "8c69fa17-a869-4755-dd8c-08881c06fd16",
        "id": "WWxHxigv7dbp",
        "colab": {
          "base_uri": "https://localhost:8080/",
          "height": 34
        }
      },
      "cell_type": "code",
      "source": [
        "unique, counts = np.unique(bin_tr_y, return_counts=True)\n",
        "dict(zip(unique, counts))"
      ],
      "execution_count": 111,
      "outputs": [
        {
          "output_type": "execute_result",
          "data": {
            "text/plain": [
              "{0: 45509, 1: 38252}"
            ]
          },
          "metadata": {
            "tags": []
          },
          "execution_count": 111
        }
      ]
    },
    {
      "metadata": {
        "id": "usZwaHdoz4tT",
        "colab_type": "text"
      },
      "cell_type": "markdown",
      "source": [
        "### Model & train"
      ]
    },
    {
      "metadata": {
        "id": "JwCbVAW5z4tV",
        "colab_type": "code",
        "colab": {}
      },
      "cell_type": "code",
      "source": [
        "from keras.models import Sequential\n",
        "from keras.layers import Conv2D, MaxPooling2D\n",
        "from keras.layers import Activation, Dropout, Flatten, Dense\n",
        "from keras.regularizers import l2\n",
        "from keras.callbacks import EarlyStopping\n",
        "import keras"
      ],
      "execution_count": 0,
      "outputs": []
    },
    {
      "metadata": {
        "id": "KEtYp36wz4td",
        "colab_type": "code",
        "colab": {}
      },
      "cell_type": "code",
      "source": [
        "simple_model = Sequential([Dense(150,activation='relu', input_dim=features.shape[1], kernel_regularizer=l2(0.01)),\n",
        "                           Dropout(0.6, noise_shape=None, seed=None),\n",
        "                           Dense(200,activation='relu', kernel_regularizer=l2(0.01)),\n",
        "                           Dropout(0.4, noise_shape=None, seed=None),\n",
        "                           Dense(1,activation='sigmoid')])\n",
        "ES_callback = EarlyStopping(monitor='val_binary_accuracy', min_delta=0.00005, patience=4)\n",
        "\n",
        "filepath=\"improvement-{epoch:02d}-{loss:.4f}-{val_binary_accuracy:.4f}.hdf5\"\n",
        "checkpoint = keras.callbacks.ModelCheckpoint(filepath, monitor='val_binary_accuracy', verbose=1, save_best_only=True, mode='max')"
      ],
      "execution_count": 0,
      "outputs": []
    },
    {
      "metadata": {
        "id": "so502uAKz4ti",
        "colab_type": "code",
        "colab": {}
      },
      "cell_type": "code",
      "source": [
        "simple_model.compile(loss='binary_crossentropy',\n",
        "                     optimizer='adam',\n",
        "                     metrics=['binary_accuracy'])"
      ],
      "execution_count": 0,
      "outputs": []
    },
    {
      "metadata": {
        "id": "78E9qE3mz4to",
        "colab_type": "code",
        "outputId": "57fe349a-a0a6-405f-9194-46da456e656e",
        "colab": {
          "base_uri": "https://localhost:8080/",
          "height": 318
        }
      },
      "cell_type": "code",
      "source": [
        "simple_model.summary()"
      ],
      "execution_count": 128,
      "outputs": [
        {
          "output_type": "stream",
          "text": [
            "_________________________________________________________________\n",
            "Layer (type)                 Output Shape              Param #   \n",
            "=================================================================\n",
            "dense_43 (Dense)             (None, 150)               10555800  \n",
            "_________________________________________________________________\n",
            "dropout_29 (Dropout)         (None, 150)               0         \n",
            "_________________________________________________________________\n",
            "dense_44 (Dense)             (None, 200)               30200     \n",
            "_________________________________________________________________\n",
            "dropout_30 (Dropout)         (None, 200)               0         \n",
            "_________________________________________________________________\n",
            "dense_45 (Dense)             (None, 1)                 201       \n",
            "=================================================================\n",
            "Total params: 10,586,201\n",
            "Trainable params: 10,586,201\n",
            "Non-trainable params: 0\n",
            "_________________________________________________________________\n"
          ],
          "name": "stdout"
        }
      ]
    },
    {
      "metadata": {
        "id": "YSF-GgmSz4uI",
        "colab_type": "code",
        "outputId": "3c9567d4-accf-4949-dbc7-fb4ce0355ec3",
        "colab": {
          "base_uri": "https://localhost:8080/",
          "height": 694
        }
      },
      "cell_type": "code",
      "source": [
        "model_output= simple_model.fit(features,\n",
        "                               bin_tr_y,\n",
        "                               batch_size=512,\n",
        "                               epochs=40,\n",
        "                               verbose=1,\n",
        "                               validation_data=(vectors_test, bin_tes_y),\n",
        "#                                callbacks=[ES_callback])\n",
        "                               callbacks=[ES_callback, checkpoint])"
      ],
      "execution_count": 129,
      "outputs": [
        {
          "output_type": "stream",
          "text": [
            "Train on 83761 samples, validate on 27921 samples\n",
            "Epoch 1/40\n",
            "83761/83761 [==============================] - 46s 550us/step - loss: 1.5588 - binary_accuracy: 0.8682 - val_loss: 1.0029 - val_binary_accuracy: 0.8958\n",
            "\n",
            "Epoch 00001: val_binary_accuracy improved from -inf to 0.89585, saving model to improvement-01-1.5588-0.8958.hdf5\n",
            "Epoch 2/40\n",
            "83761/83761 [==============================] - 44s 530us/step - loss: 0.9712 - binary_accuracy: 0.8922 - val_loss: 0.9283 - val_binary_accuracy: 0.9005\n",
            "\n",
            "Epoch 00002: val_binary_accuracy improved from 0.89585 to 0.90050, saving model to improvement-02-0.9712-0.9005.hdf5\n",
            "Epoch 3/40\n",
            "83761/83761 [==============================] - 44s 528us/step - loss: 0.9652 - binary_accuracy: 0.8935 - val_loss: 0.9705 - val_binary_accuracy: 0.8965\n",
            "\n",
            "Epoch 00003: val_binary_accuracy did not improve from 0.90050\n",
            "Epoch 4/40\n",
            "83761/83761 [==============================] - 45s 532us/step - loss: 0.9973 - binary_accuracy: 0.8935 - val_loss: 1.0017 - val_binary_accuracy: 0.8998\n",
            "\n",
            "Epoch 00004: val_binary_accuracy did not improve from 0.90050\n",
            "Epoch 5/40\n",
            "83761/83761 [==============================] - 44s 529us/step - loss: 1.0001 - binary_accuracy: 0.8944 - val_loss: 1.0010 - val_binary_accuracy: 0.9013\n",
            "\n",
            "Epoch 00005: val_binary_accuracy improved from 0.90050 to 0.90133, saving model to improvement-05-1.0001-0.9013.hdf5\n",
            "Epoch 6/40\n",
            "83761/83761 [==============================] - 44s 529us/step - loss: 1.0071 - binary_accuracy: 0.8942 - val_loss: 1.0042 - val_binary_accuracy: 0.8985\n",
            "\n",
            "Epoch 00006: val_binary_accuracy did not improve from 0.90133\n",
            "Epoch 7/40\n",
            "83761/83761 [==============================] - 44s 526us/step - loss: 1.0092 - binary_accuracy: 0.8937 - val_loss: 1.0204 - val_binary_accuracy: 0.8958\n",
            "\n",
            "Epoch 00007: val_binary_accuracy did not improve from 0.90133\n",
            "Epoch 8/40\n",
            "83761/83761 [==============================] - 45s 532us/step - loss: 1.0152 - binary_accuracy: 0.8953 - val_loss: 1.0069 - val_binary_accuracy: 0.8988\n",
            "\n",
            "Epoch 00008: val_binary_accuracy did not improve from 0.90133\n",
            "Epoch 9/40\n",
            "83761/83761 [==============================] - 44s 531us/step - loss: 1.0215 - binary_accuracy: 0.8951 - val_loss: 1.0015 - val_binary_accuracy: 0.9003\n",
            "\n",
            "Epoch 00009: val_binary_accuracy did not improve from 0.90133\n"
          ],
          "name": "stdout"
        }
      ]
    },
    {
      "metadata": {
        "id": "8h78kLn2T7MY",
        "colab_type": "code",
        "colab": {}
      },
      "cell_type": "code",
      "source": [
        "simple_model = Sequential([Dense(150,activation='relu', input_dim=70371, kernel_regularizer=l2(0.01)),\n",
        "                           Dropout(0.6, noise_shape=None, seed=None),\n",
        "                           Dense(200,activation='relu', kernel_regularizer=l2(0.01)),\n",
        "                           Dropout(0.4, noise_shape=None, seed=None),\n",
        "                           Dense(1,activation='sigmoid')])\n",
        "\n",
        "simple_model.load_weights('improvement-05-1.0001-0.9013.hdf5')\n",
        "\n",
        "simple_model.compile(loss='binary_crossentropy',\n",
        "                     optimizer='adam',\n",
        "                     metrics=['binary_accuracy'])"
      ],
      "execution_count": 0,
      "outputs": []
    },
    {
      "metadata": {
        "id": "LHJc6EG3l3DX",
        "colab_type": "text"
      },
      "cell_type": "markdown",
      "source": [
        "#### Model evaluation\n"
      ]
    },
    {
      "metadata": {
        "id": "Pe2N6ZOdmxDc",
        "colab_type": "code",
        "colab": {}
      },
      "cell_type": "code",
      "source": [
        "predicted = simple_model.predict_classes(vectors_test)"
      ],
      "execution_count": 0,
      "outputs": []
    },
    {
      "metadata": {
        "id": "wsoqgOjwl2QE",
        "colab_type": "code",
        "outputId": "3767ae08-a1e8-4e43-9b5f-70293549c97a",
        "colab": {
          "base_uri": "https://localhost:8080/",
          "height": 52
        }
      },
      "cell_type": "code",
      "source": [
        "confusion_matrix(bin_tes_y, predicted)"
      ],
      "execution_count": 132,
      "outputs": [
        {
          "output_type": "execute_result",
          "data": {
            "text/plain": [
              "array([[13691,  1481],\n",
              "       [ 1274, 11475]])"
            ]
          },
          "metadata": {
            "tags": []
          },
          "execution_count": 132
        }
      ]
    },
    {
      "metadata": {
        "id": "DjxbAQpupzb8",
        "colab_type": "code",
        "outputId": "f9d0cc84-1a3b-4ebd-ca7c-98ae155eb4b0",
        "colab": {
          "base_uri": "https://localhost:8080/",
          "height": 176
        }
      },
      "cell_type": "code",
      "source": [
        "print(classification_report(bin_tes_y, predicted))"
      ],
      "execution_count": 133,
      "outputs": [
        {
          "output_type": "stream",
          "text": [
            "              precision    recall  f1-score   support\n",
            "\n",
            "           0       0.91      0.90      0.91     15172\n",
            "           1       0.89      0.90      0.89     12749\n",
            "\n",
            "   micro avg       0.90      0.90      0.90     27921\n",
            "   macro avg       0.90      0.90      0.90     27921\n",
            "weighted avg       0.90      0.90      0.90     27921\n",
            "\n"
          ],
          "name": "stdout"
        }
      ]
    },
    {
      "metadata": {
        "id": "jiyfzhLd2YLM",
        "colab_type": "text"
      },
      "cell_type": "markdown",
      "source": [
        "#### Grid search"
      ]
    },
    {
      "metadata": {
        "id": "fxiTV1wH9ut1",
        "colab_type": "text"
      },
      "cell_type": "markdown",
      "source": [
        "vectorizer\n",
        "* min_df 0.0001 4\n",
        "* max_df 0.15 ...\n",
        "\n",
        "model\n",
        "* layers\n",
        "* batch_size    512, 256\n",
        "* epochs        20, 40, \n",
        "* dense 100-300\n",
        "* dropout\n",
        "\n",
        "\n"
      ]
    },
    {
      "metadata": {
        "id": "AU_JBZTX2gPy",
        "colab_type": "code",
        "colab": {}
      },
      "cell_type": "code",
      "source": [
        "# cut data\n",
        "la_x_train, la_x_test, la_y_train, la_y_test = train_test_split(x_test, y_test, stratify=y_test)\n",
        "la_x_train, la_x_test, la_y_train, la_y_test = train_test_split(la_x_test, la_y_test, stratify=la_y_test)\n",
        "la_x_train, la_x_test, la_y_train, la_y_test = train_test_split(la_x_train, la_y_train, stratify=la_y_train)\n",
        "la_x_train, la_x_test, la_y_train, la_y_test = train_test_split(la_x_train, la_y_train, stratify=la_y_train)\n",
        "gr_x_train, gr_x_test, gr_y_train, gr_y_test = train_test_split(la_x_train, la_y_train, stratify=la_y_train)"
      ],
      "execution_count": 0,
      "outputs": []
    },
    {
      "metadata": {
        "id": "JIAevP5bcL-5",
        "colab_type": "code",
        "colab": {}
      },
      "cell_type": "code",
      "source": [
        "gr_y_train = np.isin(gr_y_train.values, tech).astype(np.uint8)\n",
        "gr_y_test = np.isin(gr_y_test.values, tech).astype(np.uint8)"
      ],
      "execution_count": 0,
      "outputs": []
    },
    {
      "metadata": {
        "id": "dK_1NBHR2gVh",
        "colab_type": "code",
        "colab": {}
      },
      "cell_type": "code",
      "source": [
        "from keras.wrappers.scikit_learn import KerasClassifier\n",
        "\n",
        "ES_callback = EarlyStopping(monitor='loss', min_delta=0.00005, patience=4)\n",
        "\n",
        "def create_model(neurons=100,neurons2=100, dropout=0.5,dropout2=0.5, layers=1):\n",
        "    \n",
        "    model = Sequential()\n",
        "    model.add(Dense(neurons,activation='relu', input_dim=features.shape[1], kernel_regularizer=l2(0.01)))\n",
        "    model.add(Dropout(dropout, noise_shape=None, seed=None))\n",
        "    if layers>=2:                   \n",
        "        model.add(Dense(neurons2,activation='relu', kernel_regularizer=l2(0.01)))\n",
        "        model.add(Dropout(dropout2, noise_shape=None, seed=None))\n",
        "\n",
        "    model.add(Dense(1,activation='sigmoid'))\n",
        "\n",
        "    model.compile(loss='binary_crossentropy',\n",
        "                         optimizer='adam',\n",
        "                         metrics=['accuracy'])\n",
        "    return model\n",
        "\n",
        "\n",
        "model = KerasClassifier(build_fn=create_model, verbose=1)"
      ],
      "execution_count": 0,
      "outputs": []
    },
    {
      "metadata": {
        "id": "pg4bNpEC2fa3",
        "colab_type": "code",
        "colab": {}
      },
      "cell_type": "code",
      "source": [
        "# define the grid search parameters\n",
        "neurons = [100, 150]\n",
        "layers = [1,2]\n",
        "batch_size = [512]\n",
        "dropout = [0.6]\n",
        "# batch_size = [128, 256, 512]\n",
        "# dropout = [0.35, 0.45, 0.6]\n",
        "\n",
        "callbacks = [[ES_callback]]\n",
        "validation_data=[(tfidf.transform(gr_x_test), gr_y_test)]\n",
        "epochs = [10]\n",
        "\n",
        "param_grid = dict(neurons=neurons,\n",
        "                  neurons2=neurons,\n",
        "                  dropout=dropout,\n",
        "                  dropout2=dropout, \n",
        "                  layers=layers,\n",
        "                 batch_size=batch_size,\n",
        "                 callbacks=callbacks,\n",
        "                  validation_data=validation_data,\n",
        "                 epochs=epochs)\n",
        "\n",
        "grid = GridSearchCV(estimator=model,\n",
        "                    param_grid=param_grid,\n",
        "#                     n_jobs=-1,\n",
        "                   verbose=1)\n",
        "\n",
        "grid_result = grid.fit(tfidf.transform(gr_x_train), gr_y_train)"
      ],
      "execution_count": 0,
      "outputs": []
    },
    {
      "metadata": {
        "id": "hjT5Cfat2gab",
        "colab_type": "code",
        "outputId": "f8069c72-72ad-41a1-d2ab-dc11cda2b80b",
        "colab": {
          "base_uri": "https://localhost:8080/",
          "height": 5636
        }
      },
      "cell_type": "code",
      "source": [
        "# summarize results\n",
        "print(\"Best: %f using %s\" % (grid_result.best_score_, grid_result.best_params_))\n",
        "means = grid_result.cv_results_['mean_test_score']\n",
        "stds = grid_result.cv_results_['std_test_score']\n",
        "params = grid_result.cv_results_['params']\n",
        "for mean, stdev, param in zip(means, stds, params):\n",
        "    print(\"%f (%f) with: %r\" % (mean, stdev, param))\n"
      ],
      "execution_count": 0,
      "outputs": [
        {
          "output_type": "stream",
          "text": [
            "Best: 0.763134 using {'batch_size': 512, 'callbacks': [<keras.callbacks.EarlyStopping object at 0x7f602a096f98>], 'dropout': 0.6, 'dropout2': 0.6, 'epochs': 10, 'layers': 2, 'neurons': 100, 'neurons2': 150, 'validation_data': (<736x92743 sparse matrix of type '<class 'numpy.float64'>'\n",
            "\twith 23265 stored elements in Compressed Sparse Row format>, array([0, 1, 0, 1, 1, 1, 0, 1, 0, 1, 0, 1, 1, 1, 0, 1, 0, 0, 0, 1, 1, 1,\n",
            "       0, 0, 0, 1, 0, 0, 0, 0, 0, 0, 0, 0, 0, 0, 1, 1, 1, 0, 0, 0, 0, 1,\n",
            "       0, 1, 0, 0, 1, 0, 0, 0, 0, 0, 1, 0, 0, 1, 0, 1, 0, 0, 0, 0, 1, 0,\n",
            "       0, 0, 0, 0, 1, 0, 0, 0, 1, 0, 1, 0, 0, 1, 0, 0, 0, 1, 0, 1, 0, 0,\n",
            "       1, 0, 1, 0, 1, 0, 1, 0, 0, 0, 0, 0, 1, 1, 0, 1, 1, 0, 1, 1, 0, 0,\n",
            "       0, 0, 0, 0, 0, 1, 0, 0, 1, 0, 1, 1, 1, 0, 1, 0, 0, 0, 0, 0, 1, 1,\n",
            "       1, 0, 0, 1, 1, 0, 1, 0, 0, 1, 1, 1, 0, 0, 0, 1, 1, 1, 0, 1, 0, 1,\n",
            "       1, 1, 1, 0, 0, 1, 1, 0, 0, 0, 1, 1, 0, 0, 0, 0, 0, 1, 1, 0, 1, 1,\n",
            "       0, 1, 0, 1, 0, 1, 1, 1, 1, 0, 1, 0, 1, 1, 1, 1, 1, 0, 0, 1, 1, 0,\n",
            "       0, 1, 0, 0, 0, 0, 1, 1, 0, 1, 0, 1, 1, 1, 1, 0, 0, 1, 0, 0, 1, 1,\n",
            "       1, 0, 1, 0, 0, 0, 0, 0, 1, 0, 0, 1, 0, 0, 1, 0, 0, 0, 1, 1, 0, 1,\n",
            "       1, 1, 0, 0, 0, 0, 0, 0, 1, 1, 1, 1, 1, 0, 0, 1, 0, 1, 1, 0, 0, 1,\n",
            "       1, 0, 1, 0, 0, 0, 0, 0, 0, 1, 0, 0, 1, 0, 1, 0, 0, 1, 0, 1, 0, 0,\n",
            "       1, 0, 1, 1, 0, 0, 0, 1, 0, 0, 0, 0, 0, 0, 0, 0, 1, 1, 0, 0, 1, 0,\n",
            "       1, 1, 0, 0, 0, 1, 1, 1, 0, 0, 1, 1, 0, 1, 0, 0, 0, 1, 1, 1, 0, 0,\n",
            "       1, 1, 0, 1, 1, 1, 0, 0, 1, 0, 0, 1, 1, 0, 1, 1, 0, 1, 1, 0, 0, 0,\n",
            "       0, 1, 0, 0, 0, 0, 1, 0, 0, 1, 0, 0, 1, 0, 1, 1, 1, 0, 0, 0, 1, 1,\n",
            "       1, 1, 1, 1, 0, 1, 0, 1, 0, 1, 1, 0, 1, 0, 0, 0, 1, 0, 1, 0, 1, 0,\n",
            "       0, 0, 1, 0, 0, 0, 1, 1, 1, 0, 1, 0, 1, 1, 1, 0, 0, 1, 1, 1, 1, 1,\n",
            "       0, 1, 1, 1, 0, 1, 0, 1, 1, 0, 1, 1, 0, 0, 1, 0, 1, 1, 0, 1, 0, 0,\n",
            "       1, 0, 0, 1, 1, 1, 0, 0, 1, 0, 1, 1, 0, 0, 1, 0, 0, 1, 0, 0, 0, 0,\n",
            "       1, 0, 1, 1, 1, 1, 1, 1, 0, 1, 1, 1, 0, 1, 0, 1, 1, 0, 0, 0, 1, 1,\n",
            "       1, 0, 1, 0, 0, 0, 0, 0, 1, 0, 0, 1, 0, 1, 1, 0, 1, 1, 0, 0, 1, 0,\n",
            "       0, 0, 1, 1, 0, 1, 0, 1, 1, 1, 0, 0, 0, 1, 0, 0, 0, 1, 0, 1, 0, 1,\n",
            "       0, 0, 0, 0, 1, 0, 1, 0, 0, 1, 0, 1, 1, 1, 0, 1, 1, 0, 0, 1, 0, 1,\n",
            "       1, 1, 1, 0, 0, 0, 0, 0, 0, 0, 0, 1, 0, 0, 0, 1, 0, 0, 0, 0, 0, 0,\n",
            "       0, 0, 0, 1, 1, 1, 0, 1, 0, 1, 1, 0, 0, 1, 1, 0, 0, 1, 1, 1, 0, 0,\n",
            "       0, 0, 1, 1, 1, 1, 0, 1, 0, 1, 0, 1, 1, 0, 0, 1, 0, 1, 1, 0, 0, 1,\n",
            "       1, 1, 1, 1, 0, 1, 0, 0, 1, 0, 0, 1, 1, 1, 0, 0, 1, 1, 0, 1, 1, 1,\n",
            "       0, 1, 0, 1, 0, 1, 0, 0, 0, 0, 1, 0, 0, 1, 0, 1, 0, 1, 0, 1, 1, 0,\n",
            "       0, 0, 0, 0, 0, 1, 0, 0, 0, 1, 0, 0, 0, 0, 1, 0, 1, 0, 1, 1, 0, 1,\n",
            "       0, 0, 0, 1, 1, 1, 0, 1, 0, 1, 1, 0, 1, 0, 0, 0, 1, 0, 1, 1, 1, 0,\n",
            "       1, 0, 1, 1, 0, 0, 1, 1, 0, 0, 0, 0, 1, 1, 0, 1, 1, 0, 1, 1, 0, 0,\n",
            "       1, 1, 1, 0, 0, 0, 1, 0, 1, 0], dtype=uint8))}\n",
            "0.745924 (0.005870) with: {'batch_size': 512, 'callbacks': [<keras.callbacks.EarlyStopping object at 0x7f602a096f98>], 'dropout': 0.6, 'dropout2': 0.6, 'epochs': 10, 'layers': 1, 'neurons': 100, 'neurons2': 100, 'validation_data': (<736x92743 sparse matrix of type '<class 'numpy.float64'>'\n",
            "\twith 23265 stored elements in Compressed Sparse Row format>, array([0, 1, 0, 1, 1, 1, 0, 1, 0, 1, 0, 1, 1, 1, 0, 1, 0, 0, 0, 1, 1, 1,\n",
            "       0, 0, 0, 1, 0, 0, 0, 0, 0, 0, 0, 0, 0, 0, 1, 1, 1, 0, 0, 0, 0, 1,\n",
            "       0, 1, 0, 0, 1, 0, 0, 0, 0, 0, 1, 0, 0, 1, 0, 1, 0, 0, 0, 0, 1, 0,\n",
            "       0, 0, 0, 0, 1, 0, 0, 0, 1, 0, 1, 0, 0, 1, 0, 0, 0, 1, 0, 1, 0, 0,\n",
            "       1, 0, 1, 0, 1, 0, 1, 0, 0, 0, 0, 0, 1, 1, 0, 1, 1, 0, 1, 1, 0, 0,\n",
            "       0, 0, 0, 0, 0, 1, 0, 0, 1, 0, 1, 1, 1, 0, 1, 0, 0, 0, 0, 0, 1, 1,\n",
            "       1, 0, 0, 1, 1, 0, 1, 0, 0, 1, 1, 1, 0, 0, 0, 1, 1, 1, 0, 1, 0, 1,\n",
            "       1, 1, 1, 0, 0, 1, 1, 0, 0, 0, 1, 1, 0, 0, 0, 0, 0, 1, 1, 0, 1, 1,\n",
            "       0, 1, 0, 1, 0, 1, 1, 1, 1, 0, 1, 0, 1, 1, 1, 1, 1, 0, 0, 1, 1, 0,\n",
            "       0, 1, 0, 0, 0, 0, 1, 1, 0, 1, 0, 1, 1, 1, 1, 0, 0, 1, 0, 0, 1, 1,\n",
            "       1, 0, 1, 0, 0, 0, 0, 0, 1, 0, 0, 1, 0, 0, 1, 0, 0, 0, 1, 1, 0, 1,\n",
            "       1, 1, 0, 0, 0, 0, 0, 0, 1, 1, 1, 1, 1, 0, 0, 1, 0, 1, 1, 0, 0, 1,\n",
            "       1, 0, 1, 0, 0, 0, 0, 0, 0, 1, 0, 0, 1, 0, 1, 0, 0, 1, 0, 1, 0, 0,\n",
            "       1, 0, 1, 1, 0, 0, 0, 1, 0, 0, 0, 0, 0, 0, 0, 0, 1, 1, 0, 0, 1, 0,\n",
            "       1, 1, 0, 0, 0, 1, 1, 1, 0, 0, 1, 1, 0, 1, 0, 0, 0, 1, 1, 1, 0, 0,\n",
            "       1, 1, 0, 1, 1, 1, 0, 0, 1, 0, 0, 1, 1, 0, 1, 1, 0, 1, 1, 0, 0, 0,\n",
            "       0, 1, 0, 0, 0, 0, 1, 0, 0, 1, 0, 0, 1, 0, 1, 1, 1, 0, 0, 0, 1, 1,\n",
            "       1, 1, 1, 1, 0, 1, 0, 1, 0, 1, 1, 0, 1, 0, 0, 0, 1, 0, 1, 0, 1, 0,\n",
            "       0, 0, 1, 0, 0, 0, 1, 1, 1, 0, 1, 0, 1, 1, 1, 0, 0, 1, 1, 1, 1, 1,\n",
            "       0, 1, 1, 1, 0, 1, 0, 1, 1, 0, 1, 1, 0, 0, 1, 0, 1, 1, 0, 1, 0, 0,\n",
            "       1, 0, 0, 1, 1, 1, 0, 0, 1, 0, 1, 1, 0, 0, 1, 0, 0, 1, 0, 0, 0, 0,\n",
            "       1, 0, 1, 1, 1, 1, 1, 1, 0, 1, 1, 1, 0, 1, 0, 1, 1, 0, 0, 0, 1, 1,\n",
            "       1, 0, 1, 0, 0, 0, 0, 0, 1, 0, 0, 1, 0, 1, 1, 0, 1, 1, 0, 0, 1, 0,\n",
            "       0, 0, 1, 1, 0, 1, 0, 1, 1, 1, 0, 0, 0, 1, 0, 0, 0, 1, 0, 1, 0, 1,\n",
            "       0, 0, 0, 0, 1, 0, 1, 0, 0, 1, 0, 1, 1, 1, 0, 1, 1, 0, 0, 1, 0, 1,\n",
            "       1, 1, 1, 0, 0, 0, 0, 0, 0, 0, 0, 1, 0, 0, 0, 1, 0, 0, 0, 0, 0, 0,\n",
            "       0, 0, 0, 1, 1, 1, 0, 1, 0, 1, 1, 0, 0, 1, 1, 0, 0, 1, 1, 1, 0, 0,\n",
            "       0, 0, 1, 1, 1, 1, 0, 1, 0, 1, 0, 1, 1, 0, 0, 1, 0, 1, 1, 0, 0, 1,\n",
            "       1, 1, 1, 1, 0, 1, 0, 0, 1, 0, 0, 1, 1, 1, 0, 0, 1, 1, 0, 1, 1, 1,\n",
            "       0, 1, 0, 1, 0, 1, 0, 0, 0, 0, 1, 0, 0, 1, 0, 1, 0, 1, 0, 1, 1, 0,\n",
            "       0, 0, 0, 0, 0, 1, 0, 0, 0, 1, 0, 0, 0, 0, 1, 0, 1, 0, 1, 1, 0, 1,\n",
            "       0, 0, 0, 1, 1, 1, 0, 1, 0, 1, 1, 0, 1, 0, 0, 0, 1, 0, 1, 1, 1, 0,\n",
            "       1, 0, 1, 1, 0, 0, 1, 1, 0, 0, 0, 0, 1, 1, 0, 1, 1, 0, 1, 1, 0, 0,\n",
            "       1, 1, 1, 0, 0, 0, 1, 0, 1, 0], dtype=uint8))}\n",
            "0.752264 (0.002309) with: {'batch_size': 512, 'callbacks': [<keras.callbacks.EarlyStopping object at 0x7f602a096f98>], 'dropout': 0.6, 'dropout2': 0.6, 'epochs': 10, 'layers': 1, 'neurons': 100, 'neurons2': 150, 'validation_data': (<736x92743 sparse matrix of type '<class 'numpy.float64'>'\n",
            "\twith 23265 stored elements in Compressed Sparse Row format>, array([0, 1, 0, 1, 1, 1, 0, 1, 0, 1, 0, 1, 1, 1, 0, 1, 0, 0, 0, 1, 1, 1,\n",
            "       0, 0, 0, 1, 0, 0, 0, 0, 0, 0, 0, 0, 0, 0, 1, 1, 1, 0, 0, 0, 0, 1,\n",
            "       0, 1, 0, 0, 1, 0, 0, 0, 0, 0, 1, 0, 0, 1, 0, 1, 0, 0, 0, 0, 1, 0,\n",
            "       0, 0, 0, 0, 1, 0, 0, 0, 1, 0, 1, 0, 0, 1, 0, 0, 0, 1, 0, 1, 0, 0,\n",
            "       1, 0, 1, 0, 1, 0, 1, 0, 0, 0, 0, 0, 1, 1, 0, 1, 1, 0, 1, 1, 0, 0,\n",
            "       0, 0, 0, 0, 0, 1, 0, 0, 1, 0, 1, 1, 1, 0, 1, 0, 0, 0, 0, 0, 1, 1,\n",
            "       1, 0, 0, 1, 1, 0, 1, 0, 0, 1, 1, 1, 0, 0, 0, 1, 1, 1, 0, 1, 0, 1,\n",
            "       1, 1, 1, 0, 0, 1, 1, 0, 0, 0, 1, 1, 0, 0, 0, 0, 0, 1, 1, 0, 1, 1,\n",
            "       0, 1, 0, 1, 0, 1, 1, 1, 1, 0, 1, 0, 1, 1, 1, 1, 1, 0, 0, 1, 1, 0,\n",
            "       0, 1, 0, 0, 0, 0, 1, 1, 0, 1, 0, 1, 1, 1, 1, 0, 0, 1, 0, 0, 1, 1,\n",
            "       1, 0, 1, 0, 0, 0, 0, 0, 1, 0, 0, 1, 0, 0, 1, 0, 0, 0, 1, 1, 0, 1,\n",
            "       1, 1, 0, 0, 0, 0, 0, 0, 1, 1, 1, 1, 1, 0, 0, 1, 0, 1, 1, 0, 0, 1,\n",
            "       1, 0, 1, 0, 0, 0, 0, 0, 0, 1, 0, 0, 1, 0, 1, 0, 0, 1, 0, 1, 0, 0,\n",
            "       1, 0, 1, 1, 0, 0, 0, 1, 0, 0, 0, 0, 0, 0, 0, 0, 1, 1, 0, 0, 1, 0,\n",
            "       1, 1, 0, 0, 0, 1, 1, 1, 0, 0, 1, 1, 0, 1, 0, 0, 0, 1, 1, 1, 0, 0,\n",
            "       1, 1, 0, 1, 1, 1, 0, 0, 1, 0, 0, 1, 1, 0, 1, 1, 0, 1, 1, 0, 0, 0,\n",
            "       0, 1, 0, 0, 0, 0, 1, 0, 0, 1, 0, 0, 1, 0, 1, 1, 1, 0, 0, 0, 1, 1,\n",
            "       1, 1, 1, 1, 0, 1, 0, 1, 0, 1, 1, 0, 1, 0, 0, 0, 1, 0, 1, 0, 1, 0,\n",
            "       0, 0, 1, 0, 0, 0, 1, 1, 1, 0, 1, 0, 1, 1, 1, 0, 0, 1, 1, 1, 1, 1,\n",
            "       0, 1, 1, 1, 0, 1, 0, 1, 1, 0, 1, 1, 0, 0, 1, 0, 1, 1, 0, 1, 0, 0,\n",
            "       1, 0, 0, 1, 1, 1, 0, 0, 1, 0, 1, 1, 0, 0, 1, 0, 0, 1, 0, 0, 0, 0,\n",
            "       1, 0, 1, 1, 1, 1, 1, 1, 0, 1, 1, 1, 0, 1, 0, 1, 1, 0, 0, 0, 1, 1,\n",
            "       1, 0, 1, 0, 0, 0, 0, 0, 1, 0, 0, 1, 0, 1, 1, 0, 1, 1, 0, 0, 1, 0,\n",
            "       0, 0, 1, 1, 0, 1, 0, 1, 1, 1, 0, 0, 0, 1, 0, 0, 0, 1, 0, 1, 0, 1,\n",
            "       0, 0, 0, 0, 1, 0, 1, 0, 0, 1, 0, 1, 1, 1, 0, 1, 1, 0, 0, 1, 0, 1,\n",
            "       1, 1, 1, 0, 0, 0, 0, 0, 0, 0, 0, 1, 0, 0, 0, 1, 0, 0, 0, 0, 0, 0,\n",
            "       0, 0, 0, 1, 1, 1, 0, 1, 0, 1, 1, 0, 0, 1, 1, 0, 0, 1, 1, 1, 0, 0,\n",
            "       0, 0, 1, 1, 1, 1, 0, 1, 0, 1, 0, 1, 1, 0, 0, 1, 0, 1, 1, 0, 0, 1,\n",
            "       1, 1, 1, 1, 0, 1, 0, 0, 1, 0, 0, 1, 1, 1, 0, 0, 1, 1, 0, 1, 1, 1,\n",
            "       0, 1, 0, 1, 0, 1, 0, 0, 0, 0, 1, 0, 0, 1, 0, 1, 0, 1, 0, 1, 1, 0,\n",
            "       0, 0, 0, 0, 0, 1, 0, 0, 0, 1, 0, 0, 0, 0, 1, 0, 1, 0, 1, 1, 0, 1,\n",
            "       0, 0, 0, 1, 1, 1, 0, 1, 0, 1, 1, 0, 1, 0, 0, 0, 1, 0, 1, 1, 1, 0,\n",
            "       1, 0, 1, 1, 0, 0, 1, 1, 0, 0, 0, 0, 1, 1, 0, 1, 1, 0, 1, 1, 0, 0,\n",
            "       1, 1, 1, 0, 0, 0, 1, 0, 1, 0], dtype=uint8))}\n",
            "0.746377 (0.003389) with: {'batch_size': 512, 'callbacks': [<keras.callbacks.EarlyStopping object at 0x7f602a096f98>], 'dropout': 0.6, 'dropout2': 0.6, 'epochs': 10, 'layers': 1, 'neurons': 150, 'neurons2': 100, 'validation_data': (<736x92743 sparse matrix of type '<class 'numpy.float64'>'\n",
            "\twith 23265 stored elements in Compressed Sparse Row format>, array([0, 1, 0, 1, 1, 1, 0, 1, 0, 1, 0, 1, 1, 1, 0, 1, 0, 0, 0, 1, 1, 1,\n",
            "       0, 0, 0, 1, 0, 0, 0, 0, 0, 0, 0, 0, 0, 0, 1, 1, 1, 0, 0, 0, 0, 1,\n",
            "       0, 1, 0, 0, 1, 0, 0, 0, 0, 0, 1, 0, 0, 1, 0, 1, 0, 0, 0, 0, 1, 0,\n",
            "       0, 0, 0, 0, 1, 0, 0, 0, 1, 0, 1, 0, 0, 1, 0, 0, 0, 1, 0, 1, 0, 0,\n",
            "       1, 0, 1, 0, 1, 0, 1, 0, 0, 0, 0, 0, 1, 1, 0, 1, 1, 0, 1, 1, 0, 0,\n",
            "       0, 0, 0, 0, 0, 1, 0, 0, 1, 0, 1, 1, 1, 0, 1, 0, 0, 0, 0, 0, 1, 1,\n",
            "       1, 0, 0, 1, 1, 0, 1, 0, 0, 1, 1, 1, 0, 0, 0, 1, 1, 1, 0, 1, 0, 1,\n",
            "       1, 1, 1, 0, 0, 1, 1, 0, 0, 0, 1, 1, 0, 0, 0, 0, 0, 1, 1, 0, 1, 1,\n",
            "       0, 1, 0, 1, 0, 1, 1, 1, 1, 0, 1, 0, 1, 1, 1, 1, 1, 0, 0, 1, 1, 0,\n",
            "       0, 1, 0, 0, 0, 0, 1, 1, 0, 1, 0, 1, 1, 1, 1, 0, 0, 1, 0, 0, 1, 1,\n",
            "       1, 0, 1, 0, 0, 0, 0, 0, 1, 0, 0, 1, 0, 0, 1, 0, 0, 0, 1, 1, 0, 1,\n",
            "       1, 1, 0, 0, 0, 0, 0, 0, 1, 1, 1, 1, 1, 0, 0, 1, 0, 1, 1, 0, 0, 1,\n",
            "       1, 0, 1, 0, 0, 0, 0, 0, 0, 1, 0, 0, 1, 0, 1, 0, 0, 1, 0, 1, 0, 0,\n",
            "       1, 0, 1, 1, 0, 0, 0, 1, 0, 0, 0, 0, 0, 0, 0, 0, 1, 1, 0, 0, 1, 0,\n",
            "       1, 1, 0, 0, 0, 1, 1, 1, 0, 0, 1, 1, 0, 1, 0, 0, 0, 1, 1, 1, 0, 0,\n",
            "       1, 1, 0, 1, 1, 1, 0, 0, 1, 0, 0, 1, 1, 0, 1, 1, 0, 1, 1, 0, 0, 0,\n",
            "       0, 1, 0, 0, 0, 0, 1, 0, 0, 1, 0, 0, 1, 0, 1, 1, 1, 0, 0, 0, 1, 1,\n",
            "       1, 1, 1, 1, 0, 1, 0, 1, 0, 1, 1, 0, 1, 0, 0, 0, 1, 0, 1, 0, 1, 0,\n",
            "       0, 0, 1, 0, 0, 0, 1, 1, 1, 0, 1, 0, 1, 1, 1, 0, 0, 1, 1, 1, 1, 1,\n",
            "       0, 1, 1, 1, 0, 1, 0, 1, 1, 0, 1, 1, 0, 0, 1, 0, 1, 1, 0, 1, 0, 0,\n",
            "       1, 0, 0, 1, 1, 1, 0, 0, 1, 0, 1, 1, 0, 0, 1, 0, 0, 1, 0, 0, 0, 0,\n",
            "       1, 0, 1, 1, 1, 1, 1, 1, 0, 1, 1, 1, 0, 1, 0, 1, 1, 0, 0, 0, 1, 1,\n",
            "       1, 0, 1, 0, 0, 0, 0, 0, 1, 0, 0, 1, 0, 1, 1, 0, 1, 1, 0, 0, 1, 0,\n",
            "       0, 0, 1, 1, 0, 1, 0, 1, 1, 1, 0, 0, 0, 1, 0, 0, 0, 1, 0, 1, 0, 1,\n",
            "       0, 0, 0, 0, 1, 0, 1, 0, 0, 1, 0, 1, 1, 1, 0, 1, 1, 0, 0, 1, 0, 1,\n",
            "       1, 1, 1, 0, 0, 0, 0, 0, 0, 0, 0, 1, 0, 0, 0, 1, 0, 0, 0, 0, 0, 0,\n",
            "       0, 0, 0, 1, 1, 1, 0, 1, 0, 1, 1, 0, 0, 1, 1, 0, 0, 1, 1, 1, 0, 0,\n",
            "       0, 0, 1, 1, 1, 1, 0, 1, 0, 1, 0, 1, 1, 0, 0, 1, 0, 1, 1, 0, 0, 1,\n",
            "       1, 1, 1, 1, 0, 1, 0, 0, 1, 0, 0, 1, 1, 1, 0, 0, 1, 1, 0, 1, 1, 1,\n",
            "       0, 1, 0, 1, 0, 1, 0, 0, 0, 0, 1, 0, 0, 1, 0, 1, 0, 1, 0, 1, 1, 0,\n",
            "       0, 0, 0, 0, 0, 1, 0, 0, 0, 1, 0, 0, 0, 0, 1, 0, 1, 0, 1, 1, 0, 1,\n",
            "       0, 0, 0, 1, 1, 1, 0, 1, 0, 1, 1, 0, 1, 0, 0, 0, 1, 0, 1, 1, 1, 0,\n",
            "       1, 0, 1, 1, 0, 0, 1, 1, 0, 0, 0, 0, 1, 1, 0, 1, 1, 0, 1, 1, 0, 0,\n",
            "       1, 1, 1, 0, 0, 0, 1, 0, 1, 0], dtype=uint8))}\n",
            "0.749547 (0.002792) with: {'batch_size': 512, 'callbacks': [<keras.callbacks.EarlyStopping object at 0x7f602a096f98>], 'dropout': 0.6, 'dropout2': 0.6, 'epochs': 10, 'layers': 1, 'neurons': 150, 'neurons2': 150, 'validation_data': (<736x92743 sparse matrix of type '<class 'numpy.float64'>'\n",
            "\twith 23265 stored elements in Compressed Sparse Row format>, array([0, 1, 0, 1, 1, 1, 0, 1, 0, 1, 0, 1, 1, 1, 0, 1, 0, 0, 0, 1, 1, 1,\n",
            "       0, 0, 0, 1, 0, 0, 0, 0, 0, 0, 0, 0, 0, 0, 1, 1, 1, 0, 0, 0, 0, 1,\n",
            "       0, 1, 0, 0, 1, 0, 0, 0, 0, 0, 1, 0, 0, 1, 0, 1, 0, 0, 0, 0, 1, 0,\n",
            "       0, 0, 0, 0, 1, 0, 0, 0, 1, 0, 1, 0, 0, 1, 0, 0, 0, 1, 0, 1, 0, 0,\n",
            "       1, 0, 1, 0, 1, 0, 1, 0, 0, 0, 0, 0, 1, 1, 0, 1, 1, 0, 1, 1, 0, 0,\n",
            "       0, 0, 0, 0, 0, 1, 0, 0, 1, 0, 1, 1, 1, 0, 1, 0, 0, 0, 0, 0, 1, 1,\n",
            "       1, 0, 0, 1, 1, 0, 1, 0, 0, 1, 1, 1, 0, 0, 0, 1, 1, 1, 0, 1, 0, 1,\n",
            "       1, 1, 1, 0, 0, 1, 1, 0, 0, 0, 1, 1, 0, 0, 0, 0, 0, 1, 1, 0, 1, 1,\n",
            "       0, 1, 0, 1, 0, 1, 1, 1, 1, 0, 1, 0, 1, 1, 1, 1, 1, 0, 0, 1, 1, 0,\n",
            "       0, 1, 0, 0, 0, 0, 1, 1, 0, 1, 0, 1, 1, 1, 1, 0, 0, 1, 0, 0, 1, 1,\n",
            "       1, 0, 1, 0, 0, 0, 0, 0, 1, 0, 0, 1, 0, 0, 1, 0, 0, 0, 1, 1, 0, 1,\n",
            "       1, 1, 0, 0, 0, 0, 0, 0, 1, 1, 1, 1, 1, 0, 0, 1, 0, 1, 1, 0, 0, 1,\n",
            "       1, 0, 1, 0, 0, 0, 0, 0, 0, 1, 0, 0, 1, 0, 1, 0, 0, 1, 0, 1, 0, 0,\n",
            "       1, 0, 1, 1, 0, 0, 0, 1, 0, 0, 0, 0, 0, 0, 0, 0, 1, 1, 0, 0, 1, 0,\n",
            "       1, 1, 0, 0, 0, 1, 1, 1, 0, 0, 1, 1, 0, 1, 0, 0, 0, 1, 1, 1, 0, 0,\n",
            "       1, 1, 0, 1, 1, 1, 0, 0, 1, 0, 0, 1, 1, 0, 1, 1, 0, 1, 1, 0, 0, 0,\n",
            "       0, 1, 0, 0, 0, 0, 1, 0, 0, 1, 0, 0, 1, 0, 1, 1, 1, 0, 0, 0, 1, 1,\n",
            "       1, 1, 1, 1, 0, 1, 0, 1, 0, 1, 1, 0, 1, 0, 0, 0, 1, 0, 1, 0, 1, 0,\n",
            "       0, 0, 1, 0, 0, 0, 1, 1, 1, 0, 1, 0, 1, 1, 1, 0, 0, 1, 1, 1, 1, 1,\n",
            "       0, 1, 1, 1, 0, 1, 0, 1, 1, 0, 1, 1, 0, 0, 1, 0, 1, 1, 0, 1, 0, 0,\n",
            "       1, 0, 0, 1, 1, 1, 0, 0, 1, 0, 1, 1, 0, 0, 1, 0, 0, 1, 0, 0, 0, 0,\n",
            "       1, 0, 1, 1, 1, 1, 1, 1, 0, 1, 1, 1, 0, 1, 0, 1, 1, 0, 0, 0, 1, 1,\n",
            "       1, 0, 1, 0, 0, 0, 0, 0, 1, 0, 0, 1, 0, 1, 1, 0, 1, 1, 0, 0, 1, 0,\n",
            "       0, 0, 1, 1, 0, 1, 0, 1, 1, 1, 0, 0, 0, 1, 0, 0, 0, 1, 0, 1, 0, 1,\n",
            "       0, 0, 0, 0, 1, 0, 1, 0, 0, 1, 0, 1, 1, 1, 0, 1, 1, 0, 0, 1, 0, 1,\n",
            "       1, 1, 1, 0, 0, 0, 0, 0, 0, 0, 0, 1, 0, 0, 0, 1, 0, 0, 0, 0, 0, 0,\n",
            "       0, 0, 0, 1, 1, 1, 0, 1, 0, 1, 1, 0, 0, 1, 1, 0, 0, 1, 1, 1, 0, 0,\n",
            "       0, 0, 1, 1, 1, 1, 0, 1, 0, 1, 0, 1, 1, 0, 0, 1, 0, 1, 1, 0, 0, 1,\n",
            "       1, 1, 1, 1, 0, 1, 0, 0, 1, 0, 0, 1, 1, 1, 0, 0, 1, 1, 0, 1, 1, 1,\n",
            "       0, 1, 0, 1, 0, 1, 0, 0, 0, 0, 1, 0, 0, 1, 0, 1, 0, 1, 0, 1, 1, 0,\n",
            "       0, 0, 0, 0, 0, 1, 0, 0, 0, 1, 0, 0, 0, 0, 1, 0, 1, 0, 1, 1, 0, 1,\n",
            "       0, 0, 0, 1, 1, 1, 0, 1, 0, 1, 1, 0, 1, 0, 0, 0, 1, 0, 1, 1, 1, 0,\n",
            "       1, 0, 1, 1, 0, 0, 1, 1, 0, 0, 0, 0, 1, 1, 0, 1, 1, 0, 1, 1, 0, 0,\n",
            "       1, 1, 1, 0, 0, 0, 1, 0, 1, 0], dtype=uint8))}\n",
            "0.753170 (0.005002) with: {'batch_size': 512, 'callbacks': [<keras.callbacks.EarlyStopping object at 0x7f602a096f98>], 'dropout': 0.6, 'dropout2': 0.6, 'epochs': 10, 'layers': 2, 'neurons': 100, 'neurons2': 100, 'validation_data': (<736x92743 sparse matrix of type '<class 'numpy.float64'>'\n",
            "\twith 23265 stored elements in Compressed Sparse Row format>, array([0, 1, 0, 1, 1, 1, 0, 1, 0, 1, 0, 1, 1, 1, 0, 1, 0, 0, 0, 1, 1, 1,\n",
            "       0, 0, 0, 1, 0, 0, 0, 0, 0, 0, 0, 0, 0, 0, 1, 1, 1, 0, 0, 0, 0, 1,\n",
            "       0, 1, 0, 0, 1, 0, 0, 0, 0, 0, 1, 0, 0, 1, 0, 1, 0, 0, 0, 0, 1, 0,\n",
            "       0, 0, 0, 0, 1, 0, 0, 0, 1, 0, 1, 0, 0, 1, 0, 0, 0, 1, 0, 1, 0, 0,\n",
            "       1, 0, 1, 0, 1, 0, 1, 0, 0, 0, 0, 0, 1, 1, 0, 1, 1, 0, 1, 1, 0, 0,\n",
            "       0, 0, 0, 0, 0, 1, 0, 0, 1, 0, 1, 1, 1, 0, 1, 0, 0, 0, 0, 0, 1, 1,\n",
            "       1, 0, 0, 1, 1, 0, 1, 0, 0, 1, 1, 1, 0, 0, 0, 1, 1, 1, 0, 1, 0, 1,\n",
            "       1, 1, 1, 0, 0, 1, 1, 0, 0, 0, 1, 1, 0, 0, 0, 0, 0, 1, 1, 0, 1, 1,\n",
            "       0, 1, 0, 1, 0, 1, 1, 1, 1, 0, 1, 0, 1, 1, 1, 1, 1, 0, 0, 1, 1, 0,\n",
            "       0, 1, 0, 0, 0, 0, 1, 1, 0, 1, 0, 1, 1, 1, 1, 0, 0, 1, 0, 0, 1, 1,\n",
            "       1, 0, 1, 0, 0, 0, 0, 0, 1, 0, 0, 1, 0, 0, 1, 0, 0, 0, 1, 1, 0, 1,\n",
            "       1, 1, 0, 0, 0, 0, 0, 0, 1, 1, 1, 1, 1, 0, 0, 1, 0, 1, 1, 0, 0, 1,\n",
            "       1, 0, 1, 0, 0, 0, 0, 0, 0, 1, 0, 0, 1, 0, 1, 0, 0, 1, 0, 1, 0, 0,\n",
            "       1, 0, 1, 1, 0, 0, 0, 1, 0, 0, 0, 0, 0, 0, 0, 0, 1, 1, 0, 0, 1, 0,\n",
            "       1, 1, 0, 0, 0, 1, 1, 1, 0, 0, 1, 1, 0, 1, 0, 0, 0, 1, 1, 1, 0, 0,\n",
            "       1, 1, 0, 1, 1, 1, 0, 0, 1, 0, 0, 1, 1, 0, 1, 1, 0, 1, 1, 0, 0, 0,\n",
            "       0, 1, 0, 0, 0, 0, 1, 0, 0, 1, 0, 0, 1, 0, 1, 1, 1, 0, 0, 0, 1, 1,\n",
            "       1, 1, 1, 1, 0, 1, 0, 1, 0, 1, 1, 0, 1, 0, 0, 0, 1, 0, 1, 0, 1, 0,\n",
            "       0, 0, 1, 0, 0, 0, 1, 1, 1, 0, 1, 0, 1, 1, 1, 0, 0, 1, 1, 1, 1, 1,\n",
            "       0, 1, 1, 1, 0, 1, 0, 1, 1, 0, 1, 1, 0, 0, 1, 0, 1, 1, 0, 1, 0, 0,\n",
            "       1, 0, 0, 1, 1, 1, 0, 0, 1, 0, 1, 1, 0, 0, 1, 0, 0, 1, 0, 0, 0, 0,\n",
            "       1, 0, 1, 1, 1, 1, 1, 1, 0, 1, 1, 1, 0, 1, 0, 1, 1, 0, 0, 0, 1, 1,\n",
            "       1, 0, 1, 0, 0, 0, 0, 0, 1, 0, 0, 1, 0, 1, 1, 0, 1, 1, 0, 0, 1, 0,\n",
            "       0, 0, 1, 1, 0, 1, 0, 1, 1, 1, 0, 0, 0, 1, 0, 0, 0, 1, 0, 1, 0, 1,\n",
            "       0, 0, 0, 0, 1, 0, 1, 0, 0, 1, 0, 1, 1, 1, 0, 1, 1, 0, 0, 1, 0, 1,\n",
            "       1, 1, 1, 0, 0, 0, 0, 0, 0, 0, 0, 1, 0, 0, 0, 1, 0, 0, 0, 0, 0, 0,\n",
            "       0, 0, 0, 1, 1, 1, 0, 1, 0, 1, 1, 0, 0, 1, 1, 0, 0, 1, 1, 1, 0, 0,\n",
            "       0, 0, 1, 1, 1, 1, 0, 1, 0, 1, 0, 1, 1, 0, 0, 1, 0, 1, 1, 0, 0, 1,\n",
            "       1, 1, 1, 1, 0, 1, 0, 0, 1, 0, 0, 1, 1, 1, 0, 0, 1, 1, 0, 1, 1, 1,\n",
            "       0, 1, 0, 1, 0, 1, 0, 0, 0, 0, 1, 0, 0, 1, 0, 1, 0, 1, 0, 1, 1, 0,\n",
            "       0, 0, 0, 0, 0, 1, 0, 0, 0, 1, 0, 0, 0, 0, 1, 0, 1, 0, 1, 1, 0, 1,\n",
            "       0, 0, 0, 1, 1, 1, 0, 1, 0, 1, 1, 0, 1, 0, 0, 0, 1, 0, 1, 1, 1, 0,\n",
            "       1, 0, 1, 1, 0, 0, 1, 1, 0, 0, 0, 0, 1, 1, 0, 1, 1, 0, 1, 1, 0, 0,\n",
            "       1, 1, 1, 0, 0, 0, 1, 0, 1, 0], dtype=uint8))}\n",
            "0.763134 (0.010945) with: {'batch_size': 512, 'callbacks': [<keras.callbacks.EarlyStopping object at 0x7f602a096f98>], 'dropout': 0.6, 'dropout2': 0.6, 'epochs': 10, 'layers': 2, 'neurons': 100, 'neurons2': 150, 'validation_data': (<736x92743 sparse matrix of type '<class 'numpy.float64'>'\n",
            "\twith 23265 stored elements in Compressed Sparse Row format>, array([0, 1, 0, 1, 1, 1, 0, 1, 0, 1, 0, 1, 1, 1, 0, 1, 0, 0, 0, 1, 1, 1,\n",
            "       0, 0, 0, 1, 0, 0, 0, 0, 0, 0, 0, 0, 0, 0, 1, 1, 1, 0, 0, 0, 0, 1,\n",
            "       0, 1, 0, 0, 1, 0, 0, 0, 0, 0, 1, 0, 0, 1, 0, 1, 0, 0, 0, 0, 1, 0,\n",
            "       0, 0, 0, 0, 1, 0, 0, 0, 1, 0, 1, 0, 0, 1, 0, 0, 0, 1, 0, 1, 0, 0,\n",
            "       1, 0, 1, 0, 1, 0, 1, 0, 0, 0, 0, 0, 1, 1, 0, 1, 1, 0, 1, 1, 0, 0,\n",
            "       0, 0, 0, 0, 0, 1, 0, 0, 1, 0, 1, 1, 1, 0, 1, 0, 0, 0, 0, 0, 1, 1,\n",
            "       1, 0, 0, 1, 1, 0, 1, 0, 0, 1, 1, 1, 0, 0, 0, 1, 1, 1, 0, 1, 0, 1,\n",
            "       1, 1, 1, 0, 0, 1, 1, 0, 0, 0, 1, 1, 0, 0, 0, 0, 0, 1, 1, 0, 1, 1,\n",
            "       0, 1, 0, 1, 0, 1, 1, 1, 1, 0, 1, 0, 1, 1, 1, 1, 1, 0, 0, 1, 1, 0,\n",
            "       0, 1, 0, 0, 0, 0, 1, 1, 0, 1, 0, 1, 1, 1, 1, 0, 0, 1, 0, 0, 1, 1,\n",
            "       1, 0, 1, 0, 0, 0, 0, 0, 1, 0, 0, 1, 0, 0, 1, 0, 0, 0, 1, 1, 0, 1,\n",
            "       1, 1, 0, 0, 0, 0, 0, 0, 1, 1, 1, 1, 1, 0, 0, 1, 0, 1, 1, 0, 0, 1,\n",
            "       1, 0, 1, 0, 0, 0, 0, 0, 0, 1, 0, 0, 1, 0, 1, 0, 0, 1, 0, 1, 0, 0,\n",
            "       1, 0, 1, 1, 0, 0, 0, 1, 0, 0, 0, 0, 0, 0, 0, 0, 1, 1, 0, 0, 1, 0,\n",
            "       1, 1, 0, 0, 0, 1, 1, 1, 0, 0, 1, 1, 0, 1, 0, 0, 0, 1, 1, 1, 0, 0,\n",
            "       1, 1, 0, 1, 1, 1, 0, 0, 1, 0, 0, 1, 1, 0, 1, 1, 0, 1, 1, 0, 0, 0,\n",
            "       0, 1, 0, 0, 0, 0, 1, 0, 0, 1, 0, 0, 1, 0, 1, 1, 1, 0, 0, 0, 1, 1,\n",
            "       1, 1, 1, 1, 0, 1, 0, 1, 0, 1, 1, 0, 1, 0, 0, 0, 1, 0, 1, 0, 1, 0,\n",
            "       0, 0, 1, 0, 0, 0, 1, 1, 1, 0, 1, 0, 1, 1, 1, 0, 0, 1, 1, 1, 1, 1,\n",
            "       0, 1, 1, 1, 0, 1, 0, 1, 1, 0, 1, 1, 0, 0, 1, 0, 1, 1, 0, 1, 0, 0,\n",
            "       1, 0, 0, 1, 1, 1, 0, 0, 1, 0, 1, 1, 0, 0, 1, 0, 0, 1, 0, 0, 0, 0,\n",
            "       1, 0, 1, 1, 1, 1, 1, 1, 0, 1, 1, 1, 0, 1, 0, 1, 1, 0, 0, 0, 1, 1,\n",
            "       1, 0, 1, 0, 0, 0, 0, 0, 1, 0, 0, 1, 0, 1, 1, 0, 1, 1, 0, 0, 1, 0,\n",
            "       0, 0, 1, 1, 0, 1, 0, 1, 1, 1, 0, 0, 0, 1, 0, 0, 0, 1, 0, 1, 0, 1,\n",
            "       0, 0, 0, 0, 1, 0, 1, 0, 0, 1, 0, 1, 1, 1, 0, 1, 1, 0, 0, 1, 0, 1,\n",
            "       1, 1, 1, 0, 0, 0, 0, 0, 0, 0, 0, 1, 0, 0, 0, 1, 0, 0, 0, 0, 0, 0,\n",
            "       0, 0, 0, 1, 1, 1, 0, 1, 0, 1, 1, 0, 0, 1, 1, 0, 0, 1, 1, 1, 0, 0,\n",
            "       0, 0, 1, 1, 1, 1, 0, 1, 0, 1, 0, 1, 1, 0, 0, 1, 0, 1, 1, 0, 0, 1,\n",
            "       1, 1, 1, 1, 0, 1, 0, 0, 1, 0, 0, 1, 1, 1, 0, 0, 1, 1, 0, 1, 1, 1,\n",
            "       0, 1, 0, 1, 0, 1, 0, 0, 0, 0, 1, 0, 0, 1, 0, 1, 0, 1, 0, 1, 1, 0,\n",
            "       0, 0, 0, 0, 0, 1, 0, 0, 0, 1, 0, 0, 0, 0, 1, 0, 1, 0, 1, 1, 0, 1,\n",
            "       0, 0, 0, 1, 1, 1, 0, 1, 0, 1, 1, 0, 1, 0, 0, 0, 1, 0, 1, 1, 1, 0,\n",
            "       1, 0, 1, 1, 0, 0, 1, 1, 0, 0, 0, 0, 1, 1, 0, 1, 1, 0, 1, 1, 0, 0,\n",
            "       1, 1, 1, 0, 0, 0, 1, 0, 1, 0], dtype=uint8))}\n",
            "0.750000 (0.006748) with: {'batch_size': 512, 'callbacks': [<keras.callbacks.EarlyStopping object at 0x7f602a096f98>], 'dropout': 0.6, 'dropout2': 0.6, 'epochs': 10, 'layers': 2, 'neurons': 150, 'neurons2': 100, 'validation_data': (<736x92743 sparse matrix of type '<class 'numpy.float64'>'\n",
            "\twith 23265 stored elements in Compressed Sparse Row format>, array([0, 1, 0, 1, 1, 1, 0, 1, 0, 1, 0, 1, 1, 1, 0, 1, 0, 0, 0, 1, 1, 1,\n",
            "       0, 0, 0, 1, 0, 0, 0, 0, 0, 0, 0, 0, 0, 0, 1, 1, 1, 0, 0, 0, 0, 1,\n",
            "       0, 1, 0, 0, 1, 0, 0, 0, 0, 0, 1, 0, 0, 1, 0, 1, 0, 0, 0, 0, 1, 0,\n",
            "       0, 0, 0, 0, 1, 0, 0, 0, 1, 0, 1, 0, 0, 1, 0, 0, 0, 1, 0, 1, 0, 0,\n",
            "       1, 0, 1, 0, 1, 0, 1, 0, 0, 0, 0, 0, 1, 1, 0, 1, 1, 0, 1, 1, 0, 0,\n",
            "       0, 0, 0, 0, 0, 1, 0, 0, 1, 0, 1, 1, 1, 0, 1, 0, 0, 0, 0, 0, 1, 1,\n",
            "       1, 0, 0, 1, 1, 0, 1, 0, 0, 1, 1, 1, 0, 0, 0, 1, 1, 1, 0, 1, 0, 1,\n",
            "       1, 1, 1, 0, 0, 1, 1, 0, 0, 0, 1, 1, 0, 0, 0, 0, 0, 1, 1, 0, 1, 1,\n",
            "       0, 1, 0, 1, 0, 1, 1, 1, 1, 0, 1, 0, 1, 1, 1, 1, 1, 0, 0, 1, 1, 0,\n",
            "       0, 1, 0, 0, 0, 0, 1, 1, 0, 1, 0, 1, 1, 1, 1, 0, 0, 1, 0, 0, 1, 1,\n",
            "       1, 0, 1, 0, 0, 0, 0, 0, 1, 0, 0, 1, 0, 0, 1, 0, 0, 0, 1, 1, 0, 1,\n",
            "       1, 1, 0, 0, 0, 0, 0, 0, 1, 1, 1, 1, 1, 0, 0, 1, 0, 1, 1, 0, 0, 1,\n",
            "       1, 0, 1, 0, 0, 0, 0, 0, 0, 1, 0, 0, 1, 0, 1, 0, 0, 1, 0, 1, 0, 0,\n",
            "       1, 0, 1, 1, 0, 0, 0, 1, 0, 0, 0, 0, 0, 0, 0, 0, 1, 1, 0, 0, 1, 0,\n",
            "       1, 1, 0, 0, 0, 1, 1, 1, 0, 0, 1, 1, 0, 1, 0, 0, 0, 1, 1, 1, 0, 0,\n",
            "       1, 1, 0, 1, 1, 1, 0, 0, 1, 0, 0, 1, 1, 0, 1, 1, 0, 1, 1, 0, 0, 0,\n",
            "       0, 1, 0, 0, 0, 0, 1, 0, 0, 1, 0, 0, 1, 0, 1, 1, 1, 0, 0, 0, 1, 1,\n",
            "       1, 1, 1, 1, 0, 1, 0, 1, 0, 1, 1, 0, 1, 0, 0, 0, 1, 0, 1, 0, 1, 0,\n",
            "       0, 0, 1, 0, 0, 0, 1, 1, 1, 0, 1, 0, 1, 1, 1, 0, 0, 1, 1, 1, 1, 1,\n",
            "       0, 1, 1, 1, 0, 1, 0, 1, 1, 0, 1, 1, 0, 0, 1, 0, 1, 1, 0, 1, 0, 0,\n",
            "       1, 0, 0, 1, 1, 1, 0, 0, 1, 0, 1, 1, 0, 0, 1, 0, 0, 1, 0, 0, 0, 0,\n",
            "       1, 0, 1, 1, 1, 1, 1, 1, 0, 1, 1, 1, 0, 1, 0, 1, 1, 0, 0, 0, 1, 1,\n",
            "       1, 0, 1, 0, 0, 0, 0, 0, 1, 0, 0, 1, 0, 1, 1, 0, 1, 1, 0, 0, 1, 0,\n",
            "       0, 0, 1, 1, 0, 1, 0, 1, 1, 1, 0, 0, 0, 1, 0, 0, 0, 1, 0, 1, 0, 1,\n",
            "       0, 0, 0, 0, 1, 0, 1, 0, 0, 1, 0, 1, 1, 1, 0, 1, 1, 0, 0, 1, 0, 1,\n",
            "       1, 1, 1, 0, 0, 0, 0, 0, 0, 0, 0, 1, 0, 0, 0, 1, 0, 0, 0, 0, 0, 0,\n",
            "       0, 0, 0, 1, 1, 1, 0, 1, 0, 1, 1, 0, 0, 1, 1, 0, 0, 1, 1, 1, 0, 0,\n",
            "       0, 0, 1, 1, 1, 1, 0, 1, 0, 1, 0, 1, 1, 0, 0, 1, 0, 1, 1, 0, 0, 1,\n",
            "       1, 1, 1, 1, 0, 1, 0, 0, 1, 0, 0, 1, 1, 1, 0, 0, 1, 1, 0, 1, 1, 1,\n",
            "       0, 1, 0, 1, 0, 1, 0, 0, 0, 0, 1, 0, 0, 1, 0, 1, 0, 1, 0, 1, 1, 0,\n",
            "       0, 0, 0, 0, 0, 1, 0, 0, 0, 1, 0, 0, 0, 0, 1, 0, 1, 0, 1, 1, 0, 1,\n",
            "       0, 0, 0, 1, 1, 1, 0, 1, 0, 1, 1, 0, 1, 0, 0, 0, 1, 0, 1, 1, 1, 0,\n",
            "       1, 0, 1, 1, 0, 0, 1, 1, 0, 0, 0, 0, 1, 1, 0, 1, 1, 0, 1, 1, 0, 0,\n",
            "       1, 1, 1, 0, 0, 0, 1, 0, 1, 0], dtype=uint8))}\n",
            "0.753623 (0.011862) with: {'batch_size': 512, 'callbacks': [<keras.callbacks.EarlyStopping object at 0x7f602a096f98>], 'dropout': 0.6, 'dropout2': 0.6, 'epochs': 10, 'layers': 2, 'neurons': 150, 'neurons2': 150, 'validation_data': (<736x92743 sparse matrix of type '<class 'numpy.float64'>'\n",
            "\twith 23265 stored elements in Compressed Sparse Row format>, array([0, 1, 0, 1, 1, 1, 0, 1, 0, 1, 0, 1, 1, 1, 0, 1, 0, 0, 0, 1, 1, 1,\n",
            "       0, 0, 0, 1, 0, 0, 0, 0, 0, 0, 0, 0, 0, 0, 1, 1, 1, 0, 0, 0, 0, 1,\n",
            "       0, 1, 0, 0, 1, 0, 0, 0, 0, 0, 1, 0, 0, 1, 0, 1, 0, 0, 0, 0, 1, 0,\n",
            "       0, 0, 0, 0, 1, 0, 0, 0, 1, 0, 1, 0, 0, 1, 0, 0, 0, 1, 0, 1, 0, 0,\n",
            "       1, 0, 1, 0, 1, 0, 1, 0, 0, 0, 0, 0, 1, 1, 0, 1, 1, 0, 1, 1, 0, 0,\n",
            "       0, 0, 0, 0, 0, 1, 0, 0, 1, 0, 1, 1, 1, 0, 1, 0, 0, 0, 0, 0, 1, 1,\n",
            "       1, 0, 0, 1, 1, 0, 1, 0, 0, 1, 1, 1, 0, 0, 0, 1, 1, 1, 0, 1, 0, 1,\n",
            "       1, 1, 1, 0, 0, 1, 1, 0, 0, 0, 1, 1, 0, 0, 0, 0, 0, 1, 1, 0, 1, 1,\n",
            "       0, 1, 0, 1, 0, 1, 1, 1, 1, 0, 1, 0, 1, 1, 1, 1, 1, 0, 0, 1, 1, 0,\n",
            "       0, 1, 0, 0, 0, 0, 1, 1, 0, 1, 0, 1, 1, 1, 1, 0, 0, 1, 0, 0, 1, 1,\n",
            "       1, 0, 1, 0, 0, 0, 0, 0, 1, 0, 0, 1, 0, 0, 1, 0, 0, 0, 1, 1, 0, 1,\n",
            "       1, 1, 0, 0, 0, 0, 0, 0, 1, 1, 1, 1, 1, 0, 0, 1, 0, 1, 1, 0, 0, 1,\n",
            "       1, 0, 1, 0, 0, 0, 0, 0, 0, 1, 0, 0, 1, 0, 1, 0, 0, 1, 0, 1, 0, 0,\n",
            "       1, 0, 1, 1, 0, 0, 0, 1, 0, 0, 0, 0, 0, 0, 0, 0, 1, 1, 0, 0, 1, 0,\n",
            "       1, 1, 0, 0, 0, 1, 1, 1, 0, 0, 1, 1, 0, 1, 0, 0, 0, 1, 1, 1, 0, 0,\n",
            "       1, 1, 0, 1, 1, 1, 0, 0, 1, 0, 0, 1, 1, 0, 1, 1, 0, 1, 1, 0, 0, 0,\n",
            "       0, 1, 0, 0, 0, 0, 1, 0, 0, 1, 0, 0, 1, 0, 1, 1, 1, 0, 0, 0, 1, 1,\n",
            "       1, 1, 1, 1, 0, 1, 0, 1, 0, 1, 1, 0, 1, 0, 0, 0, 1, 0, 1, 0, 1, 0,\n",
            "       0, 0, 1, 0, 0, 0, 1, 1, 1, 0, 1, 0, 1, 1, 1, 0, 0, 1, 1, 1, 1, 1,\n",
            "       0, 1, 1, 1, 0, 1, 0, 1, 1, 0, 1, 1, 0, 0, 1, 0, 1, 1, 0, 1, 0, 0,\n",
            "       1, 0, 0, 1, 1, 1, 0, 0, 1, 0, 1, 1, 0, 0, 1, 0, 0, 1, 0, 0, 0, 0,\n",
            "       1, 0, 1, 1, 1, 1, 1, 1, 0, 1, 1, 1, 0, 1, 0, 1, 1, 0, 0, 0, 1, 1,\n",
            "       1, 0, 1, 0, 0, 0, 0, 0, 1, 0, 0, 1, 0, 1, 1, 0, 1, 1, 0, 0, 1, 0,\n",
            "       0, 0, 1, 1, 0, 1, 0, 1, 1, 1, 0, 0, 0, 1, 0, 0, 0, 1, 0, 1, 0, 1,\n",
            "       0, 0, 0, 0, 1, 0, 1, 0, 0, 1, 0, 1, 1, 1, 0, 1, 1, 0, 0, 1, 0, 1,\n",
            "       1, 1, 1, 0, 0, 0, 0, 0, 0, 0, 0, 1, 0, 0, 0, 1, 0, 0, 0, 0, 0, 0,\n",
            "       0, 0, 0, 1, 1, 1, 0, 1, 0, 1, 1, 0, 0, 1, 1, 0, 0, 1, 1, 1, 0, 0,\n",
            "       0, 0, 1, 1, 1, 1, 0, 1, 0, 1, 0, 1, 1, 0, 0, 1, 0, 1, 1, 0, 0, 1,\n",
            "       1, 1, 1, 1, 0, 1, 0, 0, 1, 0, 0, 1, 1, 1, 0, 0, 1, 1, 0, 1, 1, 1,\n",
            "       0, 1, 0, 1, 0, 1, 0, 0, 0, 0, 1, 0, 0, 1, 0, 1, 0, 1, 0, 1, 1, 0,\n",
            "       0, 0, 0, 0, 0, 1, 0, 0, 0, 1, 0, 0, 0, 0, 1, 0, 1, 0, 1, 1, 0, 1,\n",
            "       0, 0, 0, 1, 1, 1, 0, 1, 0, 1, 1, 0, 1, 0, 0, 0, 1, 0, 1, 1, 1, 0,\n",
            "       1, 0, 1, 1, 0, 0, 1, 1, 0, 0, 0, 0, 1, 1, 0, 1, 1, 0, 1, 1, 0, 0,\n",
            "       1, 1, 1, 0, 0, 0, 1, 0, 1, 0], dtype=uint8))}\n"
          ],
          "name": "stdout"
        }
      ]
    },
    {
      "metadata": {
        "id": "hLpdSv-M2_EB",
        "colab_type": "text"
      },
      "cell_type": "markdown",
      "source": [
        "#### Saving the most successfully weighted model"
      ]
    },
    {
      "metadata": {
        "id": "9I9suqxZb_sb",
        "colab_type": "code",
        "outputId": "c72cca01-20f0-426a-998c-2e6962675ff0",
        "colab": {
          "base_uri": "https://localhost:8080/",
          "height": 427
        }
      },
      "cell_type": "code",
      "source": [
        "!pip install tensorflowjs"
      ],
      "execution_count": 140,
      "outputs": [
        {
          "output_type": "stream",
          "text": [
            "Requirement already satisfied: tensorflowjs in /usr/local/lib/python3.6/dist-packages (0.8.0)\n",
            "Requirement already satisfied: tensorflow==1.12.0 in /usr/local/lib/python3.6/dist-packages (from tensorflowjs) (1.12.0)\n",
            "Requirement already satisfied: tensorflow-hub==0.1.1 in /usr/local/lib/python3.6/dist-packages (from tensorflowjs) (0.1.1)\n",
            "Requirement already satisfied: keras==2.2.2 in /usr/local/lib/python3.6/dist-packages (from tensorflowjs) (2.2.2)\n",
            "Requirement already satisfied: numpy==1.15.1 in /usr/local/lib/python3.6/dist-packages (from tensorflowjs) (1.15.1)\n",
            "Requirement already satisfied: h5py==2.8.0 in /usr/local/lib/python3.6/dist-packages (from tensorflowjs) (2.8.0)\n",
            "Requirement already satisfied: six==1.11.0 in /usr/local/lib/python3.6/dist-packages (from tensorflowjs) (1.11.0)\n",
            "Requirement already satisfied: keras-applications>=1.0.6 in /usr/local/lib/python3.6/dist-packages (from tensorflow==1.12.0->tensorflowjs) (1.0.7)\n",
            "Requirement already satisfied: termcolor>=1.1.0 in /usr/local/lib/python3.6/dist-packages (from tensorflow==1.12.0->tensorflowjs) (1.1.0)\n",
            "Requirement already satisfied: grpcio>=1.8.6 in /usr/local/lib/python3.6/dist-packages (from tensorflow==1.12.0->tensorflowjs) (1.15.0)\n",
            "Requirement already satisfied: protobuf>=3.6.1 in /usr/local/lib/python3.6/dist-packages (from tensorflow==1.12.0->tensorflowjs) (3.6.1)\n",
            "Requirement already satisfied: tensorboard<1.13.0,>=1.12.0 in /usr/local/lib/python3.6/dist-packages (from tensorflow==1.12.0->tensorflowjs) (1.12.2)\n",
            "Requirement already satisfied: keras-preprocessing>=1.0.5 in /usr/local/lib/python3.6/dist-packages (from tensorflow==1.12.0->tensorflowjs) (1.0.9)\n",
            "Requirement already satisfied: gast>=0.2.0 in /usr/local/lib/python3.6/dist-packages (from tensorflow==1.12.0->tensorflowjs) (0.2.2)\n",
            "Requirement already satisfied: astor>=0.6.0 in /usr/local/lib/python3.6/dist-packages (from tensorflow==1.12.0->tensorflowjs) (0.7.1)\n",
            "Requirement already satisfied: wheel>=0.26 in /usr/local/lib/python3.6/dist-packages (from tensorflow==1.12.0->tensorflowjs) (0.32.3)\n",
            "Requirement already satisfied: absl-py>=0.1.6 in /usr/local/lib/python3.6/dist-packages (from tensorflow==1.12.0->tensorflowjs) (0.7.0)\n",
            "Requirement already satisfied: scipy>=0.14 in /usr/local/lib/python3.6/dist-packages (from keras==2.2.2->tensorflowjs) (1.1.0)\n",
            "Requirement already satisfied: pyyaml in /usr/local/lib/python3.6/dist-packages (from keras==2.2.2->tensorflowjs) (3.13)\n",
            "Requirement already satisfied: setuptools in /usr/local/lib/python3.6/dist-packages (from protobuf>=3.6.1->tensorflow==1.12.0->tensorflowjs) (40.8.0)\n",
            "Requirement already satisfied: markdown>=2.6.8 in /usr/local/lib/python3.6/dist-packages (from tensorboard<1.13.0,>=1.12.0->tensorflow==1.12.0->tensorflowjs) (3.0.1)\n",
            "Requirement already satisfied: werkzeug>=0.11.10 in /usr/local/lib/python3.6/dist-packages (from tensorboard<1.13.0,>=1.12.0->tensorflow==1.12.0->tensorflowjs) (0.14.1)\n"
          ],
          "name": "stdout"
        }
      ]
    },
    {
      "metadata": {
        "id": "PRYUNl_l9OKL",
        "colab_type": "code",
        "colab": {}
      },
      "cell_type": "code",
      "source": [
        "import tensorflowjs as tfjs\n",
        "tfjs.converters.save_keras_model(simple_model, 'model')"
      ],
      "execution_count": 0,
      "outputs": []
    },
    {
      "metadata": {
        "id": "uTvBQ4OSLS7R",
        "colab_type": "text"
      },
      "cell_type": "markdown",
      "source": [
        "#### tfidf ctreation from file"
      ]
    },
    {
      "metadata": {
        "id": "whCKQDS5LRa0",
        "colab_type": "code",
        "colab": {}
      },
      "cell_type": "code",
      "source": [
        "tfidf = TfidfVectorizer(stop_words='english', vocabulary=vocab, norm=None, min_df=0.0003, ngram_range=(1, 2))"
      ],
      "execution_count": 0,
      "outputs": []
    },
    {
      "metadata": {
        "id": "KLh8PzDXLyVR",
        "colab_type": "code",
        "colab": {}
      },
      "cell_type": "code",
      "source": [
        "tfidf.idf_=idf"
      ],
      "execution_count": 0,
      "outputs": []
    },
    {
      "metadata": {
        "id": "dCm5IuhgLyRH",
        "colab_type": "code",
        "colab": {}
      },
      "cell_type": "code",
      "source": [
        "text = \"\"\"In the beginning was the Word, and the Word was with God, and the Word was God.\n",
        "2The same was in the beginning with God.\n",
        "3All things were made by him; and without him was not any thing made that was made.\n",
        "4In him was life; and the life was the light of men.\n",
        "5And the light shineth in darkness; and the darkness comprehended it not.\n",
        "6There was a man sent from God, whose name was John.\n",
        "7The same came for a witness, to bear witness of the Light, that all men through him might believe.\n",
        "8He was not that Light, but was sent to bear witness of that Light.\n",
        "9That was the true Light, which lighteth every man that cometh into the world.\n",
        "10He was in the world, and the world was made by him, and the world knew him not.\n",
        "11He came unto his own, and his own received him not.\n",
        "12But as many as received him, to them gave he power to become the sons of God, even to them that believe on his name:\n",
        "13Which were born, not of blood, nor of the will of the flesh, nor of the will of man, but of God.\n",
        "14And the Word was made flesh, and dwelt among us, (and we beheld his glory, the glory as of the only begotten of the Father,) full of grace and truth.\n",
        "15John bare witness of him, and cried, saying, This was he of whom I spake, He that cometh after me is preferred before me: for he was before me.\n",
        "16And of his fulness have all we received, and grace for grace.\n",
        "17For the law was given by Moses, but grace and truth came by Jesus Christ.\n",
        "18No man hath seen God at any time; the only begotten Son, which is in the bosom of the Father, he hath declared him.\n",
        "19And this is the record of John, when the Jews sent priests and Levites from Jerusalem to ask him, Who art thou?\n",
        "20And he confessed, and denied not; but confessed, I am not the Christ.\n",
        "21And they asked him, What then? Art thou Elias? And he saith, I am not. Art thou that prophet? And he answered, No.\n",
        "22Then said they unto him, Who art thou? that we may give an answer to them that sent us. What sayest thou of thyself?\n",
        "23He said, I am the voice of one crying in the wilderness, Make straight the way of the Lord, as said the prophet Esaias.\n",
        "24And they which were sent were of the Pharisees.\n",
        "25And they asked him, and said unto him, Why baptizest thou then, if thou be not that Christ, nor Elias, neither that prophet?\n",
        "26John answered them, saying, I baptize with water: but there standeth one among you, whom ye know not;\n",
        "27He it is, who coming after me is preferred before me, whose shoe's latchet I am not worthy to unloose.\n",
        "28These things were done in Bethabara beyond Jordan, where John was baptizing.\n",
        "29The next day John seeth Jesus coming unto him, and saith, Behold the Lamb of God, which taketh away the sin of the world.\n",
        "30This is he of whom I said, After me cometh a man which is preferred before me: for he was before me.\n",
        "31And I knew him not: but that he should be made manifest to Israel, therefore am I come baptizing with water.\n",
        "32And John bare record, saying, I saw the Spirit descending from heaven like a dove, and it abode upon him.\n",
        "33And I knew him not: but he that sent me to baptize with water, the same said unto me, Upon whom thou shalt see the Spirit descending, and remaining on him, the same is he which baptizeth with the Holy Ghost.\n",
        "34And I saw, and bare record that this is the Son of God.\n",
        "35Again the next day after John stood, and two of his disciples;\n",
        "36And looking upon Jesus as he walked, he saith, Behold the Lamb of God!\n",
        "37And the two disciples heard him speak, and they followed Jesus.\n",
        "38Then Jesus turned, and saw them following, and saith unto them, What seek ye? They said unto him, Rabbi, (which is to say, being interpreted, Master,) where dwellest thou?\n",
        "39He saith unto them, Come and see. They came and saw where he dwelt, and abode with him that day: for it was about the tenth hour.\n",
        "40One of the two which heard John speak, and followed him, was Andrew, Simon Peter's brother.\"\"\""
      ],
      "execution_count": 0,
      "outputs": []
    },
    {
      "metadata": {
        "id": "e3jnZtOpPoCt",
        "colab_type": "code",
        "colab": {}
      },
      "cell_type": "code",
      "source": [
        "transformed = tfidf.transform([text])"
      ],
      "execution_count": 0,
      "outputs": []
    },
    {
      "metadata": {
        "id": "P7OxV6kKLyNq",
        "colab_type": "code",
        "colab": {
          "base_uri": "https://localhost:8080/",
          "height": 34
        },
        "outputId": "a370090a-a5eb-48c7-98c4-6f7a14107cee"
      },
      "cell_type": "code",
      "source": [
        "simple_model.predict(transformed)"
      ],
      "execution_count": 39,
      "outputs": [
        {
          "output_type": "execute_result",
          "data": {
            "text/plain": [
              "array([[0.01392901]], dtype=float32)"
            ]
          },
          "metadata": {
            "tags": []
          },
          "execution_count": 39
        }
      ]
    },
    {
      "metadata": {
        "id": "BL9WsrMIzpvd",
        "colab_type": "text"
      },
      "cell_type": "markdown",
      "source": [
        "#### Manual trial"
      ]
    },
    {
      "metadata": {
        "id": "HzrAwBS2zvjA",
        "colab_type": "code",
        "colab": {}
      },
      "cell_type": "code",
      "source": [
        "# text = 'i want to use this classifier for a commercial project. It is light-weighted and can work in a chrome plugin'\n",
        "# text = 'i care for my country very much, vote for me. believeme, i will be the best president you have ever known'\n",
        "# text = 'This ballet style is often performed barefoot. Contemporary ballets may include mime and acting, and are usually set to music (typically orchestral but occasionally vocal). It can be difficult to differentiate this form from neoclassical or modern ballet. Contemporary ballet is also close to contemporary dance, because many contemporary ballet concepts come from the ideas and innovations of twentieth-century modern dance, including floor work and turn-in of the legs. The main distinction is that ballet technique is essential to perform a contemporary ballet.George Balanchine is considered to have been a pioneer of contemporary ballet. Another early contemporary ballet choreographer, Twyla Tharp, choreographed Push Comes To Shove for the American Ballet Theatre in 1976, and in 1986 created In The Upper Room for her own company. Both of these pieces were considered innovative for their melding of distinctly modern movements with the use of pointe shoes and classically trained dancers.Today there are many contemporary ballet companies and choreographers. These include Alonzo King and his company LINES Ballet; Matthew Bourne and his company New Adventures; Complexions Contemporary Ballet; Nacho Duato and his Compañia Nacional de Danza; William Forsythe and The Forsythe Company; and Jiří Kylián of the Nederlands Dans Theater. Traditionally \"classical\" companies, such as the Mariinsky (Kirov) Ballet and the Paris Opera Ballet, also regularly perform contemporary works.The term ballet has evolved to include all forms associated with it. Someone training as a ballet dancer will now be expected to perform neoclassical, modern and contemporary work. A ballet dancer is expected to be able to be stately and regal for classical work, free and lyrical in neoclassical work, and unassuming, harsh or pedestrian for modern and contemporary work. In addition, there are several modern varieties of dance that fuse classical ballet technique with contemporary dance, such as Hiplet, that require dancers to be practised in non-Western dance styles.'\n",
        "# text='The first thing that comes into our minds while thinking of employees at tech companies is probably Software Engineers and Data Scientists. But a technology company requires employees beyond those in technical roles, so they hire for non-tech roles too. The current scenario at the job market doesn’t necessarily require you to be a tech pro to get hired by technology companies. As the growth tech companies increases, they need more non-technical workforce to help transform their technology into revenue. Roles such as sales, marketing, business operation, etc. are crucial to their expansion. These highly coveted positions are also well compensated by tech employers.'\n",
        "# # text = '''As part of an effort to reduce noise in Ghana’s capital, Accra, the environment minister has suggested that the Muslim call to prayer, normally broadcast over loudspeakers across the city, should instead be sent out on WhatsApp. The notion has proved immensely unpopular – not least because it equates the call to prayer with noise pollution. But it also highlights religion’s growing, if sometimes uneasy, reliance on tech.\n",
        "\n",
        "# Contactless collection Catholic and Protestant churches in the UK have begun using contactless card readers for donations and other payments, hoping to make life easier for parishioners who may not be carrying cash. A contactless collection plate is being trialled by the Church of England, but it is being held up because it is feared the technology might slow things down.\n",
        "\n",
        "# The confession app Confession (version 2.1) walks sinners through the business of confession, pings you push notifications when it’s time for your next shriving and includes a handy sin checklist in case you have forgotten what you’ve done wrong. What it doesn’t do is offer absolution. You still need a priest for that.\n",
        "\n",
        "# Televangelist tech American TV preachers tend to be at home in the digital realm, particularly those espousing “prosperity theology”, which holds that God rewards the pious with material wealth. It works for them, anyway. Controversial televangelist Joel Osteen’s free app offers daily devotional messages and sermons. And Creflo Dollar’s latest app boasts a “give” feature that makes handing your money over to Creflo A Dollar Ministries as easy as gambling. Webcast rites Funerals broadcast online are at least a decade old. Many UK crematoria now offer it as part of the package, and rabbis and vicars routinely officiate at live-streamed services. It is not quite the same as being there, but in many cases it’s probably preferable.Halal apps There are several apps that help Muslims find halal restaurants and stores in the immediate area . There is even one – Scan Halal – that allows you to scan the barcode of any food in a supermarket to instantly determine whether it contains non-halal ingredients. Online reviews for this idea are decidedly mixed.'\n",
        "# '''\n",
        "# text = \"Redux Redux DevTools debugging\"\n",
        "# text = \"Redux DevTools for debugging application's state changes.\"\n",
        "text = \"NodeSource is a company focused on providing enterprise-grade Node support and they maintain a repository containing the latest versions of Node.js.\"\n",
        "text = \"\"\"made that was made.\n",
        "4In him was life; and the life was the light of men.\n",
        "5And the light shineth in darkness; and the darkness comprehended it not.\n",
        "6There was a man sent from God, whose name was John.\n",
        "7The same came for a witness, to bear witness of the Light, that all men through him might believe.\n",
        "8He was not that Light, but was sent to bear witness of that Light.\n",
        "9That was the true Light, which lighteth every man that cometh into the world.\"\"\""
      ],
      "execution_count": 0,
      "outputs": []
    },
    {
      "metadata": {
        "id": "-IQb64pnzx76",
        "colab_type": "code",
        "colab": {}
      },
      "cell_type": "code",
      "source": [
        "transformed = tfidf.transform([text])"
      ],
      "execution_count": 0,
      "outputs": []
    },
    {
      "metadata": {
        "id": "bREdJjnerm3y",
        "colab_type": "code",
        "colab": {}
      },
      "cell_type": "code",
      "source": [
        "tfidf._tfidf._idf_diag.toarray()"
      ],
      "execution_count": 0,
      "outputs": []
    },
    {
      "metadata": {
        "id": "EVD7nps_qgUb",
        "colab_type": "code",
        "colab": {}
      },
      "cell_type": "code",
      "source": [
        "transformed.toarray().tolist()"
      ],
      "execution_count": 0,
      "outputs": []
    },
    {
      "metadata": {
        "id": "7i0h9law98Sd",
        "colab_type": "code",
        "colab": {}
      },
      "cell_type": "code",
      "source": [
        "tfidf.idf_.tolist()"
      ],
      "execution_count": 0,
      "outputs": []
    },
    {
      "metadata": {
        "id": "bO_Z6f2X8Fv7",
        "colab_type": "code",
        "colab": {}
      },
      "cell_type": "code",
      "source": [
        "tfidf.vocabulary_"
      ],
      "execution_count": 0,
      "outputs": []
    },
    {
      "metadata": {
        "id": "u1ZHUElQzx3Y",
        "colab_type": "code",
        "outputId": "ebf2a0d3-fd16-412c-e15f-e9892349d123",
        "colab": {
          "base_uri": "https://localhost:8080/",
          "height": 33
        }
      },
      "cell_type": "code",
      "source": [
        "simple_model.predict(transformed)\n"
      ],
      "execution_count": 0,
      "outputs": [
        {
          "output_type": "execute_result",
          "data": {
            "text/plain": [
              "array([[0.49849725]], dtype=float32)"
            ]
          },
          "metadata": {
            "tags": []
          },
          "execution_count": 24
        }
      ]
    },
    {
      "metadata": {
        "id": "h5jhLnknf9PF",
        "colab_type": "text"
      },
      "cell_type": "markdown",
      "source": [
        "#### for js code testing"
      ]
    },
    {
      "metadata": {
        "id": "NsTkdiVYf77o",
        "colab_type": "code",
        "colab": {}
      },
      "cell_type": "code",
      "source": [
        "text = [\"Redux DevTools for debugging application's state changes.\", \"I want to use this classifier for a commercial project.\", \"for debugging application's I want to use this classifier\"]"
      ],
      "execution_count": 0,
      "outputs": []
    },
    {
      "metadata": {
        "id": "XrvFPQj-f736",
        "colab_type": "code",
        "colab": {}
      },
      "cell_type": "code",
      "source": [
        "tfidf = TfidfVectorizer(stop_words='english', norm=None, use_idf=True, smooth_idf=True, sublinear_tf=True)\n",
        "feat = tfidf.fit_transform(text)"
      ],
      "execution_count": 0,
      "outputs": []
    },
    {
      "metadata": {
        "id": "VxVlcVA4f71e",
        "colab_type": "code",
        "colab": {}
      },
      "cell_type": "code",
      "source": [
        "simple_model = Sequential([Dense(100,activation='relu', input_dim=11, kernel_regularizer=l2(0.01)),\n",
        "                           Dropout(0.5, noise_shape=None, seed=None),\n",
        "                           Dense(100,activation='relu', kernel_regularizer=l2(0.01)),\n",
        "                           Dropout(0.3, noise_shape=None, seed=None),\n",
        "                           Dense(1,activation='sigmoid')])\n",
        "\n",
        "ES_callback = EarlyStopping(monitor='val_loss', min_delta=0.00005, patience=4)\n",
        "\n",
        "# define the checkpoint\n",
        "filepath=\"weights-improvement-{epoch:02d}-{loss:.4f}-{acc:.4f}.hdf5\"\n",
        "checkpoint = keras.callbacks.ModelCheckpoint(filepath, monitor='loss', verbose=1, save_best_only=True, mode='min')"
      ],
      "execution_count": 0,
      "outputs": []
    },
    {
      "metadata": {
        "id": "bSicKuThf7yB",
        "colab_type": "code",
        "colab": {}
      },
      "cell_type": "code",
      "source": [
        "simple_model.compile(loss='binary_crossentropy',\n",
        "                     optimizer='adam',\n",
        "                     metrics=['accuracy'])"
      ],
      "execution_count": 0,
      "outputs": []
    },
    {
      "metadata": {
        "id": "Tum-U7Grf7vL",
        "colab_type": "code",
        "outputId": "ea2b0a87-0937-475f-cf26-c830ac7dcf3f",
        "colab": {
          "base_uri": "https://localhost:8080/",
          "height": 135
        }
      },
      "cell_type": "code",
      "source": [
        "model_output= simple_model.fit(feat,\n",
        "                               [1,0,0],\n",
        "                               verbose=1,\n",
        "                               callbacks=[ES_callback, checkpoint])"
      ],
      "execution_count": 0,
      "outputs": [
        {
          "output_type": "stream",
          "text": [
            "Epoch 1/1\n",
            "3/3 [==============================] - 2s 778ms/step - loss: 1.8090 - acc: 0.6667\n",
            "\n",
            "Epoch 00001: loss improved from inf to 1.80903, saving model to weights-improvement-01-1.8090-0.6667.hdf5\n"
          ],
          "name": "stdout"
        },
        {
          "output_type": "stream",
          "text": [
            "/usr/local/lib/python3.6/dist-packages/keras/callbacks.py:569: RuntimeWarning: Early stopping conditioned on metric `val_loss` which is not available. Available metrics are: loss,acc\n",
            "  (self.monitor, ','.join(list(logs.keys()))), RuntimeWarning\n"
          ],
          "name": "stderr"
        }
      ]
    },
    {
      "metadata": {
        "id": "xpF-N29pf62-",
        "colab_type": "code",
        "colab": {}
      },
      "cell_type": "code",
      "source": [
        ""
      ],
      "execution_count": 0,
      "outputs": []
    },
    {
      "metadata": {
        "id": "oJmzhnGvLA-i",
        "colab_type": "code",
        "colab": {}
      },
      "cell_type": "code",
      "source": [
        ""
      ],
      "execution_count": 0,
      "outputs": []
    },
    {
      "metadata": {
        "id": "zpa2s1gKLA8J",
        "colab_type": "code",
        "colab": {}
      },
      "cell_type": "code",
      "source": [
        ""
      ],
      "execution_count": 0,
      "outputs": []
    },
    {
      "metadata": {
        "id": "OkipTDHMLA2r",
        "colab_type": "code",
        "colab": {}
      },
      "cell_type": "code",
      "source": [
        ""
      ],
      "execution_count": 0,
      "outputs": []
    },
    {
      "metadata": {
        "id": "EUuYC2xeLAzr",
        "colab_type": "code",
        "colab": {}
      },
      "cell_type": "code",
      "source": [
        ""
      ],
      "execution_count": 0,
      "outputs": []
    },
    {
      "metadata": {
        "id": "9l0wdmNVLAxr",
        "colab_type": "code",
        "colab": {}
      },
      "cell_type": "code",
      "source": [
        ""
      ],
      "execution_count": 0,
      "outputs": []
    },
    {
      "metadata": {
        "id": "YMH90cpJLAuu",
        "colab_type": "code",
        "colab": {}
      },
      "cell_type": "code",
      "source": [
        ""
      ],
      "execution_count": 0,
      "outputs": []
    },
    {
      "metadata": {
        "id": "uAArgE53LAsq",
        "colab_type": "code",
        "colab": {}
      },
      "cell_type": "code",
      "source": [
        ""
      ],
      "execution_count": 0,
      "outputs": []
    },
    {
      "metadata": {
        "id": "fGTMESzlLAqg",
        "colab_type": "code",
        "colab": {}
      },
      "cell_type": "code",
      "source": [
        ""
      ],
      "execution_count": 0,
      "outputs": []
    },
    {
      "metadata": {
        "id": "R94sfPJzLAnu",
        "colab_type": "code",
        "colab": {}
      },
      "cell_type": "code",
      "source": [
        ""
      ],
      "execution_count": 0,
      "outputs": []
    },
    {
      "metadata": {
        "id": "iIoXZ8o0LAlL",
        "colab_type": "code",
        "colab": {}
      },
      "cell_type": "code",
      "source": [
        ""
      ],
      "execution_count": 0,
      "outputs": []
    },
    {
      "metadata": {
        "id": "gAFb1rAFLAh-",
        "colab_type": "code",
        "colab": {}
      },
      "cell_type": "code",
      "source": [
        ""
      ],
      "execution_count": 0,
      "outputs": []
    },
    {
      "metadata": {
        "id": "XEn2SAdM4QNn",
        "colab_type": "text"
      },
      "cell_type": "markdown",
      "source": [
        "#### Save data for further tf-idf vectorization"
      ]
    },
    {
      "metadata": {
        "id": "NjTdxE7z1x-m",
        "colab_type": "code",
        "colab": {}
      },
      "cell_type": "code",
      "source": [
        "import json"
      ],
      "execution_count": 0,
      "outputs": []
    },
    {
      "metadata": {
        "id": "P24xVXly5y5y",
        "colab_type": "code",
        "colab": {}
      },
      "cell_type": "code",
      "source": [
        "def default(o):\n",
        "    if isinstance(o, np.int64): return int(o)  \n",
        "    if isinstance(o, np.float64): return float(o)\n",
        "    raise TypeError"
      ],
      "execution_count": 0,
      "outputs": []
    },
    {
      "metadata": {
        "id": "1_icNOqk2Th7",
        "colab_type": "code",
        "colab": {}
      },
      "cell_type": "code",
      "source": [
        "with open('tfidf_vocab.json', 'w') as f:\n",
        "    json.dump(tfidf.vocabulary_, f, default=default)"
      ],
      "execution_count": 0,
      "outputs": []
    },
    {
      "metadata": {
        "id": "UJtoQpZh66_C",
        "colab_type": "code",
        "colab": {}
      },
      "cell_type": "code",
      "source": [
        "with open('idf_.json', 'w') as f:\n",
        "    json.dump(tfidf.idf_.tolist(), f)"
      ],
      "execution_count": 0,
      "outputs": []
    },
    {
      "metadata": {
        "id": "ksP9dHZlL7tT",
        "colab_type": "code",
        "colab": {}
      },
      "cell_type": "code",
      "source": [
        "# with open('transformed.json', 'w') as f:\n",
        "#     json.dump(transformed.toarray().tolist(), f)"
      ],
      "execution_count": 0,
      "outputs": []
    },
    {
      "metadata": {
        "id": "zvhYfT6MrfFA",
        "colab_type": "code",
        "outputId": "97b0c5f7-e661-46b2-9524-1b98dfd40e29",
        "colab": {
          "base_uri": "https://localhost:8080/",
          "height": 53
        }
      },
      "cell_type": "code",
      "source": [
        "with open('idf_.json') as f:\n",
        "    idf=json.load(f)\n",
        "idf"
      ],
      "execution_count": 0,
      "outputs": [
        {
          "output_type": "stream",
          "text": [
            "[4.6324736418843475, 3.958650734150805, 8.270059801610733, 7.6722228008551125, 8.470730497072886, 7.895366352169322, 8.183048424621104, 8.470730497072886, 5.442208400695902, 5.316096940933037, 8.270059801610733, 8.183048424621104, 5.726312651799799, 7.777583316512939, 8.470730497072886, 5.592781259175277, 7.11260701291969, 8.103005716947568, 5.624529957489857, 8.270059801610733, 6.225303817918787, 8.270059801610733, 6.114078182808563, 8.470730497072886, 6.093244095905721, 8.470730497072886, 8.470730497072886, 8.470730497072886, 5.995126239947197, 8.365369981415057, 8.365369981415057, 8.028897744793845, 8.183048424621104, 8.365369981415057, 8.028897744793845, 8.183048424621104, 8.103005716947568, 8.470730497072886, 8.103005716947568, 7.4899012440611585, 8.183048424621104, 8.365369981415057, 7.959904873306893, 8.365369981415057, 8.365369981415057, 7.895366352169322, 8.470730497072886, 8.365369981415057, 8.183048424621104, 8.470730497072886, 8.103005716947568, 3.386569410838821, 4.125483113902299, 5.644074553562827, 8.365369981415057, 7.141594549792942, 6.540820689364012, 8.270059801610733, 8.470730497072886, 6.755932068980957, 8.470730497072886, 6.906754958715541, 6.590417630503384, 8.103005716947568, 8.470730497072886, 6.839313677920009, 6.573610512187003, 8.470730497072886, 6.716711355827677, 6.954383007704796, 7.777583316512939, 7.057037161764879, 6.979075620295167, 6.979075620295167, 7.959904873306893, 7.4899012440611585, 8.183048424621104, 7.959904873306893, 7.0043934282794575, 4.094274907448458, 6.311246247719512, 7.449079249540903, 6.906754958715541, 8.470730497072886, 6.906754958715541, 8.470730497072886, 7.057037161764879, 7.266757692746948, 7.11260701291969, 8.365369981415057, 7.532460858479954, 7.141594549792942, 7.777583316512939, 7.084436135952994, 7.409858536387621, 8.365369981415057, 7.62343263668568, 3.9357443679418975, 5.740701389251899, 6.311246247719512, 8.470730497072886, 7.084436135952994, 8.270059801610733, 7.532460858479954, 7.409858536387621, 7.449079249540903, 6.405275197367788, 7.532460858479954, 7.11260701291969, 6.052834557567844, 7.895366352169322, 7.372118208404775, 8.183048424621104, 6.463262455018137, 8.270059801610733, 7.723516095242664, 7.834741730352888, 4.296343227177247, 6.062784888421012, 7.372118208404775, 7.0043934282794575, 6.883765440490842, 6.839313677920009, 7.084436135952994, 8.470730497072886, 6.755932068980957, 7.300659244422629, 7.141594549792942, 8.470730497072886, 7.3357505642339, 7.409858536387621, 8.365369981415057, 8.028897744793845, 4.15176199836614, 6.2371382755657905, 7.202219171609377, 7.141594549792942, 7.4899012440611585, 7.372118208404775, 8.270059801610733, 7.0043934282794575, 6.796754063501213, 7.030368914682718, 8.470730497072886, 6.906754958715541, 8.470730497072886, 7.409858536387621, 8.365369981415057, 7.11260701291969, 7.62343263668568, 3.8534121771491456, 5.369637707861067, 6.524820348017571, 8.103005716947568, 7.057037161764879, 7.141594549792942, 7.4899012440611585, 8.183048424621104, 7.576912621050788, 8.103005716947568, 6.954383007704796, 7.532460858479954, 7.171447512942623, 7.171447512942623, 7.449079249540903, 8.470730497072886, 8.270059801610733, 7.266757692746948, 3.985846476959295, 6.5570812102357925, 7.532460858479954, 7.3357505642339, 7.233967869923958, 7.202219171609377, 7.723516095242664, 7.4899012440611585, 7.834741730352888, 7.959904873306893, 7.372118208404775, 7.532460858479954, 7.409858536387621, 8.365369981415057, 8.028897744793845, 7.959904873306893, 7.532460858479954, 7.959904873306893, 8.028897744793845, 4.310112807901004, 6.755932068980957, 8.103005716947568, 7.449079249540903, 7.266757692746948, 7.777583316512939, 7.532460858479954, 6.979075620295167, 7.576912621050788, 8.470730497072886, 7.233967869923958, 8.183048424621104, 7.3357505642339, 7.532460858479954, 8.470730497072886, 7.532460858479954, 4.317069357694364, 6.2612358271448505, 7.723516095242664, 8.470730497072886, 7.777583316512939, 7.777583316512939, 7.3357505642339, 7.6722228008551125, 7.300659244422629, 7.3357505642339, 8.470730497072886, 7.576912621050788, 7.62343263668568, 7.723516095242664, 7.4899012440611585, 8.365369981415057, 7.576912621050788, 4.473549683304432, 7.202219171609377, 7.3357505642339, 8.103005716947568, 8.183048424621104, 8.365369981415057, 6.883765440490842, 7.266757692746948, 7.959904873306893, 8.028897744793845, 7.372118208404775, 7.233967869923958, 6.678971027844829, 6.736129441684778, 8.470730497072886, 7.959904873306893, 7.62343263668568, 7.576912621050788, 8.365369981415057, 8.365369981415057, 7.777583316512939, 8.028897744793845, 8.270059801610733, 7.6722228008551125, 7.576912621050788, 8.470730497072886, 7.777583316512939, 7.4899012440611585, 8.103005716947568, 8.270059801610733, 8.103005716947568, 7.62343263668568, 8.183048424621104, 7.532460858479954, 8.365369981415057, 8.183048424621104, 8.103005716947568, 8.183048424621104, 8.183048424621104, 7.777583316512939, 8.183048424621104, 7.723516095242664, 6.839313677920009, 7.959904873306893, 7.409858536387621, 7.300659244422629, 8.028897744793845, 8.103005716947568, 7.777583316512939, 7.777583316512939, 8.270059801610733, 7.6722228008551125, 8.103005716947568, 7.372118208404775, 8.270059801610733, 7.372118208404775, 7.11260701291969, 7.030368914682718, 7.895366352169322, 7.372118208404775, 7.372118208404775, 7.057037161764879, 7.202219171609377, 7.777583316512939, 6.5570812102357925, 6.861292584638784, 6.954383007704796, 8.103005716947568, 6.590417630503384, 7.0043934282794575, 7.266757692746948, 6.861292584638784, 6.817807472699045, 6.839313677920009, 6.839313677920009, 6.716711355827677, 6.697663160856982, 6.678971027844829, 6.478300332382678, 7.449079249540903, 6.168145404078839, 6.839313677920009, 6.590417630503384, 5.9057811396113475, 6.190618259930897, 6.298507221942082, 6.2612358271448505, 6.135355581255848, 5.97660719217996, 5.664008768463645, 5.747974148580979, 7.11260701291969, 5.344945095270695, 6.930285456125736, 5.480569268568349, 5.0015283862966715, 3.7844924879960113, 8.103005716947568, 7.834741730352888, 7.959904873306893, 8.365369981415057, 7.141594549792942, 6.478300332382678, 5.733481141278412, 5.095801042231339, 5.592781259175277, 6.135355581255848, 6.3912889553930485, 5.469458043143278, 6.776134776298477, 5.018980836247898, 5.238609445454663, 5.532156637358842, 5.733481141278412, 6.861292584638784, 7.057037161764879, 6.01399472425158, 6.478300332382678, 7.141594549792942, 7.4899012440611585, 7.030368914682718, 7.030368914682718, 7.62343263668568, 5.931756626014608, 6.642603383673954, 8.470730497072886, 7.777583316512939, 8.103005716947568, 7.777583316512939, 8.183048424621104, 8.103005716947568, 8.365369981415057, 8.028897744793845, 8.270059801610733, 8.103005716947568, 6.433848569811844, 7.202219171609377, 7.6722228008551125, 6.478300332382678, 6.839313677920009, 6.5570812102357925, 6.979075620295167, 8.470730497072886, 7.11260701291969, 7.11260701291969, 6.755932068980957, 7.777583316512939, 8.028897744793845, 8.365369981415057, 8.365369981415057, 8.365369981415057, 8.470730497072886, 7.959904873306893, 8.270059801610733, 8.365369981415057, 7.834741730352888, 8.470730497072886, 8.365369981415057, 7.62343263668568, 8.470730497072886, 6.5090719910494315, 6.979075620295167, 8.183048424621104, 8.470730497072886, 8.270059801610733, 7.959904873306893, 8.365369981415057, 8.028897744793845, 5.69122133198853, 7.723516095242664, 7.723516095242664, 8.028897744793845, 8.103005716947568, 8.270059801610733, 8.270059801610733, 8.470730497072886, 3.7190578520957915, 4.798658161275329, 5.364650166350028, 5.839641337106802, 6.023564175267731, 5.170786849115902, 4.931382776929912, 5.238609445454663, 6.249114466612506, 7.233967869923958, 7.300659244422629, 8.470730497072886, 7.62343263668568, 7.233967869923958, 7.959904873306893, 6.883765440490842, 7.300659244422629, 8.183048424621104, 8.470730497072886, 6.660621889176633, 7.141594549792942, 7.6722228008551125, 8.103005716947568, 6.716711355827677, 7.030368914682718, 7.576912621050788, 7.723516095242664, 7.723516095242664, 8.365369981415057, 8.028897744793845, 8.028897744793845, 7.449079249540903, 7.959904873306893, 6.716711355827677, 4.528070522182849, 6.796754063501213, 8.365369981415057, 8.470730497072886, 7.62343263668568, 6.906754958715541, 6.979075620295167, 6.954383007704796, 6.979075620295167, 7.171447512942623, 7.372118208404775, 7.895366352169322, 7.834741730352888, 7.62343263668568, 7.409858536387621, 4.534557031412455, 6.796754063501213, 8.183048424621104, 7.576912621050788, 7.409858536387621, 7.576912621050788, 7.266757692746948, 8.470730497072886, 6.573610512187003, 7.300659244422629, 8.470730497072886, 7.057037161764879, 7.834741730352888, 7.777583316512939, 4.666540196447954, 6.590417630503384, 8.365369981415057, 7.449079249540903, 7.4899012440611585, 7.3357505642339, 7.62343263668568, 7.409858536387621, 7.895366352169322, 8.183048424621104, 7.532460858479954, 7.834741730352888, 8.470730497072886, 4.204925617488433, 6.642603383673954, 6.573610512187003, 7.4899012440611585, 8.103005716947568, 7.777583316512939, 7.532460858479954, 7.266757692746948, 7.532460858479954, 7.895366352169322, 7.777583316512939, 7.266757692746948, 7.3357505642339, 8.470730497072886, 8.470730497072886, 7.576912621050788, 7.3357505642339, 4.099877162997128, 5.349835080564888, 7.409858536387621, 7.777583316512939, 7.532460858479954, 7.171447512942623, 7.959904873306893, 7.0043934282794575, 5.770115274458193, 7.171447512942623, 7.62343263668568, 7.723516095242664, 7.449079249540903, 8.470730497072886, 8.270059801610733, 6.861292584638784, 7.576912621050788, 4.810021919925644, 7.409858536387621, 8.028897744793845, 8.270059801610733, 7.576912621050788, 7.449079249540903, 8.028897744793845, 7.959904873306893, 8.365369981415057, 7.3357505642339, 6.979075620295167, 7.62343263668568, 4.804323898811006, 7.300659244422629, 7.4899012440611585, 7.959904873306893, 7.895366352169322, 6.817807472699045, 7.777583316512939, 7.532460858479954, 7.532460858479954, 8.028897744793845, 8.365369981415057, 8.270059801610733, 4.7874220880084035, 6.954383007704796, 8.028897744793845, 7.723516095242664, 8.028897744793845, 7.723516095242664, 7.777583316512939, 6.20204695575452, 7.62343263668568, 8.103005716947568, 7.300659244422629, 5.040333960718467, 7.777583316512939, 8.470730497072886, 7.959904873306893, 7.723516095242664, 7.576912621050788, 7.959904873306893, 7.6722228008551125, 8.365369981415057, 8.470730497072886, 7.6722228008551125, 8.270059801610733, 7.834741730352888, 6.817807472699045, 6.930285456125736, 7.895366352169322, 6.776134776298477, 8.270059801610733, 8.028897744793845, 8.365369981415057, 8.270059801610733, 7.449079249540903, 7.834741730352888, 6.817807472699045, 6.954383007704796, 8.270059801610733, 5.580358739176719, 8.028897744793845, 8.470730497072886, 7.834741730352888, 8.365369981415057, 8.470730497072886, 8.365369981415057, 8.183048424621104, 8.183048424621104, 8.183048424621104, 8.365369981415057, 7.777583316512939, 8.470730497072886, 8.470730497072886, 3.9238958880977566, 4.980979718069284, 6.377495633260713, 8.470730497072886, 7.959904873306893, 6.755932068980957, 8.028897744793845, 7.3357505642339, 8.028897744793845, 7.266757692746948, 7.777583316512939, 8.470730497072886, 8.103005716947568, 7.62343263668568, 8.470730497072886, 7.834741730352888, 5.080706416008854, 7.030368914682718, 8.270059801610733, 7.057037161764879, 7.11260701291969, 7.959904873306893, 7.576912621050788, 7.4899012440611585, 8.270059801610733, 8.183048424621104, 7.895366352169322, 8.365369981415057, 4.784632685920824, 7.141594549792942, 8.183048424621104, 8.270059801610733, 7.895366352169322, 8.270059801610733, 7.723516095242664, 7.723516095242664, 8.365369981415057, 7.449079249540903, 7.777583316512939, 7.723516095242664, 7.895366352169322, 7.532460858479954, 7.895366352169322, 7.723516095242664, 8.470730497072886, 4.970861587903699, 7.4899012440611585, 7.895366352169322, 8.183048424621104, 7.723516095242664, 8.365369981415057, 8.270059801610733, 7.576912621050788, 8.103005716947568, 8.470730497072886, 8.470730497072886, 7.62343263668568, 8.183048424621104, 6.861292584638784, 5.251854672204684, 7.409858536387621, 8.183048424621104, 8.470730497072886, 8.103005716947568, 7.62343263668568, 7.834741730352888, 8.365369981415057, 7.777583316512939, 8.103005716947568, 7.777583316512939, 8.028897744793845, 4.9608448096602284, 6.337221734122773, 8.270059801610733, 7.895366352169322, 8.365369981415057, 8.028897744793845, 8.103005716947568, 7.300659244422629, 7.409858536387621, 8.270059801610733, 7.202219171609377, 7.777583316512939, 8.183048424621104, 8.365369981415057, 7.834741730352888, 8.270059801610733, 8.103005716947568, 5.5620096005085236, 6.817807472699045, 8.028897744793845, 7.959904873306893, 7.834741730352888, 8.028897744793845, 8.103005716947568, 8.028897744793845, 7.777583316512939, 7.723516095242664, 8.103005716947568, 8.028897744793845, 5.657319780312848, 7.895366352169322, 8.365369981415057, 8.470730497072886, 8.103005716947568, 7.834741730352888, 7.576912621050788, 8.270059801610733, 7.834741730352888, 8.028897744793845, 8.183048424621104, 5.480569268568349, 7.777583316512939, 8.470730497072886, 7.6722228008551125, 8.365369981415057, 5.5146634799113246, 8.365369981415057, 7.300659244422629, 7.372118208404775, 8.028897744793845, 7.959904873306893, 8.103005716947568, 8.365369981415057, 5.420931002248618, 8.103005716947568, 8.183048424621104, 8.103005716947568, 8.270059801610733, 8.183048424621104, 8.270059801610733, 8.470730497072886, 8.365369981415057, 8.470730497072886, 8.028897744793845, 7.084436135952994, 6.716711355827677, 7.834741730352888, 8.183048424621104, 5.719195184030935, 7.959904873306893, 8.270059801610733, 8.470730497072886, 8.270059801610733, 8.270059801610733, 7.532460858479954, 8.270059801610733, 8.365369981415057, 7.723516095242664, 7.777583316512939, 7.0043934282794575, 8.270059801610733, 8.470730497072886, 8.270059801610733, 8.365369981415057, 8.103005716947568, 5.644074553562827, 8.270059801610733, 7.834741730352888, 8.365369981415057, 8.365369981415057, 8.365369981415057, 8.470730497072886, 8.470730497072886, 8.270059801610733, 4.296343227177247, 5.374650249684612, 6.5570812102357925, 7.777583316512939, 8.270059801610733, 8.270059801610733, 7.959904873306893, 7.723516095242664, 7.4899012440611585, 8.470730497072886, 8.028897744793845, 6.5090719910494315, 8.470730497072886, 7.6722228008551125, 7.959904873306893, 8.270059801610733, 8.103005716947568, 5.491805341835275, 7.62343263668568, 7.895366352169322, 7.834741730352888, 8.103005716947568, 6.796754063501213, 7.372118208404775, 8.365369981415057, 5.369637707861067, 7.834741730352888, 8.470730497072886, 7.834741730352888, 7.576912621050788, 7.4899012440611585, 7.777583316512939, 7.895366352169322, 7.959904873306893, 8.470730497072886, 5.532156637358842, 7.723516095242664, 8.270059801610733, 7.6722228008551125, 7.6722228008551125, 8.470730497072886, 7.834741730352888, 8.103005716947568, 8.183048424621104, 5.274327528056742, 7.895366352169322, 8.103005716947568, 8.470730497072886, 7.777583316512939, 8.470730497072886, 8.470730497072886, 8.365369981415057, 7.959904873306893, 5.099610570648007, 6.755932068980957, 8.470730497072886, 8.365369981415057, 7.959904873306893, 8.470730497072886, 8.365369981415057, 7.449079249540903, 7.895366352169322, 7.6722228008551125, 5.863934029675847, 7.723516095242664, 8.470730497072886, 8.470730497072886, 8.470730497072886, 7.777583316512939, 7.959904873306893, 5.733481141278412, 8.270059801610733, 8.365369981415057, 8.365369981415057, 8.365369981415057, 8.470730497072886, 8.270059801610733, 8.470730497072886, 7.959904873306893, 5.453019316800118, 7.409858536387621, 7.409858536387621, 8.470730497072886, 7.62343263668568, 8.365369981415057, 5.426208059349461, 6.883765440490842, 7.202219171609377, 8.183048424621104, 7.62343263668568, 8.365369981415057, 8.365369981415057, 5.605360041382137, 8.103005716947568, 8.270059801610733, 8.470730497072886, 7.777583316512939, 8.365369981415057, 8.103005716947568, 8.183048424621104, 7.834741730352888, 8.183048424621104, 8.183048424621104, 6.817807472699045, 8.270059801610733, 8.270059801610733, 8.028897744793845, 8.365369981415057, 6.954383007704796, 8.183048424621104, 6.642603383673954, 6.861292584638784, 8.365369981415057, 8.365369981415057, 7.723516095242664, 7.3357505642339, 8.470730497072886, 6.363889981204934, 8.028897744793845, 8.470730497072886, 8.103005716947568, 8.365369981415057, 8.270059801610733, 8.183048424621104, 4.047881867878748, 4.924951886599621, 6.607512063862685, 7.834741730352888, 8.365369981415057, 8.470730497072886, 7.372118208404775, 8.103005716947568, 8.470730497072886, 7.300659244422629, 7.777583316512939, 7.4899012440611585, 8.470730497072886, 8.365369981415057, 5.491805341835275, 7.409858536387621, 6.883765440490842, 7.266757692746948, 8.028897744793845, 8.365369981415057, 7.62343263668568, 8.103005716947568, 7.62343263668568, 8.365369981415057, 5.792757751207952, 8.028897744793845, 8.270059801610733, 8.028897744793845, 8.470730497072886, 8.470730497072886, 7.777583316512939, 8.470730497072886, 5.7553001886730515, 7.895366352169322, 8.028897744793845, 8.028897744793845, 8.028897744793845, 5.863934029675847, 8.470730497072886, 7.6722228008551125, 8.103005716947568, 8.028897744793845, 5.4974710793709525, 7.233967869923958, 8.365369981415057, 7.834741730352888, 8.470730497072886, 8.365369981415057, 8.470730497072886, 5.670742800644989, 7.895366352169322, 5.8721645288123625, 8.365369981415057, 7.6722228008551125, 8.183048424621104, 7.834741730352888, 7.532460858479954, 8.270059801610733, 8.470730497072886, 5.923022946045854, 7.895366352169322, 8.103005716947568, 8.270059801610733, 8.470730497072886, 5.65067523759418, 8.365369981415057, 8.365369981415057, 8.270059801610733, 8.103005716947568, 8.470730497072886, 8.028897744793845, 7.959904873306893, 8.470730497072886, 6.540820689364012, 8.183048424621104, 8.270059801610733, 8.270059801610733, 8.183048424621104, 8.365369981415057, 7.777583316512939, 8.470730497072886, 8.470730497072886, 8.365369981415057, 7.532460858479954, 8.270059801610733, 6.405275197367788, 7.6722228008551125, 8.270059801610733, 7.777583316512939, 8.470730497072886, 7.11260701291969, 7.959904873306893, 7.409858536387621, 8.470730497072886, 8.028897744793845, 8.270059801610733, 8.470730497072886, 4.70694973478583, 5.631002471995474, 6.678971027844829, 8.103005716947568, 6.930285456125736, 7.895366352169322, 7.62343263668568, 8.365369981415057, 8.365369981415057, 8.103005716947568, 7.834741730352888, 8.270059801610733, 8.470730497072886, 7.62343263668568, 8.470730497072886, 7.6722228008551125, 6.1246602921391, 6.716711355827677, 8.470730497072886, 8.470730497072886, 8.103005716947568, 7.62343263668568, 7.895366352169322, 7.777583316512939, 8.365369981415057, 6.660621889176633, 7.6722228008551125, 6.285928439735222, 8.103005716947568, 7.141594549792942, 8.270059801610733, 8.183048424621104, 8.028897744793845, 7.959904873306893, 8.365369981415057, 8.270059801610733, 8.183048424621104, 6.2612358271448505, 8.365369981415057, 8.365369981415057, 8.470730497072886, 8.470730497072886, 8.470730497072886, 8.470730497072886, 5.740701389251899, 7.6722228008551125, 8.365369981415057, 7.171447512942623, 8.270059801610733, 8.183048424621104, 8.470730497072886, 8.183048424621104, 8.270059801610733, 8.183048424621104, 8.270059801610733, 6.930285456125736, 5.5620096005085236, 6.478300332382678, 8.270059801610733, 8.470730497072886, 8.470730497072886, 8.183048424621104, 8.365369981415057, 5.624529957489857, 8.028897744793845, 8.270059801610733, 8.028897744793845, 7.372118208404775, 7.895366352169322, 7.3357505642339, 8.270059801610733, 6.135355581255848, 8.270059801610733, 8.365369981415057, 8.470730497072886, 8.270059801610733, 8.470730497072886, 6.0829875957385315, 8.270059801610733, 7.449079249540903, 7.834741730352888, 7.300659244422629, 7.4899012440611585, 8.028897744793845, 8.365369981415057, 8.103005716947568, 8.183048424621104, 8.470730497072886, 8.365369981415057, 6.225303817918787, 8.103005716947568, 8.470730497072886, 8.270059801610733, 8.470730497072886, 8.470730497072886, 8.183048424621104, 8.365369981415057, 7.057037161764879, 8.270059801610733, 7.62343263668568, 8.365369981415057, 8.470730497072886, 8.028897744793845, 8.365369981415057, 8.183048424621104, 8.183048424621104, 8.470730497072886, 7.959904873306893, 8.183048424621104, 7.3357505642339, 8.028897744793845, 8.470730497072886, 8.470730497072886, 8.365369981415057, 8.365369981415057, 8.270059801610733, 7.030368914682718, 8.183048424621104, 8.470730497072886, 7.959904873306893, 8.365369981415057, 7.895366352169322, 8.365369981415057, 5.022508176765866, 5.940567255696763, 7.3357505642339, 8.365369981415057, 7.084436135952994, 8.103005716947568, 8.270059801610733, 7.233967869923958, 8.470730497072886, 8.103005716947568, 7.0043934282794575, 6.190618259930897, 8.470730497072886, 7.0043934282794575, 7.532460858479954, 8.103005716947568, 8.103005716947568, 5.831673167457626, 7.576912621050788, 8.470730497072886, 8.470730497072886, 8.270059801610733, 8.365369981415057, 6.213607778155596, 7.6722228008551125, 8.470730497072886, 8.183048424621104, 8.470730497072886, 8.470730497072886, 6.273505919736665, 8.470730497072886, 8.470730497072886, 8.470730497072886, 8.365369981415057, 7.834741730352888, 7.959904873306893, 5.234233070854864, 6.213607778155596, 7.959904873306893, 8.470730497072886, 7.777583316512939, 8.365369981415057, 6.190618259930897, 8.470730497072886, 8.470730497072886, 7.532460858479954, 6.103606882941268, 8.270059801610733, 8.365369981415057, 8.270059801610733, 6.1246602921391, 8.470730497072886, 8.470730497072886, 6.363889981204934, 8.470730497072886, 7.959904873306893, 8.365369981415057, 8.270059801610733, 7.300659244422629, 8.365369981415057, 8.365369981415057, 8.270059801610733, 8.470730497072886, 8.470730497072886, 8.470730497072886, 8.365369981415057, 8.365369981415057, 6.979075620295167, 8.365369981415057, 8.365369981415057, 8.270059801610733, 6.716711355827677, 7.959904873306893, 8.270059801610733, 8.470730497072886, 4.666540196447954, 5.174893631068556, 7.3357505642339, 7.576912621050788, 7.233967869923958, 7.057037161764879, 7.532460858479954, 8.470730497072886, 7.895366352169322, 8.270059801610733, 7.834741730352888, 7.576912621050788, 8.270059801610733, 8.183048424621104, 8.365369981415057, 8.103005716947568, 8.470730497072886, 8.028897744793845, 8.028897744793845, 7.4899012440611585, 7.3357505642339, 6.2371382755657905, 8.183048424621104, 8.365369981415057, 8.365369981415057, 8.470730497072886, 7.895366352169322, 7.4899012440611585, 6.114078182808563, 8.470730497072886, 8.270059801610733, 8.270059801610733, 8.470730497072886, 7.959904873306893, 6.135355581255848, 8.470730497072886, 8.270059801610733, 7.834741730352888, 8.365369981415057, 5.949456203114009, 8.470730497072886, 8.365369981415057, 8.365369981415057, 7.895366352169322, 5.677522487630368, 7.532460858479954, 8.470730497072886, 8.365369981415057, 7.62343263668568, 8.470730497072886, 8.365369981415057, 8.470730497072886, 8.470730497072886, 8.470730497072886, 5.888831581297574, 7.959904873306893, 8.470730497072886, 8.470730497072886, 8.183048424621104, 8.365369981415057, 5.923022946045854, 7.959904873306893, 8.028897744793845, 8.470730497072886, 7.62343263668568, 8.183048424621104, 7.959904873306893, 8.270059801610733, 5.800420623953522, 8.470730497072886, 8.028897744793845, 8.028897744793845, 8.470730497072886, 8.103005716947568, 8.270059801610733, 8.470730497072886, 8.028897744793845, 8.028897744793845, 5.800420623953522, 7.6722228008551125, 8.365369981415057, 8.183048424621104, 8.270059801610733, 8.365369981415057, 8.183048424621104, 7.959904873306893, 8.270059801610733, 8.270059801610733, 8.470730497072886, 8.365369981415057, 7.723516095242664, 7.233967869923958, 8.270059801610733, 7.62343263668568, 8.183048424621104, 7.084436135952994, 7.723516095242664, 7.959904873306893, 7.895366352169322, 8.365369981415057, 8.470730497072886, 7.777583316512939, 8.183048424621104, 8.270059801610733, 8.183048424621104, 8.365369981415057, 8.470730497072886, 4.82151629935138, 6.146166497360063, 6.930285456125736, 8.028897744793845, 8.470730497072886, 7.449079249540903, 8.470730497072886, 8.103005716947568, 5.785153151822733, 8.470730497072886, 7.449079249540903, 8.470730497072886, 8.270059801610733, 8.183048424621104, 7.834741730352888, 5.288057720868644, 8.470730497072886, 8.103005716947568, 8.270059801610733, 8.365369981415057, 4.534557031412455, 8.365369981415057, 8.270059801610733, 8.028897744793845, 7.777583316512939, 8.270059801610733, 8.365369981415057, 7.777583316512939, 8.470730497072886, 7.4899012440611585, 8.470730497072886, 8.270059801610733, 8.365369981415057, 8.470730497072886, 6.135355581255848, 7.959904873306893, 8.470730497072886, 8.183048424621104, 8.103005716947568, 8.028897744793845, 5.5620096005085236, 6.906754958715541, 8.470730497072886, 8.183048424621104, 8.103005716947568, 8.028897744793845, 6.298507221942082, 8.183048424621104, 6.861292584638784, 8.103005716947568, 7.576912621050788, 8.183048424621104, 7.777583316512939, 8.028897744793845, 8.270059801610733, 8.270059801610733, 6.350466960872794, 8.365369981415057, 8.270059801610733, 8.028897744793845, 8.270059801610733, 8.470730497072886, 6.32414965255542, 8.470730497072886, 8.183048424621104, 8.183048424621104, 8.470730497072886, 5.719195184030935, 8.470730497072886, 8.103005716947568, 8.270059801610733, 7.959904873306893, 7.62343263668568, 8.270059801610733, 7.834741730352888, 8.183048424621104, 7.895366352169322, 8.365369981415057, 7.895366352169322, 8.365369981415057, 8.470730497072886, 8.470730497072886, 8.270059801610733, 8.270059801610733, 7.895366352169322, 8.365369981415057, 7.409858536387621, 7.777583316512939, 7.959904873306893, 8.365369981415057, 8.103005716947568, 7.895366352169322, 7.62343263668568, 8.270059801610733, 8.470730497072886, 8.183048424621104, 8.365369981415057, 6.337221734122773, 6.285928439735222, 6.697663160856982, 6.979075620295167, 7.834741730352888, 7.233967869923958, 8.365369981415057, 8.183048424621104, 7.834741730352888, 8.028897744793845, 8.028897744793845, 8.365369981415057, 8.365369981415057, 8.470730497072886, 8.270059801610733, 7.959904873306893, 7.723516095242664, 8.365369981415057, 7.834741730352888, 8.470730497072886, 7.4899012440611585, 8.365369981415057, 8.270059801610733, 8.470730497072886, 8.103005716947568, 8.270059801610733, 7.895366352169322, 8.183048424621104, 7.0043934282794575, 8.365369981415057, 8.365369981415057, 8.270059801610733, 6.979075620295167, 8.028897744793845, 8.270059801610733, 7.895366352169322, 8.470730497072886, 6.5570812102357925, 8.470730497072886, 8.470730497072886, 7.6722228008551125, 8.365369981415057, 8.028897744793845, 8.470730497072886, 8.470730497072886, 8.470730497072886, 7.723516095242664, 8.183048424621104, 8.470730497072886, 8.103005716947568, 8.028897744793845, 8.103005716947568, 8.365369981415057, 8.183048424621104, 8.365369981415057, 8.270059801610733, 6.883765440490842, 7.0043934282794575, 8.470730497072886, 8.183048424621104, 6.642603383673954, 8.183048424621104, 7.895366352169322, 6.168145404078839, 7.0043934282794575, 7.300659244422629, 6.817807472699045, 8.103005716947568, 8.103005716947568, 8.183048424621104, 6.463262455018137, 8.270059801610733, 8.103005716947568, 8.470730497072886, 8.365369981415057, 8.365369981415057, 8.470730497072886, 8.183048424621104, 6.573610512187003, 7.0043934282794575, 4.862820105492615, 3.572061853311572, 8.270059801610733, 8.470730497072886, 8.183048424621104, 8.028897744793845, 7.4899012440611585, 7.723516095242664, 8.270059801610733, 7.959904873306893, 8.270059801610733, 7.959904873306893, 8.470730497072886, 6.716711355827677, 7.723516095242664, 7.3357505642339, 6.607512063862685, 8.365369981415057, 7.300659244422629, 6.20204695575452, 7.3357505642339, 5.719195184030935, 5.0015283862966715, 7.959904873306893, 8.365369981415057, 7.6722228008551125, 8.183048424621104, 8.365369981415057, 8.270059801610733, 8.365369981415057, 6.660621889176633, 8.470730497072886, 7.959904873306893, 6.463262455018137, 7.723516095242664, 7.4899012440611585, 8.183048424621104, 7.895366352169322, 5.7553001886730515, 6.817807472699045, 7.171447512942623, 7.834741730352888, 7.834741730352888, 7.959904873306893, 4.6018469843053555, 8.028897744793845, 7.959904873306893, 7.834741730352888, 6.906754958715541, 7.6722228008551125, 6.478300332382678, 6.524820348017571, 7.3357505642339, 7.233967869923958, 7.777583316512939, 6.883765440490842, 8.270059801610733, 6.463262455018137, 7.576912621050788, 4.644507481448072, 5.705110444149197, 6.463262455018137, 5.126691529250677, 6.573610512187003, 7.202219171609377, 4.174201234557417, 6.930285456125736, 8.365369981415057, 6.817807472699045, 7.723516095242664, 7.300659244422629, 8.103005716947568, 5.914364883302739, 7.141594549792942, 7.030368914682718, 8.270059801610733, 6.624903806574554, 8.365369981415057, 8.103005716947568, 8.470730497072886, 7.532460858479954, 8.470730497072886, 7.834741730352888, 7.171447512942623, 8.470730497072886, 7.449079249540903, 6.716711355827677, 6.796754063501213, 7.084436135952994, 7.233967869923958, 4.112598182598439, 7.959904873306893, 5.051183976742532, 7.62343263668568, 7.3357505642339, 7.6722228008551125, 6.979075620295167, 5.740701389251899, 8.365369981415057, 7.959904873306893, 8.270059801610733, 6.225303817918787, 5.486171524117019, 6.736129441684778, 7.449079249540903, 7.11260701291969, 6.883765440490842, 5.637517153016669, 7.266757692746948, 8.270059801610733, 7.409858536387621, 8.470730497072886, 5.995126239947197, 6.004515980297037, 7.141594549792942, 7.576912621050788, 7.6722228008551125, 8.270059801610733, 6.363889981204934, 8.183048424621104, 8.103005716947568, 8.365369981415057, 6.590417630503384, 6.736129441684778, 7.959904873306893, 8.028897744793845, 8.470730497072886, 8.470730497072886, 7.409858536387621, 7.202219171609377, 6.5090719910494315, 8.183048424621104, 7.3357505642339, 7.959904873306893, 6.776134776298477, 6.736129441684778, 7.6722228008551125, 7.057037161764879, 8.470730497072886, 8.470730497072886, 8.470730497072886, 5.624529957489857, 6.906754958715541, 4.637269814147841, 6.954383007704796, 6.01399472425158, 4.455348978657585, 4.994631807237612, 8.365369981415057, 7.532460858479954, 5.453019316800118, 6.540820689364012, 8.183048424621104, 7.895366352169322, 7.030368914682718, 5.568088646584905, 5.359687377007899, 8.470730497072886, 6.363889981204934, 7.233967869923958, 6.607512063862685, 5.344945095270695, 5.212633959051402, 8.028897744793845, 3.5259184997023008, 8.470730497072886, 7.777583316512939, 5.4974710793709525, 5.847673508804067, 8.470730497072886, 5.995126239947197, 7.449079249540903, 7.3357505642339, 7.202219171609377, 7.171447512942623, 6.103606882941268, 7.449079249540903, 8.270059801610733, 7.141594549792942, 7.834741730352888, 8.470730497072886, 8.470730497072886, 4.369005827553162, 4.190982711519421, 8.365369981415057, 8.183048424621104, 7.959904873306893, 8.103005716947568, 8.183048424621104, 5.480569268568349, 7.959904873306893, 4.977595620085044, 5.278883344592603, 7.11260701291969, 7.171447512942623, 7.834741730352888, 8.028897744793845, 4.365336098664199, 6.32414965255542, 5.762680295970674, 6.524820348017571, 6.103606882941268, 7.777583316512939, 6.448447369232997, 6.954383007704796, 7.959904873306893, 8.028897744793845, 8.365369981415057, 7.723516095242664, 7.576912621050788, 6.624903806574554, 7.409858536387621, 6.755932068980957, 7.409858536387621, 7.11260701291969, 7.723516095242664, 7.834741730352888, 6.883765440490842, 8.270059801610733, 7.895366352169322, 8.470730497072886, 5.4475992493307785, 8.183048424621104, 7.084436135952994, 6.755932068980957, 7.959904873306893, 8.270059801610733, 8.183048424621104, 7.895366352169322, 7.300659244422629, 5.225537363887311, 7.11260701291969, 5.77760594618735, 6.861292584638784, 7.409858536387621, 8.365369981415057, 6.285928439735222, 8.470730497072886, 7.895366352169322, 8.365369981415057, 6.883765440490842, 6.590417630503384, 8.103005716947568, 7.895366352169322, 8.028897744793845, 7.723516095242664, 6.377495633260713, 6.524820348017571, 7.959904873306893, 6.4194598323597445, 4.317069357694364, 5.785153151822733, 7.723516095242664, 7.030368914682718, 8.270059801610733, 5.174893631068556, 6.573610512187003, 8.270059801610733, 7.3357505642339, 7.3357505642339, 7.723516095242664, 8.183048424621104, 7.959904873306893, 7.532460858479954, 7.057037161764879, 7.834741730352888, 7.959904873306893, 8.103005716947568, 6.285928439735222, 7.723516095242664, 5.022508176765866, 6.930285456125736, 6.883765440490842, 7.6722228008551125, 8.470730497072886, 8.103005716947568, 7.409858536387621, 7.6722228008551125, 7.202219171609377, 7.576912621050788, 6.796754063501213, 7.895366352169322, 7.030368914682718, 7.266757692746948, 7.777583316512939, 8.365369981415057, 8.103005716947568, 8.028897744793845, 8.183048424621104, 7.409858536387621, 8.183048424621104, 8.365369981415057, 8.028897744793845, 6.954383007704796, 6.660621889176633, 5.855770719036686, 5.839641337106802, 5.831673167457626, 7.084436135952994, 6.930285456125736, 7.62343263668568, 7.834741730352888, 8.183048424621104, 8.470730497072886, 8.183048424621104, 8.270059801610733, 8.365369981415057, 8.270059801610733, 5.69122133198853, 7.202219171609377, 7.576912621050788, 8.270059801610733, 8.103005716947568, 8.270059801610733, 5.637517153016669, 6.004515980297037, 6.363889981204934, 8.270059801610733, 7.723516095242664, 7.723516095242664, 8.028897744793845, 6.524820348017571, 7.959904873306893, 7.576912621050788, 8.270059801610733, 6.755932068980957, 8.028897744793845, 5.0015283862966715, 6.716711355827677, 8.365369981415057, 5.624529957489857, 5.256309022554063, 6.042982261124832, 8.270059801610733, 5.855770719036686, 5.69122133198853, 6.540820689364012, 8.103005716947568, 7.4899012440611585, 6.697663160856982, 7.834741730352888, 8.365369981415057, 8.470730497072886, 8.103005716947568, 7.723516095242664, 8.270059801610733, 8.183048424621104, 3.818888791775646, 8.103005716947568, 8.103005716947568, 4.137077446683218, 5.204123269383494, 7.233967869923958, 5.53805635948603, 6.839313677920009, 6.796754063501213, 8.183048424621104, 7.4899012440611585, 7.300659244422629, 5.733481141278412, 8.470730497072886, 8.183048424621104, 4.795837284933688, 7.834741730352888, 7.62343263668568, 7.449079249540903, 7.723516095242664, 8.365369981415057, 8.270059801610733, 8.470730497072886, 8.365369981415057, 6.168145404078839, 8.103005716947568, 5.605360041382137, 7.959904873306893, 8.365369981415057, 8.270059801610733, 6.213607778155596, 6.062784888421012, 5.97660719217996, 7.171447512942623, 6.796754063501213, 6.448447369232997, 8.365369981415057, 8.103005716947568, 4.82151629935138, 8.103005716947568, 8.183048424621104, 8.470730497072886, 6.493567804513467, 7.62343263668568, 7.084436135952994, 7.300659244422629, 8.365369981415057, 7.834741730352888, 8.028897744793845, 6.906754958715541, 7.895366352169322, 8.028897744793845, 7.62343263668568, 6.697663160856982, 7.895366352169322, 8.470730497072886, 7.141594549792942, 8.365369981415057, 6.930285456125736, 8.470730497072886, 7.532460858479954, 5.043937568221765, 7.4899012440611585, 7.266757692746948, 8.470730497072886, 8.270059801610733, 5.508899775194575, 6.883765440490842, 8.470730497072886, 8.270059801610733, 7.723516095242664, 7.233967869923958, 6.5090719910494315, 8.183048424621104, 8.183048424621104, 7.62343263668568, 6.930285456125736, 7.141594549792942, 7.576912621050788, 8.028897744793845, 8.470730497072886, 6.524820348017571, 7.6722228008551125, 6.979075620295167, 6.405275197367788, 8.365369981415057, 8.103005716947568, 7.0043934282794575, 6.273505919736665, 6.433848569811844, 7.959904873306893, 8.365369981415057, 7.141594549792942, 7.959904873306893, 7.449079249540903, 8.365369981415057, 8.028897744793845, 5.420931002248618, 6.062784888421012, 8.470730497072886, 7.030368914682718, 7.449079249540903, 7.895366352169322, 8.028897744793845, 7.4899012440611585, 7.723516095242664, 7.834741730352888, 6.776134776298477, 7.576912621050788, 8.470730497072886, 8.103005716947568, 7.723516095242664, 6.624903806574554, 5.4974710793709525, 7.6722228008551125, 6.5090719910494315, 7.777583316512939, 7.834741730352888, 6.493567804513467, 6.114078182808563, 6.861292584638784, 8.028897744793845, 8.470730497072886, 5.839641337106802, 7.057037161764879, 7.576912621050788, 7.6722228008551125, 8.028897744793845, 8.183048424621104, 8.470730497072886, 6.716711355827677, 7.62343263668568, 6.678971027844829, 7.895366352169322, 7.4899012440611585, 8.470730497072886, 7.895366352169322, 4.402653861671394, 8.365369981415057, 8.270059801610733, 4.801487017475807, 5.568088646584905, 5.047554208691953, 8.470730497072886, 8.365369981415057, 7.959904873306893, 7.959904873306893, 8.183048424621104, 7.777583316512939, 7.723516095242664, 7.11260701291969, 6.3912889553930485, 6.20204695575452, 6.590417630503384, 8.028897744793845, 8.470730497072886, 8.365369981415057, 7.233967869923958, 8.470730497072886, 5.344945095270695, 8.365369981415057, 8.183048424621104, 6.861292584638784, 8.470730497072886, 6.906754958715541, 7.6722228008551125, 7.3357505642339, 8.470730497072886, 5.384751345671115, 7.372118208404775, 6.5090719910494315, 8.365369981415057, 6.930285456125736, 8.365369981415057, 6.4194598323597445, 7.3357505642339, 8.103005716947568, 8.028897744793845, 8.470730497072886, 7.141594549792942, 8.470730497072886, 7.895366352169322, 6.540820689364012, 6.796754063501213, 8.470730497072886, 7.895366352169322, 5.914364883302739, 7.834741730352888, 7.895366352169322, 7.171447512942623, 8.183048424621104, 8.270059801610733, 7.449079249540903, 7.3357505642339, 6.883765440490842, 7.449079249540903, 8.028897744793845, 8.103005716947568, 8.365369981415057, 7.62343263668568, 7.6722228008551125, 7.532460858479954, 7.723516095242664, 5.847673508804067, 7.266757692746948, 4.8841298920793665, 4.2064868980553864, 5.364650166350028, 6.463262455018137, 7.959904873306893, 6.979075620295167, 6.697663160856982, 8.470730497072886, 6.20204695575452, 8.183048424621104, 8.028897744793845, 7.959904873306893, 7.4899012440611585, 7.11260701291969, 7.895366352169322, 8.028897744793845, 7.895366352169322, 8.470730497072886, 8.270059801610733, 8.183048424621104, 6.0829875957385315, 8.103005716947568, 6.32414965255542, 7.202219171609377, 8.365369981415057, 8.470730497072886, 6.954383007704796, 8.183048424621104, 8.470730497072886, 7.233967869923958, 8.103005716947568, 7.834741730352888, 8.028897744793845, 8.103005716947568, 7.141594549792942, 8.183048424621104, 8.365369981415057, 8.270059801610733, 6.524820348017571, 8.103005716947568, 7.3357505642339, 8.183048424621104, 6.285928439735222, 8.183048424621104, 8.470730497072886, 7.723516095242664, 5.420931002248618, 6.01399472425158, 5.586550709424641, 7.233967869923958, 7.959904873306893, 8.270059801610733, 7.895366352169322, 8.028897744793845, 8.028897744793845, 7.233967869923958, 8.270059801610733, 8.270059801610733, 7.4899012440611585, 8.103005716947568, 7.895366352169322, 5.95842487309677, 8.365369981415057, 8.470730497072886, 6.249114466612506, 8.103005716947568, 6.883765440490842, 6.930285456125736, 7.723516095242664, 7.4899012440611585, 8.183048424621104, 8.103005716947568, 4.793024343557073, 7.959904873306893, 7.723516095242664, 5.369637707861067, 7.11260701291969, 8.028897744793845, 8.470730497072886, 8.028897744793845, 6.906754958715541, 5.5620096005085236, 6.285928439735222, 6.524820348017571, 8.470730497072886, 6.350466960872794, 8.470730497072886, 7.449079249540903, 8.470730497072886, 8.183048424621104, 6.190618259930897, 8.270059801610733, 6.168145404078839, 6.01399472425158, 7.532460858479954, 6.337221734122773, 7.723516095242664, 8.470730497072886, 8.270059801610733, 7.4899012440611585, 7.576912621050788, 6.755932068980957, 7.4899012440611585, 8.270059801610733, 7.723516095242664, 8.470730497072886, 7.532460858479954, 6.906754958715541, 5.97660719217996, 5.058483279224144, 5.705110444149197, 7.084436135952994, 7.834741730352888, 7.62343263668568, 8.270059801610733, 7.084436135952994, 7.777583316512939, 8.183048424621104, 7.532460858479954, 6.2612358271448505, 5.405264885504218, 7.576912621050788, 8.270059801610733, 7.723516095242664, 8.470730497072886, 5.644074553562827, 7.449079249540903, 7.266757692746948, 4.156209744764376, 5.940567255696763, 6.624903806574554, 5.297317046281441, 7.576912621050788, 7.959904873306893, 6.817807472699045, 7.959904873306893, 8.365369981415057, 6.755932068980957, 8.270059801610733, 4.6300841544869655, 7.777583316512939, 7.3357505642339, 8.103005716947568, 7.372118208404775, 8.270059801610733, 8.270059801610733, 8.270059801610733, 7.11260701291969, 8.470730497072886, 8.365369981415057, 8.365369981415057, 8.028897744793845, 8.103005716947568, 4.183319838773851, 5.712128016807843, 7.202219171609377, 6.883765440490842, 8.183048424621104, 7.409858536387621, 6.052834557567844, 7.723516095242664, 5.611709269060796, 7.057037161764879, 8.365369981415057, 6.736129441684778, 7.959904873306893, 7.300659244422629, 8.183048424621104, 7.959904873306893, 8.470730497072886, 6.249114466612506, 6.590417630503384, 7.959904873306893, 7.959904873306893, 8.270059801610733, 7.834741730352888, 6.493567804513467, 7.057037161764879, 7.266757692746948, 6.930285456125736, 6.4194598323597445, 8.270059801610733, 7.834741730352888, 8.470730497072886, 8.103005716947568, 5.831673167457626, 4.862820105492615, 8.365369981415057, 5.6843484527007675, 7.723516095242664, 7.834741730352888, 7.171447512942623, 4.92175188386895, 6.033226086179468, 7.171447512942623, 5.5146634799113246, 6.979075620295167, 4.902763971624259, 8.365369981415057, 7.895366352169322, 7.895366352169322, 8.365369981415057, 4.6324736418843475, 8.028897744793845, 7.409858536387621, 7.62343263668568, 8.470730497072886, 6.817807472699045, 4.779077116076223, 4.9608448096602284, 5.520460597595651, 5.995126239947197, 5.088225248422882, 6.678971027844829, 7.959904873306893, 6.590417630503384, 7.233967869923958, 8.103005716947568, 4.944369972456723, 4.447364904309365, 8.365369981415057, 8.270059801610733, 8.270059801610733, 4.994631807237612, 6.930285456125736, 6.642603383673954, 7.0043934282794575, 5.118878989513884, 7.4899012440611585, 6.493567804513467, 8.365369981415057, 7.11260701291969, 5.847673508804067, 8.270059801610733, 7.959904873306893, 6.839313677920009, 7.372118208404775, 6.311246247719512, 8.183048424621104, 6.298507221942082, 4.4838061834716205, 8.470730497072886, 4.513096980392686, 8.365369981415057, 8.365369981415057, 7.202219171609377, 5.491805341835275, 6.979075620295167, 7.449079249540903, 5.823767987950513, 8.365369981415057, 8.470730497072886, 7.959904873306893, 6.350466960872794, 7.576912621050788, 7.4899012440611585, 6.624903806574554, 7.895366352169322, 7.62343263668568, 7.895366352169322, 7.084436135952994, 8.270059801610733, 7.576912621050788, 6.540820689364012, 7.777583316512939, 5.664008768463645, 7.532460858479954, 6.448447369232997, 8.028897744793845, 8.470730497072886, 4.20025634830475, 4.890302751186447, 4.519486778491457, 6.590417630503384, 8.365369981415057, 8.365369981415057, 8.183048424621104, 6.979075620295167, 8.470730497072886, 8.470730497072886, 7.4899012440611585, 8.028897744793845, 6.01399472425158, 8.365369981415057, 7.372118208404775, 5.256309022554063, 5.949456203114009, 7.834741730352888, 8.365369981415057, 6.817807472699045, 6.135355581255848, 4.615865905484687, 5.301979059387252, 8.470730497072886, 7.3357505642339, 6.883765440490842, 8.365369981415057, 7.4899012440611585, 7.895366352169322, 8.183048424621104, 8.103005716947568, 7.171447512942623, 8.470730497072886, 5.931756626014608, 8.365369981415057, 8.183048424621104, 8.270059801610733, 7.959904873306893, 5.831673167457626, 5.5146634799113246, 6.273505919736665, 5.914364883302739, 5.863934029675847, 7.6722228008551125, 8.470730497072886, 7.62343263668568, 7.171447512942623, 7.532460858479954, 8.470730497072886, 8.270059801610733, 5.2697923728913505, 7.959904873306893, 5.379688043714569, 7.11260701291969, 7.62343263668568, 7.3357505642339, 6.883765440490842, 7.030368914682718, 7.3357505642339, 7.409858536387621, 6.590417630503384, 7.6722228008551125, 6.337221734122773, 6.524820348017571, 8.470730497072886, 7.959904873306893, 6.906754958715541, 7.141594549792942, 6.168145404078839, 7.777583316512939, 7.372118208404775, 8.470730497072886, 6.861292584638784, 6.493567804513467, 7.300659244422629, 8.470730497072886, 8.470730497072886, 7.723516095242664, 8.270059801610733, 6.590417630503384, 8.365369981415057, 5.747974148580979, 8.470730497072886, 6.624903806574554, 1.9188568260100838, 5.251854672204684, 8.470730497072886, 8.183048424621104, 7.895366352169322, 6.697663160856982, 7.409858536387621, 6.660621889176633, 7.834741730352888, 6.697663160856982, 6.478300332382678, 7.834741730352888, 8.103005716947568, 8.103005716947568, 7.372118208404775, 8.365369981415057, 8.270059801610733, 8.183048424621104, 6.478300332382678, 6.930285456125736, 8.470730497072886, 7.233967869923958, 7.959904873306893, 7.834741730352888, 8.365369981415057, 6.337221734122773, 6.463262455018137, 8.270059801610733, 5.463948387332309, 7.959904873306893, 4.029387285242583, 4.264380876474289, 7.959904873306893, 4.661601914807371, 6.157095567892254, 7.409858536387621, 8.470730497072886, 6.213607778155596, 5.77760594618735, 8.183048424621104, 7.895366352169322, 6.033226086179468, 8.470730497072886, 7.6722228008551125, 5.847673508804067, 8.270059801610733, 7.62343263668568, 7.449079249540903, 7.057037161764879, 7.723516095242664, 8.470730497072886, 5.940567255696763, 6.736129441684778, 7.3357505642339, 7.409858536387621, 6.1246602921391, 7.372118208404775, 7.4899012440611585, 7.057037161764879, 8.270059801610733, 8.183048424621104, 6.776134776298477, 8.470730497072886, 7.233967869923958, 6.817807472699045, 7.3357505642339, 7.723516095242664, 7.409858536387621, 7.084436135952994, 7.6722228008551125, 8.470730497072886, 6.642603383673954, 6.32414965255542, 6.642603383673954, 8.365369981415057, 7.266757692746948, 7.576912621050788, 6.20204695575452, 5.543991095005845, 7.449079249540903, 5.394955515845357, 7.3357505642339, 8.103005716947568, 8.365369981415057, 8.183048424621104, 4.569880792242864, 5.967474708616687, 6.493567804513467, 5.1505021779443965, 5.863934029675847, 6.363889981204934, 7.723516095242664, 7.62343263668568, 6.883765440490842, 6.642603383673954, 7.834741730352888, 8.183048424621104, 7.723516095242664, 8.365369981415057, 8.183048424621104, 7.895366352169322, 8.103005716947568, 8.028897744793845, 8.470730497072886, 8.470730497072886, 7.959904873306893, 6.660621889176633, 7.834741730352888, 8.183048424621104, 7.959904873306893, 7.895366352169322, 7.372118208404775, 7.3357505642339, 6.337221734122773, 7.834741730352888, 7.777583316512939, 7.895366352169322, 8.365369981415057, 7.372118208404775, 8.470730497072886, 8.103005716947568, 8.470730497072886, 7.233967869923958, 7.3357505642339, 6.157095567892254, 5.785153151822733, 5.664008768463645, 8.183048424621104, 5.847673508804067, 5.940567255696763, 6.5570812102357925, 8.183048424621104, 7.300659244422629, 6.883765440490842, 8.270059801610733, 7.057037161764879, 5.349835080564888, 6.2371382755657905, 6.103606882941268, 7.6722228008551125, 6.883765440490842, 7.233967869923958, 8.103005716947568, 7.959904873306893, 7.834741730352888, 6.157095567892254, 7.084436135952994, 7.777583316512939, 6.930285456125736, 7.409858536387621, 8.103005716947568, 8.365369981415057, 8.365369981415057, 6.883765440490842, 8.270059801610733, 5.474998223518893, 7.11260701291969, 5.923022946045854, 8.028897744793845, 7.62343263668568, 8.365369981415057, 4.9090533005318235, 5.888831581297574, 7.959904873306893, 7.777583316512939, 6.135355581255848, 5.374650249684612, 8.103005716947568, 8.270059801610733, 4.790219292629464, 6.168145404078839, 5.995126239947197, 5.618099067159567, 6.478300332382678, 7.233967869923958, 8.470730497072886, 6.861292584638784, 7.576912621050788, 7.4899012440611585, 5.195684400737629, 8.103005716947568, 8.470730497072886, 5.463948387332309, 7.141594549792942, 6.0829875957385315, 7.777583316512939, 6.930285456125736, 7.300659244422629, 8.183048424621104, 7.409858536387621, 6.716711355827677, 8.028897744793845, 8.270059801610733, 7.084436135952994, 6.524820348017571, 7.057037161764879, 4.941107326821907, 8.270059801610733, 7.084436135952994, 8.365369981415057, 7.895366352169322, 5.923022946045854, 7.141594549792942, 5.785153151822733, 7.3357505642339, 8.470730497072886, 8.470730497072886, 7.777583316512939, 8.365369981415057, 5.712128016807843, 7.723516095242664, 8.470730497072886, 8.183048424621104, 7.532460858479954, 6.839313677920009, 8.365369981415057, 6.135355581255848, 5.6843484527007675, 6.114078182808563, 7.057037161764879, 7.959904873306893, 7.372118208404775, 7.62343263668568, 8.028897744793845, 5.179017348252417, 7.959904873306893, 8.183048424621104, 7.6722228008551125, 5.436846457554517, 5.247420075136818, 7.532460858479954, 8.028897744793845, 6.736129441684778, 6.062784888421012, 5.463948387332309, 8.365369981415057, 7.723516095242664, 7.777583316512939, 7.171447512942623, 7.266757692746948, 5.543991095005845, 5.719195184030935, 7.6722228008551125, 8.028897744793845, 6.736129441684778, 7.576912621050788, 7.62343263668568, 8.270059801610733, 7.834741730352888, 8.470730497072886, 6.493567804513467, 7.233967869923958, 8.028897744793845, 8.470730497072886, 8.470730497072886, 7.532460858479954, 6.930285456125736, 6.3912889553930485, 3.738438303645454, 8.028897744793845, 6.979075620295167, 8.028897744793845, 6.817807472699045, 8.270059801610733, 4.7436992769945725, 8.028897744793845, 7.449079249540903, 8.183048424621104, 7.532460858479954, 8.028897744793845, 6.954383007704796, 7.233967869923958, 7.3357505642339, 4.815752594634629, 6.607512063862685, 6.817807472699045, 7.959904873306893, 7.202219171609377, 7.959904873306893, 7.834741730352888, 7.372118208404775, 8.365369981415057, 5.747974148580979, 6.817807472699045, 5.985823847284884, 5.058483279224144, 6.906754958715541, 3.767224410363931, 8.470730497072886, 6.716711355827677, 6.033226086179468, 7.202219171609377, 7.3357505642339, 7.895366352169322, 8.365369981415057, 7.6722228008551125, 6.796754063501213, 7.777583316512939, 8.270059801610733, 7.4899012440611585, 8.270059801610733, 7.084436135952994, 8.470730497072886, 8.103005716947568, 8.470730497072886, 7.895366352169322, 6.736129441684778, 7.449079249540903, 7.834741730352888, 7.084436135952994, 7.4899012440611585, 8.365369981415057, 8.365369981415057, 8.028897744793845, 7.532460858479954, 8.028897744793845, 8.470730497072886, 8.470730497072886, 8.270059801610733, 7.959904873306893, 7.959904873306893, 7.959904873306893, 8.365369981415057, 8.103005716947568, 8.470730497072886, 8.365369981415057, 8.103005716947568, 8.365369981415057, 6.697663160856982, 7.959904873306893, 8.183048424621104, 7.723516095242664, 8.028897744793845, 6.540820689364012, 5.897270449943439, 8.103005716947568, 8.470730497072886, 7.084436135952994, 8.365369981415057, 8.103005716947568, 7.777583316512939, 5.762680295970674, 7.895366352169322, 5.480569268568349, 7.300659244422629, 6.337221734122773, 6.540820689364012, 8.270059801610733, 6.168145404078839, 7.532460858479954, 7.959904873306893, 7.141594549792942, 8.365369981415057, 7.202219171609377, 7.895366352169322, 3.7968637797985583, 7.895366352169322, 8.028897744793845, 6.023564175267731, 8.365369981415057, 7.62343263668568, 7.959904873306893, 7.959904873306893, 6.448447369232997, 8.103005716947568, 7.834741730352888, 7.777583316512939, 7.030368914682718, 7.409858536387621, 7.959904873306893, 7.233967869923958, 7.4899012440611585, 8.470730497072886, 6.607512063862685, 7.62343263668568, 5.880463331627058, 6.660621889176633, 7.959904873306893, 8.365369981415057, 8.365369981415057, 8.470730497072886, 8.270059801610733, 8.270059801610733, 8.028897744793845, 5.247420075136818, 8.365369981415057, 8.103005716947568, 8.183048424621104, 8.470730497072886, 8.365369981415057, 7.834741730352888, 8.470730497072886, 7.6722228008551125, 8.103005716947568, 8.270059801610733, 8.270059801610733, 6.225303817918787, 6.524820348017571, 8.365369981415057, 6.135355581255848, 8.365369981415057, 5.55596728605256, 6.573610512187003, 8.270059801610733, 6.213607778155596, 8.365369981415057, 6.954383007704796, 7.895366352169322, 5.216916620843403, 8.470730497072886, 7.11260701291969, 7.4899012440611585, 6.776134776298477, 5.4974710793709525, 6.463262455018137, 8.270059801610733, 8.365369981415057, 7.171447512942623, 7.532460858479954, 7.723516095242664, 7.233967869923958, 7.266757692746948, 7.895366352169322, 8.470730497072886, 7.834741730352888, 5.9057811396113475, 7.171447512942623, 8.470730497072886, 7.532460858479954, 7.233967869923958, 6.755932068980957, 7.6722228008551125, 8.103005716947568, 7.895366352169322, 8.365369981415057, 7.959904873306893, 7.723516095242664, 8.103005716947568, 8.028897744793845, 8.365369981415057, 7.300659244422629, 7.777583316512939, 7.084436135952994, 7.959904873306893, 8.470730497072886, 7.3357505642339, 7.834741730352888, 7.532460858479954, 6.433848569811844, 6.697663160856982, 8.270059801610733, 8.183048424621104, 4.896513951279088, 4.957528057034234, 3.772272376661236, 8.365369981415057, 8.103005716947568, 7.4899012440611585, 8.470730497072886, 7.62343263668568, 6.114078182808563, 8.028897744793845, 8.103005716947568, 7.372118208404775, 4.874941466024961, 4.994631807237612, 7.895366352169322, 8.028897744793845, 8.365369981415057, 7.62343263668568, 4.741029048438692, 8.470730497072886, 7.233967869923958, 7.233967869923958, 7.233967869923958, 7.532460858479954, 5.940567255696763, 6.755932068980957, 7.834741730352888, 5.712128016807843, 6.954383007704796, 7.777583316512939, 6.883765440490842, 7.3357505642339, 8.028897744793845, 8.270059801610733, 8.183048424621104, 7.030368914682718, 6.3912889553930485, 7.233967869923958, 5.712128016807843, 6.493567804513467, 5.503169100485589, 7.959904873306893, 8.103005716947568, 7.372118208404775, 7.372118208404775, 6.540820689364012, 8.183048424621104, 5.77760594618735, 8.270059801610733, 7.6722228008551125, 8.270059801610733, 6.906754958715541, 4.749061220135957, 8.028897744793845, 5.6843484527007675, 6.377495633260713, 8.365369981415057, 8.470730497072886, 7.777583316512939, 8.270059801610733, 7.6722228008551125, 6.157095567892254, 8.103005716947568, 8.470730497072886, 7.3357505642339, 6.311246247719512, 8.103005716947568, 6.930285456125736, 7.959904873306893, 8.028897744793845, 8.183048424621104, 5.55596728605256, 8.470730497072886, 6.642603383673954, 8.365369981415057, 6.755932068980957, 6.5090719910494315, 7.777583316512939, 7.3357505642339, 5.062153008113106, 6.363889981204934, 6.0829875957385315, 8.103005716947568, 6.660621889176633, 7.057037161764879, 8.270059801610733, 6.225303817918787, 8.470730497072886, 6.839313677920009, 8.183048424621104, 7.834741730352888, 8.470730497072886, 8.183048424621104, 7.532460858479954, 6.642603383673954, 7.266757692746948, 7.723516095242664, 7.409858536387621, 8.470730497072886, 7.895366352169322, 7.409858536387621, 8.470730497072886, 8.470730497072886, 7.777583316512939, 7.723516095242664, 6.678971027844829, 7.030368914682718, 5.306662908699678, 7.6722228008551125, 5.099610570648007, 8.103005716947568, 8.183048424621104, 5.099610570648007, 8.028897744793845, 6.168145404078839, 8.183048424621104, 6.493567804513467, 6.573610512187003, 7.62343263668568, 6.839313677920009, 7.959904873306893, 8.028897744793845, 5.431513111579155, 7.723516095242664, 6.103606882941268, 7.532460858479954, 7.959904873306893, 6.213607778155596, 7.959904873306893, 8.028897744793845, 6.776134776298477, 7.532460858479954, 8.365369981415057, 8.365369981415057, 7.62343263668568, 5.158566737781126, 5.520460597595651, 8.103005716947568, 3.269168798989156, 5.234233070854864, 6.796754063501213, 6.5090719910494315, 5.442208400695902, 6.042982261124832, 7.959904873306893, 5.967474708616687, 7.0043934282794575, 7.532460858479954, 7.959904873306893, 8.103005716947568, 6.033226086179468, 7.834741730352888, 7.266757692746948, 6.590417630503384, 7.11260701291969, 6.678971027844829, 8.183048424621104, 8.365369981415057, 6.3912889553930485, 6.607512063862685, 8.470730497072886, 7.141594549792942, 7.834741730352888, 7.576912621050788, 7.62343263668568, 7.266757692746948, 7.141594549792942, 5.3113687997370915, 7.895366352169322, 5.823767987950513, 8.028897744793845, 7.6722228008551125, 8.183048424621104, 7.895366352169322, 7.3357505642339, 8.470730497072886, 7.084436135952994, 8.470730497072886, 7.834741730352888, 8.365369981415057, 8.470730497072886, 8.270059801610733, 7.959904873306893, 8.470730497072886, 5.503169100485589, 6.642603383673954, 8.365369981415057, 6.817807472699045, 8.028897744793845, 8.470730497072886, 8.270059801610733, 8.365369981415057, 7.777583316512939, 8.365369981415057, 8.470730497072886, 3.4102473972490612, 5.3113687997370915, 6.2371382755657905, 7.895366352169322, 7.959904873306893, 8.365369981415057, 7.777583316512939, 8.270059801610733, 7.959904873306893, 3.2618516931720887, 7.532460858479954, 8.103005716947568, 8.365369981415057, 7.834741730352888, 7.141594549792942, 6.817807472699045, 8.103005716947568, 8.365369981415057, 8.103005716947568, 7.834741730352888, 8.183048424621104, 7.6722228008551125, 8.270059801610733, 7.6722228008551125, 8.270059801610733, 8.103005716947568, 8.365369981415057, 6.839313677920009, 6.433848569811844, 6.213607778155596, 7.834741730352888, 4.776310862583333, 8.028897744793845, 5.914364883302739, 7.4899012440611585, 8.470730497072886, 7.62343263668568, 6.023564175267731, 7.959904873306893, 7.409858536387621, 7.895366352169322, 8.470730497072886, 7.449079249540903, 3.740397168130787, 7.372118208404775, 8.270059801610733, 5.5146634799113246, 4.924951886599621, 8.028897744793845, 6.954383007704796, 8.365369981415057, 8.103005716947568, 8.365369981415057, 8.028897744793845, 4.924951886599621, 6.979075620295167, 7.202219171609377, 6.103606882941268, 7.3357505642339, 8.183048424621104, 7.171447512942623, 7.300659244422629, 7.959904873306893, 8.470730497072886, 5.670742800644989, 8.183048424621104, 6.839313677920009, 6.524820348017571, 7.233967869923958, 6.716711355827677, 8.470730497072886, 6.930285456125736, 6.478300332382678, 7.959904873306893, 8.470730497072886, 6.906754958715541, 8.103005716947568, 8.270059801610733, 8.028897744793845, 8.365369981415057, 7.576912621050788, 7.777583316512939, 7.6722228008551125, 7.4899012440611585, 6.755932068980957, 7.233967869923958, 8.270059801610733, 8.365369981415057, 5.863934029675847, 6.736129441684778, 7.576912621050788, 6.954383007704796, 6.285928439735222, 7.202219171609377, 7.895366352169322, 8.470730497072886, 7.4899012440611585, 8.028897744793845, 7.576912621050788, 7.959904873306893, 7.959904873306893, 3.6712735862325654, 7.449079249540903, 7.0043934282794575, 7.834741730352888, 6.4194598323597445, 7.723516095242664, 5.6843484527007675, 5.453019316800118, 7.409858536387621, 8.183048424621104, 7.6722228008551125, 6.930285456125736, 8.183048424621104, 7.233967869923958, 8.103005716947568, 7.895366352169322, 8.365369981415057, 4.563161841994118, 8.183048424621104, 7.6722228008551125, 8.270059801610733, 6.817807472699045, 7.372118208404775, 8.103005716947568, 7.62343263668568, 7.777583316512939, 5.719195184030935, 8.028897744793845, 5.815924810489487, 6.433848569811844, 8.183048424621104, 7.372118208404775, 8.270059801610733, 6.573610512187003, 8.183048424621104, 7.409858536387621, 8.365369981415057, 8.365369981415057, 8.470730497072886, 6.930285456125736, 7.6722228008551125, 8.028897744793845, 7.777583316512939, 8.028897744793845, 7.4899012440611585, 7.777583316512939, 8.365369981415057, 7.030368914682718, 8.365369981415057, 8.270059801610733, 8.470730497072886, 7.62343263668568, 7.449079249540903, 6.590417630503384, 7.576912621050788, 8.270059801610733, 6.716711355827677, 5.967474708616687, 7.895366352169322, 7.141594549792942, 7.834741730352888, 8.470730497072886, 7.723516095242664, 8.270059801610733, 7.959904873306893, 7.959904873306893, 5.379688043714569, 7.895366352169322, 7.057037161764879, 7.777583316512939, 6.448447369232997, 8.183048424621104, 8.470730497072886, 8.270059801610733, 5.278883344592603, 7.62343263668568, 8.270059801610733, 6.906754958715541, 7.6722228008551125, 8.470730497072886, 5.95842487309677, 7.11260701291969, 6.285928439735222, 7.3357505642339, 4.947643297801692, 6.478300332382678, 7.4899012440611585, 8.183048424621104, 8.470730497072886, 7.895366352169322, 7.62343263668568, 8.183048424621104, 8.365369981415057, 8.028897744793845, 7.409858536387621, 8.470730497072886, 6.736129441684778, 8.270059801610733, 5.897270449943439, 8.103005716947568, 7.959904873306893, 8.103005716947568, 5.97660719217996, 7.4899012440611585, 4.53022802032287, 7.834741730352888, 5.785153151822733, 7.834741730352888, 8.270059801610733, 8.470730497072886, 7.3357505642339, 8.365369981415057, 5.043937568221765, 7.084436135952994, 8.028897744793845, 6.337221734122773, 8.365369981415057, 5.719195184030935, 7.532460858479954, 4.53022802032287, 6.590417630503384, 8.365369981415057, 7.532460858479954, 6.954383007704796, 7.834741730352888, 7.895366352169322, 8.470730497072886, 7.959904873306893, 7.6722228008551125, 8.470730497072886, 8.470730497072886, 7.233967869923958, 8.028897744793845, 6.249114466612506, 7.959904873306893, 7.895366352169322, 8.365369981415057, 7.895366352169322, 7.62343263668568, 8.270059801610733, 7.777583316512939, 6.607512063862685, 8.028897744793845, 6.930285456125736, 8.470730497072886, 6.906754958715541, 8.183048424621104, 6.5090719910494315, 7.057037161764879, 6.839313677920009, 8.365369981415057, 8.470730497072886, 7.959904873306893, 7.300659244422629, 7.62343263668568, 7.723516095242664, 8.470730497072886, 4.138536236146878, 7.372118208404775, 8.028897744793845, 4.719920085228457, 7.449079249540903, 8.270059801610733, 8.470730497072886, 6.883765440490842, 7.409858536387621, 7.4899012440611585, 5.664008768463645, 7.532460858479954, 7.62343263668568, 8.365369981415057, 7.409858536387621, 5.985823847284884, 7.777583316512939, 7.532460858479954, 7.62343263668568, 6.716711355827677, 8.183048424621104, 8.183048424621104, 6.023564175267731, 6.363889981204934, 7.4899012440611585, 7.449079249540903, 6.817807472699045, 7.723516095242664, 7.030368914682718, 5.183158140918449, 7.895366352169322, 8.470730497072886, 7.266757692746948, 7.300659244422629, 7.266757692746948, 8.470730497072886, 8.470730497072886, 8.365369981415057, 7.030368914682718, 8.470730497072886, 8.270059801610733, 6.285928439735222, 6.839313677920009, 7.895366352169322, 5.792757751207952, 7.532460858479954, 5.394955515845357, 7.895366352169322, 5.657319780312848, 6.5570812102357925, 7.777583316512939, 7.057037161764879, 7.084436135952994, 8.028897744793845, 7.723516095242664, 4.604169865721495, 6.861292584638784, 7.959904873306893, 7.300659244422629, 7.300659244422629, 8.365369981415057, 7.62343263668568, 6.01399472425158, 7.202219171609377, 7.62343263668568, 8.103005716947568, 8.028897744793845, 7.449079249540903, 7.4899012440611585, 7.532460858479954, 7.576912621050788, 4.3988587907028425, 7.4899012440611585, 5.923022946045854, 8.270059801610733, 5.670742800644989, 8.470730497072886, 7.62343263668568, 8.365369981415057, 8.365369981415057, 8.470730497072886, 7.576912621050788, 6.103606882941268, 7.723516095242664, 7.233967869923958, 8.103005716947568, 8.028897744793845, 6.776134776298477, 8.470730497072886, 7.777583316512939, 6.033226086179468, 8.470730497072886, 8.183048424621104, 6.433848569811844, 7.266757692746948, 8.365369981415057, 5.698141774833103, 6.776134776298477, 7.959904873306893, 8.470730497072886, 6.540820689364012, 6.861292584638784, 7.532460858479954, 5.586550709424641, 7.266757692746948, 5.508899775194575, 7.532460858479954, 7.266757692746948, 8.270059801610733, 8.270059801610733, 6.697663160856982, 7.959904873306893, 7.6722228008551125, 7.202219171609377, 6.4194598323597445, 8.365369981415057, 7.3357505642339, 7.834741730352888, 7.4899012440611585, 8.103005716947568, 8.270059801610733, 6.979075620295167, 4.762593226354534, 7.030368914682718, 7.576912621050788, 8.365369981415057, 7.576912621050788, 5.855770719036686, 6.311246247719512, 7.0043934282794575, 8.183048424621104, 8.365369981415057, 7.141594549792942, 7.959904873306893, 6.716711355827677, 8.270059801610733, 8.470730497072886, 7.300659244422629, 7.6722228008551125, 7.576912621050788, 8.028897744793845, 6.573610512187003, 8.183048424621104, 8.028897744793845, 8.270059801610733, 6.524820348017571, 8.103005716947568, 7.895366352169322, 7.959904873306893, 4.941107326821907, 8.365369981415057, 7.449079249540903, 8.365369981415057, 8.470730497072886, 6.755932068980957, 7.576912621050788, 6.072835224274514, 7.6722228008551125, 7.300659244422629, 8.183048424621104, 6.861292584638784, 8.270059801610733, 8.183048424621104, 8.183048424621104, 6.448447369232997, 8.103005716947568, 7.4899012440611585, 8.365369981415057, 6.839313677920009, 8.270059801610733, 4.67899365751924, 5.888831581297574, 6.1246602921391, 8.028897744793845, 7.959904873306893, 6.979075620295167, 7.62343263668568, 5.225537363887311, 4.717312521821377, 8.183048424621104, 7.233967869923958, 7.777583316512939, 6.350466960872794, 6.678971027844829, 5.823767987950513, 7.959904873306893, 7.449079249540903, 7.030368914682718, 7.084436135952994, 8.183048424621104, 7.723516095242664, 8.183048424621104, 8.365369981415057, 5.888831581297574, 5.384751345671115, 7.409858536387621, 7.576912621050788, 7.300659244422629, 8.183048424621104, 8.470730497072886, 5.631002471995474, 8.470730497072886, 6.337221734122773, 4.765321741007737, 8.183048424621104, 5.212633959051402, 7.723516095242664, 7.834741730352888, 8.270059801610733, 8.270059801610733, 5.914364883302739, 8.470730497072886, 6.249114466612506, 8.270059801610733, 8.183048424621104, 8.365369981415057, 7.62343263668568, 8.270059801610733, 7.532460858479954, 8.365369981415057, 7.6722228008551125, 7.6722228008551125, 8.470730497072886, 8.270059801610733, 7.171447512942623, 6.624903806574554, 7.895366352169322, 6.678971027844829, 8.470730497072886, 7.409858536387621, 7.723516095242664, 7.834741730352888, 7.895366352169322, 6.817807472699045, 4.874941466024961, 6.1246602921391, 7.202219171609377, 8.365369981415057, 8.470730497072886, 6.624903806574554, 8.470730497072886, 6.540820689364012, 8.365369981415057, 8.028897744793845, 8.470730497072886, 8.470730497072886, 7.895366352169322, 8.183048424621104, 7.084436135952994, 5.436846457554517, 7.084436135952994, 8.103005716947568, 8.270059801610733, 7.300659244422629, 8.270059801610733, 5.705110444149197, 6.311246247719512, 8.028897744793845, 7.777583316512939, 7.576912621050788, 6.023564175267731, 8.470730497072886, 8.183048424621104, 7.449079249540903, 6.2612358271448505, 7.834741730352888, 4.664068007302564, 7.959904873306893, 7.895366352169322, 4.784632685920824, 6.5090719910494315, 7.372118208404775, 8.470730497072886, 4.5949105403087, 7.4899012440611585, 8.103005716947568, 7.834741730352888, 8.365369981415057, 8.470730497072886, 6.796754063501213, 8.470730497072886, 6.493567804513467, 6.5090719910494315, 7.202219171609377, 6.716711355827677, 8.470730497072886, 7.266757692746948, 8.470730497072886, 6.5570812102357925, 8.270059801610733, 8.470730497072886, 8.470730497072886, 7.895366352169322, 7.202219171609377, 8.103005716947568, 8.470730497072886, 8.470730497072886, 5.183158140918449, 7.409858536387621, 7.030368914682718, 8.270059801610733, 8.270059801610733, 7.895366352169322, 7.0043934282794575, 6.463262455018137, 8.365369981415057, 8.470730497072886, 7.202219171609377, 6.736129441684778, 7.409858536387621, 7.6722228008551125, 8.028897744793845, 8.365369981415057, 8.103005716947568, 7.777583316512939, 6.883765440490842, 7.723516095242664, 8.103005716947568, 5.914364883302739, 5.967474708616687, 8.365369981415057, 5.949456203114009, 6.954383007704796, 7.532460858479954, 8.270059801610733, 6.463262455018137, 8.270059801610733, 8.028897744793845, 7.576912621050788, 8.270059801610733, 8.183048424621104, 7.6722228008551125, 8.365369981415057, 5.088225248422882, 8.470730497072886, 7.300659244422629, 5.7553001886730515, 4.327595770681352, 6.146166497360063, 8.028897744793845, 7.372118208404775, 7.4899012440611585, 8.470730497072886, 6.2612358271448505, 8.365369981415057, 7.576912621050788, 8.365369981415057, 7.202219171609377, 6.642603383673954, 8.470730497072886, 5.863934029675847, 6.839313677920009, 8.270059801610733, 4.080405059584308, 6.573610512187003, 7.141594549792942, 4.991201272140822, 7.266757692746948, 7.449079249540903, 7.834741730352888, 7.834741730352888, 8.103005716947568, 8.365369981415057, 7.300659244422629, 7.834741730352888, 7.834741730352888, 8.470730497072886, 7.723516095242664, 8.470730497072886, 6.32414965255542, 6.179318704676964, 8.103005716947568, 8.103005716947568, 8.470730497072886, 8.365369981415057, 7.895366352169322, 7.959904873306893, 8.470730497072886, 8.470730497072886, 8.470730497072886, 8.470730497072886, 8.470730497072886, 7.834741730352888, 7.576912621050788, 7.723516095242664, 8.103005716947568, 8.028897744793845, 3.770250131280468, 7.723516095242664, 7.532460858479954, 6.285928439735222, 5.243005056927701, 6.350466960872794, 7.895366352169322, 8.470730497072886, 6.062784888421012, 8.365369981415057, 7.62343263668568, 8.270059801610733, 7.300659244422629, 6.755932068980957, 8.365369981415057, 8.365369981415057, 6.524820348017571, 7.532460858479954, 8.183048424621104, 8.028897744793845, 7.959904873306893, 8.183048424621104, 6.311246247719512, 8.103005716947568, 8.183048424621104, 7.895366352169322, 8.183048424621104, 7.959904873306893, 8.470730497072886, 7.532460858479954, 6.377495633260713, 8.028897744793845, 7.11260701291969, 6.930285456125736, 8.028897744793845, 7.723516095242664, 6.755932068980957, 7.532460858479954, 8.183048424621104, 8.365369981415057, 7.11260701291969, 6.607512063862685, 7.532460858479954, 8.183048424621104, 7.777583316512939, 5.166696863864376, 8.028897744793845, 7.723516095242664, 8.270059801610733, 3.556442957912947, 7.723516095242664, 5.084458765627405, 7.6722228008551125, 4.944369972456723, 7.030368914682718, 8.365369981415057, 7.895366352169322, 8.470730497072886, 7.300659244422629, 8.103005716947568, 5.940567255696763, 7.723516095242664, 6.405275197367788, 7.266757692746948, 8.365369981415057, 8.270059801610733, 7.834741730352888, 6.213607778155596, 8.270059801610733, 8.470730497072886, 3.877857838895199, 7.532460858479954, 7.834741730352888, 8.365369981415057, 5.967474708616687, 6.337221734122773, 8.028897744793845, 6.213607778155596, 5.344945095270695, 8.365369981415057, 8.470730497072886, 7.723516095242664, 7.171447512942623, 7.449079249540903, 6.311246247719512, 8.470730497072886, 8.028897744793845, 6.861292584638784, 6.776134776298477, 7.723516095242664, 8.470730497072886, 5.084458765627405, 5.847673508804067, 6.817807472699045, 7.300659244422629, 7.372118208404775, 8.103005716947568, 7.409858536387621, 8.470730497072886, 8.365369981415057, 7.409858536387621, 6.2612358271448505, 7.300659244422629, 6.478300332382678, 6.540820689364012, 8.470730497072886, 7.777583316512939, 8.365369981415057, 7.723516095242664, 6.660621889176633, 8.183048424621104, 8.365369981415057, 8.028897744793845, 8.270059801610733, 8.103005716947568, 6.883765440490842, 7.895366352169322, 7.959904873306893, 6.463262455018137, 6.135355581255848, 5.949456203114009, 5.480569268568349, 8.365369981415057, 7.409858536387621, 8.183048424621104, 5.949456203114009, 7.0043934282794575, 8.365369981415057, 5.719195184030935, 8.103005716947568, 7.834741730352888, 8.183048424621104, 7.141594549792942, 7.777583316512939, 8.183048424621104, 6.093244095905721, 8.470730497072886, 7.4899012440611585, 6.004515980297037, 8.183048424621104, 6.405275197367788, 6.660621889176633, 8.270059801610733, 4.128369118791435, 8.365369981415057, 8.365369981415057, 8.028897744793845, 8.470730497072886, 7.030368914682718, 8.365369981415057, 7.777583316512939, 4.215906119971878, 8.270059801610733, 8.470730497072886, 8.470730497072886, 7.266757692746948, 7.409858536387621, 7.449079249540903, 4.9090533005318235, 4.296343227177247, 7.777583316512939, 5.335236281143735, 7.300659244422629, 5.664008768463645, 5.637517153016669, 6.168145404078839, 7.6722228008551125, 8.365369981415057, 7.576912621050788, 6.168145404078839, 6.607512063862685, 8.183048424621104, 8.183048424621104, 7.057037161764879, 8.183048424621104, 8.183048424621104, 7.959904873306893, 8.470730497072886, 8.270059801610733, 7.834741730352888, 8.470730497072886, 7.372118208404775, 6.883765440490842, 7.372118208404775, 7.202219171609377, 7.895366352169322, 8.470730497072886, 5.400096915345776, 6.697663160856982, 7.11260701291969, 6.478300332382678, 7.4899012440611585, 8.365369981415057, 4.881057693042396, 5.580358739176719, 4.8841298920793665, 7.171447512942623, 7.777583316512939, 6.817807472699045, 7.4899012440611585, 6.930285456125736, 7.300659244422629, 8.183048424621104, 8.470730497072886, 8.183048424621104, 8.183048424621104, 3.4863631297972386, 4.684018793721913, 7.777583316512939, 5.605360041382137, 8.470730497072886, 8.365369981415057, 8.365369981415057, 8.103005716947568, 8.365369981415057, 6.906754958715541, 6.225303817918787, 7.62343263668568, 7.4899012440611585, 7.62343263668568, 8.365369981415057, 7.233967869923958, 8.365369981415057, 7.300659244422629, 6.493567804513467, 6.590417630503384, 8.028897744793845, 7.4899012440611585, 8.470730497072886, 8.365369981415057, 8.365369981415057, 8.183048424621104, 5.792757751207952, 7.202219171609377, 8.103005716947568, 8.270059801610733, 7.300659244422629, 8.365369981415057, 8.103005716947568, 6.5570812102357925, 8.470730497072886, 5.897270449943439, 7.777583316512939, 5.785153151822733, 8.470730497072886, 6.796754063501213, 8.270059801610733, 7.0043934282794575, 8.270059801610733, 7.834741730352888, 7.532460858479954, 5.474998223518893, 4.236623992475625, 4.957528057034234, 5.354749095367317, 5.97660719217996, 7.171447512942623, 7.959904873306893, 7.233967869923958, 8.028897744793845, 5.855770719036686, 8.365369981415057, 7.372118208404775, 8.470730497072886, 8.365369981415057, 7.6722228008551125, 8.183048424621104, 7.300659244422629, 7.959904873306893, 7.300659244422629, 4.487938420756532, 7.834741730352888, 7.834741730352888, 8.183048424621104, 7.959904873306893, 6.405275197367788, 7.895366352169322, 8.270059801610733, 7.532460858479954, 7.895366352169322, 7.449079249540903, 5.146494156546857, 8.470730497072886, 7.834741730352888, 7.409858536387621, 8.365369981415057, 8.470730497072886, 7.300659244422629, 6.954383007704796, 6.906754958715541, 7.723516095242664, 8.365369981415057, 6.906754958715541, 7.532460858479954, 8.470730497072886, 7.532460858479954, 8.270059801610733, 7.6722228008551125, 7.576912621050788, 7.449079249540903, 7.532460858479954, 7.532460858479954, 8.270059801610733, 7.959904873306893, 7.372118208404775, 7.959904873306893, 8.470730497072886, 6.363889981204934, 7.409858536387621, 6.5090719910494315, 6.463262455018137, 7.834741730352888, 8.365369981415057, 8.270059801610733, 8.365369981415057, 8.365369981415057, 7.532460858479954, 7.834741730352888, 7.0043934282794575, 8.365369981415057, 4.659141888966509, 8.103005716947568, 7.576912621050788, 6.678971027844829, 5.3113687997370915, 5.431513111579155, 7.777583316512939, 7.084436135952994, 8.470730497072886, 6.298507221942082, 7.141594549792942, 6.337221734122773, 5.431513111579155, 7.895366352169322, 8.470730497072886, 8.365369981415057, 8.028897744793845, 7.409858536387621, 6.3912889553930485, 7.834741730352888, 4.315325678089538, 4.090093716688058, 7.3357505642339, 8.470730497072886, 7.834741730352888, 8.365369981415057, 8.365369981415057, 7.409858536387621, 7.372118208404775, 6.624903806574554, 7.895366352169322, 8.470730497072886, 8.470730497072886, 7.532460858479954, 7.409858536387621, 8.270059801610733, 6.2612358271448505, 8.470730497072886, 5.97660719217996, 7.532460858479954, 6.697663160856982, 5.4475992493307785, 7.62343263668568, 8.470730497072886, 5.592781259175277, 6.716711355827677, 8.183048424621104, 6.776134776298477, 7.084436135952994, 6.954383007704796, 7.0043934282794575, 7.532460858479954, 6.1246602921391, 6.311246247719512, 6.624903806574554, 6.4194598323597445, 7.202219171609377, 8.270059801610733, 4.4160511912432145, 6.114078182808563, 5.677522487630368, 8.028897744793845, 3.92861844705193, 4.671502985790083, 8.270059801610733, 4.844909178926085, 5.389840415178586, 5.670742800644989, 6.5090719910494315, 7.3357505642339, 7.959904873306893, 5.923022946045854, 7.409858536387621, 7.372118208404775, 5.431513111579155, 7.084436135952994, 6.736129441684778, 7.6722228008551125, 7.202219171609377, 7.449079249540903, 6.023564175267731, 8.470730497072886, 4.950927373002882, 5.97660719217996, 7.834741730352888, 5.644074553562827, 6.954383007704796, 7.959904873306893, 8.183048424621104, 8.103005716947568, 6.697663160856982, 5.187316151067113, 7.532460858479954, 6.5090719910494315, 8.103005716947568, 7.834741730352888, 8.470730497072886, 8.270059801610733, 8.270059801610733, 6.3912889553930485, 6.607512063862685, 6.861292584638784, 6.716711355827677, 8.028897744793845, 7.3357505642339, 7.6722228008551125, 6.478300332382678, 7.449079249540903, 5.008472858649482, 8.365369981415057, 5.389840415178586, 7.0043934282794575, 7.300659244422629, 7.576912621050788, 7.62343263668568, 4.378239503500106, 5.5742048736023415, 8.365369981415057, 8.270059801610733, 5.985823847284884, 6.796754063501213, 8.028897744793845, 7.834741730352888, 8.103005716947568, 5.599050872188872, 7.300659244422629, 8.365369981415057, 7.6722228008551125, 6.755932068980957, 7.202219171609377, 6.093244095905721, 7.084436135952994, 8.270059801610733, 6.642603383673954, 8.365369981415057, 7.532460858479954, 6.979075620295167, 8.183048424621104, 7.266757692746948, 6.736129441684778, 7.777583316512939, 8.270059801610733, 7.959904873306893, 6.930285456125736, 8.028897744793845, 8.365369981415057, 8.365369981415057, 6.573610512187003, 8.470730497072886, 5.374650249684612, 7.4899012440611585, 4.757158430368577, 7.723516095242664, 5.099610570648007, 8.365369981415057, 8.470730497072886, 6.979075620295167, 7.834741730352888, 4.336453224515413, 8.470730497072886, 7.959904873306893, 7.834741730352888, 8.270059801610733, 8.183048424621104, 8.103005716947568, 6.01399472425158, 6.1246602921391, 7.895366352169322, 4.469476357916795, 8.028897744793845, 5.2926766667249385, 7.266757692746948, 8.103005716947568, 8.470730497072886, 7.895366352169322, 8.103005716947568, 4.699247514423738, 6.179318704676964, 8.470730497072886, 7.449079249540903, 8.470730497072886, 5.0015283862966715, 7.11260701291969, 6.678971027844829, 8.270059801610733, 6.906754958715541, 7.723516095242664, 8.470730497072886, 8.183048424621104, 5.940567255696763, 5.65067523759418, 8.365369981415057, 5.166696863864376, 4.899634078615332, 4.494168970507167, 5.1227776299295416, 4.827313417035706, 6.103606882941268, 8.270059801610733, 6.4194598323597445, 8.470730497072886, 8.470730497072886, 8.183048424621104, 7.959904873306893, 6.979075620295167, 7.409858536387621, 7.834741730352888, 7.576912621050788, 6.716711355827677, 8.270059801610733, 8.270059801610733, 7.233967869923958, 8.103005716947568, 4.893403528864695, 6.350466960872794, 8.470730497072886, 7.4899012440611585, 6.697663160856982, 8.365369981415057, 6.298507221942082, 8.183048424621104, 8.103005716947568, 8.365369981415057, 7.449079249540903, 7.959904873306893, 7.202219171609377, 7.202219171609377, 8.365369981415057, 7.576912621050788, 8.470730497072886, 7.6722228008551125, 7.777583316512939, 7.233967869923958, 6.607512063862685, 6.796754063501213, 5.800420623953522, 7.576912621050788, 6.736129441684778, 6.979075620295167, 7.449079249540903, 7.449079249540903, 7.959904873306893, 8.103005716947568, 8.103005716947568, 5.847673508804067, 8.470730497072886, 7.62343263668568, 5.747974148580979, 8.365369981415057, 8.028897744793845, 7.300659244422629, 7.959904873306893, 7.959904873306893, 6.433848569811844, 6.168145404078839, 7.62343263668568, 5.8721645288123625, 8.183048424621104, 7.3357505642339, 5.967474708616687, 5.195684400737629, 7.084436135952994, 4.639676554178406, 7.141594549792942, 5.088225248422882, 6.273505919736665, 6.042982261124832, 6.930285456125736, 7.11260701291969, 7.723516095242664, 8.183048424621104, 7.959904873306893, 7.895366352169322, 6.5090719910494315, 8.470730497072886, 4.246332806602586, 5.062153008113106, 5.420931002248618, 4.615865905484687, 8.183048424621104, 8.270059801610733, 7.6722228008551125, 7.895366352169322, 8.270059801610733, 7.449079249540903, 7.449079249540903, 8.103005716947568, 6.660621889176633, 7.141594549792942, 7.723516095242664, 6.179318704676964, 6.697663160856982, 7.409858536387621, 7.723516095242664, 7.959904873306893, 7.030368914682718, 8.103005716947568, 4.998074151428584, 6.213607778155596, 5.923022946045854, 6.954383007704796, 7.895366352169322, 7.834741730352888, 6.3912889553930485, 8.365369981415057, 8.365369981415057, 7.6722228008551125, 8.270059801610733, 7.959904873306893, 8.270059801610733, 7.11260701291969, 8.470730497072886, 8.270059801610733, 6.190618259930897, 5.251854672204684, 7.300659244422629, 7.233967869923958, 6.478300332382678, 8.470730497072886, 8.365369981415057, 6.861292584638784, 8.183048424621104, 4.184847722951905, 7.171447512942623, 6.642603383673954, 7.576912621050788, 8.365369981415057, 7.266757692746948, 4.69160416511117, 8.365369981415057, 8.270059801610733, 7.372118208404775, 7.202219171609377, 7.409858536387621, 8.470730497072886, 7.959904873306893, 8.365369981415057, 8.183048424621104, 5.823767987950513, 6.755932068980957, 8.365369981415057, 7.202219171609377, 6.5090719910494315, 8.270059801610733, 7.532460858479954, 7.834741730352888, 5.931756626014608, 6.2612358271448505, 7.171447512942623, 7.0043934282794575, 7.62343263668568, 7.532460858479954, 8.183048424621104, 8.470730497072886, 7.449079249540903, 6.736129441684778, 8.028897744793845, 7.266757692746948, 5.051183976742532, 6.954383007704796, 8.470730497072886, 5.080706416008854, 8.470730497072886, 8.365369981415057, 8.470730497072886, 7.3357505642339, 7.409858536387621, 8.183048424621104, 5.3113687997370915, 8.103005716947568, 7.895366352169322, 8.103005716947568, 6.448447369232997, 7.777583316512939, 4.347186780158522, 5.480569268568349, 5.831673167457626, 5.599050872188872, 7.777583316512939, 6.660621889176633, 7.202219171609377, 8.470730497072886, 6.350466960872794, 7.723516095242664, 7.834741730352888, 6.697663160856982, 7.057037161764879, 6.590417630503384, 7.3357505642339, 8.365369981415057, 5.256309022554063, 8.470730497072886, 6.697663160856982, 6.179318704676964, 7.959904873306893, 7.266757692746948, 7.576912621050788, 6.135355581255848, 8.470730497072886, 8.470730497072886, 7.233967869923958, 8.470730497072886, 8.470730497072886, 8.103005716947568, 8.270059801610733, 8.183048424621104, 8.028897744793845, 7.11260701291969, 8.183048424621104, 5.340078905619523, 7.62343263668568, 7.723516095242664, 8.365369981415057, 6.478300332382678, 7.777583316512939, 7.834741730352888, 5.354749095367317, 8.103005716947568, 7.372118208404775, 7.233967869923958, 7.723516095242664, 7.084436135952994, 6.157095567892254, 7.6722228008551125, 7.449079249540903, 7.723516095242664, 8.270059801610733, 8.470730497072886, 6.883765440490842, 7.532460858479954, 8.270059801610733, 7.300659244422629, 7.959904873306893, 8.103005716947568, 7.409858536387621, 4.447364904309365, 7.233967869923958, 6.4194598323597445, 7.576912621050788, 7.959904873306893, 8.183048424621104, 7.834741730352888, 8.470730497072886, 7.057037161764879, 8.365369981415057, 7.409858536387621, 8.470730497072886, 8.365369981415057, 8.103005716947568, 7.171447512942623, 8.470730497072886, 7.6722228008551125, 7.959904873306893, 8.365369981415057, 7.62343263668568, 8.270059801610733, 7.202219171609377, 8.470730497072886, 8.028897744793845, 8.183048424621104, 6.861292584638784, 8.183048424621104, 5.442208400695902, 7.171447512942623, 7.62343263668568, 7.141594549792942, 8.365369981415057, 8.470730497072886, 8.365369981415057, 6.954383007704796, 8.183048424621104, 8.183048424621104, 6.796754063501213, 7.372118208404775, 8.365369981415057, 8.365369981415057, 7.266757692746948, 6.624903806574554, 6.337221734122773, 6.540820689364012, 6.979075620295167, 5.740701389251899, 7.409858536387621, 6.979075620295167, 7.834741730352888, 7.532460858479954, 7.777583316512939, 8.470730497072886, 5.508899775194575, 8.270059801610733, 8.470730497072886, 6.796754063501213, 7.532460858479954, 8.183048424621104, 8.470730497072886, 8.103005716947568, 8.103005716947568, 8.270059801610733, 7.834741730352888, 7.777583316512939, 8.365369981415057, 4.807168850943238, 5.374650249684612, 7.233967869923958, 8.270059801610733, 7.0043934282794575, 8.365369981415057, 5.644074553562827, 6.573610512187003, 6.062784888421012, 8.183048424621104, 7.0043934282794575, 7.532460858479954, 5.77760594618735, 7.11260701291969, 6.642603383673954, 8.270059801610733, 8.028897744793845, 2.575715667684893, 7.4899012440611585, 7.834741730352888, 8.028897744793845, 8.103005716947568, 8.470730497072886, 8.365369981415057, 6.590417630503384, 8.365369981415057, 5.888831581297574, 7.3357505642339, 7.030368914682718, 5.897270449943439, 7.895366352169322, 7.532460858479954, 7.834741730352888, 8.183048424621104, 8.470730497072886, 3.350742666049265, 7.057037161764879, 7.959904873306893, 6.540820689364012, 4.0048223784183, 7.372118208404775, 7.834741730352888, 7.084436135952994, 6.213607778155596, 7.959904873306893, 8.103005716947568, 7.202219171609377, 7.409858536387621, 4.338234168886407, 6.883765440490842, 5.1227776299295416, 7.266757692746948, 7.084436135952994, 8.270059801610733, 7.449079249540903, 7.202219171609377, 5.940567255696763, 8.365369981415057, 4.839009456798896, 8.103005716947568, 6.979075620295167, 7.895366352169322, 7.449079249540903, 7.202219171609377, 7.409858536387621, 4.6300841544869655, 6.5570812102357925, 5.062153008113106, 7.409858536387621, 7.723516095242664, 8.103005716947568, 7.959904873306893, 8.028897744793845, 5.77760594618735, 7.449079249540903, 6.954383007704796, 6.103606882941268, 7.266757692746948, 6.377495633260713, 7.449079249540903, 7.895366352169322, 5.364650166350028, 5.354749095367317, 7.62343263668568, 6.817807472699045, 8.028897744793845, 7.532460858479954, 4.378239503500106, 6.146166497360063, 7.895366352169322, 6.337221734122773, 7.4899012440611585, 6.524820348017571, 8.470730497072886, 7.959904873306893, 5.967474708616687, 5.320847543691635, 8.028897744793845, 7.4899012440611585, 7.0043934282794575, 7.777583316512939, 6.433848569811844, 4.980979718069284, 5.405264885504218, 6.776134776298477, 4.620582895362826, 7.532460858479954, 4.150283801496829, 7.576912621050788, 6.168145404078839, 7.777583316512939, 8.028897744793845, 5.520460597595651, 4.941107326821907, 7.449079249540903, 6.524820348017571, 8.470730497072886, 5.740701389251899, 6.979075620295167, 7.3357505642339, 8.183048424621104, 7.372118208404775, 8.470730497072886, 7.62343263668568, 6.697663160856982, 5.491805341835275, 8.270059801610733, 7.723516095242664, 7.141594549792942, 6.979075620295167, 7.62343263668568, 6.906754958715541, 6.023564175267731, 7.959904873306893, 7.141594549792942, 6.363889981204934, 5.442208400695902, 8.028897744793845, 6.298507221942082, 7.6722228008551125, 7.723516095242664, 7.057037161764879, 7.723516095242664, 6.2612358271448505, 6.168145404078839, 6.736129441684778, 7.6722228008551125, 7.959904873306893, 7.300659244422629, 6.033226086179468, 7.084436135952994, 6.716711355827677, 7.532460858479954, 6.573610512187003, 6.103606882941268, 8.183048424621104, 4.696693234618641, 6.146166497360063, 4.618221619177146, 8.028897744793845, 7.62343263668568, 8.270059801610733, 5.415681646362474, 7.0043934282794575, 7.300659244422629, 7.4899012440611585, 5.940567255696763, 8.028897744793845, 7.532460858479954, 6.225303817918787, 5.897270449943439, 7.723516095242664, 7.030368914682718, 7.834741730352888, 7.057037161764879, 7.171447512942623, 5.4584689215676825, 7.576912621050788, 7.532460858479954, 6.573610512187003, 7.202219171609377, 6.448447369232997, 8.365369981415057, 8.470730497072886, 5.940567255696763, 8.028897744793845, 8.028897744793845, 7.723516095242664, 8.028897744793845, 6.2612358271448505, 7.266757692746948, 8.103005716947568, 7.723516095242664, 8.103005716947568, 8.270059801610733, 7.895366352169322, 8.028897744793845, 6.478300332382678, 7.723516095242664, 7.4899012440611585, 7.0043934282794575, 7.834741730352888, 3.932175060166777, 8.470730497072886, 5.2652776925368245, 8.470730497072886, 5.839641337106802, 8.365369981415057, 8.103005716947568, 7.777583316512939, 6.796754063501213, 8.270059801610733, 7.723516095242664, 7.895366352169322, 7.409858536387621, 8.365369981415057, 8.270059801610733, 7.141594549792942, 6.883765440490842, 7.3357505642339, 8.470730497072886, 7.895366352169322, 6.906754958715541, 8.270059801610733, 5.2697923728913505, 7.3357505642339, 6.540820689364012, 8.365369981415057, 5.410459702381322, 4.9090533005318235, 5.726312651799799, 5.586550709424641, 7.266757692746948, 7.959904873306893, 8.103005716947568, 7.409858536387621, 7.084436135952994, 6.337221734122773, 6.190618259930897, 7.3357505642339, 5.5620096005085236, 6.103606882941268, 7.532460858479954, 8.270059801610733, 7.834741730352888, 6.5570812102357925, 8.470730497072886, 7.777583316512939, 8.183048424621104, 6.678971027844829, 7.202219171609377, 6.524820348017571, 7.057037161764879, 7.834741730352888, 8.470730497072886, 4.85981258442866, 7.834741730352888, 7.4899012440611585, 5.420931002248618, 8.470730497072886, 8.183048424621104, 7.777583316512939, 8.365369981415057, 6.062784888421012, 6.103606882941268, 7.409858536387621, 8.103005716947568, 8.365369981415057, 7.777583316512939, 8.365369981415057, 5.1345655856815835, 7.233967869923958, 8.028897744793845, 7.300659244422629, 8.103005716947568, 8.365369981415057, 8.103005716947568, 8.470730497072886, 5.863934029675847, 6.093244095905721, 6.796754063501213, 8.103005716947568, 6.448447369232997, 8.470730497072886, 5.823767987950513, 7.62343263668568, 6.954383007704796, 6.906754958715541, 7.959904873306893, 7.576912621050788, 8.365369981415057, 6.448447369232997, 7.266757692746948, 5.670742800644989, 7.959904873306893, 7.6722228008551125, 7.895366352169322, 8.470730497072886, 5.77760594618735, 7.4899012440611585, 6.861292584638784, 7.777583316512939, 8.028897744793845, 8.183048424621104, 7.532460858479954, 7.266757692746948, 8.470730497072886, 6.716711355827677, 5.888831581297574, 7.959904873306893, 6.2612358271448505, 6.2612358271448505, 8.028897744793845, 7.409858536387621, 7.895366352169322, 8.470730497072886, 5.55596728605256, 7.084436135952994, 7.959904873306893, 8.470730497072886, 7.372118208404775, 8.103005716947568, 5.657319780312848, 5.599050872188872, 7.777583316512939, 6.906754958715541, 5.251854672204684, 6.273505919736665, 7.834741730352888, 6.285928439735222, 6.796754063501213, 7.449079249540903, 8.028897744793845, 6.861292584638784, 7.084436135952994, 7.723516095242664, 7.895366352169322, 7.959904873306893, 8.365369981415057, 7.576912621050788, 7.030368914682718, 7.084436135952994, 8.028897744793845, 7.3357505642339, 7.171447512942623, 6.5570812102357925, 6.979075620295167, 7.057037161764879, 6.093244095905721, 7.11260701291969, 5.6843484527007675, 6.0829875957385315, 4.287832537509338, 6.540820689364012, 6.4194598323597445, 6.033226086179468, 6.861292584638784, 4.536728584925964, 5.0119632635892515, 6.979075620295167, 7.62343263668568, 8.183048424621104, 7.576912621050788, 7.3357505642339, 5.664008768463645, 6.20204695575452, 7.6722228008551125, 6.463262455018137, 8.103005716947568, 6.660621889176633, 7.4899012440611585, 7.777583316512939, 6.796754063501213, 6.213607778155596, 8.365369981415057, 6.004515980297037, 6.157095567892254, 8.365369981415057, 7.372118208404775, 8.270059801610733, 7.409858536387621, 8.183048424621104, 8.183048424621104, 6.954383007704796, 7.723516095242664, 7.141594549792942, 5.580358739176719, 6.2612358271448505, 8.103005716947568, 8.028897744793845, 8.365369981415057, 7.62343263668568, 7.372118208404775, 7.202219171609377, 7.576912621050788, 6.285928439735222, 7.266757692746948, 8.270059801610733, 8.028897744793845, 6.861292584638784, 8.103005716947568, 7.141594549792942, 8.183048424621104, 7.449079249540903, 7.3357505642339, 7.141594549792942, 8.270059801610733, 7.141594549792942, 7.532460858479954, 5.705110444149197, 6.103606882941268, 8.183048424621104, 7.532460858479954, 6.755932068980957, 4.671502985790083, 7.233967869923958, 7.62343263668568, 6.817807472699045, 5.77760594618735, 6.20204695575452, 7.723516095242664, 5.855770719036686, 5.251854672204684, 8.470730497072886, 7.723516095242664, 8.028897744793845, 8.270059801610733, 7.141594549792942, 7.532460858479954, 6.954383007704796, 7.723516095242664, 7.449079249540903, 8.365369981415057, 5.463948387332309, 7.0043934282794575, 8.103005716947568, 6.093244095905721, 6.363889981204934, 8.103005716947568, 8.470730497072886, 7.834741730352888, 8.183048424621104, 5.243005056927701, 7.959904873306893, 7.300659244422629, 6.930285456125736, 8.470730497072886, 8.183048424621104, 7.895366352169322, 7.372118208404775, 7.959904873306893, 4.618221619177146, 5.453019316800118, 5.618099067159567, 5.880463331627058, 8.470730497072886, 6.906754958715541, 7.030368914682718, 8.103005716947568, 8.103005716947568, 5.800420623953522, 7.6722228008551125, 8.270059801610733, 7.62343263668568, 8.028897744793845, 6.590417630503384, 7.834741730352888, 6.660621889176633, 8.183048424621104, 8.270059801610733, 6.979075620295167, 7.62343263668568, 6.5570812102357925, 7.300659244422629, 5.770115274458193, 6.179318704676964, 6.736129441684778, 6.433848569811844, 6.524820348017571, 8.270059801610733, 7.171447512942623, 6.493567804513467, 6.463262455018137, 8.103005716947568, 7.6722228008551125, 4.072174560447792, 7.895366352169322, 5.657319780312848, 5.260783302948985, 7.0043934282794575, 6.736129441684778, 5.914364883302739, 6.311246247719512, 8.270059801610733, 6.660621889176633, 6.861292584638784, 6.493567804513467, 7.202219171609377, 6.660621889176633, 6.311246247719512, 8.270059801610733, 8.270059801610733, 5.995126239947197, 6.524820348017571, 8.183048424621104, 6.062784888421012, 7.834741730352888, 5.431513111579155, 5.97660719217996, 6.5570812102357925, 7.723516095242664, 7.372118208404775, 8.270059801610733, 6.573610512187003, 6.930285456125736, 6.716711355827677, 8.270059801610733, 8.103005716947568, 6.590417630503384, 6.776134776298477, 7.11260701291969, 5.8721645288123625, 5.839641337106802, 6.5570812102357925, 8.270059801610733, 6.540820689364012, 7.834741730352888, 7.959904873306893, 8.365369981415057, 7.3357505642339, 7.6722228008551125, 5.5620096005085236, 8.270059801610733, 7.834741730352888, 7.576912621050788, 6.883765440490842, 8.028897744793845, 7.3357505642339, 7.723516095242664, 7.959904873306893, 6.540820689364012, 7.300659244422629, 7.4899012440611585, 8.103005716947568, 7.959904873306893, 8.103005716947568, 7.895366352169322, 8.270059801610733, 6.5090719910494315, 6.678971027844829, 6.839313677920009, 5.436846457554517, 8.470730497072886, 8.470730497072886, 7.3357505642339, 7.171447512942623, 5.967474708616687, 8.470730497072886, 4.534557031412455, 6.716711355827677, 6.004515980297037, 7.11260701291969, 8.270059801610733, 7.0043934282794575, 7.895366352169322, 7.3357505642339, 8.103005716947568, 7.266757692746948, 8.365369981415057, 5.65067523759418, 7.777583316512939, 7.959904873306893, 8.470730497072886, 7.171447512942623, 7.6722228008551125, 6.157095567892254, 5.863934029675847, 6.796754063501213, 8.470730497072886, 7.959904873306893, 7.959904873306893, 8.470730497072886, 5.800420623953522, 6.135355581255848, 5.888831581297574, 7.030368914682718, 7.266757692746948, 8.183048424621104, 7.372118208404775, 7.895366352169322, 4.3969666425508045, 6.736129441684778, 7.834741730352888, 6.697663160856982, 6.817807472699045, 5.53805635948603, 7.6722228008551125, 8.365369981415057, 8.183048424621104, 7.300659244422629, 7.777583316512939, 7.62343263668568, 7.084436135952994, 6.624903806574554, 8.183048424621104, 8.470730497072886, 8.365369981415057, 8.365369981415057, 6.883765440490842, 6.979075620295167, 8.270059801610733, 6.817807472699045, 7.895366352169322, 8.270059801610733, 8.103005716947568, 7.300659244422629, 8.470730497072886, 8.183048424621104, 7.300659244422629, 8.365369981415057, 7.723516095242664, 4.16516502849348, 8.270059801610733, 8.470730497072886, 7.3357505642339, 6.930285456125736, 4.82151629935138, 7.959904873306893, 7.723516095242664, 8.470730497072886, 7.895366352169322, 8.103005716947568, 8.365369981415057, 4.637269814147841, 5.592781259175277, 7.4899012440611585, 7.409858536387621, 5.274327528056742, 6.776134776298477, 5.923022946045854, 7.959904873306893, 8.470730497072886, 8.103005716947568, 7.959904873306893, 7.171447512942623, 7.3357505642339, 8.365369981415057, 6.979075620295167, 7.576912621050788, 4.899634078615332, 4.131263476817798, 8.028897744793845, 6.755932068980957, 6.524820348017571, 7.62343263668568, 7.532460858479954, 4.197155570626502, 7.084436135952994, 7.6722228008551125, 7.202219171609377, 8.470730497072886, 8.028897744793845, 3.5282947384441843, 6.930285456125736, 4.727783821688672, 6.776134776298477, 7.895366352169322, 6.32414965255542, 8.470730497072886, 7.895366352169322, 7.723516095242664, 8.470730497072886, 7.266757692746948, 4.967511501018418, 5.719195184030935, 5.586550709424641, 6.405275197367788, 6.405275197367788, 8.270059801610733, 8.470730497072886, 7.3357505642339, 7.62343263668568, 8.103005716947568, 8.365369981415057, 7.6722228008551125, 7.62343263668568, 7.532460858479954, 8.470730497072886, 8.365369981415057, 6.540820689364012, 8.028897744793845, 8.270059801610733, 5.526291517906444, 7.4899012440611585, 7.62343263668568, 6.249114466612506, 7.233967869923958, 8.470730497072886, 8.365369981415057, 7.171447512942623, 7.62343263668568, 7.834741730352888, 7.0043934282794575, 5.785153151822733, 6.273505919736665, 8.365369981415057, 7.959904873306893, 8.365369981415057, 6.033226086179468, 7.62343263668568, 6.062784888421012, 7.171447512942623, 6.954383007704796, 7.372118208404775, 8.103005716947568, 8.470730497072886, 7.62343263668568, 8.470730497072886, 6.954383007704796, 5.97660719217996, 7.372118208404775, 8.365369981415057, 4.689069309507982, 4.754452068770833, 6.4194598323597445, 5.69122133198853, 5.508899775194575, 8.103005716947568, 7.895366352169322, 8.470730497072886, 8.183048424621104, 6.573610512187003, 7.777583316512939, 6.716711355827677, 7.3357505642339, 7.532460858479954, 8.103005716947568, 6.736129441684778, 7.300659244422629, 5.520460597595651, 7.62343263668568, 7.959904873306893, 7.62343263668568, 8.028897744793845, 8.470730497072886, 6.660621889176633, 8.183048424621104, 8.470730497072886, 7.449079249540903, 7.723516095242664, 4.9608448096602284, 6.042982261124832, 5.463948387332309, 8.470730497072886, 5.733481141278412, 8.470730497072886, 7.532460858479954, 7.959904873306893, 6.377495633260713, 7.895366352169322, 6.405275197367788, 7.6722228008551125, 8.270059801610733, 5.631002471995474, 8.028897744793845, 6.377495633260713, 6.157095567892254, 8.103005716947568, 7.532460858479954, 7.895366352169322, 7.959904873306893, 6.433848569811844, 7.834741730352888, 8.365369981415057, 8.103005716947568, 8.103005716947568, 7.834741730352888, 8.103005716947568, 7.532460858479954, 8.470730497072886, 7.4899012440611585, 8.103005716947568, 7.3357505642339, 7.3357505642339, 5.1385259868976805, 7.409858536387621, 7.959904873306893, 8.365369981415057, 7.372118208404775, 8.028897744793845, 7.6722228008551125, 8.103005716947568, 8.365369981415057, 6.157095567892254, 7.895366352169322, 7.834741730352888, 8.028897744793845, 6.906754958715541, 8.028897744793845, 7.6722228008551125, 8.183048424621104, 6.042982261124832, 7.777583316512939, 7.834741730352888, 8.470730497072886, 7.300659244422629, 6.930285456125736, 8.103005716947568, 6.930285456125736, 7.834741730352888, 7.834741730352888, 7.895366352169322, 8.103005716947568, 8.183048424621104, 7.834741730352888, 7.895366352169322, 7.834741730352888, 8.270059801610733, 7.959904873306893, 8.183048424621104, 8.470730497072886, 7.141594549792942, 6.776134776298477, 7.834741730352888, 6.052834557567844, 6.817807472699045, 8.365369981415057, 6.2612358271448505, 8.270059801610733, 8.103005716947568, 7.723516095242664, 6.861292584638784, 8.365369981415057, 3.8600201307091777, 8.470730497072886, 7.959904873306893, 7.084436135952994, 6.225303817918787, 8.365369981415057, 7.4899012440611585, 7.834741730352888, 8.028897744793845, 8.470730497072886, 8.028897744793845, 7.959904873306893, 5.297317046281441, 7.723516095242664, 8.103005716947568, 8.270059801610733, 8.028897744793845, 6.883765440490842, 7.449079249540903, 7.4899012440611585, 7.409858536387621, 7.723516095242664, 7.233967869923958, 7.834741730352888, 8.028897744793845, 6.660621889176633, 7.449079249540903, 6.716711355827677, 8.183048424621104, 8.103005716947568, 8.183048424621104, 8.365369981415057, 5.847673508804067, 7.62343263668568, 7.233967869923958, 6.093244095905721, 8.270059801610733, 5.486171524117019, 7.449079249540903, 8.365369981415057, 7.834741730352888, 8.270059801610733, 7.171447512942623, 8.103005716947568, 7.62343263668568, 7.576912621050788, 5.022508176765866, 7.62343263668568, 8.270059801610733, 8.470730497072886, 6.697663160856982, 7.576912621050788, 8.365369981415057, 7.3357505642339, 5.405264885504218, 7.959904873306893, 7.057037161764879, 4.042562706401148, 4.385688327513098, 8.470730497072886, 8.183048424621104, 7.723516095242664, 8.365369981415057, 8.270059801610733, 6.573610512187003, 8.183048424621104, 7.834741730352888, 8.365369981415057, 6.861292584638784, 6.817807472699045, 7.6722228008551125, 7.576912621050788, 6.5570812102357925, 6.377495633260713, 5.6843484527007675, 8.270059801610733, 8.365369981415057, 8.365369981415057, 7.576912621050788, 4.435507057858581, 7.202219171609377, 7.895366352169322, 6.093244095905721, 5.839641337106802, 8.028897744793845, 7.11260701291969, 7.895366352169322, 8.365369981415057, 8.103005716947568, 8.103005716947568, 5.6843484527007675, 7.6722228008551125, 7.4899012440611585, 8.470730497072886, 8.470730497072886, 8.270059801610733, 8.183048424621104, 7.959904873306893, 6.062784888421012, 7.030368914682718, 7.895366352169322, 6.5570812102357925, 7.532460858479954, 8.183048424621104, 7.62343263668568, 8.270059801610733, 8.470730497072886, 7.202219171609377, 8.470730497072886, 7.959904873306893, 7.959904873306893, 8.270059801610733, 7.0043934282794575, 8.028897744793845, 6.678971027844829, 8.270059801610733, 8.270059801610733, 8.103005716947568, 8.270059801610733, 7.723516095242664, 6.716711355827677, 7.576912621050788, 6.883765440490842, 8.183048424621104, 8.103005716947568, 5.453019316800118, 8.183048424621104, 8.365369981415057, 8.365369981415057, 8.103005716947568, 7.300659244422629, 6.190618259930897, 8.365369981415057, 6.906754958715541, 7.777583316512939, 5.354749095367317, 6.493567804513467, 6.678971027844829, 6.716711355827677, 7.959904873306893, 7.777583316512939, 8.270059801610733, 5.532156637358842, 7.300659244422629, 6.954383007704796, 8.365369981415057, 8.470730497072886, 7.959904873306893, 5.340078905619523, 7.834741730352888, 6.590417630503384, 8.365369981415057, 8.270059801610733, 8.028897744793845, 7.449079249540903, 8.470730497072886, 6.01399472425158, 5.394955515845357, 7.030368914682718, 8.183048424621104, 5.823767987950513, 8.470730497072886, 6.736129441684778, 8.365369981415057, 7.959904873306893, 6.540820689364012, 8.365369981415057, 8.270059801610733, 7.4899012440611585, 8.270059801610733, 8.028897744793845, 8.028897744793845, 5.624529957489857, 7.895366352169322, 7.3357505642339, 7.532460858479954, 8.103005716947568, 8.103005716947568, 7.266757692746948, 8.470730497072886, 8.470730497072886, 7.141594549792942, 8.270059801610733, 7.576912621050788, 8.365369981415057, 7.11260701291969, 8.028897744793845, 7.576912621050788, 7.409858536387621, 6.861292584638784, 7.6722228008551125, 8.270059801610733, 8.365369981415057, 7.576912621050788, 3.990871613161968, 6.168145404078839, 7.0043934282794575, 4.441418405121638, 7.141594549792942, 6.5570812102357925, 7.723516095242664, 6.249114466612506, 7.4899012440611585, 4.937855291435529, 8.270059801610733, 7.959904873306893, 3.8589157683661246, 6.697663160856982, 6.062784888421012, 7.6722228008551125, 7.266757692746948, 7.409858536387621, 5.985823847284884, 7.3357505642339, 7.171447512942623, 3.5259184997023008, 7.777583316512939, 4.025468273041847, 8.103005716947568, 8.365369981415057, 7.576912621050788, 8.470730497072886, 6.796754063501213, 8.470730497072886, 8.365369981415057, 8.470730497072886, 8.028897744793845, 8.183048424621104, 7.834741730352888, 5.480569268568349, 7.959904873306893, 8.470730497072886, 7.959904873306893, 7.057037161764879, 8.365369981415057, 7.266757692746948, 4.646931725059577, 7.030368914682718, 6.736129441684778, 8.270059801610733, 4.122605414074684, 5.543991095005845, 6.225303817918787, 7.4899012440611585, 5.740701389251899, 8.103005716947568, 6.0829875957385315, 6.448447369232997, 6.135355581255848, 5.967474708616687, 8.365369981415057, 4.485870167692472, 5.95842487309677, 7.959904873306893, 8.270059801610733, 5.384751345671115, 7.777583316512939, 7.6722228008551125, 7.202219171609377, 8.365369981415057, 8.270059801610733, 7.777583316512939, 6.093244095905721, 7.11260701291969, 7.777583316512939, 7.959904873306893, 8.470730497072886, 6.2371382755657905, 5.618099067159567, 6.2371382755657905, 6.225303817918787, 7.4899012440611585, 8.028897744793845, 8.470730497072886, 8.470730497072886, 8.183048424621104, 7.895366352169322, 8.470730497072886, 5.126691529250677, 8.470730497072886, 5.586550709424641, 8.103005716947568, 5.008472858649482, 4.618221619177146, 8.270059801610733, 8.470730497072886, 6.624903806574554, 6.716711355827677, 8.365369981415057, 8.470730497072886, 4.735709886961093, 5.670742800644989, 7.372118208404775, 7.030368914682718, 7.171447512942623, 8.365369981415057, 6.590417630503384, 6.337221734122773, 8.103005716947568, 8.028897744793845, 6.448447369232997, 6.642603383673954, 8.365369981415057, 7.532460858479954, 7.895366352169322, 7.171447512942623, 8.470730497072886, 7.449079249540903, 8.103005716947568, 8.365369981415057, 8.028897744793845, 8.470730497072886, 8.470730497072886, 6.906754958715541, 7.141594549792942, 7.777583316512939, 7.777583316512939, 8.103005716947568, 7.0043934282794575, 7.6722228008551125, 7.409858536387621, 7.959904873306893, 8.365369981415057, 8.270059801610733, 6.179318704676964, 8.028897744793845, 8.270059801610733, 8.270059801610733, 8.270059801610733, 8.103005716947568, 7.834741730352888, 7.057037161764879, 8.103005716947568, 7.3357505642339, 5.491805341835275, 8.270059801610733, 7.084436135952994, 8.470730497072886, 6.3912889553930485, 8.028897744793845, 7.723516095242664, 8.270059801610733, 5.880463331627058, 7.532460858479954, 6.135355581255848, 7.057037161764879, 8.183048424621104, 8.028897744793845, 7.372118208404775, 7.532460858479954, 5.97660719217996, 8.470730497072886, 5.480569268568349, 7.834741730352888, 8.270059801610733, 6.642603383673954, 7.171447512942623, 7.6722228008551125, 6.093244095905721, 4.964172599752903, 7.723516095242664, 7.449079249540903, 7.895366352169322, 8.103005716947568, 6.20204695575452, 7.449079249540903, 8.028897744793845, 8.103005716947568, 7.723516095242664, 6.540820689364012, 7.3357505642339, 7.4899012440611585, 5.316096940933037, 5.325620822444293, 6.607512063862685, 6.755932068980957, 6.660621889176633, 5.2926766667249385, 5.099610570648007, 6.540820689364012, 7.372118208404775, 8.470730497072886, 7.895366352169322, 7.895366352169322, 8.028897744793845, 7.959904873306893, 7.777583316512939, 8.470730497072886, 8.470730497072886, 5.4475992493307785, 6.1246602921391, 8.470730497072886, 7.959904873306893, 7.3357505642339, 7.171447512942623, 8.270059801610733, 6.4194598323597445, 6.930285456125736, 8.270059801610733, 7.084436135952994, 8.470730497072886, 7.449079249540903, 7.3357505642339, 6.377495633260713, 4.59260904332042, 8.365369981415057, 7.777583316512939, 7.030368914682718, 7.532460858479954, 6.883765440490842, 6.433848569811844, 8.270059801610733, 7.895366352169322, 6.776134776298477, 6.093244095905721, 6.190618259930897, 7.449079249540903, 8.365369981415057, 6.3912889553930485, 7.084436135952994, 7.959904873306893, 6.660621889176633, 8.365369981415057, 8.028897744793845, 7.723516095242664, 6.776134776298477, 5.076968093898247, 6.930285456125736, 6.883765440490842, 6.285928439735222, 8.183048424621104, 7.959904873306893, 6.716711355827677, 8.183048424621104, 6.433848569811844, 6.285928439735222, 6.493567804513467, 6.1246602921391, 8.103005716947568, 8.365369981415057, 6.4194598323597445, 7.895366352169322, 6.4194598323597445, 6.1246602921391, 6.839313677920009, 7.409858536387621, 6.716711355827677, 7.959904873306893, 7.834741730352888, 8.028897744793845, 6.755932068980957, 7.6722228008551125, 6.906754958715541, 8.183048424621104, 5.605360041382137, 6.697663160856982, 7.266757692746948, 7.449079249540903, 6.493567804513467, 6.624903806574554, 8.183048424621104, 8.470730497072886, 7.834741730352888, 8.270059801610733, 8.270059801610733, 8.270059801610733, 8.103005716947568, 7.576912621050788, 8.365369981415057, 6.540820689364012, 7.576912621050788, 7.834741730352888, 8.103005716947568, 7.11260701291969, 5.785153151822733, 6.642603383673954, 7.959904873306893, 8.183048424621104, 4.92175188386895, 6.817807472699045, 7.449079249540903, 6.114078182808563, 8.183048424621104, 8.183048424621104, 8.183048424621104, 8.270059801610733, 6.363889981204934, 5.532156637358842, 5.436846457554517, 7.895366352169322, 8.183048424621104, 7.834741730352888, 7.834741730352888, 7.6722228008551125, 8.270059801610733, 7.62343263668568, 7.895366352169322, 8.470730497072886, 7.834741730352888, 8.183048424621104, 7.300659244422629, 8.103005716947568, 7.576912621050788, 7.959904873306893, 7.084436135952994, 8.028897744793845, 6.062784888421012, 5.995126239947197, 7.895366352169322, 8.270059801610733, 6.273505919736665, 7.030368914682718, 7.895366352169322, 6.642603383673954, 8.183048424621104, 8.470730497072886, 7.141594549792942, 6.32414965255542, 5.949456203114009, 8.028897744793845, 8.365369981415057, 8.365369981415057, 7.723516095242664, 8.103005716947568, 8.470730497072886, 7.449079249540903, 4.970861587903699, 6.062784888421012, 6.405275197367788, 5.431513111579155, 7.233967869923958, 7.895366352169322, 6.697663160856982, 6.072835224274514, 6.624903806574554, 6.642603383673954, 7.723516095242664, 4.856814081432404, 8.103005716947568, 7.171447512942623, 8.365369981415057, 8.270059801610733, 8.470730497072886, 4.918562088500851, 7.233967869923958, 7.409858536387621, 7.141594549792942, 6.590417630503384, 7.057037161764879, 5.580358739176719, 6.642603383673954, 7.233967869923958, 6.573610512187003, 7.576912621050788, 8.470730497072886, 5.931756626014608, 8.103005716947568, 6.716711355827677, 7.300659244422629, 8.183048424621104, 8.365369981415057, 4.627700363131689, 7.372118208404775, 7.409858536387621, 8.470730497072886, 7.959904873306893, 7.372118208404775, 5.995126239947197, 6.01399472425158, 6.624903806574554, 8.103005716947568, 6.2612358271448505, 7.300659244422629, 7.030368914682718, 6.979075620295167, 8.470730497072886, 8.470730497072886, 5.77760594618735, 7.62343263668568, 4.770801206772363, 8.365369981415057, 7.895366352169322, 8.365369981415057, 6.157095567892254, 7.834741730352888, 6.883765440490842, 7.171447512942623, 7.11260701291969, 8.183048424621104, 6.4194598323597445, 6.796754063501213, 7.62343263668568, 7.959904873306893, 7.576912621050788, 8.183048424621104, 6.573610512187003, 5.415681646362474, 5.664008768463645, 7.409858536387621, 6.979075620295167, 8.365369981415057, 8.270059801610733, 8.103005716947568, 8.470730497072886, 5.7553001886730515, 8.028897744793845, 7.141594549792942, 6.954383007704796, 8.183048424621104, 8.270059801610733, 5.374650249684612, 8.470730497072886, 5.1149954894874865, 6.624903806574554, 6.405275197367788, 5.631002471995474, 4.749061220135957, 7.233967869923958, 7.959904873306893, 8.103005716947568, 8.183048424621104, 5.004994594273158, 5.1385259868976805, 6.377495633260713, 6.103606882941268, 8.103005716947568, 8.028897744793845, 7.62343263668568, 8.470730497072886, 8.365369981415057, 6.755932068980957, 7.959904873306893, 7.959904873306893, 8.365369981415057, 7.959904873306893, 8.470730497072886, 6.861292584638784, 8.270059801610733, 7.6722228008551125, 8.365369981415057, 7.4899012440611585, 7.959904873306893, 8.470730497072886, 7.62343263668568, 6.755932068980957, 8.183048424621104, 6.883765440490842, 7.576912621050788, 8.028897744793845, 8.470730497072886, 7.409858536387621, 7.62343263668568, 6.839313677920009, 8.103005716947568, 6.716711355827677, 7.3357505642339, 7.084436135952994, 6.146166497360063, 8.103005716947568, 7.723516095242664, 7.532460858479954, 8.470730497072886, 7.576912621050788, 8.270059801610733, 8.103005716947568, 8.270059801610733, 8.103005716947568, 6.5570812102357925, 8.470730497072886, 7.372118208404775, 8.470730497072886, 8.365369981415057, 8.183048424621104, 7.723516095242664, 7.3357505642339, 6.01399472425158, 2.9804163082074746, 3.5211828949564667, 8.470730497072886, 8.183048424621104, 5.008472858649482, 5.069533115410729, 6.5570812102357925, 6.861292584638784, 7.6722228008551125, 6.249114466612506, 7.723516095242664, 8.270059801610733, 8.028897744793845, 6.590417630503384, 4.294635284832092, 5.611709269060796, 3.5507495712447597, 6.697663160856982, 7.62343263668568, 6.20204695575452, 7.6722228008551125, 7.834741730352888, 4.545462264894718, 6.861292584638784, 6.3912889553930485, 7.895366352169322, 8.365369981415057, 6.861292584638784, 6.906754958715541, 8.365369981415057, 5.985823847284884, 7.777583316512939, 8.183048424621104, 7.233967869923958, 4.915382435583471, 8.183048424621104, 8.103005716947568, 6.979075620295167, 8.470730497072886, 7.834741730352888, 7.372118208404775, 8.103005716947568, 8.028897744793845, 7.895366352169322, 8.365369981415057, 8.470730497072886, 7.4899012440611585, 8.270059801610733, 7.62343263668568, 7.409858536387621, 6.906754958715541, 8.365369981415057, 8.470730497072886, 8.365369981415057, 7.959904873306893, 8.103005716947568, 8.270059801610733, 8.470730497072886, 6.796754063501213, 8.103005716947568, 7.959904873306893, 8.270059801610733, 6.660621889176633, 8.470730497072886, 8.028897744793845, 7.11260701291969, 8.028897744793845, 6.930285456125736, 7.959904873306893, 4.9090533005318235, 5.97660719217996, 7.62343263668568, 5.297317046281441, 7.6722228008551125, 6.839313677920009, 7.777583316512939, 8.470730497072886, 4.749061220135957, 4.944369972456723, 6.678971027844829, 6.861292584638784, 5.316096940933037, 8.365369981415057, 6.642603383673954, 6.337221734122773, 7.895366352169322, 6.796754063501213, 6.716711355827677, 8.365369981415057, 7.895366352169322, 7.409858536387621, 8.028897744793845, 5.344945095270695, 8.103005716947568, 7.11260701291969, 8.183048424621104, 7.576912621050788, 6.540820689364012, 6.954383007704796, 7.723516095242664, 7.959904873306893, 6.493567804513467, 6.755932068980957, 7.266757692746948, 8.365369981415057, 8.103005716947568, 7.723516095242664, 7.834741730352888, 8.365369981415057, 6.135355581255848, 7.723516095242664, 8.103005716947568, 7.576912621050788, 7.959904873306893, 8.470730497072886, 6.861292584638784, 8.183048424621104, 7.777583316512939, 8.103005716947568, 6.883765440490842, 8.470730497072886, 8.103005716947568, 8.270059801610733, 7.0043934282794575, 7.62343263668568, 6.883765440490842, 7.834741730352888, 8.270059801610733, 5.923022946045854, 7.449079249540903, 7.895366352169322, 7.777583316512939, 7.141594549792942, 7.576912621050788, 7.834741730352888, 8.103005716947568, 8.365369981415057, 7.959904873306893, 6.755932068980957, 7.4899012440611585, 7.3357505642339, 7.959904873306893, 7.62343263668568, 6.377495633260713, 5.605360041382137, 8.103005716947568, 8.183048424621104, 6.776134776298477, 7.4899012440611585, 8.365369981415057, 8.365369981415057, 7.959904873306893, 7.409858536387621, 8.365369981415057, 8.470730497072886, 7.233967869923958, 8.103005716947568, 8.470730497072886, 6.463262455018137, 7.895366352169322, 7.6722228008551125, 5.344945095270695, 5.611709269060796, 7.11260701291969, 5.923022946045854, 4.563161841994118, 5.823767987950513, 5.532156637358842, 6.624903806574554, 8.470730497072886, 8.470730497072886, 7.6722228008551125, 7.895366352169322, 8.270059801610733, 7.834741730352888, 7.372118208404775, 8.028897744793845, 8.103005716947568, 7.233967869923958, 8.470730497072886, 8.270059801610733, 4.622949760373092, 7.449079249540903, 8.183048424621104, 5.532156637358842, 7.141594549792942, 8.470730497072886, 8.365369981415057, 8.470730497072886, 7.233967869923958, 8.028897744793845, 6.796754063501213, 8.365369981415057, 8.028897744793845, 8.270059801610733, 7.834741730352888, 7.084436135952994, 7.959904873306893, 8.270059801610733, 8.470730497072886, 4.70694973478583, 6.377495633260713, 6.697663160856982, 6.179318704676964, 8.183048424621104, 8.470730497072886, 7.895366352169322, 8.365369981415057, 8.470730497072886, 7.777583316512939, 7.576912621050788, 8.028897744793845, 8.365369981415057, 6.32414965255542, 7.372118208404775, 7.62343263668568, 8.270059801610733, 8.470730497072886, 6.776134776298477, 8.270059801610733, 8.470730497072886, 8.183048424621104, 8.470730497072886, 7.959904873306893, 8.365369981415057, 7.532460858479954, 8.183048424621104, 8.470730497072886, 8.365369981415057, 8.103005716947568, 7.895366352169322, 5.65067523759418, 6.930285456125736, 7.233967869923958, 6.930285456125736, 6.249114466612506, 8.103005716947568, 7.723516095242664, 8.270059801610733, 6.642603383673954, 7.576912621050788, 8.470730497072886, 8.183048424621104, 7.777583316512939, 7.300659244422629, 7.300659244422629, 7.834741730352888, 8.470730497072886, 8.028897744793845, 7.62343263668568, 6.3912889553930485, 5.897270449943439, 7.532460858479954, 5.426208059349461, 8.103005716947568, 7.233967869923958, 7.449079249540903, 6.5090719910494315, 7.895366352169322, 8.470730497072886, 8.103005716947568, 8.470730497072886, 7.084436135952994, 7.834741730352888, 8.028897744793845, 7.895366352169322, 7.084436135952994, 7.532460858479954, 8.028897744793845, 6.906754958715541, 7.300659244422629, 8.470730497072886, 8.103005716947568, 8.470730497072886, 6.817807472699045, 6.573610512187003, 8.365369981415057, 8.470730497072886, 7.834741730352888, 7.4899012440611585, 6.337221734122773, 8.365369981415057, 7.723516095242664, 7.62343263668568, 5.191491522477593, 8.103005716947568, 7.11260701291969, 7.409858536387621, 8.103005716947568, 7.895366352169322, 7.266757692746948, 7.0043934282794575, 6.954383007704796, 8.470730497072886, 7.959904873306893, 7.777583316512939, 7.449079249540903, 7.202219171609377, 8.270059801610733, 7.777583316512939, 7.409858536387621, 7.576912621050788, 8.270059801610733, 6.32414965255542, 7.834741730352888, 8.028897744793845, 8.365369981415057, 6.642603383673954, 5.586550709424641, 8.470730497072886, 5.914364883302739, 7.959904873306893, 5.985823847284884, 6.776134776298477, 5.5742048736023415, 8.470730497072886, 6.697663160856982, 5.592781259175277, 6.32414965255542, 8.103005716947568, 5.7553001886730515, 5.5146634799113246, 8.270059801610733, 6.817807472699045, 7.777583316512939, 7.202219171609377, 8.470730497072886, 7.6722228008551125, 2.5840093721134823, 3.358742708716341, 7.777583316512939, 6.103606882941268, 7.171447512942623, 7.777583316512939, 6.363889981204934, 8.270059801610733, 3.7161829100101924, 8.103005716947568, 8.183048424621104, 5.847673508804067, 5.55596728605256, 5.740701389251899, 7.834741730352888, 8.270059801610733, 5.77760594618735, 8.103005716947568, 7.409858536387621, 7.3357505642339, 7.084436135952994, 6.273505919736665, 8.103005716947568, 8.365369981415057, 7.777583316512939, 8.103005716947568, 8.365369981415057, 7.895366352169322, 8.183048424621104, 2.361482914308519, 6.883765440490842, 7.62343263668568, 7.576912621050788, 7.834741730352888, 7.372118208404775, 7.6722228008551125, 8.470730497072886, 8.103005716947568, 8.270059801610733, 6.146166497360063, 7.3357505642339, 7.895366352169322, 5.204123269383494, 8.365369981415057, 6.103606882941268, 8.270059801610733, 7.449079249540903, 8.470730497072886, 8.470730497072886, 8.270059801610733, 6.883765440490842, 7.895366352169322, 4.510976088823549, 7.576912621050788, 8.028897744793845, 7.11260701291969, 7.723516095242664, 6.4194598323597445, 8.103005716947568, 7.777583316512939, 5.02604800347099, 7.233967869923958, 7.233967869923958, 8.270059801610733, 7.576912621050788, 4.528070522182849, 8.270059801610733, 7.576912621050788, 8.270059801610733, 8.103005716947568, 6.906754958715541, 5.670742800644989, 8.270059801610733, 8.365369981415057, 5.9057811396113475, 7.723516095242664, 8.365369981415057, 6.817807472699045, 6.135355581255848, 8.270059801610733, 6.405275197367788, 7.202219171609377, 7.4899012440611585, 8.270059801610733, 7.777583316512939, 7.834741730352888, 8.365369981415057, 7.777583316512939, 6.168145404078839, 6.861292584638784, 7.834741730352888, 7.11260701291969, 7.4899012440611585, 8.183048424621104, 5.0119632635892515, 6.052834557567844, 7.141594549792942, 7.532460858479954, 6.157095567892254, 7.372118208404775, 7.3357505642339, 7.62343263668568, 7.6722228008551125, 6.839313677920009, 8.470730497072886, 8.183048424621104, 7.202219171609377, 7.266757692746948, 6.736129441684778, 6.716711355827677, 6.796754063501213, 8.103005716947568, 8.028897744793845, 7.834741730352888, 7.6722228008551125, 5.1385259868976805, 7.895366352169322, 7.532460858479954, 5.863934029675847, 7.6722228008551125, 5.8721645288123625, 7.372118208404775, 8.365369981415057, 7.723516095242664, 6.01399472425158, 8.028897744793845, 6.624903806574554, 7.449079249540903, 7.372118208404775, 7.6722228008551125, 6.607512063862685, 8.470730497072886, 8.365369981415057, 7.62343263668568, 8.183048424621104, 8.183048424621104, 7.532460858479954, 8.365369981415057, 8.365369981415057, 8.365369981415057, 6.32414965255542, 6.906754958715541, 7.409858536387621, 7.6722228008551125, 3.8891701767239266, 7.532460858479954, 5.415681646362474, 4.82151629935138, 4.974222935606404, 5.1227776299295416, 7.723516095242664, 5.208369560264945, 8.470730497072886, 7.576912621050788, 5.229875765485908, 5.624529957489857, 6.697663160856982, 6.590417630503384, 8.470730497072886, 6.213607778155596, 8.270059801610733, 8.365369981415057, 8.470730497072886, 5.2926766667249385, 5.340078905619523, 7.3357505642339, 8.270059801610733, 6.979075620295167, 7.834741730352888, 7.834741730352888, 6.20204695575452, 7.266757692746948, 8.270059801610733, 7.141594549792942, 8.103005716947568, 7.057037161764879, 7.6722228008551125, 7.62343263668568, 7.959904873306893, 6.524820348017571, 7.266757692746948, 8.365369981415057, 6.954383007704796, 8.365369981415057, 8.103005716947568, 8.183048424621104, 8.183048424621104, 8.103005716947568, 6.062784888421012, 6.377495633260713, 8.470730497072886, 7.834741730352888, 7.300659244422629, 7.3357505642339, 7.300659244422629, 7.834741730352888, 8.470730497072886, 7.266757692746948, 8.103005716947568, 7.449079249540903, 8.183048424621104, 8.365369981415057, 7.409858536387621, 7.6722228008551125, 7.723516095242664, 8.470730497072886, 6.249114466612506, 7.532460858479954, 8.103005716947568, 6.3912889553930485, 8.470730497072886, 8.183048424621104, 6.678971027844829, 7.171447512942623, 7.777583316512939, 7.959904873306893, 7.723516095242664, 7.4899012440611585, 7.057037161764879, 6.5090719910494315, 8.183048424621104, 8.183048424621104, 7.62343263668568, 7.030368914682718, 7.532460858479954, 6.405275197367788, 7.202219171609377, 8.470730497072886, 6.817807472699045, 5.808142670047432, 7.6722228008551125, 7.030368914682718, 7.959904873306893, 7.959904873306893, 8.365369981415057, 8.270059801610733, 7.777583316512939, 6.660621889176633, 6.839313677920009, 6.979075620295167, 7.895366352169322, 8.183048424621104, 8.103005716947568, 7.532460858479954, 6.311246247719512, 8.470730497072886, 6.624903806574554, 6.954383007704796, 8.103005716947568, 8.270059801610733, 8.183048424621104, 8.270059801610733, 7.6722228008551125, 8.365369981415057, 8.365369981415057, 8.470730497072886, 8.365369981415057, 7.233967869923958, 7.202219171609377, 7.834741730352888, 6.954383007704796, 7.723516095242664, 6.930285456125736, 7.777583316512939, 4.517352305962825, 7.171447512942623, 4.264380876474289, 8.028897744793845, 6.478300332382678, 6.678971027844829, 8.470730497072886, 7.030368914682718, 6.660621889176633, 8.183048424621104, 6.590417630503384, 4.694145462539843, 7.532460858479954, 7.576912621050788, 8.365369981415057, 6.463262455018137, 8.183048424621104, 5.088225248422882, 7.084436135952994, 4.741029048438692, 4.853824542584038, 8.270059801610733, 7.300659244422629, 8.470730497072886, 5.931756626014608, 8.270059801610733, 7.723516095242664, 4.370845754475168, 5.65067523759418, 7.6722228008551125, 8.470730497072886, 6.072835224274514, 7.959904873306893, 8.470730497072886, 8.028897744793845, 7.4899012440611585, 8.270059801610733, 8.183048424621104, 7.030368914682718, 8.270059801610733, 8.365369981415057, 7.4899012440611585, 7.895366352169322, 6.817807472699045, 7.532460858479954, 8.365369981415057, 8.365369981415057, 7.449079249540903, 6.285928439735222, 8.270059801610733, 8.183048424621104, 4.991201272140822, 7.576912621050788, 7.449079249540903, 6.678971027844829, 7.171447512942623, 6.716711355827677, 7.171447512942623, 5.208369560264945, 7.449079249540903, 8.270059801610733, 8.470730497072886, 5.130620807390567, 8.470730497072886, 6.776134776298477, 8.103005716947568, 8.470730497072886, 7.62343263668568, 5.586550709424641, 7.532460858479954, 7.084436135952994, 7.11260701291969, 6.337221734122773, 6.524820348017571, 6.642603383673954, 5.923022946045854, 8.183048424621104, 5.526291517906444, 7.202219171609377, 8.270059801610733, 7.266757692746948, 7.895366352169322, 6.796754063501213, 8.270059801610733, 8.103005716947568, 6.883765440490842, 2.050011979892723, 7.11260701291969, 6.906754958715541, 8.470730497072886, 5.306662908699678, 6.311246247719512, 5.97660719217996, 7.372118208404775, 6.478300332382678, 8.270059801610733, 8.470730497072886, 8.270059801610733, 8.183048424621104, 7.576912621050788, 8.470730497072886, 6.590417630503384, 4.5152223797049995, 5.015465894140453, 5.733481141278412, 6.839313677920009, 5.183158140918449, 7.895366352169322, 6.678971027844829, 6.023564175267731, 7.202219171609377, 4.918562088500851, 5.549961261992348, 7.171447512942623, 7.532460858479954, 7.777583316512939, 7.11260701291969, 8.103005716947568, 7.3357505642339, 6.540820689364012, 7.233967869923958, 8.270059801610733, 6.190618259930897, 8.365369981415057, 7.6722228008551125, 8.365369981415057, 7.030368914682718, 7.723516095242664, 7.030368914682718, 8.028897744793845, 6.607512063862685, 8.103005716947568, 7.834741730352888, 8.365369981415057, 8.470730497072886, 8.470730497072886, 8.270059801610733, 8.470730497072886, 6.930285456125736, 6.776134776298477, 8.270059801610733, 8.270059801610733, 6.817807472699045, 8.028897744793845, 7.576912621050788, 6.179318704676964, 5.283460011620015, 6.32414965255542, 7.4899012440611585, 7.6722228008551125, 6.433848569811844, 6.114078182808563, 8.183048424621104, 6.642603383673954, 7.959904873306893, 8.183048424621104, 7.62343263668568, 7.532460858479954, 5.325620822444293, 7.409858536387621, 5.520460597595651, 8.270059801610733, 8.183048424621104, 6.249114466612506, 7.532460858479954, 5.839641337106802, 8.470730497072886, 7.6722228008551125, 8.365369981415057, 7.532460858479954, 6.839313677920009, 8.470730497072886, 7.202219171609377, 8.270059801610733, 6.493567804513467, 6.930285456125736, 7.895366352169322, 7.3357505642339, 7.834741730352888, 7.576912621050788, 6.954383007704796, 8.470730497072886, 7.449079249540903, 8.183048424621104, 7.202219171609377, 7.895366352169322, 8.270059801610733, 8.183048424621104, 8.270059801610733, 7.959904873306893, 8.103005716947568, 7.777583316512939, 8.365369981415057, 7.11260701291969, 8.470730497072886, 5.9057811396113475, 7.576912621050788, 4.175715239388633, 8.028897744793845, 8.365369981415057, 7.6722228008551125, 7.409858536387621, 7.6722228008551125, 8.103005716947568, 8.470730497072886, 7.372118208404775, 8.365369981415057, 7.0043934282794575, 7.266757692746948, 8.028897744793845, 8.470730497072886, 7.233967869923958, 6.796754063501213, 7.62343263668568, 6.32414965255542, 7.233967869923958, 8.270059801610733, 7.959904873306893, 8.470730497072886, 8.270059801610733, 8.103005716947568, 7.300659244422629, 7.6722228008551125, 7.532460858479954, 8.270059801610733, 8.183048424621104, 7.723516095242664, 6.607512063862685, 7.3357505642339, 7.202219171609377, 8.270059801610733, 6.5090719910494315, 7.532460858479954, 7.723516095242664, 8.183048424621104, 8.270059801610733, 8.365369981415057, 6.377495633260713, 7.202219171609377, 7.202219171609377, 6.624903806574554, 6.796754063501213, 6.285928439735222, 6.5090719910494315, 7.233967869923958, 7.895366352169322, 6.540820689364012, 7.62343263668568, 8.470730497072886, 8.470730497072886, 8.103005716947568, 7.576912621050788, 8.270059801610733, 7.449079249540903, 7.723516095242664, 8.470730497072886, 8.103005716947568, 6.607512063862685, 6.273505919736665, 7.0043934282794575, 8.470730497072886, 7.266757692746948, 7.6722228008551125, 8.183048424621104, 7.6722228008551125, 8.028897744793845, 7.895366352169322, 8.183048424621104, 7.532460858479954, 8.183048424621104, 8.028897744793845, 8.470730497072886, 7.959904873306893, 6.573610512187003, 6.624903806574554, 7.723516095242664, 5.888831581297574, 6.157095567892254, 8.028897744793845, 7.4899012440611585, 6.624903806574554, 7.057037161764879, 6.004515980297037, 7.4899012440611585, 5.174893631068556, 7.4899012440611585, 3.5298820403647566, 8.183048424621104, 8.183048424621104, 8.183048424621104, 5.55596728605256, 8.365369981415057, 7.834741730352888, 6.4194598323597445, 7.233967869923958, 8.365369981415057, 7.723516095242664, 7.723516095242664, 7.3357505642339, 7.834741730352888, 8.183048424621104, 5.847673508804067, 8.365369981415057, 7.6722228008551125, 7.959904873306893, 6.930285456125736, 6.463262455018137, 8.183048424621104, 5.349835080564888, 7.372118208404775, 6.5090719910494315, 7.449079249540903, 5.580358739176719, 7.62343263668568, 5.967474708616687, 6.736129441684778, 6.405275197367788, 7.62343263668568, 8.183048424621104, 7.233967869923958, 7.409858536387621, 5.099610570648007, 6.033226086179468, 7.449079249540903, 5.480569268568349, 6.448447369232997, 5.880463331627058, 4.984375307070422, 5.179017348252417, 6.883765440490842, 6.883765440490842, 6.573610512187003, 7.4899012440611585, 7.895366352169322, 7.6722228008551125, 8.365369981415057, 5.611709269060796, 8.365369981415057, 6.463262455018137, 7.030368914682718, 7.959904873306893, 7.62343263668568, 8.028897744793845, 7.202219171609377, 8.183048424621104, 8.270059801610733, 8.365369981415057, 6.5090719910494315, 7.6722228008551125, 8.270059801610733, 7.834741730352888, 5.474998223518893, 7.723516095242664, 6.954383007704796, 8.183048424621104, 8.270059801610733, 5.705110444149197, 5.8721645288123625, 6.168145404078839, 6.716711355827677, 8.028897744793845, 7.3357505642339, 7.723516095242664, 7.266757692746948, 6.114078182808563, 7.576912621050788, 8.103005716947568, 7.62343263668568, 7.6722228008551125, 4.759872136240173, 5.154526328244121, 7.723516095242664, 7.0043934282794575, 6.072835224274514, 6.755932068980957, 7.532460858479954, 6.736129441684778, 8.103005716947568, 5.863934029675847, 7.409858536387621, 8.103005716947568, 5.158566737781126, 6.225303817918787, 7.0043934282794575, 8.270059801610733, 8.365369981415057, 7.895366352169322, 8.103005716947568, 8.103005716947568, 8.470730497072886, 8.270059801610733, 7.171447512942623, 8.103005716947568, 7.895366352169322, 8.103005716947568, 7.576912621050788, 7.723516095242664, 6.839313677920009, 7.62343263668568, 7.959904873306893, 7.959904873306893, 7.895366352169322, 7.723516095242664, 8.470730497072886, 7.300659244422629, 5.4475992493307785, 7.141594549792942, 8.365369981415057, 5.792757751207952, 8.270059801610733, 7.834741730352888, 8.470730497072886, 8.470730497072886, 7.3357505642339, 7.449079249540903, 8.270059801610733, 8.183048424621104, 8.470730497072886, 8.183048424621104, 5.118878989513884, 6.478300332382678, 8.270059801610733, 7.532460858479954, 5.808142670047432, 8.270059801610733, 6.311246247719512, 5.985823847284884, 8.470730497072886, 7.576912621050788, 8.270059801610733, 8.365369981415057, 8.470730497072886, 7.4899012440611585, 8.270059801610733, 5.415681646362474, 8.183048424621104, 7.959904873306893, 7.11260701291969, 6.839313677920009, 8.270059801610733, 8.365369981415057, 8.270059801610733, 8.183048424621104, 8.365369981415057, 8.470730497072886, 7.959904873306893, 7.777583316512939, 8.365369981415057, 8.365369981415057, 8.183048424621104, 4.847872144056742, 5.586550709424641, 7.4899012440611585, 8.270059801610733, 8.470730497072886, 7.959904873306893, 6.405275197367788, 7.834741730352888, 7.959904873306893, 8.028897744793845, 5.940567255696763, 6.524820348017571, 7.62343263668568, 8.103005716947568, 8.183048424621104, 5.815924810489487, 7.0043934282794575, 7.834741730352888, 7.532460858479954, 7.895366352169322, 7.141594549792942, 8.028897744793845, 6.861292584638784, 4.172689518472096, 7.300659244422629, 6.157095567892254, 7.834741730352888, 6.776134776298477, 8.183048424621104, 5.940567255696763, 5.605360041382137, 8.365369981415057, 8.470730497072886, 7.084436135952994, 6.042982261124832, 5.53805635948603, 8.028897744793845, 7.202219171609377, 6.839313677920009, 8.470730497072886, 7.057037161764879, 8.365369981415057, 6.524820348017571, 5.985823847284884, 6.4194598323597445, 8.270059801610733, 8.270059801610733, 5.677522487630368, 7.4899012440611585, 5.863934029675847, 8.183048424621104, 7.266757692746948, 8.270059801610733, 8.270059801610733, 6.3912889553930485, 8.028897744793845, 6.861292584638784, 6.817807472699045, 8.028897744793845, 8.365369981415057, 6.01399472425158, 8.270059801610733, 8.183048424621104, 8.028897744793845, 8.270059801610733, 6.405275197367788, 7.4899012440611585, 8.470730497072886, 6.660621889176633, 8.365369981415057, 4.751753011801668, 4.735709886961093, 6.607512063862685, 6.5090719910494315, 8.183048424621104, 7.777583316512939, 8.183048424621104, 8.028897744793845, 8.365369981415057, 8.470730497072886, 6.906754958715541, 7.62343263668568, 7.723516095242664, 6.755932068980957, 8.103005716947568, 7.372118208404775, 8.470730497072886, 8.470730497072886, 7.030368914682718, 7.532460858479954, 8.470730497072886, 6.624903806574554, 6.062784888421012, 8.028897744793845, 8.470730497072886, 4.977595620085044, 5.022508176765866, 7.895366352169322, 5.212633959051402, 8.365369981415057, 7.723516095242664, 5.216916620843403, 6.883765440490842, 7.233967869923958, 4.217484652264927, 6.861292584638784, 7.084436135952994, 5.384751345671115, 8.103005716947568, 6.463262455018137, 8.028897744793845, 7.449079249540903, 7.449079249540903, 8.365369981415057, 5.526291517906444, 8.365369981415057, 5.389840415178586, 4.336453224515413, 8.365369981415057, 8.183048424621104, 8.365369981415057, 6.660621889176633, 8.470730497072886, 6.273505919736665, 6.697663160856982, 7.6722228008551125, 6.930285456125736, 3.834923341622903, 5.486171524117019, 8.028897744793845, 6.979075620295167, 7.834741730352888, 8.028897744793845, 7.959904873306893, 7.171447512942623, 7.4899012440611585, 4.918562088500851, 8.270059801610733, 6.072835224274514, 7.532460858479954, 8.103005716947568, 6.930285456125736, 7.777583316512939, 6.861292584638784, 7.0043934282794575, 6.736129441684778, 5.491805341835275, 7.532460858479954, 7.723516095242664, 8.183048424621104, 7.11260701291969, 7.6722228008551125, 6.478300332382678, 7.084436135952994, 7.202219171609377, 7.959904873306893, 7.057037161764879, 7.409858536387621, 6.5570812102357925, 6.678971027844829, 5.53805635948603, 7.3357505642339, 6.433848569811844, 8.270059801610733, 7.4899012440611585, 7.834741730352888, 7.0043934282794575, 6.624903806574554, 8.470730497072886, 7.6722228008551125, 7.084436135952994, 8.470730497072886, 5.212633959051402, 7.030368914682718, 8.470730497072886, 7.532460858479954, 8.183048424621104, 6.103606882941268, 8.365369981415057, 8.103005716947568, 7.4899012440611585, 6.776134776298477, 7.959904873306893, 7.777583316512939, 7.3357505642339, 8.028897744793845, 7.372118208404775, 8.470730497072886, 8.183048424621104, 4.738365931019209, 6.861292584638784, 8.365369981415057, 6.135355581255848, 5.216916620843403, 7.266757692746948, 5.054826968021033, 5.154526328244121, 6.405275197367788, 8.365369981415057, 7.834741730352888, 7.959904873306893, 8.365369981415057, 7.300659244422629, 7.834741730352888, 8.183048424621104, 6.20204695575452, 8.270059801610733, 6.697663160856982, 7.300659244422629, 8.028897744793845, 5.800420623953522, 4.500438583520763, 7.6722228008551125, 6.157095567892254, 4.431585484205399, 6.524820348017571, 6.463262455018137, 8.270059801610733, 7.532460858479954, 7.895366352169322, 7.62343263668568, 6.478300332382678, 7.532460858479954, 5.033165471239855, 4.279393668863474, 6.062784888421012, 5.808142670047432, 7.030368914682718, 6.168145404078839, 6.540820689364012, 7.777583316512939, 8.470730497072886, 8.470730497072886, 6.642603383673954, 5.967474708616687, 7.141594549792942, 5.480569268568349, 7.834741730352888, 8.470730497072886, 7.895366352169322, 7.834741730352888, 4.733060878789516, 8.270059801610733, 5.611709269060796, 6.660621889176633, 6.363889981204934, 5.698141774833103, 7.0043934282794575, 6.839313677920009, 6.311246247719512, 7.449079249540903, 8.028897744793845, 8.103005716947568, 8.028897744793845, 7.3357505642339, 8.470730497072886, 7.777583316512939, 7.777583316512939, 8.270059801610733, 6.607512063862685, 7.3357505642339, 8.028897744793845, 7.409858536387621, 7.532460858479954, 6.817807472699045, 8.103005716947568, 7.030368914682718, 7.777583316512939, 7.62343263668568, 8.470730497072886, 5.800420623953522, 8.103005716947568, 8.470730497072886, 6.590417630503384, 7.449079249540903, 7.141594549792942, 6.3912889553930485, 8.470730497072886, 7.959904873306893, 6.311246247719512, 5.985823847284884, 5.762680295970674, 7.895366352169322, 7.266757692746948, 6.285928439735222, 8.028897744793845, 8.270059801610733, 8.270059801610733, 7.141594549792942, 6.350466960872794, 5.740701389251899, 7.11260701291969, 8.103005716947568, 5.95842487309677, 6.607512063862685, 6.32414965255542, 7.6722228008551125, 5.831673167457626, 7.777583316512939, 8.028897744793845, 7.449079249540903, 7.030368914682718, 5.400096915345776, 7.834741730352888, 4.741029048438692, 6.979075620295167, 7.895366352169322, 8.103005716947568, 8.103005716947568, 6.979075620295167, 7.895366352169322, 7.300659244422629, 5.949456203114009, 5.379688043714569, 8.270059801610733, 8.365369981415057, 7.834741730352888, 7.959904873306893, 8.103005716947568, 5.453019316800118, 8.183048424621104, 5.389840415178586, 7.6722228008551125, 8.470730497072886, 7.834741730352888, 8.183048424621104, 7.959904873306893, 7.723516095242664, 7.777583316512939, 8.028897744793845, 8.470730497072886, 8.470730497072886, 8.365369981415057, 8.183048424621104, 8.365369981415057, 7.895366352169322, 8.365369981415057, 8.365369981415057, 8.365369981415057, 7.057037161764879, 8.103005716947568, 8.470730497072886, 8.470730497072886, 7.959904873306893, 8.470730497072886, 4.380096514247319, 6.168145404078839, 5.897270449943439, 7.4899012440611585, 6.249114466612506, 6.311246247719512, 5.97660719217996, 3.5040083900665566, 8.470730497072886, 7.409858536387621, 5.330416994707786, 7.895366352169322, 5.931756626014608, 6.350466960872794, 5.195684400737629, 7.409858536387621, 7.895366352169322, 7.62343263668568, 8.470730497072886, 7.723516095242664, 5.503169100485589, 5.0119632635892515, 6.146166497360063, 6.157095567892254, 5.5742048736023415, 7.057037161764879, 7.576912621050788, 5.088225248422882, 8.470730497072886, 8.103005716947568, 5.040333960718467, 7.532460858479954, 8.470730497072886, 8.470730497072886, 4.8841298920793665, 7.300659244422629, 7.62343263668568, 6.697663160856982, 8.103005716947568, 8.028897744793845, 8.470730497072886, 8.028897744793845, 4.815752594634629, 8.470730497072886, 7.030368914682718, 6.168145404078839, 8.103005716947568, 5.967474708616687, 5.985823847284884, 5.187316151067113, 8.470730497072886, 8.103005716947568, 8.270059801610733, 8.270059801610733, 6.624903806574554, 5.586550709424641, 5.923022946045854, 4.833144337346498, 5.888831581297574, 5.10343466708641, 7.030368914682718, 8.028897744793845, 8.470730497072886, 6.979075620295167, 6.32414965255542, 8.470730497072886, 4.941107326821907, 8.103005716947568, 6.4194598323597445, 6.755932068980957, 5.058483279224144, 7.233967869923958, 3.47954233791215, 8.470730497072886, 7.959904873306893, 8.365369981415057, 6.5090719910494315, 7.532460858479954, 7.62343263668568, 8.028897744793845, 8.183048424621104, 7.895366352169322, 7.532460858479954, 7.171447512942623, 7.777583316512939, 6.736129441684778, 6.311246247719512, 7.4899012440611585, 4.451348973324238, 4.915382435583471, 6.285928439735222, 6.4194598323597445, 6.590417630503384, 6.5570812102357925, 5.278883344592603, 6.839313677920009, 8.470730497072886, 7.62343263668568, 8.470730497072886, 7.777583316512939, 8.183048424621104, 5.624529957489857, 8.470730497072886, 7.372118208404775, 7.372118208404775, 5.888831581297574, 7.62343263668568, 8.028897744793845, 8.270059801610733, 5.914364883302739, 8.028897744793845, 6.363889981204934, 8.470730497072886, 8.183048424621104, 6.478300332382678, 7.576912621050788, 8.270059801610733, 4.947643297801692, 8.270059801610733, 8.470730497072886, 4.893403528864695, 7.959904873306893, 7.449079249540903, 7.532460858479954, 7.834741730352888, 7.576912621050788, 7.372118208404775, 8.270059801610733, 8.270059801610733, 5.225537363887311, 7.11260701291969, 7.959904873306893, 7.6722228008551125, 6.32414965255542, 8.470730497072886, 7.959904873306893, 6.697663160856982, 8.365369981415057, 7.834741730352888, 8.470730497072886, 5.580358739176719, 6.930285456125736, 5.238609445454663, 7.723516095242664, 6.624903806574554, 5.288057720868644, 6.463262455018137, 4.987782465392037, 7.959904873306893, 6.954383007704796, 7.895366352169322, 8.183048424621104, 7.959904873306893, 6.135355581255848, 5.931756626014608, 6.1246602921391, 6.524820348017571, 8.365369981415057, 7.057037161764879, 7.959904873306893, 4.0586058312417235, 5.415681646362474, 6.448447369232997, 5.95842487309677, 6.4194598323597445, 5.420931002248618, 6.906754958715541, 5.508899775194575, 5.491805341835275, 8.183048424621104, 7.6722228008551125, 7.576912621050788, 5.288057720868644, 6.179318704676964, 8.028897744793845, 8.183048424621104, 7.576912621050788, 7.959904873306893, 8.365369981415057, 7.532460858479954, 7.372118208404775, 7.834741730352888, 8.103005716947568, 8.270059801610733, 8.365369981415057, 8.365369981415057, 8.470730497072886, 6.979075620295167, 7.959904873306893, 8.365369981415057, 7.959904873306893, 8.470730497072886, 8.028897744793845, 7.959904873306893, 7.777583316512939, 7.372118208404775, 6.350466960872794, 7.6722228008551125, 8.270059801610733, 7.895366352169322, 8.103005716947568, 5.624529957489857, 7.723516095242664, 8.183048424621104, 7.959904873306893, 8.365369981415057, 6.660621889176633, 7.959904873306893, 8.470730497072886, 8.270059801610733, 6.861292584638784, 6.796754063501213, 4.773552240144253, 8.470730497072886, 7.409858536387621, 7.202219171609377, 5.931756626014608, 7.266757692746948, 7.777583316512939, 8.028897744793845, 8.470730497072886, 8.270059801610733, 5.792757751207952, 8.365369981415057, 5.0367432925877385, 7.723516095242664, 6.906754958715541, 5.474998223518893, 7.895366352169322, 4.618221619177146, 6.311246247719512, 5.051183976742532, 7.141594549792942, 8.470730497072886, 8.470730497072886, 4.1026901043737425, 6.405275197367788, 7.372118208404775, 8.470730497072886, 4.406463390088062, 7.3357505642339, 5.97660719217996, 8.365369981415057, 7.030368914682718, 7.777583316512939, 5.1626235384767405, 7.723516095242664, 8.270059801610733, 5.839641337106802, 6.168145404078839, 7.959904873306893, 7.576912621050788, 6.906754958715541, 8.028897744793845, 8.270059801610733, 4.504640270374463, 4.654239918366303, 6.2612358271448505, 6.311246247719512, 8.183048424621104, 7.266757692746948, 5.400096915345776, 7.266757692746948, 7.62343263668568, 7.532460858479954, 5.221217702742794, 6.5090719910494315, 6.32414965255542, 4.304926970868639, 7.300659244422629, 7.62343263668568, 7.723516095242664, 6.5090719910494315, 6.817807472699045, 8.365369981415057, 5.839641337106802, 5.733481141278412, 8.270059801610733, 7.6722228008551125, 7.300659244422629, 6.796754063501213, 8.365369981415057, 7.266757692746948, 8.470730497072886, 8.270059801610733, 6.5570812102357925, 5.967474708616687, 7.959904873306893, 5.808142670047432, 8.365369981415057, 7.895366352169322, 6.624903806574554, 8.183048424621104, 6.540820689364012, 4.85981258442866, 6.624903806574554, 5.4974710793709525, 8.270059801610733, 7.11260701291969, 7.0043934282794575, 7.171447512942623, 6.624903806574554, 7.4899012440611585, 7.532460858479954, 8.470730497072886, 8.183048424621104, 7.723516095242664, 8.470730497072886, 4.984375307070422, 7.449079249540903, 6.114078182808563, 7.449079249540903, 6.906754958715541, 5.474998223518893, 5.469458043143278, 6.776134776298477, 7.11260701291969, 8.470730497072886, 8.270059801610733, 7.723516095242664, 7.202219171609377, 8.270059801610733, 6.573610512187003, 7.576912621050788, 7.895366352169322, 8.183048424621104, 8.270059801610733, 8.470730497072886, 5.359687377007899, 7.532460858479954, 5.65067523759418, 6.624903806574554, 8.103005716947568, 7.372118208404775, 8.470730497072886, 6.433848569811844, 8.183048424621104, 8.028897744793845, 7.777583316512939, 5.815924810489487, 7.233967869923958, 8.183048424621104, 8.470730497072886, 7.084436135952994, 6.817807472699045, 8.365369981415057, 7.084436135952994, 6.796754063501213, 8.365369981415057, 7.11260701291969, 7.723516095242664, 7.6722228008551125, 8.470730497072886, 6.796754063501213, 7.959904873306893, 7.11260701291969, 8.183048424621104, 7.300659244422629, 6.861292584638784, 8.183048424621104, 8.470730497072886, 7.4899012440611585, 5.831673167457626, 7.057037161764879, 7.141594549792942, 8.470730497072886, 8.270059801610733, 8.103005716947568, 6.716711355827677, 7.959904873306893, 7.409858536387621, 7.895366352169322, 8.365369981415057, 5.95842487309677, 8.103005716947568, 8.183048424621104, 6.776134776298477, 5.508899775194575, 8.365369981415057, 8.365369981415057, 6.213607778155596, 7.959904873306893, 6.062784888421012, 7.723516095242664, 7.532460858479954, 7.834741730352888, 8.028897744793845, 8.103005716947568, 7.834741730352888, 8.470730497072886, 7.0043934282794575, 7.895366352169322, 7.409858536387621, 8.270059801610733, 8.365369981415057, 7.6722228008551125, 7.959904873306893, 8.365369981415057, 8.470730497072886, 5.644074553562827, 8.365369981415057, 7.6722228008551125, 7.959904873306893, 6.796754063501213, 5.770115274458193, 8.270059801610733, 6.433848569811844, 8.270059801610733, 7.11260701291969, 8.103005716947568, 7.777583316512939, 7.62343263668568, 8.183048424621104, 5.491805341835275, 6.624903806574554, 8.183048424621104, 7.084436135952994, 8.028897744793845, 7.895366352169322, 8.270059801610733, 7.409858536387621, 8.183048424621104, 8.365369981415057, 8.028897744793845, 7.62343263668568, 8.365369981415057, 7.449079249540903, 4.8302246272431635, 4.6739936471025345, 5.2652776925368245, 7.959904873306893, 5.931756626014608, 3.6585461417004668, 5.234233070854864, 6.883765440490842, 6.817807472699045, 7.4899012440611585, 7.6722228008551125, 6.225303817918787, 6.157095567892254, 7.777583316512939, 5.234233070854864, 6.642603383673954, 6.337221734122773, 7.409858536387621, 7.895366352169322, 6.906754958715541, 8.365369981415057, 6.755932068980957, 5.719195184030935, 7.202219171609377, 5.747974148580979, 8.365369981415057, 8.470730497072886, 8.470730497072886, 8.183048424621104, 8.270059801610733, 7.532460858479954, 7.233967869923958, 7.959904873306893, 8.270059801610733, 4.508859685917171, 5.238609445454663, 8.365369981415057, 5.4584689215676825, 8.103005716947568, 6.4194598323597445, 5.831673167457626, 7.723516095242664, 6.573610512187003, 8.470730497072886, 6.930285456125736, 8.365369981415057, 8.270059801610733, 5.076968093898247, 8.270059801610733, 7.959904873306893, 8.103005716947568, 8.270059801610733, 7.233967869923958, 5.8721645288123625, 8.103005716947568, 8.028897744793845, 4.944369972456723, 7.895366352169322, 6.796754063501213, 7.62343263668568, 7.6722228008551125, 8.365369981415057, 5.995126239947197, 6.540820689364012, 7.409858536387621, 4.354407028132009, 6.4194598323597445, 7.141594549792942, 5.02604800347099, 6.930285456125736, 6.023564175267731, 6.883765440490842, 7.4899012440611585, 6.114078182808563, 8.365369981415057, 7.11260701291969, 5.726312651799799, 6.954383007704796, 8.270059801610733, 8.103005716947568, 8.365369981415057, 8.365369981415057, 8.365369981415057, 8.365369981415057, 6.736129441684778, 8.183048424621104, 7.576912621050788, 6.135355581255848, 7.202219171609377, 8.183048424621104, 7.141594549792942, 8.365369981415057, 7.409858536387621, 6.736129441684778, 6.906754958715541, 7.834741730352888, 5.95842487309677, 8.028897744793845, 5.0015283862966715, 7.372118208404775, 8.183048424621104, 7.11260701291969, 7.834741730352888, 7.3357505642339, 6.607512063862685, 7.202219171609377, 8.365369981415057, 5.888831581297574, 7.959904873306893, 6.213607778155596, 6.678971027844829, 7.777583316512939, 7.084436135952994, 8.270059801610733, 8.365369981415057, 5.364650166350028, 6.405275197367788, 7.723516095242664, 7.4899012440611585, 8.470730497072886, 8.365369981415057, 6.642603383673954, 8.365369981415057, 6.573610512187003, 7.959904873306893, 8.270059801610733, 7.030368914682718, 8.270059801610733, 8.103005716947568, 7.62343263668568, 8.270059801610733, 8.470730497072886, 7.895366352169322, 5.762680295970674, 8.470730497072886, 6.883765440490842, 7.0043934282794575, 8.183048424621104, 8.183048424621104, 8.365369981415057, 5.2926766667249385, 7.11260701291969, 8.365369981415057, 6.5090719910494315, 5.95842487309677, 8.270059801610733, 8.365369981415057, 8.365369981415057, 5.174893631068556, 8.183048424621104, 7.576912621050788, 6.736129441684778, 8.470730497072886, 7.959904873306893, 6.979075620295167, 6.4194598323597445, 8.365369981415057, 8.183048424621104, 6.135355581255848, 8.183048424621104, 8.270059801610733, 7.266757692746948, 3.8891701767239266, 7.576912621050788, 5.216916620843403, 7.409858536387621, 8.470730497072886, 6.298507221942082, 6.930285456125736, 5.940567255696763, 7.3357505642339, 7.834741730352888, 8.183048424621104, 7.030368914682718, 8.183048424621104, 8.183048424621104, 5.4584689215676825, 8.365369981415057, 8.270059801610733, 7.895366352169322, 6.954383007704796, 5.95842487309677, 6.463262455018137, 5.762680295970674, 6.157095567892254, 8.270059801610733, 7.777583316512939, 7.030368914682718, 8.365369981415057, 5.238609445454663, 7.895366352169322, 8.103005716947568, 4.565396479795535, 6.135355581255848, 5.033165471239855, 8.028897744793845, 7.834741730352888, 7.959904873306893, 7.576912621050788, 8.270059801610733, 8.028897744793845, 7.4899012440611585, 7.895366352169322, 8.470730497072886, 6.817807472699045, 7.084436135952994, 7.3357505642339, 7.409858536387621, 8.365369981415057, 7.11260701291969, 7.300659244422629, 7.576912621050788, 7.834741730352888, 7.959904873306893, 8.470730497072886, 7.202219171609377, 6.678971027844829, 8.365369981415057, 8.470730497072886, 4.70694973478583, 8.183048424621104, 8.470730497072886, 7.834741730352888, 6.979075620295167, 7.3357505642339, 8.183048424621104, 5.677522487630368, 8.365369981415057, 7.959904873306893, 7.777583316512939, 6.817807472699045, 7.895366352169322, 8.028897744793845, 7.266757692746948, 7.233967869923958, 7.895366352169322, 7.576912621050788, 8.183048424621104, 7.449079249540903, 8.183048424621104, 5.130620807390567, 5.212633959051402, 5.1505021779443965, 7.030368914682718, 6.660621889176633, 7.266757692746948, 5.733481141278412, 5.657319780312848, 5.8721645288123625, 8.270059801610733, 7.300659244422629, 7.576912621050788, 7.3357505642339, 6.2612358271448505, 8.270059801610733, 6.114078182808563, 5.77760594618735, 8.365369981415057, 8.103005716947568, 7.777583316512939, 8.183048424621104, 5.549961261992348, 8.270059801610733, 8.365369981415057, 8.028897744793845, 5.985823847284884, 7.895366352169322, 7.834741730352888, 8.470730497072886, 8.470730497072886, 7.409858536387621, 7.62343263668568, 8.470730497072886, 4.318816083029306, 8.183048424621104, 7.300659244422629, 8.365369981415057, 8.028897744793845, 8.470730497072886, 7.576912621050788, 8.103005716947568, 7.6722228008551125, 8.470730497072886, 8.470730497072886, 8.470730497072886, 8.470730497072886, 7.959904873306893, 8.365369981415057, 7.959904873306893, 7.723516095242664, 8.103005716947568, 8.470730497072886, 8.103005716947568, 6.979075620295167, 8.270059801610733, 7.449079249540903, 6.697663160856982, 7.057037161764879, 8.183048424621104, 5.526291517906444, 6.3912889553930485, 8.183048424621104, 6.861292584638784, 7.11260701291969, 8.470730497072886, 7.777583316512939, 7.959904873306893, 8.183048424621104, 8.183048424621104, 6.4194598323597445, 8.365369981415057, 6.883765440490842, 7.895366352169322, 8.183048424621104, 8.470730497072886, 8.470730497072886, 8.365369981415057, 8.028897744793845, 8.365369981415057, 8.103005716947568, 8.365369981415057, 3.823139595200841, 8.183048424621104, 8.365369981415057, 7.202219171609377, 4.209616791064313, 6.697663160856982, 6.906754958715541, 8.470730497072886, 6.573610512187003, 7.372118208404775, 7.409858536387621, 5.831673167457626, 7.576912621050788, 8.028897744793845, 6.716711355827677, 8.270059801610733, 6.590417630503384, 8.365369981415057, 8.103005716947568, 8.028897744793845, 6.906754958715541, 8.028897744793845, 7.372118208404775, 7.723516095242664, 8.470730497072886, 8.470730497072886, 7.372118208404775, 7.959904873306893, 8.470730497072886, 7.409858536387621, 8.470730497072886, 5.677522487630368, 4.950927373002882, 8.103005716947568, 8.470730497072886, 7.6722228008551125, 7.959904873306893, 8.365369981415057, 8.183048424621104, 8.028897744793845, 6.906754958715541, 6.072835224274514, 8.470730497072886, 6.817807472699045, 8.365369981415057, 6.1246602921391, 6.624903806574554, 6.285928439735222, 7.030368914682718, 8.270059801610733, 7.62343263668568, 8.365369981415057, 8.470730497072886, 8.470730497072886, 8.183048424621104, 4.639676554178406, 7.62343263668568, 5.9057811396113475, 7.057037161764879, 6.755932068980957, 8.028897744793845, 8.103005716947568, 6.861292584638784, 7.723516095242664, 7.3357505642339, 6.954383007704796, 7.834741730352888, 8.270059801610733, 7.300659244422629, 7.11260701291969, 6.052834557567844, 8.103005716947568, 7.62343263668568, 7.959904873306893, 7.233967869923958, 6.249114466612506, 6.179318704676964, 8.270059801610733, 7.723516095242664, 7.895366352169322, 8.270059801610733, 7.6722228008551125, 7.6722228008551125, 8.365369981415057, 7.834741730352888, 6.861292584638784, 7.171447512942623, 6.755932068980957, 3.8242051254028793, 8.028897744793845, 8.103005716947568, 8.270059801610733, 4.944369972456723, 8.028897744793845, 5.705110444149197, 5.785153151822733, 7.266757692746948, 6.954383007704796, 5.4475992493307785, 7.141594549792942, 6.697663160856982, 7.777583316512939, 6.524820348017571, 7.3357505642339, 7.834741730352888, 6.3912889553930485, 7.141594549792942, 8.028897744793845, 5.995126239947197, 8.470730497072886, 7.233967869923958, 8.470730497072886, 7.777583316512939, 5.863934029675847, 7.532460858479954, 7.449079249540903, 7.409858536387621, 7.959904873306893, 8.470730497072886, 8.270059801610733, 7.532460858479954, 6.493567804513467, 7.409858536387621, 7.959904873306893, 6.954383007704796, 7.62343263668568, 7.4899012440611585, 7.266757692746948, 7.959904873306893, 8.028897744793845, 8.365369981415057, 7.834741730352888, 6.839313677920009, 8.470730497072886, 5.204123269383494, 7.532460858479954, 6.590417630503384, 6.716711355827677, 8.270059801610733, 7.959904873306893, 8.183048424621104, 5.349835080564888, 6.590417630503384, 5.099610570648007, 7.959904873306893, 7.300659244422629, 8.103005716947568, 7.723516095242664, 8.365369981415057, 4.376385934850784, 3.742359877298636, 8.028897744793845, 8.103005716947568, 8.183048424621104, 8.270059801610733, 7.834741730352888, 8.365369981415057, 7.057037161764879, 8.028897744793845, 8.365369981415057, 8.470730497072886, 7.11260701291969, 5.670742800644989, 6.3912889553930485, 8.365369981415057, 7.834741730352888, 8.270059801610733, 6.839313677920009, 8.270059801610733, 7.532460858479954, 5.726312651799799, 7.409858536387621, 6.590417630503384, 7.266757692746948, 7.959904873306893, 8.270059801610733, 8.183048424621104, 7.895366352169322, 8.365369981415057, 8.270059801610733, 7.895366352169322, 7.723516095242664, 8.365369981415057, 7.62343263668568, 7.62343263668568, 8.470730497072886, 6.883765440490842, 8.028897744793845, 8.470730497072886, 6.337221734122773, 7.0043934282794575, 6.624903806574554, 8.470730497072886, 8.365369981415057, 3.7277326052894653, 4.622949760373092, 4.781851042958948, 8.270059801610733, 8.470730497072886, 8.365369981415057, 7.723516095242664, 7.084436135952994, 5.624529957489857, 7.449079249540903, 7.959904873306893, 7.777583316512939, 7.449079249540903, 6.524820348017571, 8.028897744793845, 6.979075620295167, 8.470730497072886, 8.028897744793845, 7.723516095242664, 6.883765440490842, 8.365369981415057, 8.103005716947568, 8.365369981415057, 5.374650249684612, 7.409858536387621, 6.697663160856982, 8.470730497072886, 8.270059801610733, 8.365369981415057, 7.409858536387621, 6.273505919736665, 8.183048424621104, 7.895366352169322, 7.3357505642339, 7.202219171609377, 7.895366352169322, 7.895366352169322, 8.470730497072886, 7.777583316512939, 7.895366352169322, 6.023564175267731, 8.103005716947568, 8.365369981415057, 5.174893631068556, 8.270059801610733, 7.777583316512939, 7.777583316512939, 6.817807472699045, 8.365369981415057, 7.141594549792942, 8.470730497072886, 4.998074151428584, 6.607512063862685, 7.409858536387621, 7.959904873306893, 5.53805635948603, 7.233967869923958, 8.028897744793845, 7.834741730352888, 8.028897744793845, 3.8611257140169273, 7.777583316512939, 7.777583316512939, 8.028897744793845, 8.365369981415057, 8.470730497072886, 6.114078182808563, 8.470730497072886, 8.270059801610733, 8.470730497072886, 4.251222791896778, 3.1504342238060725, 7.895366352169322, 7.4899012440611585, 5.831673167457626, 8.183048424621104, 6.052834557567844, 8.470730497072886, 6.861292584638784, 8.365369981415057, 8.470730497072886, 4.87799490351185, 6.062784888421012, 7.449079249540903, 8.103005716947568, 2.7298663475121514, 7.62343263668568, 8.270059801610733, 7.141594549792942, 6.377495633260713, 7.895366352169322, 8.365369981415057, 7.202219171609377, 8.470730497072886, 8.365369981415057, 8.028897744793845, 7.62343263668568, 5.3113687997370915, 7.233967869923958, 8.470730497072886, 8.183048424621104, 7.532460858479954, 6.285928439735222, 7.449079249540903, 3.2933260591901585, 7.576912621050788, 6.493567804513467, 5.520460597595651, 8.365369981415057, 4.622949760373092, 7.300659244422629, 7.723516095242664, 8.470730497072886, 7.6722228008551125, 6.930285456125736, 3.5282947384441843, 7.266757692746948, 5.726312651799799, 7.11260701291969, 6.755932068980957, 8.365369981415057, 8.365369981415057, 7.895366352169322, 7.141594549792942, 8.470730497072886, 6.930285456125736, 8.365369981415057, 7.895366352169322, 7.576912621050788, 6.4194598323597445, 7.0043934282794575, 8.470730497072886, 7.895366352169322, 8.103005716947568, 8.270059801610733, 6.052834557567844, 8.270059801610733, 7.4899012440611585, 6.573610512187003, 8.103005716947568, 8.028897744793845, 8.183048424621104, 7.959904873306893, 7.057037161764879, 6.590417630503384, 8.183048424621104, 8.470730497072886, 8.270059801610733, 8.183048424621104, 7.834741730352888, 6.093244095905721, 8.183048424621104, 7.3357505642339, 8.183048424621104, 7.4899012440611585, 8.028897744793845, 8.470730497072886, 5.664008768463645, 8.470730497072886, 7.372118208404775, 7.532460858479954, 7.6722228008551125, 5.568088646584905, 5.599050872188872, 7.895366352169322, 7.057037161764879, 7.266757692746948, 6.337221734122773, 6.839313677920009, 4.53022802032287, 8.470730497072886, 8.183048424621104, 7.4899012440611585, 6.861292584638784, 7.409858536387621, 6.839313677920009, 6.861292584638784, 7.834741730352888, 7.723516095242664, 6.642603383673954, 6.624903806574554, 7.6722228008551125, 8.183048424621104, 8.270059801610733, 3.5467026211645623, 5.073243694807265, 5.863934029675847, 4.947643297801692, 6.590417630503384, 7.6722228008551125, 7.895366352169322, 5.747974148580979, 6.642603383673954, 5.2652776925368245, 8.028897744793845, 8.103005716947568, 8.470730497072886, 8.270059801610733, 8.028897744793845, 8.103005716947568, 6.678971027844829, 5.823767987950513, 6.796754063501213, 6.755932068980957, 7.4899012440611585, 6.736129441684778, 6.930285456125736, 6.1246602921391, 6.493567804513467, 7.449079249540903, 8.103005716947568, 7.3357505642339, 8.028897744793845, 8.270059801610733, 7.532460858479954, 8.470730497072886, 7.959904873306893, 8.365369981415057, 7.723516095242664, 7.777583316512939, 7.11260701291969, 7.895366352169322, 8.470730497072886, 7.777583316512939, 8.470730497072886, 8.183048424621104, 7.895366352169322, 8.470730497072886, 6.5090719910494315, 7.959904873306893, 4.765321741007737, 8.183048424621104, 7.895366352169322, 8.028897744793845, 6.093244095905721, 3.6878791338473405, 4.611171061180479, 8.028897744793845, 5.808142670047432, 5.508899775194575, 6.573610512187003, 7.11260701291969, 5.179017348252417, 8.270059801610733, 8.183048424621104, 8.470730497072886, 7.057037161764879, 6.930285456125736, 8.365369981415057, 8.365369981415057, 8.365369981415057, 6.590417630503384, 8.470730497072886, 8.365369981415057, 7.4899012440611585, 7.6722228008551125, 5.888831581297574, 6.2371382755657905, 7.0043934282794575, 6.350466960872794, 7.6722228008551125, 8.183048424621104, 7.959904873306893, 8.365369981415057, 7.834741730352888, 8.103005716947568, 4.132713803395445, 7.372118208404775, 8.270059801610733, 7.030368914682718, 7.171447512942623, 7.895366352169322, 6.930285456125736, 6.906754958715541, 5.712128016807843, 7.4899012440611585, 6.697663160856982, 7.6722228008551125, 8.270059801610733, 7.576912621050788, 6.642603383673954, 5.480569268568349, 8.183048424621104, 8.103005716947568, 7.266757692746948, 8.183048424621104, 6.906754958715541, 8.270059801610733, 7.959904873306893, 4.754452068770833, 7.62343263668568, 8.470730497072886, 7.959904873306893, 5.1425021352773195, 7.895366352169322, 8.103005716947568, 8.270059801610733, 7.777583316512939, 7.372118208404775, 7.141594549792942, 7.141594549792942, 8.470730497072886, 8.028897744793845, 4.547657655458153, 4.967511501018418, 8.365369981415057, 7.084436135952994, 8.270059801610733, 7.723516095242664, 8.365369981415057, 7.6722228008551125, 8.103005716947568, 8.470730497072886, 8.365369981415057, 8.270059801610733, 8.270059801610733, 8.270059801610733, 8.365369981415057, 6.573610512187003, 8.270059801610733, 8.470730497072886, 6.954383007704796, 8.470730497072886, 6.979075620295167, 7.030368914682718, 7.266757692746948, 7.895366352169322, 6.930285456125736, 7.141594549792942, 7.4899012440611585, 8.028897744793845, 6.249114466612506, 8.270059801610733, 8.365369981415057, 7.834741730352888, 8.183048424621104, 8.470730497072886, 7.959904873306893, 6.493567804513467, 8.470730497072886, 6.930285456125736, 8.103005716947568, 8.028897744793845, 7.959904873306893, 4.286139057003005, 7.372118208404775, 7.895366352169322, 5.808142670047432, 7.0043934282794575, 7.959904873306893, 7.6722228008551125, 7.4899012440611585, 7.576912621050788, 8.270059801610733, 7.62343263668568, 7.084436135952994, 7.576912621050788, 8.470730497072886, 8.365369981415057, 7.4899012440611585, 7.576912621050788, 6.776134776298477, 8.183048424621104, 7.11260701291969, 8.183048424621104, 8.270059801610733, 8.365369981415057, 8.365369981415057, 7.576912621050788, 8.270059801610733, 7.532460858479954, 7.834741730352888, 4.128369118791435, 7.0043934282794575, 5.9057811396113475, 8.470730497072886, 8.365369981415057, 7.723516095242664, 6.697663160856982, 6.736129441684778, 6.337221734122773, 8.470730497072886, 7.3357505642339, 5.1227776299295416, 8.365369981415057, 7.777583316512939, 6.2612358271448505, 7.576912621050788, 8.103005716947568, 6.624903806574554, 5.712128016807843, 4.980979718069284, 7.895366352169322, 7.834741730352888, 8.183048424621104, 8.470730497072886, 8.365369981415057, 6.298507221942082, 6.337221734122773, 7.959904873306893, 6.930285456125736, 7.202219171609377, 7.6722228008551125, 8.365369981415057, 7.6722228008551125, 8.470730497072886, 8.183048424621104, 7.895366352169322, 8.470730497072886, 4.455348978657585, 8.103005716947568, 4.510976088823549, 5.568088646584905, 4.754452068770833, 7.4899012440611585, 7.084436135952994, 7.3357505642339, 4.804323898811006, 8.183048424621104, 7.895366352169322, 8.103005716947568, 3.666709452339628, 7.723516095242664, 8.270059801610733, 8.028897744793845, 7.202219171609377, 8.470730497072886, 8.028897744793845, 5.815924810489487, 7.300659244422629, 5.335236281143735, 4.620582895362826, 7.777583316512939, 8.365369981415057, 7.141594549792942, 7.576912621050788, 5.9057811396113475, 8.365369981415057, 6.861292584638784, 7.777583316512939, 7.532460858479954, 7.449079249540903, 7.4899012440611585, 6.716711355827677, 7.834741730352888, 6.179318704676964, 7.11260701291969, 6.930285456125736, 7.266757692746948, 8.028897744793845, 8.365369981415057, 8.270059801610733, 8.183048424621104, 5.657319780312848, 7.233967869923958, 7.576912621050788, 7.372118208404775, 5.503169100485589, 8.103005716947568, 7.233967869923958, 8.103005716947568, 8.103005716947568, 6.716711355827677, 8.270059801610733, 7.532460858479954, 5.187316151067113, 7.62343263668568, 7.895366352169322, 7.62343263668568, 8.103005716947568, 8.470730497072886, 7.723516095242664, 6.3912889553930485, 7.959904873306893, 7.959904873306893, 8.470730497072886, 7.959904873306893, 8.365369981415057, 4.3014846266776665, 3.5946853569493933, 7.300659244422629, 8.183048424621104, 7.233967869923958, 8.028897744793845, 8.365369981415057, 7.11260701291969, 7.777583316512939, 6.883765440490842, 8.470730497072886, 7.959904873306893, 7.3357505642339, 8.183048424621104, 7.959904873306893, 8.365369981415057, 8.103005716947568, 7.723516095242664, 7.895366352169322, 7.959904873306893, 5.657319780312848, 7.834741730352888, 4.306652596836109, 7.576912621050788, 7.233967869923958, 6.2612358271448505, 6.2612358271448505, 7.300659244422629, 6.5570812102357925, 8.470730497072886, 8.270059801610733, 7.895366352169322, 7.171447512942623, 7.266757692746948, 6.776134776298477, 5.747974148580979, 7.141594549792942, 7.6722228008551125, 8.470730497072886, 8.365369981415057, 7.4899012440611585, 7.834741730352888, 5.051183976742532, 7.959904873306893, 6.103606882941268, 7.030368914682718, 7.576912621050788, 8.183048424621104, 4.359856632899573, 3.8020639995256658, 5.503169100485589, 7.409858536387621, 7.6722228008551125, 8.270059801610733, 4.987782465392037, 8.103005716947568, 6.573610512187003, 5.580358739176719, 7.3357505642339, 7.834741730352888, 7.723516095242664, 8.470730497072886, 7.266757692746948, 8.270059801610733, 5.677522487630368, 7.959904873306893, 7.449079249540903, 7.409858536387621, 6.190618259930897, 5.420931002248618, 8.470730497072886, 6.540820689364012, 7.372118208404775, 6.062784888421012, 8.470730497072886, 8.365369981415057, 7.895366352169322, 7.895366352169322, 7.723516095242664, 7.959904873306893, 6.249114466612506, 7.266757692746948, 8.028897744793845, 8.183048424621104, 8.183048424621104, 4.701808335285412, 7.62343263668568, 7.576912621050788, 7.777583316512939, 8.365369981415057, 8.028897744793845, 4.634868852610302, 7.3357505642339, 4.902763971624259, 8.470730497072886, 6.463262455018137, 7.4899012440611585, 3.2870760388449876, 5.2926766667249385, 8.470730497072886, 5.792757751207952, 5.770115274458193, 7.4899012440611585, 5.278883344592603, 7.3357505642339, 7.834741730352888, 8.103005716947568, 7.6722228008551125, 7.409858536387621, 8.270059801610733, 8.365369981415057, 7.834741730352888, 7.409858536387621, 5.949456203114009, 7.777583316512939, 7.959904873306893, 8.270059801610733, 7.895366352169322, 8.365369981415057, 7.777583316512939, 7.372118208404775, 8.470730497072886, 8.365369981415057, 7.532460858479954, 8.183048424621104, 8.270059801610733, 8.270059801610733, 6.906754958715541, 8.270059801610733, 7.372118208404775, 8.470730497072886, 7.532460858479954, 6.817807472699045, 7.777583316512939, 7.834741730352888, 8.103005716947568, 8.470730497072886, 7.409858536387621, 8.183048424621104, 7.6722228008551125, 7.777583316512939, 8.470730497072886, 8.470730497072886, 8.183048424621104, 7.0043934282794575, 7.834741730352888, 7.576912621050788, 6.906754958715541, 7.576912621050788, 7.4899012440611585, 5.047554208691953, 8.470730497072886, 8.103005716947568, 8.270059801610733, 8.183048424621104, 4.145862276238951, 8.365369981415057, 8.270059801610733, 8.470730497072886, 8.270059801610733, 8.183048424621104, 6.042982261124832, 6.062784888421012, 7.895366352169322, 8.470730497072886, 6.755932068980957, 7.532460858479954, 7.576912621050788, 3.601488104272146, 4.59260904332042, 5.436846457554517, 8.270059801610733, 7.171447512942623, 7.141594549792942, 8.365369981415057, 7.171447512942623, 5.1626235384767405, 7.959904873306893, 6.405275197367788, 7.777583316512939, 7.62343263668568, 8.270059801610733, 8.183048424621104, 8.103005716947568, 6.072835224274514, 7.895366352169322, 7.372118208404775, 8.470730497072886, 8.470730497072886, 8.365369981415057, 8.365369981415057, 8.270059801610733, 8.470730497072886, 8.270059801610733, 8.470730497072886, 6.493567804513467, 7.532460858479954, 6.179318704676964, 6.716711355827677, 8.183048424621104, 8.183048424621104, 8.270059801610733, 7.030368914682718, 7.372118208404775, 7.300659244422629, 8.365369981415057, 8.183048424621104, 8.183048424621104, 7.409858536387621, 7.300659244422629, 7.084436135952994, 5.520460597595651, 6.906754958715541, 7.576912621050788, 4.347186780158522, 4.264380876474289, 8.103005716947568, 8.183048424621104, 6.225303817918787, 5.664008768463645, 6.190618259930897, 7.057037161764879, 5.7553001886730515, 7.3357505642339, 8.183048424621104, 8.270059801610733, 7.959904873306893, 7.959904873306893, 6.642603383673954, 6.052834557567844, 6.052834557567844, 7.723516095242664, 8.028897744793845, 8.183048424621104, 8.270059801610733, 6.660621889176633, 8.183048424621104, 8.270059801610733, 7.62343263668568, 7.6722228008551125, 5.047554208691953, 7.532460858479954, 8.183048424621104, 8.183048424621104, 8.365369981415057, 8.470730497072886, 4.406463390088062, 6.817807472699045, 7.409858536387621, 5.520460597595651, 8.028897744793845, 5.831673167457626, 5.7553001886730515, 6.042982261124832, 6.979075620295167, 7.6722228008551125, 6.590417630503384, 7.834741730352888, 7.895366352169322, 6.448447369232997, 7.300659244422629, 6.168145404078839, 7.895366352169322, 5.664008768463645, 3.9052255674772245, 6.755932068980957, 7.959904873306893, 7.372118208404775, 7.449079249540903, 8.470730497072886, 6.1246602921391, 8.103005716947568, 7.6722228008551125, 7.723516095242664, 8.270059801610733, 5.995126239947197, 6.023564175267731, 6.103606882941268, 6.01399472425158, 5.808142670047432, 6.624903806574554, 7.300659244422629, 8.028897744793845, 8.270059801610733, 7.266757692746948, 6.493567804513467, 8.028897744793845, 7.895366352169322, 8.028897744793845, 8.365369981415057, 6.776134776298477, 7.4899012440611585, 8.365369981415057, 7.300659244422629, 7.202219171609377, 6.179318704676964, 6.776134776298477, 8.365369981415057, 7.959904873306893, 8.183048424621104, 8.028897744793845, 7.141594549792942, 3.9250744386172007, 6.103606882941268, 7.057037161764879, 5.53805635948603, 8.103005716947568, 5.657319780312848, 5.53805635948603, 7.0043934282794575, 7.449079249540903, 8.365369981415057, 8.365369981415057, 7.3357505642339, 8.183048424621104, 6.4194598323597445, 7.62343263668568, 8.103005716947568, 7.266757692746948, 8.365369981415057, 7.777583316512939, 7.62343263668568, 6.350466960872794, 7.959904873306893, 6.796754063501213, 7.6722228008551125, 6.524820348017571, 7.576912621050788, 7.372118208404775, 6.883765440490842, 7.777583316512939, 5.95842487309677, 6.463262455018137, 5.389840415178586, 7.449079249540903, 7.834741730352888, 7.084436135952994, 6.861292584638784, 8.103005716947568, 7.3357505642339, 7.834741730352888, 8.470730497072886, 7.030368914682718, 5.187316151067113, 6.624903806574554, 7.576912621050788, 8.103005716947568, 7.959904873306893, 8.365369981415057, 7.532460858479954, 8.365369981415057, 5.359687377007899, 4.841954967028654, 4.417979832149621, 7.895366352169322, 6.930285456125736, 7.3357505642339, 6.0829875957385315, 6.660621889176633, 8.270059801610733, 6.285928439735222, 8.365369981415057, 5.657319780312848, 8.470730497072886, 7.372118208404775, 7.62343263668568, 7.62343263668568, 7.895366352169322, 4.795837284933688, 7.959904873306893, 8.470730497072886, 6.906754958715541, 6.478300332382678, 8.470730497072886, 8.028897744793845, 7.233967869923958, 8.103005716947568, 7.532460858479954, 8.365369981415057, 8.103005716947568, 8.365369981415057, 6.776134776298477, 8.183048424621104, 8.470730497072886, 7.723516095242664, 8.470730497072886, 8.365369981415057, 7.300659244422629, 7.895366352169322, 8.270059801610733, 6.817807472699045, 8.028897744793845, 7.777583316512939, 4.881057693042396, 6.930285456125736, 7.449079249540903, 6.448447369232997, 8.470730497072886, 6.062784888421012, 7.723516095242664, 7.723516095242664, 7.532460858479954, 7.834741730352888, 8.028897744793845, 4.291228126510477, 7.723516095242664, 8.103005716947568, 7.202219171609377, 6.20204695575452, 8.470730497072886, 8.470730497072886, 5.599050872188872, 7.11260701291969, 8.470730497072886, 8.470730497072886, 8.470730497072886, 6.716711355827677, 8.103005716947568, 7.576912621050788, 7.834741730352888, 5.53805635948603, 6.678971027844829, 8.270059801610733, 7.834741730352888, 7.449079249540903, 6.979075620295167, 6.954383007704796, 7.834741730352888, 6.776134776298477, 8.470730497072886, 8.470730497072886, 7.834741730352888, 7.895366352169322, 8.270059801610733, 7.895366352169322, 7.266757692746948, 5.480569268568349, 7.372118208404775, 7.0043934282794575, 6.377495633260713, 8.270059801610733, 7.895366352169322, 7.895366352169322, 8.365369981415057, 7.141594549792942, 7.266757692746948, 8.270059801610733, 8.028897744793845, 7.959904873306893, 8.470730497072886, 7.959904873306893, 8.470730497072886, 7.834741730352888, 7.030368914682718, 8.270059801610733, 7.4899012440611585, 7.723516095242664, 6.796754063501213, 8.183048424621104, 8.470730497072886, 8.183048424621104, 8.183048424621104, 7.532460858479954, 8.028897744793845, 8.470730497072886, 8.103005716947568, 7.723516095242664, 6.697663160856982, 8.470730497072886, 7.576912621050788, 8.028897744793845, 6.930285456125736, 8.365369981415057, 8.103005716947568, 8.470730497072886, 7.834741730352888, 7.449079249540903, 8.270059801610733, 8.028897744793845, 7.777583316512939, 7.834741730352888, 6.311246247719512, 6.363889981204934, 8.365369981415057, 4.681503069124666, 6.660621889176633, 8.270059801610733, 8.470730497072886, 8.103005716947568, 5.712128016807843, 7.532460858479954, 8.103005716947568, 6.979075620295167, 6.524820348017571, 8.103005716947568, 6.755932068980957, 7.11260701291969, 5.453019316800118, 8.183048424621104, 8.270059801610733, 7.723516095242664, 7.723516095242664, 5.762680295970674, 3.8242051254028793, 6.285928439735222, 8.365369981415057, 6.979075620295167, 7.372118208404775, 4.749061220135957, 5.95842487309677, 8.270059801610733, 6.817807472699045, 6.377495633260713, 8.470730497072886, 8.103005716947568, 5.940567255696763, 7.300659244422629, 7.959904873306893, 6.524820348017571, 7.576912621050788, 7.834741730352888, 7.171447512942623, 7.576912621050788, 6.5090719910494315, 7.449079249540903, 7.233967869923958, 6.5090719910494315, 8.028897744793845, 8.270059801610733, 7.202219171609377, 7.202219171609377, 8.270059801610733, 7.532460858479954, 7.372118208404775, 8.270059801610733, 6.716711355827677, 7.266757692746948, 8.183048424621104, 7.723516095242664, 5.97660719217996, 6.093244095905721, 5.705110444149197, 6.168145404078839, 7.141594549792942, 6.377495633260713, 8.028897744793845, 8.183048424621104, 8.183048424621104, 4.924951886599621, 7.3357505642339, 8.103005716947568, 5.637517153016669, 8.270059801610733, 6.590417630503384, 8.183048424621104, 7.834741730352888, 8.270059801610733, 8.470730497072886, 8.028897744793845, 6.042982261124832, 8.470730497072886, 8.365369981415057, 6.405275197367788, 5.1149954894874865, 6.573610512187003, 7.895366352169322, 8.183048424621104, 6.377495633260713, 7.777583316512939, 6.954383007704796, 7.834741730352888, 8.470730497072886, 8.365369981415057, 7.449079249540903, 8.365369981415057, 7.6722228008551125, 7.6722228008551125, 7.959904873306893, 8.365369981415057, 8.183048424621104, 8.270059801610733, 7.11260701291969, 8.270059801610733, 4.725155699282403, 8.270059801610733, 7.6722228008551125, 5.283460011620015, 7.959904873306893, 8.470730497072886, 7.4899012440611585, 6.524820348017571, 8.470730497072886, 8.365369981415057, 4.998074151428584, 7.723516095242664, 6.607512063862685, 7.777583316512939, 8.183048424621104, 8.103005716947568, 7.959904873306893, 8.103005716947568, 8.183048424621104, 8.365369981415057, 5.431513111579155, 7.723516095242664, 7.777583316512939, 8.365369981415057, 5.77760594618735, 5.170786849115902, 7.62343263668568, 7.777583316512939, 8.270059801610733, 7.777583316512939, 6.660621889176633, 7.62343263668568, 6.448447369232997, 7.959904873306893, 7.171447512942623, 7.959904873306893, 8.270059801610733, 6.350466960872794, 5.400096915345776, 7.834741730352888, 8.183048424621104, 7.576912621050788, 7.895366352169322, 8.470730497072886, 8.470730497072886, 7.895366352169322, 8.470730497072886, 8.183048424621104, 7.895366352169322, 8.028897744793845, 8.028897744793845, 8.470730497072886, 8.270059801610733, 8.470730497072886, 6.273505919736665, 6.042982261124832, 7.266757692746948, 5.967474708616687, 7.11260701291969, 7.4899012440611585, 8.028897744793845, 7.030368914682718, 6.524820348017571, 7.62343263668568, 7.576912621050788, 6.524820348017571, 6.2612358271448505, 5.95842487309677, 7.202219171609377, 6.607512063862685, 5.888831581297574, 4.017676025821682, 7.0043934282794575, 7.4899012440611585, 7.532460858479954, 6.607512063862685, 6.776134776298477, 8.470730497072886, 8.028897744793845, 5.183158140918449, 7.723516095242664, 7.449079249540903, 6.190618259930897, 5.77760594618735, 7.62343263668568, 5.897270449943439, 8.365369981415057, 7.777583316512939, 7.723516095242664, 7.895366352169322, 8.365369981415057, 5.442208400695902, 5.808142670047432, 5.9057811396113475, 6.796754063501213, 8.103005716947568, 6.298507221942082, 7.449079249540903, 8.470730497072886, 8.270059801610733, 6.796754063501213, 8.103005716947568, 7.084436135952994, 8.470730497072886, 7.449079249540903, 8.183048424621104, 8.365369981415057, 8.365369981415057, 7.084436135952994, 7.202219171609377, 8.103005716947568, 7.300659244422629, 8.470730497072886, 8.470730497072886, 7.372118208404775, 7.6722228008551125, 8.183048424621104, 6.157095567892254, 6.624903806574554, 7.4899012440611585, 5.770115274458193, 6.883765440490842, 6.736129441684778, 8.270059801610733, 8.028897744793845, 6.883765440490842, 4.22064921186789, 4.637269814147841, 4.738365931019209, 3.9477349192738087, 7.141594549792942, 8.365369981415057, 6.093244095905721, 7.372118208404775, 7.0043934282794575, 8.103005716947568, 6.776134776298477, 7.532460858479954, 7.576912621050788, 7.300659244422629, 8.470730497072886, 7.372118208404775, 8.470730497072886, 7.895366352169322, 7.959904873306893, 7.233967869923958, 6.930285456125736, 7.959904873306893, 8.470730497072886, 6.2612358271448505, 7.723516095242664, 4.868862419948577, 5.453019316800118, 5.985823847284884, 5.698141774833103, 6.2371382755657905, 6.463262455018137, 8.365369981415057, 6.2612358271448505, 7.895366352169322, 8.183048424621104, 8.183048424621104, 8.270059801610733, 8.470730497072886, 7.777583316512939, 8.028897744793845, 6.298507221942082, 4.994631807237612, 6.906754958715541, 5.855770719036686, 8.103005716947568, 8.365369981415057, 6.225303817918787, 6.405275197367788, 5.77760594618735, 7.62343263668568, 6.861292584638784, 5.762680295970674, 6.114078182808563, 5.995126239947197, 6.954383007704796, 6.273505919736665, 7.777583316512939, 7.834741730352888, 7.372118208404775, 7.409858536387621, 7.959904873306893, 8.470730497072886, 7.6722228008551125, 7.723516095242664, 7.3357505642339, 8.183048424621104, 8.365369981415057, 4.795837284933688, 7.030368914682718, 5.225537363887311, 7.834741730352888, 8.270059801610733, 7.11260701291969, 7.959904873306893, 7.895366352169322, 8.028897744793845, 8.470730497072886, 8.183048424621104, 7.959904873306893, 6.146166497360063, 8.365369981415057, 6.624903806574554, 4.881057693042396, 7.202219171609377, 7.532460858479954, 8.470730497072886, 8.183048424621104, 6.660621889176633, 7.372118208404775, 6.590417630503384, 7.959904873306893, 7.959904873306893, 8.270059801610733, 7.449079249540903, 7.030368914682718, 8.470730497072886, 7.057037161764879, 7.576912621050788, 7.202219171609377, 7.11260701291969, 6.5570812102357925, 6.906754958715541, 7.449079249540903, 7.372118208404775, 8.183048424621104, 7.030368914682718, 8.470730497072886, 8.365369981415057, 7.834741730352888, 7.62343263668568, 6.796754063501213, 7.532460858479954, 8.365369981415057, 7.300659244422629, 8.103005716947568, 7.834741730352888, 7.4899012440611585, 7.409858536387621, 8.028897744793845, 7.372118208404775, 6.861292584638784, 7.777583316512939, 7.723516095242664, 5.897270449943439, 7.030368914682718, 7.834741730352888, 7.576912621050788, 4.304926970868639, 8.028897744793845, 6.642603383673954, 7.6722228008551125, 6.883765440490842, 3.572061853311572, 8.270059801610733, 8.365369981415057, 7.409858536387621, 6.093244095905721, 7.959904873306893, 8.365369981415057, 8.365369981415057, 7.723516095242664, 6.624903806574554, 7.532460858479954, 7.723516095242664, 6.979075620295167, 7.300659244422629, 8.028897744793845, 7.777583316512939, 7.532460858479954, 6.5090719910494315, 6.755932068980957, 6.839313677920009, 7.777583316512939, 7.959904873306893, 7.62343263668568, 8.028897744793845, 6.796754063501213, 8.270059801610733, 7.532460858479954, 5.592781259175277, 8.028897744793845, 8.103005716947568, 5.949456203114009, 8.028897744793845, 7.409858536387621, 8.365369981415057, 7.959904873306893, 6.377495633260713, 7.576912621050788, 7.723516095242664, 7.532460858479954, 7.959904873306893, 6.796754063501213, 8.470730497072886, 8.270059801610733, 8.183048424621104, 6.168145404078839, 6.179318704676964, 5.442208400695902, 7.62343263668568, 7.202219171609377, 7.959904873306893, 8.470730497072886, 7.62343263668568, 8.270059801610733, 7.834741730352888, 6.607512063862685, 6.736129441684778, 7.0043934282794575, 7.532460858479954, 5.4475992493307785, 7.62343263668568, 6.930285456125736, 8.183048424621104, 6.861292584638784, 5.415681646362474, 8.470730497072886, 6.736129441684778, 7.6722228008551125, 8.028897744793845, 8.470730497072886, 7.895366352169322, 6.660621889176633, 7.723516095242664, 8.028897744793845, 6.146166497360063, 6.954383007704796, 8.365369981415057, 8.365369981415057, 8.270059801610733, 6.311246247719512, 7.372118208404775, 8.183048424621104, 7.895366352169322, 8.103005716947568, 4.844909178926085, 8.183048424621104, 6.678971027844829, 7.895366352169322, 7.777583316512939, 6.298507221942082, 6.062784888421012, 7.723516095242664, 6.755932068980957, 6.755932068980957, 8.028897744793845, 8.270059801610733, 7.266757692746948, 7.895366352169322, 7.372118208404775, 8.183048424621104, 6.4194598323597445, 8.470730497072886, 8.028897744793845, 5.532156637358842, 6.023564175267731, 7.895366352169322, 5.099610570648007, 6.433848569811844, 5.251854672204684, 6.954383007704796, 6.930285456125736, 7.532460858479954, 4.037271688766732, 8.103005716947568, 8.028897744793845, 8.270059801610733, 5.316096940933037, 7.834741730352888, 8.470730497072886, 6.861292584638784, 7.723516095242664, 6.678971027844829, 7.895366352169322, 7.532460858479954, 6.524820348017571, 5.785153151822733, 8.103005716947568, 8.270059801610733, 6.405275197367788, 6.540820689364012, 7.895366352169322, 7.959904873306893, 8.470730497072886, 6.776134776298477, 8.103005716947568, 7.372118208404775, 7.532460858479954, 5.480569268568349, 7.11260701291969, 7.723516095242664, 7.895366352169322, 6.776134776298477, 7.11260701291969, 7.532460858479954, 7.4899012440611585, 7.895366352169322, 7.300659244422629, 7.723516095242664, 6.463262455018137, 7.959904873306893, 6.755932068980957, 6.736129441684778, 5.823767987950513, 6.377495633260713, 6.524820348017571, 7.576912621050788, 8.270059801610733, 5.747974148580979, 6.2612358271448505, 8.470730497072886, 6.114078182808563, 5.107273443393576, 8.183048424621104, 6.839313677920009, 6.817807472699045, 8.470730497072886, 8.365369981415057, 7.300659244422629, 6.817807472699045, 5.967474708616687, 6.350466960872794, 7.141594549792942, 6.660621889176633, 6.979075620295167, 8.270059801610733, 6.861292584638784, 6.979075620295167, 7.171447512942623, 7.834741730352888, 6.405275197367788, 8.103005716947568, 7.4899012440611585, 8.103005716947568, 7.959904873306893, 7.723516095242664, 8.470730497072886, 8.028897744793845, 8.470730497072886, 8.103005716947568, 7.4899012440611585, 3.9574319649566756, 4.359856632899573, 7.300659244422629, 5.726312651799799, 5.260783302948985, 7.11260701291969, 7.11260701291969, 8.270059801610733, 6.642603383673954, 8.270059801610733, 7.576912621050788, 7.62343263668568, 7.576912621050788, 6.660621889176633, 7.576912621050788, 7.777583316512939, 7.6722228008551125, 8.103005716947568, 5.126691529250677, 7.372118208404775, 7.777583316512939, 4.547657655458153, 7.62343263668568, 8.365369981415057, 4.469476357916795, 8.470730497072886, 8.028897744793845, 8.103005716947568, 6.433848569811844, 5.880463331627058, 6.590417630503384, 6.624903806574554, 7.532460858479954, 7.532460858479954, 8.103005716947568, 6.861292584638784, 8.183048424621104, 8.270059801610733, 7.6722228008551125, 8.183048424621104, 7.449079249540903, 7.834741730352888, 7.834741730352888, 7.3357505642339, 8.028897744793845, 7.4899012440611585, 7.777583316512939, 6.607512063862685, 5.967474708616687, 6.954383007704796, 6.660621889176633, 8.365369981415057, 8.470730497072886, 8.103005716947568, 8.028897744793845, 8.470730497072886, 7.895366352169322, 8.183048424621104, 7.959904873306893, 8.365369981415057, 8.470730497072886, 7.959904873306893, 8.103005716947568, 7.895366352169322, 7.895366352169322, 8.365369981415057, 7.202219171609377, 6.433848569811844, 5.863934029675847, 7.084436135952994, 6.023564175267731, 7.895366352169322, 8.028897744793845, 7.959904873306893, 8.470730497072886, 7.895366352169322, 8.270059801610733, 7.409858536387621, 7.300659244422629, 8.470730497072886, 8.103005716947568, 7.3357505642339, 6.954383007704796, 8.270059801610733, 8.183048424621104, 7.723516095242664, 6.5090719910494315, 8.365369981415057, 7.895366352169322, 7.202219171609377, 6.607512063862685, 8.470730497072886, 7.62343263668568, 8.028897744793845, 8.183048424621104, 8.365369981415057, 8.365369981415057, 6.796754063501213, 7.959904873306893, 6.5090719910494315, 7.084436135952994, 6.796754063501213, 5.657319780312848, 6.930285456125736, 8.470730497072886, 7.723516095242664, 7.057037161764879, 7.62343263668568, 5.726312651799799, 7.030368914682718, 7.202219171609377, 6.285928439735222, 6.954383007704796, 7.409858536387621, 7.409858536387621, 6.448447369232997, 8.470730497072886, 7.300659244422629, 7.62343263668568, 8.103005716947568, 7.959904873306893, 5.940567255696763, 4.498344341917647, 6.540820689364012, 6.2371382755657905, 6.298507221942082, 7.0043934282794575, 8.470730497072886, 7.576912621050788, 6.405275197367788, 8.103005716947568, 8.470730497072886, 7.233967869923958, 8.470730497072886, 8.470730497072886, 8.270059801610733, 7.532460858479954, 7.723516095242664, 7.171447512942623, 6.883765440490842, 6.350466960872794, 7.409858536387621, 8.270059801610733, 5.855770719036686, 7.030368914682718, 8.028897744793845, 7.834741730352888, 8.470730497072886, 5.847673508804067, 7.834741730352888, 7.300659244422629, 6.405275197367788, 6.363889981204934, 7.0043934282794575, 7.4899012440611585, 7.171447512942623, 6.817807472699045, 8.470730497072886, 8.270059801610733, 7.030368914682718, 7.6722228008551125, 7.959904873306893, 5.9057811396113475, 8.365369981415057, 8.470730497072886, 7.6722228008551125, 7.834741730352888, 7.4899012440611585, 7.171447512942623, 8.270059801610733, 8.470730497072886, 5.897270449943439, 7.449079249540903, 7.030368914682718, 6.954383007704796, 6.2371382755657905, 8.103005716947568, 8.365369981415057, 7.959904873306893, 7.959904873306893, 7.777583316512939, 7.959904873306893, 5.815924810489487, 5.931756626014608, 6.135355581255848, 8.365369981415057, 6.433848569811844, 7.266757692746948, 8.270059801610733, 7.3357505642339, 3.7662178677525295, 8.103005716947568, 7.959904873306893, 6.839313677920009, 7.300659244422629, 8.365369981415057, 7.895366352169322, 4.896513951279088, 5.349835080564888, 6.135355581255848, 7.171447512942623, 8.470730497072886, 7.6722228008551125, 8.470730497072886, 4.068084575196267, 5.863934029675847, 4.671502985790083, 7.62343263668568, 8.103005716947568, 7.409858536387621, 8.470730497072886, 8.183048424621104, 6.540820689364012, 8.470730497072886, 5.995126239947197, 7.895366352169322, 8.365369981415057, 7.895366352169322, 7.834741730352888, 6.01399472425158, 5.6843484527007675, 7.895366352169322, 8.470730497072886, 7.4899012440611585, 7.6722228008551125, 7.895366352169322, 8.365369981415057, 8.103005716947568, 6.32414965255542, 7.3357505642339, 7.532460858479954, 7.62343263668568, 8.470730497072886, 8.470730497072886, 8.028897744793845, 8.470730497072886, 8.270059801610733, 8.470730497072886, 8.470730497072886, 8.470730497072886, 7.834741730352888, 5.480569268568349, 8.270059801610733, 6.796754063501213, 8.470730497072886, 8.365369981415057, 7.723516095242664, 6.273505919736665, 7.777583316512939, 8.470730497072886, 7.300659244422629, 6.954383007704796, 7.202219171609377, 7.6722228008551125, 6.363889981204934, 7.834741730352888, 7.372118208404775, 7.576912621050788, 4.725155699282403, 6.678971027844829, 8.365369981415057, 8.365369981415057, 6.32414965255542, 7.409858536387621, 6.478300332382678, 8.270059801610733, 5.084458765627405, 8.365369981415057, 5.65067523759418, 5.7553001886730515, 8.470730497072886, 8.470730497072886, 8.470730497072886, 8.470730497072886, 8.270059801610733, 7.62343263668568, 8.470730497072886, 5.747974148580979, 8.470730497072886, 8.470730497072886, 6.5090719910494315, 8.183048424621104, 6.817807472699045, 8.270059801610733, 7.777583316512939, 7.834741730352888, 7.300659244422629, 7.3357505642339, 7.6722228008551125, 8.183048424621104, 8.270059801610733, 6.796754063501213, 7.4899012440611585, 8.103005716947568, 7.959904873306893, 5.637517153016669, 6.930285456125736, 7.141594549792942, 8.183048424621104, 8.103005716947568, 8.470730497072886, 8.103005716947568, 7.895366352169322, 7.532460858479954, 8.103005716947568, 7.959904873306893, 8.028897744793845, 6.817807472699045, 7.141594549792942, 7.959904873306893, 8.470730497072886, 7.834741730352888, 6.285928439735222, 6.311246247719512, 6.463262455018137, 7.777583316512939, 8.270059801610733, 4.6566879000049415, 6.493567804513467, 6.642603383673954, 6.093244095905721, 8.470730497072886, 4.967511501018418, 8.103005716947568, 4.937855291435529, 8.365369981415057, 8.270059801610733, 8.028897744793845, 8.470730497072886, 8.183048424621104, 8.365369981415057, 8.183048424621104, 8.470730497072886, 6.755932068980957, 8.365369981415057, 7.959904873306893, 8.365369981415057, 4.839009456798896, 7.959904873306893, 6.796754063501213, 8.103005716947568, 8.365369981415057, 8.103005716947568, 8.470730497072886, 7.62343263668568, 8.183048424621104, 6.796754063501213, 7.834741730352888, 8.470730497072886, 8.028897744793845, 8.183048424621104, 4.421848308927541, 8.103005716947568, 5.486171524117019, 7.959904873306893, 7.300659244422629, 5.278883344592603, 6.861292584638784, 8.183048424621104, 8.470730497072886, 7.372118208404775, 3.963540719444997, 7.11260701291969, 8.028897744793845, 5.726312651799799, 7.959904873306893, 5.670742800644989, 5.967474708616687, 8.470730497072886, 6.624903806574554, 7.532460858479954, 6.168145404078839, 7.62343263668568, 8.028897744793845, 6.0829875957385315, 8.270059801610733, 7.3357505642339, 7.449079249540903, 8.365369981415057, 5.480569268568349, 8.028897744793845, 6.052834557567844, 5.712128016807843, 8.028897744793845, 7.723516095242664, 6.493567804513467, 8.103005716947568, 8.270059801610733, 5.677522487630368, 5.508899775194575, 8.103005716947568, 6.493567804513467, 7.300659244422629, 8.365369981415057, 6.023564175267731, 8.103005716947568, 7.0043934282794575, 6.716711355827677, 7.266757692746948, 7.030368914682718, 8.470730497072886, 6.796754063501213, 7.4899012440611585, 7.895366352169322, 6.642603383673954, 8.183048424621104, 6.817807472699045, 8.470730497072886, 7.6722228008551125, 6.157095567892254, 6.157095567892254, 7.141594549792942, 8.028897744793845, 6.883765440490842, 7.959904873306893, 8.365369981415057, 8.028897744793845, 8.365369981415057, 8.470730497072886, 8.028897744793845, 7.409858536387621, 8.365369981415057, 7.030368914682718, 8.183048424621104, 8.470730497072886, 7.62343263668568, 8.270059801610733, 8.470730497072886, 5.330416994707786, 6.363889981204934, 6.023564175267731, 7.777583316512939, 6.463262455018137, 6.607512063862685, 6.660621889176633, 8.103005716947568, 7.141594549792942, 7.777583316512939, 8.103005716947568, 8.365369981415057, 8.365369981415057, 8.365369981415057, 7.895366352169322, 6.839313677920009, 7.834741730352888, 8.470730497072886, 5.705110444149197, 7.6722228008551125, 5.785153151822733, 6.736129441684778, 6.861292584638784, 6.861292584638784, 6.906754958715541, 7.4899012440611585, 8.270059801610733, 5.335236281143735, 8.270059801610733, 7.959904873306893, 7.0043934282794575, 6.285928439735222, 6.540820689364012, 7.959904873306893, 6.979075620295167, 8.365369981415057, 6.755932068980957, 2.2341434919319174, 5.283460011620015, 7.576912621050788, 6.4194598323597445, 8.103005716947568, 6.146166497360063, 7.300659244422629, 5.855770719036686, 8.028897744793845, 7.233967869923958, 7.959904873306893, 8.270059801610733, 8.470730497072886, 7.777583316512939, 7.4899012440611585, 8.183048424621104, 8.470730497072886, 8.183048424621104, 8.028897744793845, 8.103005716947568, 8.470730497072886, 8.470730497072886, 8.183048424621104, 8.270059801610733, 7.266757692746948, 8.270059801610733, 8.028897744793845, 8.470730497072886, 8.183048424621104, 8.103005716947568, 7.266757692746948, 8.103005716947568, 8.270059801610733, 8.365369981415057, 7.576912621050788, 8.270059801610733, 7.723516095242664, 7.777583316512939, 7.141594549792942, 7.959904873306893, 8.270059801610733, 7.030368914682718, 7.723516095242664, 7.895366352169322, 7.723516095242664, 8.183048424621104, 8.103005716947568, 8.365369981415057, 8.103005716947568, 7.723516095242664, 7.777583316512939, 8.270059801610733, 7.171447512942623, 8.270059801610733, 7.777583316512939, 8.183048424621104, 8.365369981415057, 8.365369981415057, 8.470730497072886, 8.183048424621104, 8.365369981415057, 7.6722228008551125, 6.213607778155596, 7.532460858479954, 6.954383007704796, 5.208369560264945, 5.77760594618735, 5.442208400695902, 7.409858536387621, 7.777583316512939, 8.470730497072886, 6.298507221942082, 8.470730497072886, 7.409858536387621, 5.469458043143278, 7.266757692746948, 6.32414965255542, 6.590417630503384, 8.103005716947568, 5.747974148580979, 8.103005716947568, 7.723516095242664, 8.470730497072886, 8.183048424621104, 8.365369981415057, 4.967511501018418, 7.449079249540903, 7.084436135952994, 7.409858536387621, 7.895366352169322, 7.723516095242664, 5.605360041382137, 4.139997156786553, 5.4974710793709525, 7.723516095242664, 8.365369981415057, 8.270059801610733, 8.365369981415057, 7.895366352169322, 8.470730497072886, 5.0367432925877385, 8.103005716947568, 8.103005716947568, 7.895366352169322, 6.906754958715541, 8.470730497072886, 7.3357505642339, 7.576912621050788, 8.183048424621104, 7.202219171609377, 8.365369981415057, 8.028897744793845, 7.372118208404775, 8.365369981415057, 7.233967869923958, 8.183048424621104, 8.365369981415057, 6.042982261124832, 6.573610512187003, 8.183048424621104, 6.678971027844829, 7.449079249540903, 6.135355581255848, 7.0043934282794575, 7.372118208404775, 5.503169100485589, 8.470730497072886, 8.470730497072886, 4.795837284933688, 4.717312521821377, 6.796754063501213, 7.233967869923958, 5.179017348252417, 7.202219171609377, 6.906754958715541, 8.470730497072886, 8.028897744793845, 7.449079249540903, 6.954383007704796, 7.777583316512939, 7.959904873306893, 3.8381613368966785, 6.2371382755657905, 7.171447512942623, 8.270059801610733, 5.631002471995474, 5.118878989513884, 6.135355581255848, 8.028897744793845, 8.470730497072886, 6.20204695575452, 7.233967869923958, 7.409858536387621, 7.777583316512939, 8.365369981415057, 7.532460858479954, 7.409858536387621, 8.183048424621104, 7.895366352169322, 6.103606882941268, 7.449079249540903, 7.084436135952994, 8.365369981415057, 8.365369981415057, 7.723516095242664, 7.834741730352888, 7.532460858479954, 7.895366352169322, 8.365369981415057, 7.777583316512939, 8.470730497072886, 8.470730497072886, 8.183048424621104, 8.365369981415057, 6.624903806574554, 7.449079249540903, 7.959904873306893, 6.642603383673954, 7.233967869923958, 8.103005716947568, 4.893403528864695, 7.171447512942623, 7.3357505642339, 8.365369981415057, 7.057037161764879, 8.365369981415057, 6.146166497360063, 6.311246247719512, 6.839313677920009, 7.895366352169322, 2.3536127310393136, 5.384751345671115, 7.723516095242664, 7.777583316512939, 4.781851042958948, 7.11260701291969, 8.028897744793845, 8.365369981415057, 4.154724963496797, 4.578910198962258, 8.183048424621104, 7.959904873306893, 6.861292584638784, 8.028897744793845, 8.270059801610733, 8.365369981415057, 7.141594549792942, 7.959904873306893, 8.470730497072886, 8.365369981415057, 7.959904873306893, 6.817807472699045, 7.233967869923958, 8.470730497072886, 5.3113687997370915, 8.183048424621104, 8.365369981415057, 8.470730497072886, 7.777583316512939, 8.270059801610733, 8.028897744793845, 8.028897744793845, 8.103005716947568, 8.028897744793845, 7.449079249540903, 7.723516095242664, 7.409858536387621, 8.365369981415057, 8.365369981415057, 7.959904873306893, 8.270059801610733, 8.470730497072886, 7.959904873306893, 7.4899012440611585, 8.270059801610733, 7.895366352169322, 7.895366352169322, 7.834741730352888, 7.895366352169322, 8.365369981415057, 8.270059801610733, 8.365369981415057, 7.834741730352888, 8.470730497072886, 7.4899012440611585, 6.796754063501213, 8.270059801610733, 7.233967869923958, 8.103005716947568, 7.409858536387621, 8.365369981415057, 8.365369981415057, 8.470730497072886, 7.834741730352888, 8.183048424621104, 7.6722228008551125, 8.183048424621104, 8.365369981415057, 8.365369981415057, 8.365369981415057, 8.270059801610733, 5.431513111579155, 5.705110444149197, 6.298507221942082, 7.4899012440611585, 7.449079249540903, 8.183048424621104, 6.660621889176633, 6.5090719910494315, 7.266757692746948, 6.2612358271448505, 5.369637707861067, 6.607512063862685, 4.827313417035706, 7.62343263668568, 6.755932068980957, 7.372118208404775, 8.103005716947568, 8.028897744793845, 8.183048424621104, 7.576912621050788, 8.183048424621104, 6.736129441684778, 8.028897744793845, 8.365369981415057, 7.449079249540903, 8.183048424621104, 8.183048424621104, 6.524820348017571, 6.624903806574554, 8.470730497072886, 8.183048424621104, 8.365369981415057, 7.409858536387621, 8.470730497072886, 7.449079249540903, 8.028897744793845, 7.057037161764879, 7.6722228008551125, 7.233967869923958, 6.697663160856982, 5.0015283862966715, 6.755932068980957, 8.470730497072886, 6.642603383673954, 8.470730497072886, 8.365369981415057, 7.6722228008551125, 6.776134776298477, 7.449079249540903, 6.493567804513467, 7.723516095242664, 7.62343263668568, 8.470730497072886, 8.103005716947568, 5.062153008113106, 6.642603383673954, 8.028897744793845, 7.777583316512939, 8.103005716947568, 7.6722228008551125, 7.895366352169322, 7.576912621050788, 8.183048424621104, 6.817807472699045, 7.449079249540903, 7.0043934282794575, 3.972156157350612, 6.0829875957385315, 5.1505021779443965, 5.677522487630368, 7.576912621050788, 8.183048424621104, 5.8721645288123625, 8.270059801610733, 8.470730497072886, 8.470730497072886, 6.861292584638784, 5.995126239947197, 7.62343263668568, 7.834741730352888, 7.4899012440611585, 7.300659244422629, 7.202219171609377, 7.576912621050788, 8.028897744793845, 8.183048424621104, 8.028897744793845, 4.65179791471075, 7.449079249540903, 6.377495633260713, 4.072174560447792, 4.770801206772363, 7.777583316512939, 6.660621889176633, 8.365369981415057, 7.895366352169322, 8.365369981415057, 6.350466960872794, 8.183048424621104, 7.62343263668568, 7.4899012440611585, 7.62343263668568, 5.191491522477593, 5.65067523759418, 7.3357505642339, 7.449079249540903, 6.776134776298477, 6.755932068980957, 7.959904873306893, 8.365369981415057, 8.365369981415057, 8.270059801610733, 8.470730497072886, 7.171447512942623, 8.028897744793845, 8.470730497072886, 4.029387285242583, 7.532460858479954, 7.895366352169322, 8.270059801610733, 7.372118208404775, 6.2371382755657905, 4.733060878789516, 7.0043934282794575, 7.777583316512939, 5.931756626014608, 6.478300332382678, 5.940567255696763, 6.930285456125736, 7.959904873306893, 7.171447512942623, 8.183048424621104, 6.755932068980957, 8.470730497072886, 8.103005716947568, 7.202219171609377, 7.266757692746948, 7.449079249540903, 6.979075620295167, 6.285928439735222, 7.084436135952994, 8.103005716947568, 7.057037161764879, 6.524820348017571, 7.0043934282794575, 7.449079249540903, 6.678971027844829, 4.637269814147841, 5.062153008113106, 5.359687377007899, 5.985823847284884, 5.1345655856815835, 8.470730497072886, 5.5620096005085236, 7.233967869923958, 6.249114466612506, 4.815752594634629, 7.723516095242664, 7.532460858479954, 8.028897744793845, 8.103005716947568, 8.183048424621104, 7.576912621050788, 6.755932068980957, 8.365369981415057, 7.141594549792942, 6.796754063501213, 4.984375307070422, 5.637517153016669, 5.985823847284884, 8.183048424621104, 8.103005716947568, 7.834741730352888, 8.365369981415057, 6.979075620295167, 4.583455661333932, 5.995126239947197, 5.549961261992348, 6.817807472699045, 6.540820689364012, 8.365369981415057, 8.183048424621104, 7.449079249540903, 8.470730497072886, 8.028897744793845, 4.812883152206677, 7.4899012440611585, 5.611709269060796, 7.449079249540903, 8.270059801610733, 3.9075403833256757, 8.028897744793845, 8.028897744793845, 8.028897744793845, 6.350466960872794, 7.62343263668568, 4.578910198962258, 7.4899012440611585, 8.270059801610733, 8.365369981415057, 5.995126239947197, 6.540820689364012, 7.895366352169322, 8.028897744793845, 8.270059801610733, 7.834741730352888, 6.062784888421012, 7.372118208404775, 8.270059801610733, 8.183048424621104, 8.270059801610733, 7.895366352169322, 5.580358739176719, 7.895366352169322, 6.697663160856982, 8.365369981415057, 6.883765440490842, 8.270059801610733, 7.11260701291969, 7.62343263668568, 8.183048424621104, 6.839313677920009, 6.796754063501213, 7.62343263668568, 8.028897744793845, 7.372118208404775, 8.183048424621104, 8.365369981415057, 7.895366352169322, 8.270059801610733, 5.605360041382137, 7.777583316512939, 7.084436135952994, 8.103005716947568, 8.470730497072886, 7.233967869923958, 7.723516095242664, 8.103005716947568, 6.493567804513467, 8.028897744793845, 7.202219171609377, 7.895366352169322, 7.266757692746948, 7.11260701291969, 7.834741730352888, 8.270059801610733, 7.6722228008551125, 6.954383007704796, 6.796754063501213, 7.171447512942623, 7.372118208404775, 3.399732053249538, 7.11260701291969, 5.474998223518893, 5.174893631068556, 8.183048424621104, 5.785153151822733, 5.940567255696763, 7.62343263668568, 7.895366352169322, 4.341805601254005, 8.028897744793845, 5.260783302948985, 7.576912621050788, 8.028897744793845, 8.183048424621104, 7.233967869923958, 7.62343263668568, 7.3357505642339, 8.103005716947568, 5.97660719217996, 8.103005716947568, 7.959904873306893, 7.449079249540903, 8.183048424621104, 7.409858536387621, 8.470730497072886, 7.171447512942623, 7.723516095242664, 8.470730497072886, 7.202219171609377, 7.576912621050788, 7.4899012440611585, 6.883765440490842, 8.183048424621104, 5.931756626014608, 8.365369981415057, 5.389840415178586, 8.270059801610733, 7.202219171609377, 8.470730497072886, 7.409858536387621, 6.642603383673954, 8.028897744793845, 7.084436135952994, 6.716711355827677, 6.311246247719512, 6.033226086179468, 5.364650166350028, 7.959904873306893, 8.365369981415057, 8.365369981415057, 6.861292584638784, 8.270059801610733, 5.839641337106802, 6.405275197367788, 7.266757692746948, 6.979075620295167, 7.6722228008551125, 8.470730497072886, 5.637517153016669, 7.141594549792942, 8.103005716947568, 5.580358739176719, 8.103005716947568, 3.7582017927642934, 8.270059801610733, 7.0043934282794575, 8.183048424621104, 6.716711355827677, 8.103005716947568, 6.5090719910494315, 6.861292584638784, 7.266757692746948, 8.365369981415057, 4.506747752714027, 7.057037161764879, 7.266757692746948, 7.3357505642339, 7.202219171609377, 6.103606882941268, 8.270059801610733, 8.270059801610733, 2.2459520699966156, 6.2612358271448505, 7.372118208404775, 4.112598182598439, 8.365369981415057, 6.179318704676964, 6.660621889176633, 7.895366352169322, 8.103005716947568, 8.103005716947568, 7.959904873306893, 8.270059801610733, 8.028897744793845, 5.297317046281441, 7.3357505642339, 6.906754958715541, 4.839009456798896, 8.470730497072886, 6.716711355827677, 5.855770719036686, 8.270059801610733, 7.4899012440611585, 7.959904873306893, 8.103005716947568, 7.834741730352888, 7.233967869923958, 7.834741730352888, 3.6850923229401613, 6.736129441684778, 7.576912621050788, 8.270059801610733, 4.6566879000049415, 8.365369981415057, 6.906754958715541, 8.365369981415057, 7.959904873306893, 5.792757751207952, 6.20204695575452, 7.409858536387621, 8.028897744793845, 6.405275197367788, 7.3357505642339, 6.363889981204934, 7.895366352169322, 7.202219171609377, 8.103005716947568, 8.470730497072886, 7.233967869923958, 6.776134776298477, 8.183048424621104, 7.0043934282794575, 7.449079249540903, 8.103005716947568, 7.895366352169322, 3.9921318527742558, 5.491805341835275, 5.379688043714569, 7.030368914682718, 8.103005716947568, 5.923022946045854, 6.5090719910494315, 7.959904873306893, 5.677522487630368, 7.266757692746948, 7.300659244422629, 7.723516095242664, 7.532460858479954, 8.365369981415057, 7.057037161764879, 6.2612358271448505, 7.202219171609377, 8.270059801610733, 5.808142670047432, 7.895366352169322, 8.365369981415057, 7.895366352169322, 8.365369981415057, 3.41590112255629, 8.270059801610733, 7.576912621050788, 8.183048424621104, 4.13416623647576, 5.420931002248618, 7.084436135952994, 8.028897744793845, 6.755932068980957, 4.827313417035706, 6.463262455018137, 4.719920085228457, 8.470730497072886, 7.834741730352888, 7.6722228008551125, 8.365369981415057, 7.62343263668568, 3.3641118491313993, 8.470730497072886, 8.270059801610733, 7.62343263668568, 8.103005716947568, 7.300659244422629, 7.895366352169322, 8.470730497072886, 7.6722228008551125, 7.959904873306893, 6.954383007704796, 5.592781259175277, 5.800420623953522, 8.365369981415057, 6.839313677920009, 6.736129441684778, 6.906754958715541, 7.11260701291969, 8.103005716947568, 8.470730497072886, 7.202219171609377, 7.723516095242664, 8.365369981415057, 4.021564559561375, 7.030368914682718, 8.270059801610733, 8.183048424621104, 6.954383007704796, 6.004515980297037, 8.183048424621104, 5.65067523759418, 6.697663160856982, 5.863934029675847, 6.493567804513467, 8.103005716947568, 7.300659244422629, 7.171447512942623, 6.776134776298477, 8.103005716947568, 8.103005716947568, 6.642603383673954, 7.6722228008551125, 8.103005716947568, 5.216916620843403, 5.847673508804067, 7.233967869923958, 6.839313677920009, 7.4899012440611585, 6.776134776298477, 8.103005716947568, 8.103005716947568, 7.834741730352888, 4.970861587903699, 7.409858536387621, 7.171447512942623, 8.470730497072886, 3.3046754874460653, 4.500438583520763, 7.62343263668568, 8.270059801610733, 8.028897744793845, 8.470730497072886, 3.4237275588057536, 4.646931725059577, 3.596381710197572, 4.4237881737453675, 8.103005716947568, 6.213607778155596, 8.028897744793845, 7.4899012440611585, 6.179318704676964, 7.895366352169322, 8.103005716947568, 8.470730497072886, 8.470730497072886, 7.266757692746948, 7.895366352169322, 5.1149954894874865, 6.660621889176633, 8.365369981415057, 5.431513111579155, 5.170786849115902, 7.3357505642339, 7.409858536387621, 7.233967869923958, 5.69122133198853, 5.179017348252417, 6.405275197367788, 4.324074640282773, 3.5040083900665566, 4.749061220135957, 8.103005716947568, 8.365369981415057, 7.171447512942623, 7.834741730352888, 6.573610512187003, 7.895366352169322, 7.576912621050788, 8.365369981415057, 5.800420623953522, 8.270059801610733, 7.62343263668568, 7.233967869923958, 8.028897744793845, 8.470730497072886, 7.233967869923958, 4.445378806337735, 6.285928439735222, 7.3357505642339, 7.449079249540903, 7.300659244422629, 6.755932068980957, 6.607512063862685, 4.150283801496829, 8.028897744793845, 8.365369981415057, 4.810021919925644, 7.576912621050788, 8.470730497072886, 6.363889981204934, 8.183048424621104, 8.365369981415057, 7.202219171609377, 7.4899012440611585, 7.777583316512939, 7.233967869923958, 8.470730497072886, 8.103005716947568, 8.270059801610733, 7.895366352169322, 7.895366352169322, 8.183048424621104, 7.141594549792942, 7.959904873306893, 8.270059801610733, 8.365369981415057, 7.4899012440611585, 7.532460858479954, 7.777583316512939, 8.470730497072886, 8.028897744793845, 7.723516095242664, 5.183158140918449, 7.449079249540903, 5.770115274458193, 7.532460858479954, 8.365369981415057, 7.834741730352888, 8.470730497072886, 7.202219171609377, 8.103005716947568, 7.372118208404775, 6.405275197367788, 7.834741730352888, 8.270059801610733, 6.573610512187003, 7.532460858479954, 8.470730497072886, 6.5570812102357925, 7.372118208404775, 7.895366352169322, 8.470730497072886, 7.777583316512939, 8.470730497072886, 7.62343263668568, 8.183048424621104, 8.270059801610733, 7.266757692746948, 7.895366352169322, 6.954383007704796, 7.895366352169322, 7.62343263668568, 8.470730497072886, 7.62343263668568, 8.365369981415057, 8.365369981415057, 8.183048424621104, 8.365369981415057, 7.777583316512939, 8.183048424621104, 5.949456203114009, 8.103005716947568, 7.834741730352888, 7.266757692746948, 7.202219171609377, 8.103005716947568, 8.365369981415057, 7.959904873306893, 7.6722228008551125, 8.270059801610733, 8.270059801610733, 7.777583316512939, 8.365369981415057, 7.777583316512939, 8.103005716947568, 7.723516095242664, 8.365369981415057, 7.834741730352888, 7.959904873306893, 8.270059801610733, 7.895366352169322, 8.470730497072886, 8.028897744793845, 7.834741730352888, 8.270059801610733, 7.6722228008551125, 5.726312651799799, 4.5520629489260696, 8.028897744793845, 8.470730497072886, 7.266757692746948, 4.340018290679909, 8.103005716947568, 5.099610570648007, 8.028897744793845, 8.365369981415057, 5.880463331627058, 7.576912621050788, 8.183048424621104, 8.270059801610733, 8.103005716947568, 7.266757692746948, 8.365369981415057, 6.463262455018137, 8.470730497072886, 7.777583316512939, 8.103005716947568, 7.409858536387621, 8.470730497072886, 6.540820689364012, 8.270059801610733, 7.834741730352888, 8.470730497072886, 8.103005716947568, 7.449079249540903, 8.183048424621104, 8.103005716947568, 7.959904873306893, 6.678971027844829, 8.270059801610733, 6.678971027844829, 5.1111270127095665, 6.337221734122773, 7.777583316512939, 6.1246602921391, 8.028897744793845, 8.270059801610733, 6.954383007704796, 8.270059801610733, 8.365369981415057, 6.817807472699045, 7.532460858479954, 6.168145404078839, 8.028897744793845, 8.270059801610733, 7.834741730352888, 3.5862464883035288, 7.895366352169322, 6.839313677920009, 7.3357505642339, 8.470730497072886, 5.69122133198853, 8.470730497072886, 7.084436135952994, 4.53022802032287, 7.141594549792942, 7.895366352169322, 8.028897744793845, 5.800420623953522, 6.524820348017571, 5.508899775194575, 6.179318704676964, 8.470730497072886, 6.337221734122773, 7.11260701291969, 6.697663160856982, 8.365369981415057, 8.270059801610733, 4.178750143083787, 4.905903691628927, 7.141594549792942, 8.470730497072886, 2.744969115697908, 7.777583316512939, 6.273505919736665, 6.32414965255542, 3.8534121771491456, 8.365369981415057, 3.9075403833256757, 8.028897744793845, 8.270059801610733, 8.365369981415057, 7.6722228008551125, 6.678971027844829, 5.719195184030935, 7.141594549792942, 8.183048424621104, 7.0043934282794575, 7.959904873306893, 8.270059801610733, 8.365369981415057, 8.470730497072886, 8.365369981415057, 3.914517155811324, 5.888831581297574, 5.5620096005085236, 5.340078905619523, 4.725155699282403, 8.183048424621104, 6.377495633260713, 7.409858536387621, 6.463262455018137, 6.433848569811844, 7.084436135952994, 7.959904873306893, 7.202219171609377, 8.103005716947568, 8.470730497072886, 8.103005716947568, 7.723516095242664, 7.300659244422629, 8.470730497072886, 7.6722228008551125, 8.270059801610733, 8.183048424621104, 7.084436135952994, 8.470730497072886, 7.057037161764879, 7.62343263668568, 6.755932068980957, 8.183048424621104, 8.028897744793845, 6.697663160856982, 7.11260701291969, 5.618099067159567, 8.183048424621104, 8.470730497072886, 7.62343263668568, 8.470730497072886, 7.030368914682718, 7.834741730352888, 5.069533115410729, 7.084436135952994, 6.052834557567844, 7.723516095242664, 6.776134776298477, 6.678971027844829, 6.033226086179468, 5.940567255696763, 7.895366352169322, 6.2371382755657905, 8.183048424621104, 7.895366352169322, 6.033226086179468, 6.642603383673954, 7.030368914682718, 6.624903806574554, 7.030368914682718, 6.817807472699045, 7.723516095242664, 8.470730497072886, 6.062784888421012, 4.931382776929912, 8.103005716947568, 8.270059801610733, 8.103005716947568, 7.449079249540903, 7.266757692746948, 6.839313677920009, 7.532460858479954, 7.834741730352888, 7.532460858479954, 7.4899012440611585, 8.103005716947568, 7.576912621050788, 7.895366352169322, 7.895366352169322, 7.895366352169322, 8.470730497072886, 6.405275197367788, 8.183048424621104, 8.365369981415057, 4.233408555621651, 6.493567804513467, 8.270059801610733, 8.183048424621104, 4.315325678089538, 7.723516095242664, 5.839641337106802, 7.777583316512939, 6.1246602921391, 8.470730497072886, 6.5570812102357925, 7.834741730352888, 7.6722228008551125, 8.470730497072886, 6.298507221942082, 7.532460858479954, 6.285928439735222, 8.470730497072886, 7.141594549792942, 7.723516095242664, 6.839313677920009, 8.183048424621104, 7.030368914682718, 8.470730497072886, 7.6722228008551125, 8.470730497072886, 7.959904873306893, 5.394955515845357, 7.723516095242664, 7.532460858479954, 8.103005716947568, 7.895366352169322, 8.470730497072886, 7.266757692746948, 7.6722228008551125, 8.470730497072886, 5.815924810489487, 6.817807472699045, 7.3357505642339, 6.405275197367788, 7.372118208404775, 8.028897744793845, 8.103005716947568, 5.1149954894874865, 6.817807472699045, 6.213607778155596, 7.372118208404775, 6.839313677920009, 8.470730497072886, 8.183048424621104, 6.448447369232997, 5.792757751207952, 7.834741730352888, 5.800420623953522, 8.183048424621104, 8.103005716947568, 6.796754063501213, 7.959904873306893, 5.1425021352773195, 7.233967869923958, 6.405275197367788, 7.141594549792942, 8.365369981415057, 7.233967869923958, 8.365369981415057, 5.212633959051402, 6.093244095905721, 8.183048424621104, 7.777583316512939, 5.637517153016669, 8.103005716947568, 6.660621889176633, 8.028897744793845, 6.979075620295167, 6.624903806574554, 7.409858536387621, 8.183048424621104, 6.861292584638784, 8.470730497072886, 7.62343263668568, 5.733481141278412, 4.0586058312417235, 5.664008768463645, 5.733481141278412, 8.183048424621104, 7.449079249540903, 7.300659244422629, 7.834741730352888, 8.028897744793845, 8.470730497072886, 7.62343263668568, 7.576912621050788, 8.183048424621104, 5.762680295970674, 8.183048424621104, 8.103005716947568, 5.888831581297574, 6.979075620295167, 7.895366352169322, 3.7552122539159276, 8.365369981415057, 6.796754063501213, 7.959904873306893, 7.300659244422629, 8.183048424621104, 7.084436135952994, 5.4974710793709525, 8.470730497072886, 7.834741730352888, 8.365369981415057, 6.697663160856982, 7.202219171609377, 7.834741730352888, 7.3357505642339, 8.183048424621104, 8.365369981415057, 7.834741730352888, 7.834741730352888, 8.470730497072886, 7.3357505642339, 8.270059801610733, 7.895366352169322, 8.365369981415057, 8.270059801610733, 8.470730497072886, 8.365369981415057, 6.350466960872794, 7.895366352169322, 7.4899012440611585, 8.028897744793845, 6.796754063501213, 8.103005716947568, 7.959904873306893, 8.103005716947568, 8.365369981415057, 7.6722228008551125, 7.576912621050788, 7.409858536387621, 7.959904873306893, 7.202219171609377, 7.3357505642339, 8.028897744793845, 6.298507221942082, 8.028897744793845, 7.959904873306893, 8.103005716947568, 8.270059801610733, 8.470730497072886, 7.959904873306893, 7.266757692746948, 7.723516095242664, 3.7229040106832696, 5.0367432925877385, 6.817807472699045, 6.607512063862685, 7.449079249540903, 3.8062437339283735, 4.991201272140822, 7.202219171609377, 8.103005716947568, 5.605360041382137, 6.678971027844829, 6.979075620295167, 7.030368914682718, 5.657319780312848, 7.233967869923958, 6.930285456125736, 7.300659244422629, 6.448447369232997, 8.270059801610733, 6.954383007704796, 5.940567255696763, 7.300659244422629, 6.072835224274514, 7.11260701291969, 8.103005716947568, 8.028897744793845, 4.676490527301121, 7.6722228008551125, 5.095801042231339, 7.300659244422629, 8.103005716947568, 5.762680295970674, 8.470730497072886, 8.103005716947568, 8.183048424621104, 7.532460858479954, 8.365369981415057, 8.470730497072886, 8.103005716947568, 6.157095567892254, 5.099610570648007, 5.2652776925368245, 6.607512063862685, 6.930285456125736, 5.740701389251899, 7.084436135952994, 8.270059801610733, 7.834741730352888, 7.723516095242664, 8.270059801610733, 7.895366352169322, 8.365369981415057, 6.573610512187003, 8.103005716947568, 8.470730497072886, 7.057037161764879, 7.11260701291969, 7.777583316512939, 7.959904873306893, 8.103005716947568, 7.449079249540903, 4.950927373002882, 4.65179791471075, 6.20204695575452, 8.470730497072886, 8.183048424621104, 7.6722228008551125, 7.834741730352888, 7.057037161764879, 7.449079249540903, 4.479690951326514, 4.492087804303343, 8.270059801610733, 8.470730497072886, 7.959904873306893, 6.377495633260713, 7.4899012440611585, 7.409858536387621, 4.890302751186447, 4.625322240726723, 6.930285456125736, 6.817807472699045, 7.409858536387621, 6.146166497360063, 8.470730497072886, 7.62343263668568, 6.979075620295167, 7.895366352169322, 7.171447512942623, 8.470730497072886, 7.895366352169322, 7.576912621050788, 7.895366352169322, 7.834741730352888, 8.103005716947568, 6.5090719910494315, 7.084436135952994, 6.363889981204934, 5.199894933273972, 7.300659244422629, 7.895366352169322, 7.3357505642339, 7.895366352169322, 6.736129441684778, 7.057037161764879, 8.183048424621104, 8.470730497072886, 8.270059801610733, 7.62343263668568, 8.470730497072886, 8.470730497072886, 6.179318704676964, 4.317069357694364, 5.340078905619523, 8.028897744793845, 8.028897744793845, 7.409858536387621, 8.470730497072886, 6.776134776298477, 8.270059801610733, 7.449079249540903, 8.103005716947568, 8.270059801610733, 5.486171524117019, 7.449079249540903, 8.183048424621104, 8.470730497072886, 5.9057811396113475, 8.365369981415057, 7.959904873306893, 7.777583316512939, 7.895366352169322, 6.861292584638784, 7.0043934282794575, 8.365369981415057, 7.895366352169322, 5.154526328244121, 7.266757692746948, 5.526291517906444, 8.470730497072886, 7.723516095242664, 7.777583316512939, 8.103005716947568, 7.409858536387621, 7.62343263668568, 6.716711355827677, 7.030368914682718, 7.62343263668568, 6.624903806574554, 7.576912621050788, 8.028897744793845, 7.11260701291969, 8.028897744793845, 6.979075620295167, 8.270059801610733, 8.365369981415057, 8.365369981415057, 7.6722228008551125, 8.365369981415057, 8.183048424621104, 5.831673167457626, 6.20204695575452, 8.270059801610733, 7.233967869923958, 8.028897744793845, 8.028897744793845, 7.233967869923958, 4.369005827553162, 8.183048424621104, 6.839313677920009, 8.470730497072886, 7.449079249540903, 6.377495633260713, 8.365369981415057, 7.723516095242664, 8.270059801610733, 7.141594549792942, 7.723516095242664, 5.1345655856815835, 7.449079249540903, 7.11260701291969, 7.895366352169322, 5.712128016807843, 4.918562088500851, 8.103005716947568, 7.834741730352888, 7.6722228008551125, 7.62343263668568, 7.723516095242664, 7.777583316512939, 7.084436135952994, 7.409858536387621, 6.493567804513467, 7.6722228008551125, 6.716711355827677, 7.959904873306893, 8.470730497072886, 8.470730497072886, 7.959904873306893, 4.469476357916795, 8.183048424621104, 7.4899012440611585, 5.69122133198853, 8.183048424621104, 7.202219171609377, 7.409858536387621, 6.954383007704796, 7.576912621050788, 6.179318704676964, 6.463262455018137, 5.095801042231339, 8.028897744793845, 8.028897744793845, 4.964172599752903, 6.930285456125736, 8.270059801610733, 7.141594549792942, 8.270059801610733, 7.6722228008551125, 6.052834557567844, 4.400754525867741, 5.426208059349461, 7.777583316512939, 7.62343263668568, 7.084436135952994, 8.365369981415057, 7.532460858479954, 6.839313677920009, 4.195608779908204, 6.642603383673954, 8.270059801610733, 7.834741730352888, 8.470730497072886, 6.052834557567844, 7.777583316512939, 8.103005716947568, 7.834741730352888, 8.365369981415057, 7.62343263668568, 7.4899012440611585, 6.32414965255542, 6.2612358271448505, 7.372118208404775, 5.880463331627058, 7.3357505642339, 8.270059801610733, 5.0119632635892515, 8.365369981415057, 6.168145404078839, 8.470730497072886, 6.20204695575452, 7.777583316512939, 6.273505919736665, 5.474998223518893, 6.478300332382678, 5.888831581297574, 7.202219171609377, 8.365369981415057, 7.0043934282794575, 7.233967869923958, 5.229875765485908, 4.815752594634629, 7.030368914682718, 7.959904873306893, 6.776134776298477, 7.202219171609377, 8.365369981415057, 8.365369981415057, 8.365369981415057, 6.311246247719512, 8.470730497072886, 6.590417630503384, 6.817807472699045, 5.698141774833103, 7.532460858479954, 8.028897744793845, 8.028897744793845, 7.895366352169322, 7.834741730352888, 7.6722228008551125, 8.470730497072886, 7.62343263668568, 7.777583316512939, 8.183048424621104, 8.103005716947568, 8.365369981415057, 7.030368914682718, 7.723516095242664, 7.6722228008551125, 8.365369981415057, 7.895366352169322, 8.470730497072886, 5.698141774833103, 5.225537363887311, 7.777583316512939, 7.3357505642339, 8.270059801610733, 5.221217702742794, 5.719195184030935, 8.365369981415057, 8.028897744793845, 6.624903806574554, 8.103005716947568, 7.449079249540903, 8.470730497072886, 8.183048424621104, 5.503169100485589, 6.3912889553930485, 7.959904873306893, 6.190618259930897, 8.365369981415057, 7.576912621050788, 7.62343263668568, 7.11260701291969, 7.4899012440611585, 7.777583316512939, 5.1345655856815835, 7.723516095242664, 6.697663160856982, 8.470730497072886, 8.183048424621104, 6.493567804513467, 7.409858536387621, 6.298507221942082, 6.32414965255542, 7.959904873306893, 8.470730497072886, 7.266757692746948, 7.372118208404775, 8.183048424621104, 8.183048424621104, 7.834741730352888, 8.470730497072886, 7.6722228008551125, 7.532460858479954, 8.270059801610733, 7.834741730352888, 7.202219171609377, 7.0043934282794575, 7.449079249540903, 8.365369981415057, 8.103005716947568, 6.796754063501213, 8.270059801610733, 8.270059801610733, 8.365369981415057, 6.954383007704796, 8.365369981415057, 7.171447512942623, 8.470730497072886, 6.817807472699045, 7.959904873306893, 7.4899012440611585, 5.967474708616687, 7.233967869923958, 8.183048424621104, 7.895366352169322, 7.834741730352888, 4.950927373002882, 4.622949760373092, 7.532460858479954, 7.895366352169322, 5.394955515845357, 5.306662908699678, 6.363889981204934, 6.817807472699045, 7.532460858479954, 7.723516095242664, 6.678971027844829, 5.047554208691953, 6.062784888421012, 7.0043934282794575, 7.409858536387621, 7.372118208404775, 5.719195184030935, 8.183048424621104, 8.270059801610733, 6.298507221942082, 7.576912621050788, 8.103005716947568, 7.576912621050788, 8.103005716947568, 6.697663160856982, 7.141594549792942, 8.103005716947568, 7.449079249540903, 7.6722228008551125, 7.723516095242664, 7.532460858479954, 8.470730497072886, 7.723516095242664, 7.532460858479954, 8.365369981415057, 7.372118208404775, 7.62343263668568, 7.895366352169322, 8.365369981415057, 8.470730497072886, 7.4899012440611585, 7.084436135952994, 5.033165471239855, 8.470730497072886, 6.678971027844829, 7.171447512942623, 6.146166497360063, 6.817807472699045, 8.183048424621104, 5.288057720868644, 8.470730497072886, 7.171447512942623, 3.9921318527742558, 8.470730497072886, 7.959904873306893, 4.768057720826612, 7.4899012440611585, 6.493567804513467, 5.897270449943439, 7.895366352169322, 8.028897744793845, 7.0043934282794575, 7.171447512942623, 8.183048424621104, 7.171447512942623, 8.470730497072886, 8.103005716947568, 7.084436135952994, 8.183048424621104, 8.183048424621104, 7.3357505642339, 7.62343263668568, 4.447364904309365, 6.135355581255848, 4.076281342400446, 6.20204695575452, 8.028897744793845, 7.233967869923958, 8.365369981415057, 7.11260701291969, 7.723516095242664, 7.449079249540903, 5.770115274458193, 8.470730497072886, 8.470730497072886, 6.660621889176633, 8.183048424621104, 7.895366352169322, 8.365369981415057, 5.154526328244121, 8.365369981415057, 5.863934029675847, 6.883765440490842, 6.540820689364012, 8.270059801610733, 6.2612358271448505, 7.233967869923958, 7.141594549792942, 5.191491522477593, 7.4899012440611585, 8.103005716947568, 8.270059801610733, 6.311246247719512, 8.028897744793845, 8.028897744793845, 8.103005716947568, 8.028897744793845, 7.202219171609377, 8.470730497072886, 8.270059801610733, 7.834741730352888, 6.861292584638784, 6.979075620295167, 6.716711355827677, 7.11260701291969, 7.532460858479954, 8.365369981415057, 7.959904873306893, 8.365369981415057, 6.225303817918787, 8.470730497072886, 5.297317046281441, 5.611709269060796, 7.3357505642339, 7.0043934282794575, 5.624529957489857, 5.97660719217996, 7.834741730352888, 7.62343263668568, 6.524820348017571, 8.470730497072886, 6.697663160856982, 7.576912621050788, 7.233967869923958, 7.233967869923958, 7.3357505642339, 6.052834557567844, 5.677522487630368, 6.478300332382678, 8.270059801610733, 8.183048424621104, 8.270059801610733, 6.135355581255848, 6.755932068980957, 8.270059801610733, 7.576912621050788, 8.470730497072886, 8.270059801610733, 6.168145404078839, 6.377495633260713, 8.270059801610733, 6.697663160856982, 6.225303817918787, 7.057037161764879, 8.103005716947568, 5.344945095270695, 6.01399472425158, 8.183048424621104, 5.225537363887311, 5.631002471995474, 6.839313677920009, 5.985823847284884, 5.6843484527007675, 6.1246602921391, 5.191491522477593, 8.103005716947568, 8.365369981415057, 7.834741730352888, 7.233967869923958, 5.967474708616687, 7.532460858479954, 8.028897744793845, 8.103005716947568, 7.959904873306893, 7.409858536387621, 6.573610512187003, 7.6722228008551125, 8.103005716947568, 6.135355581255848, 7.11260701291969, 3.759200295093883, 7.895366352169322, 8.365369981415057, 8.365369981415057, 8.470730497072886, 8.103005716947568, 8.183048424621104, 7.6722228008551125, 7.233967869923958, 4.66901851246242, 8.470730497072886, 7.959904873306893, 7.723516095242664, 6.642603383673954, 8.470730497072886, 8.183048424621104, 7.723516095242664, 7.723516095242664, 6.540820689364012, 8.028897744793845, 8.470730497072886, 7.202219171609377, 7.895366352169322, 8.365369981415057, 8.028897744793845, 6.736129441684778, 8.183048424621104, 7.409858536387621, 8.028897744793845, 6.607512063862685, 7.777583316512939, 8.270059801610733, 8.270059801610733, 7.723516095242664, 7.372118208404775, 7.084436135952994, 8.470730497072886, 8.183048424621104, 8.365369981415057, 7.576912621050788, 8.103005716947568, 7.777583316512939, 8.183048424621104, 8.028897744793845, 7.895366352169322, 8.270059801610733, 8.103005716947568, 8.183048424621104, 8.103005716947568, 5.415681646362474, 8.183048424621104, 6.736129441684778, 8.270059801610733, 5.340078905619523, 8.365369981415057, 8.028897744793845, 7.959904873306893, 7.449079249540903, 8.028897744793845, 8.365369981415057, 8.028897744793845, 8.028897744793845, 7.171447512942623, 8.270059801610733, 7.895366352169322, 8.270059801610733, 5.344945095270695, 6.377495633260713, 7.449079249540903, 7.372118208404775, 7.057037161764879, 7.959904873306893, 7.141594549792942, 6.839313677920009, 8.270059801610733, 6.448447369232997, 6.3912889553930485, 8.103005716947568, 8.365369981415057, 6.660621889176633, 7.532460858479954, 6.660621889176633, 8.103005716947568, 8.470730497072886, 5.047554208691953, 6.736129441684778, 7.834741730352888, 7.6722228008551125, 7.576912621050788, 8.183048424621104, 5.420931002248618, 5.526291517906444, 8.470730497072886, 8.365369981415057, 6.861292584638784, 8.103005716947568, 8.365369981415057, 7.959904873306893, 8.470730497072886, 7.959904873306893, 8.470730497072886, 7.959904873306893, 6.697663160856982, 7.409858536387621, 7.3357505642339, 6.954383007704796, 8.470730497072886, 7.372118208404775, 7.777583316512939, 7.372118208404775, 8.470730497072886, 8.365369981415057, 7.171447512942623, 7.3357505642339, 8.470730497072886, 8.028897744793845, 7.723516095242664, 7.372118208404775, 7.576912621050788, 6.736129441684778, 7.6722228008551125, 8.365369981415057, 8.470730497072886, 6.776134776298477, 7.959904873306893, 7.959904873306893, 7.959904873306893, 7.895366352169322, 7.777583316512939, 7.723516095242664, 8.103005716947568, 6.524820348017571, 8.470730497072886, 8.028897744793845, 7.409858536387621, 8.270059801610733, 7.6722228008551125, 8.183048424621104, 7.449079249540903, 7.62343263668568, 7.3357505642339, 7.834741730352888, 6.697663160856982, 7.449079249540903, 8.470730497072886, 8.103005716947568, 8.365369981415057, 8.183048424621104, 5.4584689215676825, 5.073243694807265, 7.372118208404775, 7.723516095242664, 8.470730497072886, 7.409858536387621, 8.183048424621104, 8.365369981415057, 7.532460858479954, 8.103005716947568, 8.270059801610733, 8.365369981415057, 6.463262455018137, 8.365369981415057, 8.103005716947568, 4.793024343557073, 8.365369981415057, 8.103005716947568, 6.273505919736665, 8.470730497072886, 8.470730497072886, 7.6722228008551125, 8.365369981415057, 7.300659244422629, 7.959904873306893, 5.420931002248618, 4.169672924932669, 7.723516095242664, 7.895366352169322, 8.103005716947568, 7.11260701291969, 7.723516095242664, 7.62343263668568, 5.1111270127095665, 7.300659244422629, 6.32414965255542, 8.365369981415057, 8.183048424621104, 8.270059801610733, 5.195684400737629, 6.225303817918787, 4.890302751186447, 8.183048424621104, 8.270059801610733, 7.4899012440611585, 7.723516095242664, 7.4899012440611585, 6.023564175267731, 8.183048424621104, 8.470730497072886, 5.8721645288123625, 6.377495633260713, 7.834741730352888, 7.372118208404775, 7.777583316512939, 7.532460858479954, 7.084436135952994, 8.270059801610733, 7.895366352169322, 7.777583316512939, 8.470730497072886, 6.642603383673954, 7.777583316512939, 7.895366352169322, 7.723516095242664, 7.409858536387621, 6.493567804513467, 7.777583316512939, 6.906754958715541, 7.834741730352888, 6.979075620295167, 8.470730497072886, 7.576912621050788, 4.56763612238904, 6.285928439735222, 7.084436135952994, 5.065836253529403, 6.377495633260713, 7.723516095242664, 8.183048424621104, 6.168145404078839, 7.6722228008551125, 5.146494156546857, 4.639676554178406, 6.642603383673954, 6.607512063862685, 8.470730497072886, 3.003139289123369, 4.4276792292383345, 7.141594549792942, 7.6722228008551125, 8.270059801610733, 6.906754958715541, 4.363506271987123, 7.532460858479954, 5.8721645288123625, 7.895366352169322, 7.959904873306893, 7.777583316512939, 8.365369981415057, 8.470730497072886, 8.183048424621104, 7.777583316512939, 7.3357505642339, 6.906754958715541, 7.202219171609377, 6.906754958715541, 7.723516095242664, 6.3912889553930485, 6.3912889553930485, 7.0043934282794575, 8.183048424621104, 7.4899012440611585, 6.573610512187003, 7.777583316512939, 7.62343263668568, 6.573610512187003, 7.834741730352888, 8.365369981415057, 6.776134776298477, 8.270059801610733, 7.4899012440611585, 8.183048424621104, 6.930285456125736, 7.576912621050788, 6.817807472699045, 8.270059801610733, 7.723516095242664, 7.834741730352888, 8.365369981415057, 3.9040701658466688, 4.8841298920793665, 6.796754063501213, 7.62343263668568, 6.5570812102357925, 7.409858536387621, 6.042982261124832, 7.895366352169322, 4.67899365751924, 7.777583316512939, 7.030368914682718, 5.770115274458193, 7.723516095242664, 8.470730497072886, 8.470730497072886, 8.365369981415057, 6.433848569811844, 7.895366352169322, 7.834741730352888, 8.270059801610733, 8.365369981415057, 2.7055393942880395, 8.270059801610733, 7.4899012440611585, 8.470730497072886, 6.861292584638784, 7.959904873306893, 5.97660719217996, 7.171447512942623, 6.716711355827677, 8.103005716947568, 8.470730497072886, 3.473518223308769, 7.959904873306893, 8.470730497072886, 8.103005716947568, 5.0367432925877385, 5.491805341835275, 7.3357505642339, 7.777583316512939, 6.817807472699045, 5.469458043143278, 6.448447369232997, 8.470730497072886, 8.270059801610733, 8.103005716947568, 6.5090719910494315, 8.103005716947568, 8.183048424621104, 8.028897744793845, 7.723516095242664, 7.834741730352888, 7.532460858479954, 7.409858536387621, 5.644074553562827, 7.3357505642339, 7.449079249540903, 7.409858536387621, 4.249590138472892, 6.716711355827677, 8.365369981415057, 8.103005716947568, 7.834741730352888, 7.141594549792942, 7.834741730352888, 6.979075620295167, 8.365369981415057, 6.103606882941268, 8.365369981415057, 7.4899012440611585, 8.470730497072886, 7.895366352169322, 8.470730497072886, 8.270059801610733, 7.62343263668568, 8.270059801610733, 7.3357505642339, 7.233967869923958, 4.361679787461089, 8.365369981415057, 8.365369981415057, 7.959904873306893, 6.796754063501213, 7.0043934282794575, 8.365369981415057, 8.270059801610733, 8.470730497072886, 8.470730497072886, 8.365369981415057, 8.183048424621104, 7.0043934282794575, 7.171447512942623, 6.624903806574554, 8.365369981415057, 6.954383007704796, 6.796754063501213, 8.470730497072886, 7.895366352169322, 6.906754958715541, 5.949456203114009, 8.183048424621104, 8.470730497072886, 8.103005716947568, 8.270059801610733, 5.800420623953522, 8.103005716947568, 7.532460858479954, 6.776134776298477, 8.028897744793845, 8.365369981415057, 7.3357505642339, 8.365369981415057, 8.103005716947568, 8.270059801610733, 8.470730497072886, 7.895366352169322, 8.365369981415057, 7.777583316512939, 7.4899012440611585, 7.959904873306893, 7.777583316512939, 7.6722228008551125, 5.605360041382137, 7.576912621050788, 7.266757692746948, 7.300659244422629, 7.532460858479954, 8.365369981415057, 7.4899012440611585, 8.183048424621104, 6.776134776298477, 7.449079249540903, 6.930285456125736, 7.6722228008551125, 7.723516095242664, 3.84140985085251, 8.365369981415057, 7.084436135952994, 8.365369981415057, 6.2612358271448505, 7.057037161764879, 7.723516095242664, 6.573610512187003, 8.365369981415057, 7.895366352169322, 8.270059801610733, 8.103005716947568, 7.300659244422629, 7.084436135952994, 4.847872144056742, 5.330416994707786, 8.365369981415057, 6.839313677920009, 6.979075620295167, 5.004994594273158, 8.365369981415057, 8.028897744793845, 7.4899012440611585, 5.888831581297574, 7.959904873306893, 6.377495633260713, 6.624903806574554, 8.103005716947568, 7.6722228008551125, 8.470730497072886, 6.135355581255848, 8.470730497072886, 7.777583316512939, 7.777583316512939, 7.409858536387621, 8.103005716947568, 7.723516095242664, 4.097072112069519, 7.576912621050788, 8.103005716947568, 5.491805341835275, 5.863934029675847, 7.834741730352888, 7.777583316512939, 5.084458765627405, 7.449079249540903, 8.103005716947568, 5.225537363887311, 7.62343263668568, 8.365369981415057, 8.183048424621104, 7.834741730352888, 7.449079249540903, 8.028897744793845, 7.057037161764879, 6.062784888421012, 7.723516095242664, 7.723516095242664, 7.959904873306893, 7.959904873306893, 8.270059801610733, 7.4899012440611585, 7.300659244422629, 7.3357505642339, 6.590417630503384, 6.883765440490842, 8.183048424621104, 5.426208059349461, 7.723516095242664, 6.906754958715541, 8.470730497072886, 8.470730497072886, 8.028897744793845, 8.028897744793845, 8.103005716947568, 8.470730497072886, 7.959904873306893, 6.5570812102357925, 8.270059801610733, 8.365369981415057, 8.365369981415057, 7.895366352169322, 6.883765440490842, 7.057037161764879, 5.677522487630368, 8.270059801610733, 8.365369981415057, 7.0043934282794575, 8.365369981415057, 8.270059801610733, 5.605360041382137, 7.777583316512939, 7.62343263668568, 8.365369981415057, 7.62343263668568, 7.171447512942623, 6.042982261124832, 8.470730497072886, 8.470730497072886, 8.470730497072886, 8.470730497072886, 8.183048424621104, 6.540820689364012, 3.385881416315639, 7.959904873306893, 8.103005716947568, 4.517352305962825, 7.959904873306893, 7.4899012440611585, 5.923022946045854, 8.470730497072886, 8.365369981415057, 8.183048424621104, 8.103005716947568, 8.103005716947568, 7.532460858479954, 8.183048424621104, 7.057037161764879, 7.202219171609377, 8.103005716947568, 6.776134776298477, 8.470730497072886, 8.365369981415057, 8.470730497072886, 7.834741730352888, 7.4899012440611585, 8.365369981415057, 5.586550709424641, 7.409858536387621, 7.895366352169322, 8.183048424621104, 7.202219171609377, 8.103005716947568, 8.028897744793845, 8.270059801610733, 8.365369981415057, 8.365369981415057, 7.6722228008551125, 6.540820689364012, 6.5570812102357925, 8.470730497072886, 7.4899012440611585, 8.365369981415057, 7.084436135952994, 6.861292584638784, 6.5090719910494315, 8.470730497072886, 8.270059801610733, 7.449079249540903, 7.834741730352888, 7.4899012440611585, 7.777583316512939, 7.449079249540903, 8.470730497072886, 7.057037161764879, 8.470730497072886, 7.834741730352888, 6.776134776298477, 8.365369981415057, 8.365369981415057, 8.103005716947568, 5.2926766667249385, 7.959904873306893, 7.895366352169322, 6.883765440490842, 8.365369981415057, 6.796754063501213, 5.5620096005085236, 6.979075620295167, 7.3357505642339, 8.470730497072886, 7.777583316512939, 5.808142670047432, 7.409858536387621, 7.372118208404775, 7.449079249540903, 8.270059801610733, 7.300659244422629, 8.103005716947568, 6.906754958715541, 7.141594549792942, 7.057037161764879, 8.365369981415057, 8.183048424621104, 7.777583316512939, 6.524820348017571, 6.20204695575452, 7.233967869923958, 6.906754958715541, 6.179318704676964, 6.736129441684778, 6.817807472699045, 7.409858536387621, 8.470730497072886, 7.576912621050788, 7.141594549792942, 7.723516095242664, 8.183048424621104, 5.624529957489857, 8.365369981415057, 5.9057811396113475, 6.954383007704796, 4.865836699032041, 4.704375730790657, 8.470730497072886, 6.697663160856982, 6.954383007704796, 6.4194598323597445, 6.624903806574554, 8.270059801610733, 8.270059801610733, 8.470730497072886, 7.959904873306893, 6.405275197367788, 6.213607778155596, 8.183048424621104, 8.470730497072886, 8.270059801610733, 8.183048424621104, 7.266757692746948, 5.677522487630368, 6.930285456125736, 7.11260701291969, 6.052834557567844, 8.103005716947568, 7.834741730352888, 5.967474708616687, 6.954383007704796, 7.6722228008551125, 8.183048424621104, 7.6722228008551125, 8.365369981415057, 7.723516095242664, 7.409858536387621, 8.470730497072886, 5.568088646584905, 7.777583316512939, 7.777583316512939, 5.949456203114009, 7.834741730352888, 6.660621889176633, 7.300659244422629, 8.470730497072886, 7.62343263668568, 8.365369981415057, 7.959904873306893, 8.365369981415057, 8.103005716947568, 7.141594549792942, 7.532460858479954, 7.834741730352888, 7.300659244422629, 8.183048424621104, 7.532460858479954, 7.895366352169322, 6.225303817918787, 7.959904873306893, 6.062784888421012, 8.365369981415057, 4.347186780158522, 5.3113687997370915, 5.940567255696763, 7.834741730352888, 5.354749095367317, 8.103005716947568, 4.513096980392686, 5.698141774833103, 5.839641337106802, 6.405275197367788, 4.928162162229869, 6.298507221942082, 5.491805341835275, 7.834741730352888, 7.777583316512939, 6.796754063501213, 8.183048424621104, 8.270059801610733, 7.6722228008551125, 8.365369981415057, 4.417979832149621, 8.183048424621104, 5.5742048736023415, 7.449079249540903, 7.777583316512939, 8.270059801610733, 5.183158140918449, 8.470730497072886, 7.084436135952994, 8.270059801610733, 7.62343263668568, 7.959904873306893, 4.402653861671394, 5.480569268568349, 7.409858536387621, 7.723516095242664, 7.3357505642339, 6.839313677920009, 7.372118208404775, 3.5338613532162375, 5.335236281143735, 7.372118208404775, 8.183048424621104, 7.084436135952994, 7.084436135952994, 8.183048424621104, 6.5570812102357925, 7.959904873306893, 8.365369981415057, 8.365369981415057, 8.470730497072886, 7.141594549792942, 7.300659244422629, 6.405275197367788, 6.954383007704796, 7.372118208404775, 8.470730497072886, 8.183048424621104, 8.365369981415057, 8.470730497072886, 8.470730497072886, 8.183048424621104, 7.3357505642339, 8.103005716947568, 8.470730497072886, 8.183048424621104, 8.103005716947568, 8.028897744793845, 7.6722228008551125, 4.492087804303343, 7.3357505642339, 6.697663160856982, 5.379688043714569, 7.449079249540903, 8.470730497072886, 6.624903806574554, 7.532460858479954, 8.470730497072886, 6.660621889176633, 7.6722228008551125, 6.736129441684778, 8.470730497072886, 8.470730497072886, 7.777583316512939, 4.139997156786553, 5.823767987950513, 7.372118208404775, 5.410459702381322, 7.266757692746948, 7.084436135952994, 6.736129441684778, 8.183048424621104, 6.660621889176633, 7.409858536387621, 6.20204695575452, 6.755932068980957, 6.755932068980957, 5.436846457554517, 5.260783302948985, 6.979075620295167, 5.5742048736023415, 7.834741730352888, 6.433848569811844, 6.678971027844829, 4.498344341917647, 4.82151629935138, 8.470730497072886, 6.930285456125736, 6.697663160856982, 6.273505919736665, 5.251854672204684, 6.716711355827677, 5.431513111579155, 8.028897744793845, 6.337221734122773, 5.897270449943439, 5.7553001886730515, 8.183048424621104, 8.365369981415057, 7.723516095242664, 7.834741730352888, 7.834741730352888, 7.202219171609377, 7.409858536387621, 8.470730497072886, 6.839313677920009, 7.959904873306893, 6.4194598323597445, 7.576912621050788, 7.6722228008551125, 6.796754063501213, 8.103005716947568, 8.470730497072886, 7.723516095242664, 8.103005716947568, 8.470730497072886, 5.225537363887311, 6.697663160856982, 5.453019316800118, 8.365369981415057, 8.270059801610733, 7.171447512942623, 7.084436135952994, 7.895366352169322, 6.817807472699045, 7.834741730352888, 5.670742800644989, 6.524820348017571, 7.266757692746948, 8.470730497072886, 7.030368914682718, 7.62343263668568, 8.270059801610733, 7.171447512942623, 8.183048424621104, 3.818888791775646, 5.644074553562827, 6.883765440490842, 8.470730497072886, 5.698141774833103, 8.270059801610733, 8.365369981415057, 5.995126239947197, 8.270059801610733, 8.470730497072886, 8.470730497072886, 8.365369981415057, 6.883765440490842, 4.498344341917647, 7.723516095242664, 7.62343263668568, 6.052834557567844, 6.930285456125736, 8.365369981415057, 7.372118208404775, 8.365369981415057, 7.449079249540903, 7.62343263668568, 7.6722228008551125, 4.987782465392037, 8.183048424621104, 5.914364883302739, 7.4899012440611585, 6.157095567892254, 8.365369981415057, 8.103005716947568, 7.171447512942623, 7.777583316512939, 7.895366352169322, 7.4899012440611585, 6.697663160856982, 8.470730497072886, 6.3912889553930485, 8.470730497072886, 8.365369981415057, 6.042982261124832, 4.119735971646731, 5.480569268568349, 7.62343263668568, 7.4899012440611585, 7.62343263668568, 8.365369981415057, 8.365369981415057, 6.954383007704796, 8.365369981415057, 7.959904873306893, 7.532460858479954, 6.883765440490842, 7.834741730352888, 8.470730497072886, 8.103005716947568, 8.103005716947568, 6.5090719910494315, 8.365369981415057, 8.365369981415057, 5.243005056927701, 7.777583316512939, 7.959904873306893, 8.470730497072886, 6.5090719910494315, 7.449079249540903, 7.62343263668568, 7.3357505642339, 8.270059801610733, 7.409858536387621, 8.470730497072886, 8.365369981415057, 6.157095567892254, 7.576912621050788, 8.470730497072886, 7.723516095242664, 6.573610512187003, 8.028897744793845, 7.057037161764879, 8.365369981415057, 7.723516095242664, 7.895366352169322, 6.0829875957385315, 7.62343263668568, 8.365369981415057, 7.959904873306893, 8.365369981415057, 6.2371382755657905, 8.270059801610733, 7.959904873306893, 7.723516095242664, 8.183048424621104, 6.930285456125736, 7.777583316512939, 7.777583316512939, 8.365369981415057, 7.895366352169322, 7.4899012440611585, 8.028897744793845, 7.895366352169322, 7.266757692746948, 7.372118208404775, 7.300659244422629, 6.979075620295167, 7.777583316512939, 6.883765440490842, 5.065836253529403, 7.141594549792942, 7.409858536387621, 8.365369981415057, 7.300659244422629, 6.796754063501213, 6.540820689364012, 8.103005716947568, 4.56763612238904, 8.470730497072886, 7.959904873306893, 8.470730497072886, 6.776134776298477, 8.028897744793845, 8.028897744793845, 7.834741730352888, 8.470730497072886, 8.028897744793845, 8.470730497072886, 8.103005716947568, 7.959904873306893, 7.895366352169322, 5.3113687997370915, 6.755932068980957, 8.470730497072886, 7.777583316512939, 8.028897744793845, 6.883765440490842, 8.470730497072886, 8.470730497072886, 7.777583316512939, 8.183048424621104, 8.365369981415057, 8.103005716947568, 7.233967869923958, 8.470730497072886, 7.030368914682718, 7.300659244422629, 8.103005716947568, 8.183048424621104, 8.270059801610733, 8.103005716947568, 7.834741730352888, 8.365369981415057, 6.660621889176633, 8.028897744793845, 8.470730497072886, 8.365369981415057, 8.103005716947568, 8.470730497072886, 8.470730497072886, 8.270059801610733, 8.270059801610733, 8.183048424621104, 6.906754958715541, 8.365369981415057, 7.576912621050788, 7.202219171609377, 8.103005716947568, 8.028897744793845, 8.028897744793845, 6.590417630503384, 7.895366352169322, 7.62343263668568, 8.183048424621104, 7.895366352169322, 6.839313677920009, 8.270059801610733, 5.785153151822733, 5.405264885504218, 5.359687377007899, 6.114078182808563, 7.057037161764879, 6.350466960872794, 7.576912621050788, 6.493567804513467, 8.270059801610733, 8.470730497072886, 7.202219171609377, 8.028897744793845, 8.183048424621104, 5.863934029675847, 7.576912621050788, 7.895366352169322, 8.365369981415057, 7.777583316512939, 7.372118208404775, 7.6722228008551125, 7.723516095242664, 8.365369981415057, 8.103005716947568, 8.270059801610733, 8.470730497072886, 8.365369981415057, 8.270059801610733, 8.183048424621104, 6.225303817918787, 8.365369981415057, 6.478300332382678, 8.470730497072886, 6.5090719910494315, 8.365369981415057, 6.093244095905721, 4.928162162229869, 7.576912621050788, 6.0829875957385315, 7.233967869923958, 6.817807472699045, 7.409858536387621, 6.883765440490842, 7.959904873306893, 7.6722228008551125, 7.777583316512939, 7.532460858479954, 6.755932068980957, 8.028897744793845, 8.183048424621104, 7.62343263668568, 7.141594549792942, 7.372118208404775, 8.365369981415057, 5.1626235384767405, 8.470730497072886, 8.470730497072886, 5.549961261992348, 8.470730497072886, 8.365369981415057, 4.977595620085044, 5.53805635948603, 6.624903806574554, 7.959904873306893, 7.723516095242664, 7.532460858479954, 5.9057811396113475, 7.3357505642339, 7.777583316512939, 8.470730497072886, 5.747974148580979, 7.449079249540903, 7.834741730352888, 7.6722228008551125, 7.576912621050788, 8.365369981415057, 6.337221734122773, 8.103005716947568, 8.365369981415057, 6.114078182808563, 6.2612358271448505, 7.576912621050788, 7.723516095242664, 6.817807472699045, 8.103005716947568, 8.270059801610733, 8.470730497072886, 8.270059801610733, 6.716711355827677, 8.365369981415057, 7.171447512942623, 8.103005716947568, 5.705110444149197, 7.141594549792942, 7.030368914682718, 6.979075620295167, 8.470730497072886, 8.470730497072886, 7.11260701291969, 8.183048424621104, 8.270059801610733, 8.470730497072886, 4.862820105492615, 7.4899012440611585, 5.631002471995474, 7.4899012440611585, 7.895366352169322, 7.171447512942623, 8.103005716947568, 8.270059801610733, 8.183048424621104, 7.057037161764879, 7.532460858479954, 6.023564175267731, 7.62343263668568, 7.723516095242664, 5.698141774833103, 7.576912621050788, 8.270059801610733, 7.409858536387621, 6.716711355827677, 8.183048424621104, 7.834741730352888, 6.883765440490842, 6.540820689364012, 8.470730497072886, 7.266757692746948, 8.183048424621104, 6.954383007704796, 6.213607778155596, 8.270059801610733, 5.491805341835275, 6.273505919736665, 8.103005716947568, 8.470730497072886, 7.233967869923958, 5.491805341835275, 7.449079249540903, 7.266757692746948, 6.540820689364012, 8.470730497072886, 7.300659244422629, 8.365369981415057, 6.114078182808563, 6.697663160856982, 8.365369981415057, 7.777583316512939, 8.183048424621104, 8.365369981415057, 7.6722228008551125, 8.470730497072886, 8.470730497072886, 6.839313677920009, 6.678971027844829, 8.028897744793845, 6.716711355827677, 6.285928439735222, 6.755932068980957, 8.270059801610733, 7.202219171609377, 6.839313677920009, 7.4899012440611585, 7.449079249540903, 4.3969666425508045, 4.853824542584038, 7.895366352169322, 8.470730497072886, 5.520460597595651, 8.470730497072886, 7.777583316512939, 7.084436135952994, 8.470730497072886, 6.478300332382678, 6.350466960872794, 6.363889981204934, 7.449079249540903, 8.028897744793845, 4.727783821688672, 4.704375730790657, 7.6722228008551125, 7.532460858479954, 6.642603383673954, 4.974222935606404, 6.179318704676964, 6.4194598323597445, 5.229875765485908, 6.5090719910494315, 7.266757692746948, 6.716711355827677, 5.95842487309677, 7.057037161764879, 8.365369981415057, 6.954383007704796, 7.834741730352888, 7.62343263668568, 8.270059801610733, 6.642603383673954, 8.028897744793845, 4.159185937437422, 7.449079249540903, 8.028897744793845, 7.576912621050788, 8.183048424621104, 5.549961261992348, 6.168145404078839, 6.607512063862685, 8.470730497072886, 7.0043934282794575, 7.300659244422629, 7.6722228008551125, 7.11260701291969, 8.270059801610733, 5.469458043143278, 7.300659244422629, 7.576912621050788, 7.532460858479954, 7.141594549792942, 6.072835224274514, 5.967474708616687, 7.959904873306893, 5.831673167457626, 7.834741730352888, 7.959904873306893, 8.470730497072886, 7.266757692746948, 8.365369981415057, 6.179318704676964, 6.716711355827677, 7.959904873306893, 8.103005716947568, 4.477639668555957, 7.834741730352888, 7.141594549792942, 8.270059801610733, 8.103005716947568, 8.028897744793845, 8.470730497072886, 4.272693476293655, 8.470730497072886, 8.365369981415057, 5.5742048736023415, 6.861292584638784, 8.028897744793845, 6.624903806574554, 6.979075620295167, 8.183048424621104, 6.817807472699045, 7.084436135952994, 8.183048424621104, 8.028897744793845, 8.103005716947568, 7.959904873306893, 4.211185418836941, 7.723516095242664, 8.365369981415057, 8.365369981415057, 5.97660719217996, 7.895366352169322, 8.103005716947568, 7.141594549792942, 6.4194598323597445, 8.470730497072886, 6.979075620295167, 7.777583316512939, 8.365369981415057, 7.777583316512939, 5.047554208691953, 6.861292584638784, 7.959904873306893, 7.532460858479954, 6.776134776298477, 8.270059801610733, 8.365369981415057, 8.028897744793845, 7.723516095242664, 7.834741730352888, 7.532460858479954, 7.372118208404775, 8.470730497072886, 8.028897744793845, 8.270059801610733, 7.777583316512939, 6.861292584638784, 7.3357505642339, 7.834741730352888, 7.62343263668568, 8.365369981415057, 8.470730497072886, 8.365369981415057, 8.365369981415057, 8.183048424621104, 6.906754958715541, 8.470730497072886, 8.365369981415057, 6.135355581255848, 5.77760594618735, 7.4899012440611585, 8.183048424621104, 7.532460858479954, 8.270059801610733, 7.895366352169322, 8.365369981415057, 7.777583316512939, 8.270059801610733, 7.777583316512939, 6.213607778155596, 8.270059801610733, 8.470730497072886, 7.895366352169322, 8.028897744793845, 7.62343263668568, 8.028897744793845, 7.266757692746948, 7.834741730352888, 6.249114466612506, 7.409858536387621, 7.6722228008551125, 7.0043934282794575, 8.028897744793845, 7.409858536387621, 2.4983355126852533, 6.573610512187003, 8.470730497072886, 7.6722228008551125, 7.409858536387621, 6.839313677920009, 8.183048424621104, 5.770115274458193, 5.97660719217996, 7.532460858479954, 6.697663160856982, 7.532460858479954, 8.365369981415057, 8.183048424621104, 5.099610570648007, 7.834741730352888, 5.520460597595651, 5.644074553562827, 8.103005716947568, 4.576645192331405, 7.030368914682718, 5.800420623953522, 7.895366352169322, 7.777583316512939, 6.524820348017571, 7.233967869923958, 8.103005716947568, 4.66901851246242, 7.777583316512939, 7.11260701291969, 8.470730497072886, 6.493567804513467, 7.576912621050788, 7.532460858479954, 7.895366352169322, 7.62343263668568, 8.183048424621104, 8.270059801610733, 8.365369981415057, 6.168145404078839, 7.233967869923958, 5.995126239947197, 6.4194598323597445, 6.883765440490842, 6.796754063501213, 8.183048424621104, 8.103005716947568, 8.028897744793845, 8.365369981415057, 7.372118208404775, 8.183048424621104, 7.6722228008551125, 8.183048424621104, 8.470730497072886, 6.32414965255542, 8.103005716947568, 7.233967869923958, 6.839313677920009, 8.470730497072886, 8.365369981415057, 7.895366352169322, 8.028897744793845, 8.470730497072886, 8.183048424621104, 8.183048424621104, 8.470730497072886, 6.861292584638784, 8.470730497072886, 7.959904873306893, 3.8644498168007657, 4.372689072969457, 7.895366352169322, 6.776134776298477, 4.977595620085044, 8.103005716947568, 6.624903806574554, 5.923022946045854, 6.01399472425158, 8.270059801610733, 6.796754063501213, 7.777583316512939, 8.365369981415057, 8.270059801610733, 7.62343263668568, 8.270059801610733, 7.449079249540903, 7.959904873306893, 8.103005716947568, 8.365369981415057, 8.270059801610733, 8.270059801610733, 7.300659244422629, 6.448447369232997, 4.950927373002882, 8.470730497072886, 8.270059801610733, 7.777583316512939, 8.103005716947568, 7.834741730352888, 8.183048424621104, 8.028897744793845, 7.959904873306893, 8.103005716947568, 7.723516095242664, 8.183048424621104, 7.62343263668568, 7.895366352169322, 7.3357505642339, 8.270059801610733, 7.777583316512939, 8.183048424621104, 6.448447369232997, 6.32414965255542, 7.532460858479954, 7.62343263668568, 8.270059801610733, 6.4194598323597445, 8.365369981415057, 8.270059801610733, 7.62343263668568, 7.171447512942623, 8.365369981415057, 6.478300332382678, 7.723516095242664, 8.028897744793845, 5.698141774833103, 6.168145404078839, 7.057037161764879, 7.723516095242664, 8.183048424621104, 7.3357505642339, 7.266757692746948, 6.906754958715541, 6.839313677920009, 7.3357505642339, 7.6722228008551125, 7.62343263668568, 7.030368914682718, 8.028897744793845, 6.213607778155596, 8.365369981415057, 8.365369981415057, 6.478300332382678, 4.299767888058611, 8.270059801610733, 5.815924810489487, 8.270059801610733, 6.363889981204934, 7.409858536387621, 8.470730497072886, 8.470730497072886, 8.028897744793845, 6.930285456125736, 6.979075620295167, 8.365369981415057, 6.796754063501213, 7.449079249540903, 5.97660719217996, 8.270059801610733, 7.3357505642339, 7.959904873306893, 8.470730497072886, 8.365369981415057, 5.2926766667249385, 6.363889981204934, 6.607512063862685, 7.11260701291969, 7.895366352169322, 8.270059801610733, 5.712128016807843, 8.183048424621104, 7.372118208404775, 8.183048424621104, 8.470730497072886, 7.959904873306893, 7.834741730352888, 5.069533115410729, 5.503169100485589, 6.448447369232997, 6.906754958715541, 7.11260701291969, 8.470730497072886, 7.834741730352888, 8.365369981415057, 8.183048424621104, 5.095801042231339, 5.469458043143278, 7.532460858479954, 5.330416994707786, 6.103606882941268, 7.895366352169322, 8.470730497072886, 7.4899012440611585, 8.103005716947568, 7.202219171609377, 7.62343263668568, 7.084436135952994, 7.959904873306893, 8.270059801610733, 8.028897744793845, 8.365369981415057, 6.433848569811844, 7.409858536387621, 8.103005716947568, 8.470730497072886, 5.53805635948603, 7.11260701291969, 8.183048424621104, 8.183048424621104, 6.979075620295167, 8.270059801610733, 8.470730497072886, 8.470730497072886, 8.470730497072886, 7.834741730352888, 6.363889981204934, 6.839313677920009, 8.365369981415057, 7.532460858479954, 8.365369981415057, 7.030368914682718, 8.028897744793845, 7.11260701291969, 7.266757692746948, 8.183048424621104, 7.777583316512939, 6.817807472699045, 8.470730497072886, 8.103005716947568, 6.624903806574554, 8.183048424621104, 8.365369981415057, 7.084436135952994, 8.028897744793845, 8.270059801610733, 6.607512063862685, 5.914364883302739, 6.796754063501213, 6.2371382755657905, 6.363889981204934, 6.796754063501213, 6.168145404078839, 8.028897744793845, 8.028897744793845, 5.568088646584905, 5.657319780312848, 7.300659244422629, 6.225303817918787, 6.697663160856982, 8.470730497072886, 7.300659244422629, 8.028897744793845, 7.4899012440611585, 7.959904873306893, 7.834741730352888, 8.270059801610733, 8.365369981415057, 7.266757692746948, 3.6585461417004668, 7.532460858479954, 5.4584689215676825, 8.270059801610733, 4.815752594634629, 7.202219171609377, 8.028897744793845, 7.532460858479954, 5.65067523759418, 7.532460858479954, 7.3357505642339, 7.233967869923958, 4.725155699282403, 6.179318704676964, 6.678971027844829, 5.949456203114009, 6.979075620295167, 7.202219171609377, 5.543991095005845, 5.354749095367317, 4.804323898811006, 6.573610512187003, 8.103005716947568, 6.930285456125736, 7.6722228008551125, 6.190618259930897, 6.20204695575452, 8.103005716947568, 7.233967869923958, 5.97660719217996, 6.448447369232997, 8.103005716947568, 7.777583316512939, 8.470730497072886, 6.716711355827677, 3.9833433467411763, 7.3357505642339, 8.028897744793845, 4.694145462539843, 4.543271683514899, 4.429630449369596, 4.649361859912869, 6.004515980297037, 5.770115274458193, 5.77760594618735, 7.409858536387621, 8.103005716947568, 8.028897744793845, 8.103005716947568, 7.409858536387621, 8.365369981415057, 8.470730497072886, 7.171447512942623, 6.337221734122773, 7.777583316512939, 7.084436135952994, 7.266757692746948, 6.796754063501213, 7.723516095242664, 5.605360041382137, 8.365369981415057, 8.103005716947568, 7.11260701291969, 6.5090719910494315, 7.409858536387621, 8.365369981415057, 7.409858536387621, 8.365369981415057, 7.777583316512939, 5.740701389251899, 7.0043934282794575, 8.365369981415057, 6.697663160856982, 8.470730497072886, 8.365369981415057, 8.470730497072886, 7.959904873306893, 8.470730497072886, 4.681503069124666, 8.365369981415057, 7.372118208404775, 8.270059801610733, 7.6722228008551125, 6.146166497360063, 7.084436135952994, 8.270059801610733, 8.470730497072886, 8.470730497072886, 5.931756626014608, 6.540820689364012, 7.576912621050788, 7.895366352169322, 8.365369981415057, 8.470730497072886, 8.270059801610733, 8.365369981415057, 7.959904873306893, 3.266723809996089, 5.330416994707786, 6.883765440490842, 6.524820348017571, 6.052834557567844, 7.030368914682718, 4.588021879313514, 7.895366352169322, 7.409858536387621, 8.028897744793845, 8.183048424621104, 8.103005716947568, 8.103005716947568, 8.270059801610733, 7.834741730352888, 7.62343263668568, 8.470730497072886, 8.470730497072886, 7.141594549792942, 7.449079249540903, 4.681503069124666, 8.028897744793845, 7.6722228008551125, 5.839641337106802, 8.270059801610733, 4.6566879000049415, 7.4899012440611585, 8.270059801610733, 7.449079249540903, 8.365369981415057, 4.696693234618641, 6.573610512187003, 7.300659244422629, 6.135355581255848, 5.364650166350028, 6.0829875957385315, 8.365369981415057, 7.959904873306893, 7.0043934282794575, 8.365369981415057, 6.861292584638784, 8.028897744793845, 7.171447512942623, 7.449079249540903, 8.183048424621104, 8.365369981415057, 7.62343263668568, 7.834741730352888, 8.028897744793845, 7.959904873306893, 6.524820348017571, 7.723516095242664, 4.853824542584038, 7.576912621050788, 7.777583316512939, 6.736129441684778, 5.808142670047432, 6.776134776298477, 8.028897744793845, 7.449079249540903, 7.202219171609377, 7.895366352169322, 4.980979718069284, 6.776134776298477, 7.723516095242664, 4.931382776929912, 7.576912621050788, 7.895366352169322, 7.959904873306893, 7.834741730352888, 8.365369981415057, 7.777583316512939, 7.3357505642339, 5.243005056927701, 8.270059801610733, 5.880463331627058, 6.5570812102357925, 7.300659244422629, 8.270059801610733, 8.365369981415057, 8.103005716947568, 6.103606882941268, 6.954383007704796, 7.266757692746948, 7.959904873306893, 7.777583316512939, 8.470730497072886, 7.959904873306893, 5.95842487309677, 7.959904873306893, 7.084436135952994, 6.930285456125736, 7.959904873306893, 8.365369981415057, 4.365336098664199, 7.959904873306893, 7.834741730352888, 5.808142670047432, 5.204123269383494, 7.723516095242664, 8.183048424621104, 7.233967869923958, 7.777583316512939, 8.365369981415057, 6.573610512187003, 8.103005716947568, 6.642603383673954, 5.247420075136818, 3.582890780456556, 8.365369981415057, 4.954222268899734, 3.6187002331532674, 7.266757692746948, 7.057037161764879, 4.461379147684177, 5.65067523759418, 6.5570812102357925, 4.419912199900675, 5.747974148580979, 8.365369981415057, 7.834741730352888, 5.095801042231339, 6.0829875957385315, 8.270059801610733, 8.470730497072886, 7.11260701291969, 8.470730497072886, 8.183048424621104, 4.984375307070422, 6.350466960872794, 8.103005716947568, 7.449079249540903, 6.716711355827677, 7.959904873306893, 6.350466960872794, 6.350466960872794, 7.6722228008551125, 7.6722228008551125, 7.834741730352888, 7.449079249540903, 6.524820348017571, 7.959904873306893, 7.895366352169322, 7.532460858479954, 3.6944120548889634, 6.590417630503384, 6.3912889553930485, 5.431513111579155, 8.270059801610733, 7.959904873306893, 7.777583316512939, 7.895366352169322, 6.01399472425158, 6.052834557567844, 8.470730497072886, 7.62343263668568, 8.470730497072886, 7.057037161764879, 8.270059801610733, 8.183048424621104, 5.839641337106802, 6.861292584638784, 5.158566737781126, 6.736129441684778, 6.146166497360063, 6.954383007704796, 7.6722228008551125, 8.365369981415057, 8.183048424621104, 8.270059801610733, 7.372118208404775, 6.607512063862685, 7.0043934282794575, 8.103005716947568, 8.470730497072886, 6.179318704676964, 7.777583316512939, 6.573610512187003, 7.030368914682718, 7.233967869923958, 6.607512063862685, 5.126691529250677, 7.030368914682718, 7.171447512942623, 8.470730497072886, 8.183048424621104, 8.365369981415057, 7.372118208404775, 8.470730497072886, 8.365369981415057, 7.723516095242664, 8.103005716947568, 8.103005716947568, 7.266757692746948, 8.365369981415057, 7.62343263668568, 7.233967869923958, 6.697663160856982, 6.004515980297037, 7.057037161764879, 7.777583316512939, 8.103005716947568, 8.028897744793845, 7.834741730352888, 7.895366352169322, 8.470730497072886, 6.285928439735222, 8.183048424621104, 6.103606882941268, 7.171447512942623, 6.817807472699045, 6.448447369232997, 7.300659244422629, 7.895366352169322, 8.365369981415057, 5.187316151067113, 7.532460858479954, 6.377495633260713, 7.3357505642339, 6.861292584638784, 7.372118208404775, 6.337221734122773, 8.183048424621104, 7.777583316512939, 7.300659244422629, 6.954383007704796, 7.300659244422629, 8.470730497072886, 8.365369981415057, 6.817807472699045, 7.6722228008551125, 7.959904873306893, 8.365369981415057, 8.183048424621104, 7.141594549792942, 8.183048424621104, 6.590417630503384, 7.084436135952994, 7.449079249540903, 7.171447512942623, 8.103005716947568, 7.777583316512939, 7.834741730352888, 7.057037161764879, 7.895366352169322, 6.776134776298477, 5.644074553562827, 6.716711355827677, 8.470730497072886, 8.270059801610733, 7.777583316512939, 7.723516095242664, 7.834741730352888, 8.103005716947568, 7.6722228008551125, 7.6722228008551125, 5.77760594618735, 4.563161841994118, 6.736129441684778, 7.409858536387621, 5.389840415178586, 7.723516095242664, 7.141594549792942, 7.084436135952994, 6.716711355827677, 7.6722228008551125, 6.678971027844829, 7.576912621050788, 8.365369981415057, 7.6722228008551125, 8.365369981415057, 7.372118208404775, 4.581180347496797, 7.0043934282794575, 7.62343263668568, 7.62343263668568, 4.5520629489260696, 6.607512063862685, 8.365369981415057, 6.930285456125736, 5.076968093898247, 8.270059801610733, 7.233967869923958, 8.183048424621104, 7.895366352169322, 7.723516095242664, 7.895366352169322, 5.949456203114009, 6.678971027844829, 7.576912621050788, 7.777583316512939, 6.755932068980957, 8.470730497072886, 7.959904873306893, 8.365369981415057, 3.94652937361846, 8.028897744793845, 7.959904873306893, 8.270059801610733, 8.103005716947568, 5.0296004050753575, 8.470730497072886, 6.433848569811844, 6.5570812102357925, 6.861292584638784, 8.470730497072886, 7.0043934282794575, 7.449079249540903, 8.365369981415057, 4.320565864753093, 5.369637707861067, 7.6722228008551125, 4.138536236146878, 6.573610512187003, 4.987782465392037, 8.365369981415057, 7.030368914682718, 6.883765440490842, 7.11260701291969, 7.959904873306893, 7.030368914682718, 5.8721645288123625, 5.6843484527007675, 5.247420075136818, 8.183048424621104, 8.103005716947568, 6.776134776298477, 8.470730497072886, 6.448447369232997, 6.660621889176633, 6.736129441684778, 5.9057811396113475, 6.042982261124832, 5.394955515845357, 5.808142670047432, 5.5146634799113246, 6.660621889176633, 7.959904873306893, 5.967474708616687, 8.270059801610733, 6.906754958715541, 5.5742048736023415, 7.834741730352888, 7.4899012440611585, 6.540820689364012, 6.405275197367788, 6.311246247719512, 7.6722228008551125, 7.202219171609377, 7.576912621050788, 8.470730497072886, 5.823767987950513, 4.661601914807371, 7.030368914682718, 8.365369981415057, 8.028897744793845, 7.777583316512939, 7.895366352169322, 7.723516095242664, 6.072835224274514, 7.233967869923958, 5.107273443393576, 6.817807472699045, 6.979075620295167, 3.4993751771450685, 6.32414965255542, 7.266757692746948, 7.409858536387621, 8.470730497072886, 3.194885986376906, 8.028897744793845, 3.801021789947222, 8.183048424621104, 6.135355581255848, 6.363889981204934, 6.883765440490842, 7.409858536387621, 8.183048424621104, 6.716711355827677, 7.723516095242664, 4.59031283106007, 6.906754958715541, 6.5570812102357925, 5.719195184030935, 5.733481141278412, 6.697663160856982, 7.449079249540903, 7.372118208404775, 7.62343263668568, 8.270059801610733, 8.270059801610733, 8.183048424621104, 8.365369981415057, 5.229875765485908, 5.340078905619523, 6.697663160856982, 6.883765440490842, 6.249114466612506, 6.249114466612506, 4.924951886599621, 5.340078905619523, 7.6722228008551125, 6.755932068980957, 7.723516095242664, 4.974222935606404, 6.979075620295167, 8.183048424621104, 8.103005716947568, 7.834741730352888, 5.624529957489857, 8.365369981415057, 7.777583316512939, 6.954383007704796, 6.052834557567844, 8.183048424621104, 6.32414965255542, 5.719195184030935, 8.270059801610733, 7.141594549792942, 6.225303817918787, 7.449079249540903, 7.959904873306893, 7.834741730352888, 7.576912621050788, 3.8880331669368515, 7.449079249540903, 5.5742048736023415, 6.979075620295167, 6.337221734122773, 6.861292584638784, 6.906754958715541, 5.491805341835275, 4.664068007302564, 5.624529957489857, 8.365369981415057, 8.270059801610733, 7.777583316512939, 7.084436135952994, 6.979075620295167, 7.532460858479954, 7.300659244422629, 7.202219171609377, 7.895366352169322, 4.762593226354534, 7.266757692746948, 8.470730497072886, 7.834741730352888, 7.959904873306893, 8.270059801610733, 6.023564175267731, 8.183048424621104, 8.470730497072886, 7.959904873306893, 8.365369981415057, 8.103005716947568, 7.11260701291969, 8.103005716947568, 7.266757692746948, 6.042982261124832, 5.815924810489487, 6.32414965255542, 6.642603383673954, 6.225303817918787, 7.777583316512939, 7.723516095242664, 6.642603383673954, 7.171447512942623, 7.834741730352888, 6.861292584638784, 6.839313677920009, 7.834741730352888, 7.449079249540903, 7.141594549792942, 8.270059801610733, 7.959904873306893, 8.270059801610733, 5.183158140918449, 7.6722228008551125, 7.449079249540903, 6.298507221942082, 8.470730497072886, 8.470730497072886, 7.895366352169322, 8.365369981415057, 8.270059801610733, 8.103005716947568, 5.1149954894874865, 5.278883344592603, 6.32414965255542, 5.4584689215676825, 7.300659244422629, 6.954383007704796, 7.895366352169322, 6.540820689364012, 8.103005716947568, 6.906754958715541, 7.723516095242664, 8.365369981415057, 8.028897744793845, 7.576912621050788, 6.817807472699045, 7.532460858479954, 8.270059801610733, 5.624529957489857, 5.897270449943439, 6.573610512187003, 5.2697923728913505, 7.62343263668568, 7.266757692746948, 7.233967869923958, 6.776134776298477, 8.103005716947568, 6.954383007704796, 7.4899012440611585, 7.959904873306893, 7.834741730352888, 8.103005716947568, 6.979075620295167, 8.103005716947568, 8.028897744793845, 7.3357505642339, 6.817807472699045, 7.895366352169322, 6.839313677920009, 8.270059801610733, 8.365369981415057, 8.028897744793845, 8.103005716947568, 5.1385259868976805, 5.815924810489487, 6.2612358271448505, 5.1345655856815835, 7.777583316512939, 7.4899012440611585, 8.028897744793845, 7.233967869923958, 7.3357505642339, 8.270059801610733, 6.716711355827677, 7.372118208404775, 7.6722228008551125, 8.103005716947568, 8.470730497072886, 7.777583316512939, 7.532460858479954, 6.2371382755657905, 7.171447512942623, 8.028897744793845, 6.954383007704796, 8.470730497072886, 6.1246602921391, 8.270059801610733, 8.470730497072886, 4.937855291435529, 5.855770719036686, 5.762680295970674, 7.959904873306893, 6.5090719910494315, 4.358036796182587, 5.076968093898247, 7.777583316512939, 7.084436135952994, 7.233967869923958, 5.410459702381322, 5.491805341835275, 7.084436135952994, 7.6722228008551125, 7.959904873306893, 6.5570812102357925, 7.141594549792942, 8.183048424621104, 7.3357505642339, 8.270059801610733, 8.028897744793845, 8.183048424621104, 7.777583316512939, 8.103005716947568, 8.028897744793845, 8.103005716947568, 8.365369981415057, 8.365369981415057, 5.526291517906444, 8.470730497072886, 7.6722228008551125, 7.3357505642339, 6.796754063501213, 7.959904873306893, 7.4899012440611585, 8.270059801610733, 7.723516095242664, 6.4194598323597445, 6.573610512187003, 7.409858536387621, 8.470730497072886, 8.365369981415057, 8.470730497072886, 6.493567804513467, 6.906754958715541, 8.365369981415057, 8.365369981415057, 7.409858536387621, 6.796754063501213, 8.028897744793845, 5.55596728605256, 3.877857838895199, 7.6722228008551125, 6.377495633260713, 6.697663160856982, 6.883765440490842, 8.470730497072886, 6.146166497360063, 6.337221734122773, 4.974222935606404, 7.030368914682718, 6.716711355827677, 7.6722228008551125, 6.573610512187003, 6.642603383673954, 7.834741730352888, 8.103005716947568, 5.526291517906444, 5.847673508804067, 6.448447369232997, 7.576912621050788, 7.11260701291969, 7.777583316512939, 6.716711355827677, 7.266757692746948, 7.6722228008551125, 8.183048424621104, 7.723516095242664, 7.532460858479954, 7.834741730352888, 8.470730497072886, 8.103005716947568, 7.723516095242664, 8.470730497072886, 6.954383007704796, 8.103005716947568, 6.736129441684778, 8.270059801610733, 7.959904873306893, 5.847673508804067, 7.576912621050788, 8.365369981415057, 7.62343263668568, 8.470730497072886, 5.384751345671115, 5.855770719036686, 8.470730497072886, 7.532460858479954, 6.660621889176633, 6.249114466612506, 6.1246602921391, 6.225303817918787, 8.270059801610733, 8.028897744793845, 8.470730497072886, 4.844909178926085, 5.53805635948603, 8.103005716947568, 8.183048424621104, 6.839313677920009, 7.532460858479954, 7.084436135952994, 7.372118208404775, 5.55596728605256, 6.190618259930897, 8.470730497072886, 6.135355581255848, 8.183048424621104, 5.97660719217996, 4.950927373002882, 7.532460858479954, 8.028897744793845, 7.834741730352888, 8.470730497072886, 7.895366352169322, 8.365369981415057, 8.470730497072886, 7.141594549792942, 8.183048424621104, 8.365369981415057, 7.723516095242664, 8.103005716947568, 8.365369981415057, 7.834741730352888, 8.270059801610733, 8.183048424621104, 7.723516095242664, 7.895366352169322, 8.183048424621104, 8.103005716947568, 8.183048424621104, 8.103005716947568, 8.470730497072886, 8.365369981415057, 8.470730497072886, 8.270059801610733, 7.300659244422629, 7.959904873306893, 8.365369981415057, 7.834741730352888, 8.365369981415057, 8.028897744793845, 8.183048424621104, 7.959904873306893, 7.723516095242664, 8.365369981415057, 7.834741730352888, 8.365369981415057, 8.103005716947568, 8.183048424621104, 7.777583316512939, 8.470730497072886, 8.270059801610733, 7.141594549792942, 8.103005716947568, 7.777583316512939, 8.183048424621104, 6.20204695575452, 8.183048424621104, 8.270059801610733, 8.103005716947568, 7.576912621050788, 8.103005716947568, 8.028897744793845, 7.409858536387621, 6.607512063862685, 8.183048424621104, 7.300659244422629, 6.642603383673954, 7.834741730352888, 8.270059801610733, 7.266757692746948, 4.754452068770833, 8.270059801610733, 8.270059801610733, 6.796754063501213, 6.817807472699045, 8.365369981415057, 6.225303817918787, 8.365369981415057, 5.431513111579155, 8.365369981415057, 6.883765440490842, 6.839313677920009, 8.270059801610733, 8.365369981415057, 7.895366352169322, 8.270059801610733, 7.449079249540903, 8.470730497072886, 7.057037161764879, 6.363889981204934, 6.817807472699045, 7.409858536387621, 7.959904873306893, 8.470730497072886, 8.103005716947568, 8.270059801610733, 7.372118208404775, 6.930285456125736, 6.817807472699045, 3.396251367521736, 7.0043934282794575, 6.3912889553930485, 7.057037161764879, 8.470730497072886, 4.2414666169514135, 7.723516095242664, 8.270059801610733, 7.777583316512939, 5.062153008113106, 7.959904873306893, 7.266757692746948, 5.118878989513884, 7.532460858479954, 6.1246602921391, 7.834741730352888, 7.233967869923958, 8.470730497072886, 7.449079249540903, 8.183048424621104, 5.808142670047432, 3.740397168130787, 8.183048424621104, 7.959904873306893, 8.365369981415057, 7.6722228008551125, 8.103005716947568, 8.270059801610733, 7.723516095242664, 8.103005716947568, 5.238609445454663, 5.394955515845357, 6.072835224274514, 6.4194598323597445, 7.266757692746948, 7.532460858479954, 7.959904873306893, 8.365369981415057, 8.365369981415057, 8.103005716947568, 8.270059801610733, 8.270059801610733, 7.777583316512939, 8.028897744793845, 8.270059801610733, 8.365369981415057, 7.723516095242664, 7.3357505642339, 6.817807472699045, 8.365369981415057, 8.183048424621104, 8.470730497072886, 8.470730497072886, 8.270059801610733, 6.433848569811844, 8.028897744793845, 8.028897744793845, 8.103005716947568, 7.834741730352888, 7.777583316512939, 5.216916620843403, 7.777583316512939, 8.183048424621104, 6.906754958715541, 7.723516095242664, 6.573610512187003, 8.470730497072886, 6.660621889176633, 6.607512063862685, 6.405275197367788, 7.409858536387621, 8.365369981415057, 8.470730497072886, 6.225303817918787, 8.103005716947568, 8.270059801610733, 6.678971027844829, 7.895366352169322, 8.470730497072886, 6.755932068980957, 7.372118208404775, 8.270059801610733, 4.465419557221182, 8.028897744793845, 7.895366352169322, 8.103005716947568, 6.839313677920009, 7.532460858479954, 8.028897744793845, 7.959904873306893, 7.723516095242664, 8.270059801610733, 7.834741730352888, 7.6722228008551125, 6.478300332382678, 7.895366352169322, 8.270059801610733, 8.028897744793845, 7.409858536387621, 7.233967869923958, 8.470730497072886, 8.365369981415057, 6.363889981204934, 7.895366352169322, 8.470730497072886, 7.532460858479954, 8.270059801610733, 7.409858536387621, 5.532156637358842, 5.463948387332309, 7.0043934282794575, 6.607512063862685, 8.470730497072886, 8.470730497072886, 7.11260701291969, 6.906754958715541, 5.008472858649482, 8.470730497072886, 8.365369981415057, 7.6722228008551125, 8.103005716947568, 8.365369981415057, 8.270059801610733, 8.028897744793845, 8.103005716947568, 6.954383007704796, 5.394955515845357, 7.576912621050788, 8.028897744793845, 7.11260701291969, 8.365369981415057, 5.549961261992348, 7.300659244422629, 6.363889981204934, 8.183048424621104, 8.028897744793845, 4.784632685920824, 7.3357505642339, 5.762680295970674, 7.057037161764879, 6.590417630503384, 7.171447512942623, 7.11260701291969, 7.266757692746948, 8.103005716947568, 7.449079249540903, 7.959904873306893, 7.959904873306893, 8.365369981415057, 7.6722228008551125, 8.270059801610733, 6.405275197367788, 7.300659244422629, 8.103005716947568, 6.5570812102357925, 6.478300332382678, 8.103005716947568, 8.365369981415057, 7.834741730352888, 6.072835224274514, 6.042982261124832, 8.470730497072886, 8.365369981415057, 7.532460858479954, 8.470730497072886, 7.171447512942623, 6.954383007704796, 4.646931725059577, 6.573610512187003, 5.2697923728913505, 8.028897744793845, 6.493567804513467, 6.883765440490842, 6.493567804513467, 6.179318704676964, 7.576912621050788, 7.834741730352888, 8.183048424621104, 7.895366352169322, 7.62343263668568, 7.895366352169322, 7.723516095242664, 8.103005716947568, 8.103005716947568, 7.777583316512939, 6.2612358271448505, 8.028897744793845, 7.6722228008551125, 5.436846457554517, 7.409858536387621, 7.372118208404775, 8.470730497072886, 8.470730497072886, 8.183048424621104, 8.028897744793845, 8.103005716947568, 6.906754958715541, 8.028897744793845, 8.470730497072886, 7.895366352169322, 7.0043934282794575, 7.895366352169322, 8.183048424621104, 8.470730497072886, 6.448447369232997, 8.470730497072886, 8.270059801610733, 5.166696863864376, 5.389840415178586, 7.202219171609377, 6.298507221942082, 6.776134776298477, 7.300659244422629, 7.576912621050788, 5.719195184030935, 6.5570812102357925, 7.777583316512939, 8.183048424621104, 8.470730497072886, 3.473518223308769, 7.141594549792942, 6.114078182808563, 5.644074553562827, 7.834741730352888, 6.607512063862685, 4.369005827553162, 7.6722228008551125, 6.716711355827677, 6.179318704676964, 5.043937568221765, 6.796754063501213, 3.6066207074986663, 6.930285456125736, 7.409858536387621, 8.365369981415057, 6.839313677920009, 8.103005716947568, 8.028897744793845, 5.283460011620015, 8.183048424621104, 5.004994594273158, 6.433848569811844, 8.270059801610733, 7.4899012440611585, 3.0101998032742388, 7.409858536387621, 7.777583316512939, 7.6722228008551125, 8.103005716947568, 8.365369981415057, 5.69122133198853, 8.183048424621104, 3.768231967124231, 4.841954967028654, 5.985823847284884, 7.11260701291969, 5.880463331627058, 4.719920085228457, 7.959904873306893, 8.103005716947568, 8.470730497072886, 8.270059801610733, 8.028897744793845, 8.103005716947568, 8.365369981415057, 7.266757692746948, 7.834741730352888, 7.3357505642339, 7.057037161764879, 7.372118208404775, 7.532460858479954, 8.470730497072886, 8.470730497072886, 8.028897744793845, 5.605360041382137, 5.008472858649482, 7.4899012440611585, 8.028897744793845, 8.028897744793845, 8.103005716947568, 5.1345655856815835, 4.694145462539843, 6.4194598323597445, 7.62343263668568, 7.6722228008551125, 5.897270449943439, 4.479690951326514, 4.208050620031569, 7.300659244422629, 7.6722228008551125, 8.028897744793845, 7.6722228008551125, 8.365369981415057, 7.723516095242664, 8.270059801610733, 7.777583316512939, 7.777583316512939, 7.959904873306893, 8.028897744793845, 6.624903806574554, 6.839313677920009, 8.470730497072886, 6.377495633260713, 5.705110444149197, 6.135355581255848, 7.62343263668568, 7.723516095242664, 8.365369981415057, 5.592781259175277, 7.372118208404775, 6.540820689364012, 5.888831581297574, 7.6722228008551125, 7.202219171609377, 7.834741730352888, 8.365369981415057, 7.723516095242664, 4.494168970507167, 6.190618259930897, 7.233967869923958, 7.895366352169322, 6.540820689364012, 8.103005716947568, 5.657319780312848, 7.895366352169322, 6.448447369232997, 6.716711355827677, 7.62343263668568, 6.01399472425158, 7.895366352169322, 7.777583316512939, 8.103005716947568, 7.532460858479954, 7.723516095242664, 8.183048424621104, 8.270059801610733, 8.028897744793845, 8.365369981415057, 8.470730497072886, 8.470730497072886, 8.470730497072886, 4.69160416511117, 8.470730497072886, 7.895366352169322, 7.777583316512939, 8.183048424621104, 8.103005716947568, 7.959904873306893, 8.183048424621104, 8.103005716947568, 8.028897744793845, 6.796754063501213, 5.389840415178586, 5.823767987950513, 7.449079249540903, 6.249114466612506, 6.5090719910494315, 7.6722228008551125, 8.270059801610733, 8.183048424621104, 8.183048424621104, 6.906754958715541, 8.183048424621104, 8.270059801610733, 8.470730497072886, 8.270059801610733, 8.365369981415057, 6.817807472699045, 5.55596728605256, 7.62343263668568, 6.861292584638784, 4.856814081432404, 7.4899012440611585, 5.278883344592603, 8.365369981415057, 7.834741730352888, 7.171447512942623, 8.365369981415057, 5.923022946045854, 5.77760594618735, 6.363889981204934, 7.895366352169322, 8.470730497072886, 6.2371382755657905, 7.0043934282794575, 7.3357505642339, 7.202219171609377, 7.723516095242664, 8.103005716947568, 8.470730497072886, 6.755932068980957, 6.114078182808563, 8.365369981415057, 8.365369981415057, 7.62343263668568, 8.270059801610733, 6.930285456125736, 7.895366352169322, 7.202219171609377, 7.834741730352888, 8.183048424621104, 7.409858536387621, 7.723516095242664, 6.954383007704796, 7.723516095242664, 7.300659244422629, 6.004515980297037, 5.670742800644989, 6.954383007704796, 7.409858536387621, 8.270059801610733, 7.171447512942623, 7.723516095242664, 7.895366352169322, 7.409858536387621, 8.103005716947568, 5.7553001886730515, 6.337221734122773, 5.088225248422882, 5.712128016807843, 5.306662908699678, 7.895366352169322, 6.642603383673954, 8.365369981415057, 5.733481141278412, 6.642603383673954, 6.624903806574554, 6.213607778155596, 6.103606882941268, 7.266757692746948, 7.202219171609377, 6.01399472425158, 8.470730497072886, 8.365369981415057, 7.141594549792942, 5.0296004050753575, 8.470730497072886, 5.931756626014608, 8.028897744793845, 7.449079249540903, 7.141594549792942, 6.678971027844829, 6.350466960872794, 7.11260701291969, 7.372118208404775, 7.6722228008551125, 8.028897744793845, 8.103005716947568, 8.365369981415057, 7.895366352169322, 7.409858536387621, 7.233967869923958, 7.959904873306893, 7.777583316512939, 8.270059801610733, 8.183048424621104, 8.270059801610733, 7.576912621050788, 7.895366352169322, 8.028897744793845, 6.1246602921391, 5.808142670047432, 7.3357505642339, 7.62343263668568, 7.409858536387621, 8.470730497072886, 6.861292584638784, 4.856814081432404, 7.233967869923958, 6.573610512187003, 6.4194598323597445, 6.042982261124832, 5.4584689215676825, 7.3357505642339, 6.004515980297037, 5.389840415178586, 6.678971027844829, 7.723516095242664, 8.470730497072886, 7.576912621050788, 7.834741730352888, 8.028897744793845, 8.028897744793845, 6.697663160856982, 8.365369981415057, 8.028897744793845, 4.833144337346498, 4.991201272140822, 6.624903806574554, 6.796754063501213, 7.895366352169322, 8.365369981415057, 7.895366352169322, 7.030368914682718, 5.580358739176719, 6.573610512187003, 5.719195184030935, 7.723516095242664, 7.576912621050788, 7.372118208404775, 5.97660719217996, 7.372118208404775, 7.959904873306893, 7.723516095242664, 8.028897744793845, 4.642089100583789, 5.949456203114009, 4.765321741007737, 8.270059801610733, 8.183048424621104, 8.183048424621104, 7.372118208404775, 6.004515980297037, 7.171447512942623, 7.895366352169322, 5.107273443393576, 7.266757692746948, 6.103606882941268, 5.855770719036686, 5.325620822444293, 8.183048424621104, 6.755932068980957, 6.861292584638784, 7.6722228008551125, 8.103005716947568, 6.350466960872794, 7.532460858479954, 7.895366352169322, 7.532460858479954, 3.968454734247426, 6.861292584638784, 7.62343263668568, 8.365369981415057, 6.493567804513467, 7.171447512942623, 7.777583316512939, 8.470730497072886, 6.660621889176633, 8.365369981415057, 5.631002471995474, 7.057037161764879, 8.365369981415057, 7.4899012440611585, 6.716711355827677, 5.474998223518893, 5.592781259175277, 7.959904873306893, 6.0829875957385315, 8.103005716947568, 7.62343263668568, 8.183048424621104, 8.470730497072886, 6.736129441684778, 7.449079249540903, 8.470730497072886, 6.883765440490842, 7.834741730352888, 7.959904873306893, 7.4899012440611585, 8.103005716947568, 7.266757692746948, 6.298507221942082, 8.365369981415057, 6.755932068980957, 7.834741730352888, 7.62343263668568, 6.736129441684778, 8.470730497072886, 8.365369981415057, 6.249114466612506, 7.62343263668568, 8.270059801610733, 7.723516095242664, 8.270059801610733, 7.895366352169322, 8.270059801610733, 5.792757751207952, 6.273505919736665, 6.093244095905721, 7.202219171609377, 8.183048424621104, 7.4899012440611585, 7.202219171609377, 5.238609445454663, 5.442208400695902, 5.726312651799799, 7.084436135952994, 7.3357505642339, 6.337221734122773, 7.084436135952994, 8.470730497072886, 8.365369981415057, 6.433848569811844, 5.611709269060796, 4.762593226354534, 7.266757692746948, 4.541085890294919, 4.887211558616775, 6.716711355827677, 6.776134776298477, 6.590417630503384, 6.448447369232997, 4.735709886961093, 7.834741730352888, 7.030368914682718, 8.028897744793845, 5.97660719217996, 6.906754958715541, 8.470730497072886, 6.363889981204934, 6.405275197367788, 6.448447369232997, 6.776134776298477, 6.1246602921391, 8.365369981415057, 8.103005716947568, 8.270059801610733, 8.470730497072886, 7.959904873306893, 7.372118208404775, 8.103005716947568, 7.233967869923958, 6.004515980297037, 6.861292584638784, 6.930285456125736, 8.028897744793845, 8.103005716947568, 6.448447369232997, 5.146494156546857, 6.3912889553930485, 7.300659244422629, 6.298507221942082, 4.915382435583471, 4.798658161275329, 6.2612358271448505, 5.863934029675847, 5.126691529250677, 6.540820689364012, 8.270059801610733, 8.028897744793845, 6.906754958715541, 7.171447512942623, 8.183048424621104, 4.197155570626502, 7.6722228008551125, 7.3357505642339, 6.285928439735222, 7.834741730352888, 8.103005716947568, 8.183048424621104, 8.103005716947568, 8.183048424621104, 7.834741730352888, 8.365369981415057, 7.532460858479954, 6.377495633260713, 6.736129441684778, 7.233967869923958, 8.470730497072886, 6.607512063862685, 8.103005716947568, 7.6722228008551125, 8.365369981415057, 6.954383007704796, 8.028897744793845, 6.716711355827677, 8.028897744793845, 8.470730497072886, 8.103005716947568, 8.183048424621104, 7.266757692746948, 7.3357505642339, 6.930285456125736, 6.697663160856982, 5.931756626014608, 8.028897744793845, 7.409858536387621, 7.449079249540903, 7.057037161764879, 7.532460858479954, 7.959904873306893, 8.270059801610733, 5.486171524117019, 6.678971027844829, 6.493567804513467, 6.906754958715541, 7.834741730352888, 8.365369981415057, 6.660621889176633, 8.270059801610733, 8.470730497072886, 8.103005716947568, 5.967474708616687, 5.415681646362474, 5.1149954894874865, 7.4899012440611585, 6.979075620295167, 8.470730497072886, 8.470730497072886, 7.723516095242664, 7.057037161764879, 6.448447369232997, 6.930285456125736, 8.270059801610733, 8.470730497072886, 5.195684400737629, 6.249114466612506, 7.895366352169322, 6.377495633260713, 7.084436135952994, 4.492087804303343, 5.532156637358842, 7.0043934282794575, 5.405264885504218, 4.980979718069284, 8.470730497072886, 4.311847413713212, 7.372118208404775, 8.270059801610733, 7.057037161764879, 7.532460858479954, 8.270059801610733, 8.183048424621104, 7.372118208404775, 7.777583316512939, 6.5570812102357925, 6.979075620295167, 7.4899012440611585, 7.834741730352888, 8.365369981415057, 7.895366352169322, 6.697663160856982, 6.524820348017571, 7.202219171609377, 6.906754958715541, 6.225303817918787, 7.449079249540903, 7.777583316512939, 7.959904873306893, 4.389433650243259, 7.959904873306893, 6.448447369232997, 6.062784888421012, 4.620582895362826, 7.409858536387621, 8.028897744793845, 8.470730497072886, 7.834741730352888, 6.590417630503384, 8.470730497072886, 6.2612358271448505, 8.103005716947568, 7.4899012440611585, 6.607512063862685, 8.028897744793845, 8.183048424621104, 7.6722228008551125, 8.365369981415057, 8.365369981415057, 8.470730497072886, 8.183048424621104, 7.449079249540903, 6.607512063862685, 7.084436135952994, 8.365369981415057, 8.103005716947568, 7.4899012440611585, 8.028897744793845, 8.365369981415057, 8.470730497072886, 7.409858536387621, 8.183048424621104, 8.270059801610733, 4.48174645050861, 5.637517153016669, 6.463262455018137, 6.213607778155596, 8.103005716947568, 7.895366352169322, 8.270059801610733, 6.839313677920009, 6.363889981204934, 6.493567804513467, 5.644074553562827, 7.449079249540903, 7.057037161764879, 6.405275197367788, 7.6722228008551125, 7.11260701291969, 6.168145404078839, 6.716711355827677, 8.365369981415057, 7.959904873306893, 6.033226086179468, 7.233967869923958, 8.028897744793845, 5.320847543691635, 6.839313677920009, 7.723516095242664, 6.697663160856982, 8.183048424621104, 6.642603383673954, 7.030368914682718, 7.895366352169322, 7.834741730352888, 7.895366352169322, 8.365369981415057, 7.834741730352888, 7.959904873306893, 8.028897744793845, 8.270059801610733, 7.409858536387621, 8.270059801610733, 6.3912889553930485, 7.084436135952994, 8.470730497072886, 7.449079249540903, 7.895366352169322, 8.365369981415057, 6.716711355827677, 7.532460858479954, 7.723516095242664, 8.365369981415057, 7.202219171609377, 7.372118208404775, 8.028897744793845, 8.470730497072886, 7.6722228008551125, 8.470730497072886, 6.463262455018137, 8.183048424621104, 8.470730497072886, 8.183048424621104, 7.6722228008551125, 6.5570812102357925, 8.470730497072886, 7.777583316512939, 7.6722228008551125, 7.3357505642339, 8.183048424621104, 8.470730497072886, 8.103005716947568, 8.183048424621104, 7.532460858479954, 7.959904873306893, 7.834741730352888, 8.470730497072886, 8.270059801610733, 6.311246247719512, 5.568088646584905, 5.080706416008854, 8.103005716947568, 7.233967869923958, 7.576912621050788, 7.576912621050788, 7.532460858479954, 8.103005716947568, 6.052834557567844, 7.6722228008551125, 8.270059801610733, 8.103005716947568, 5.6843484527007675, 7.834741730352888, 8.365369981415057, 5.415681646362474, 6.433848569811844, 6.930285456125736, 7.084436135952994, 7.834741730352888, 8.183048424621104, 5.985823847284884, 8.183048424621104, 5.747974148580979, 7.11260701291969, 8.470730497072886, 6.883765440490842, 7.834741730352888, 7.895366352169322, 7.449079249540903, 8.470730497072886, 2.9947319532873955, 6.642603383673954, 7.409858536387621, 8.470730497072886, 8.365369981415057, 7.11260701291969, 4.43944407081792, 8.028897744793845, 7.723516095242664, 8.270059801610733, 8.470730497072886, 8.183048424621104, 8.365369981415057, 8.183048424621104, 6.0829875957385315, 8.183048424621104, 8.028897744793845, 6.3912889553930485, 8.470730497072886, 8.470730497072886, 8.365369981415057, 7.409858536387621, 7.4899012440611585, 7.202219171609377, 7.959904873306893, 8.270059801610733, 7.141594549792942, 7.6722228008551125, 7.141594549792942, 5.191491522477593, 6.463262455018137, 6.930285456125736, 6.179318704676964, 5.166696863864376, 8.183048424621104, 6.273505919736665, 7.409858536387621, 6.736129441684778, 8.365369981415057, 7.6722228008551125, 7.576912621050788, 8.365369981415057, 8.103005716947568, 6.225303817918787, 7.62343263668568, 6.642603383673954, 6.736129441684778, 7.959904873306893, 8.183048424621104, 8.470730497072886, 8.470730497072886, 7.895366352169322, 7.3357505642339, 7.449079249540903, 7.372118208404775, 8.365369981415057, 7.6722228008551125, 8.470730497072886, 6.817807472699045, 8.270059801610733, 8.183048424621104, 7.6722228008551125, 8.028897744793845, 4.696693234618641, 6.2371382755657905, 8.103005716947568, 5.677522487630368, 8.365369981415057, 8.028897744793845, 8.365369981415057, 8.103005716947568, 7.0043934282794575, 7.959904873306893, 7.777583316512939, 4.634868852610302, 8.103005716947568, 6.573610512187003, 7.202219171609377, 6.642603383673954, 6.3912889553930485, 8.103005716947568, 7.532460858479954, 8.270059801610733, 7.723516095242664, 7.777583316512939, 6.883765440490842, 7.202219171609377, 6.3912889553930485, 5.65067523759418, 8.270059801610733, 7.895366352169322, 5.995126239947197, 8.270059801610733, 6.678971027844829, 7.141594549792942, 6.5090719910494315, 7.959904873306893, 7.834741730352888, 6.697663160856982, 8.028897744793845, 7.266757692746948, 7.576912621050788, 8.183048424621104, 7.959904873306893, 5.580358739176719, 6.839313677920009, 8.470730497072886, 7.4899012440611585, 4.964172599752903, 6.906754958715541, 6.114078182808563, 7.030368914682718, 8.270059801610733, 8.183048424621104, 6.954383007704796, 7.372118208404775, 5.631002471995474, 6.249114466612506, 7.895366352169322, 6.337221734122773, 7.777583316512939, 6.590417630503384, 8.028897744793845, 6.954383007704796, 7.372118208404775, 5.592781259175277, 6.979075620295167, 8.183048424621104, 8.365369981415057, 8.470730497072886, 8.028897744793845, 6.660621889176633, 8.365369981415057, 6.930285456125736, 8.470730497072886, 5.0015283862966715, 8.270059801610733, 7.895366352169322, 7.11260701291969, 8.470730497072886, 8.470730497072886, 6.157095567892254, 8.470730497072886, 7.266757692746948, 7.777583316512939, 8.470730497072886, 5.415681646362474, 8.270059801610733, 7.6722228008551125, 8.183048424621104, 8.183048424621104, 7.834741730352888, 6.590417630503384, 7.409858536387621, 8.103005716947568, 7.030368914682718, 8.365369981415057, 7.3357505642339, 6.776134776298477, 7.959904873306893, 7.4899012440611585, 8.470730497072886, 7.895366352169322, 6.524820348017571, 8.470730497072886, 6.033226086179468, 5.084458765627405, 7.532460858479954, 7.895366352169322, 6.906754958715541, 7.777583316512939, 8.365369981415057, 6.249114466612506, 8.470730497072886, 7.6722228008551125, 6.285928439735222, 7.084436135952994, 6.298507221942082, 8.270059801610733, 7.834741730352888, 5.940567255696763, 7.895366352169322, 8.365369981415057, 7.959904873306893, 6.213607778155596, 6.607512063862685, 7.449079249540903, 7.62343263668568, 8.270059801610733, 8.270059801610733, 7.723516095242664, 6.861292584638784, 6.954383007704796, 7.959904873306893, 7.532460858479954, 7.532460858479954, 6.298507221942082, 7.834741730352888, 8.028897744793845, 6.716711355827677, 8.103005716947568, 8.470730497072886, 7.300659244422629, 8.270059801610733, 7.372118208404775, 8.270059801610733, 7.202219171609377, 8.365369981415057, 7.449079249540903, 8.028897744793845, 6.524820348017571, 8.470730497072886, 7.723516095242664, 8.183048424621104, 7.834741730352888, 8.183048424621104, 8.028897744793845, 7.532460858479954, 7.895366352169322, 8.183048424621104, 6.5570812102357925, 7.449079249540903, 7.372118208404775, 7.233967869923958, 4.967511501018418, 5.839641337106802, 7.895366352169322, 7.576912621050788, 4.924951886599621, 6.249114466612506, 8.028897744793845, 6.755932068980957, 8.470730497072886, 6.883765440490842, 7.834741730352888, 8.103005716947568, 6.906754958715541, 3.6204378530518078, 8.470730497072886, 6.678971027844829, 6.861292584638784, 3.989612959754772, 4.757158430368577, 7.895366352169322, 8.270059801610733, 8.270059801610733, 7.084436135952994, 8.470730497072886, 8.365369981415057, 6.273505919736665, 7.300659244422629, 7.4899012440611585, 8.183048424621104, 7.6722228008551125, 7.372118208404775, 6.5090719910494315, 5.823767987950513, 5.4475992493307785, 6.776134776298477, 7.777583316512939, 7.62343263668568, 4.836072597125587, 6.906754958715541, 8.103005716947568, 8.183048424621104, 8.470730497072886, 8.365369981415057, 8.270059801610733, 7.3357505642339, 8.470730497072886, 8.470730497072886, 8.470730497072886, 7.723516095242664, 7.409858536387621, 7.449079249540903, 5.705110444149197, 8.028897744793845, 8.470730497072886, 6.883765440490842, 8.365369981415057, 8.270059801610733, 7.084436135952994, 7.171447512942623, 7.266757692746948, 7.959904873306893, 8.470730497072886, 8.270059801610733, 7.141594549792942, 7.576912621050788, 7.300659244422629, 8.365369981415057, 7.959904873306893, 7.777583316512939, 6.796754063501213, 7.777583316512939, 8.028897744793845, 7.6722228008551125, 7.723516095242664, 8.365369981415057, 8.470730497072886, 6.755932068980957, 6.642603383673954, 8.028897744793845, 7.895366352169322, 8.270059801610733, 5.770115274458193, 7.266757692746948, 8.470730497072886, 8.183048424621104, 6.5570812102357925, 5.212633959051402, 8.470730497072886, 7.576912621050788, 6.861292584638784, 6.883765440490842, 8.470730497072886, 5.216916620843403, 8.270059801610733, 7.372118208404775, 8.028897744793845, 7.895366352169322, 8.270059801610733, 2.690329975624511, 7.171447512942623, 7.959904873306893, 7.202219171609377, 6.979075620295167, 6.01399472425158, 8.365369981415057, 8.270059801610733, 8.470730497072886, 7.834741730352888, 7.171447512942623, 4.395078067862936, 7.834741730352888, 5.1385259868976805, 7.4899012440611585, 8.270059801610733, 8.028897744793845, 6.590417630503384, 6.350466960872794, 6.103606882941268, 8.470730497072886, 7.723516095242664, 8.470730497072886, 5.8721645288123625, 8.470730497072886, 6.736129441684778, 7.202219171609377, 7.409858536387621, 6.839313677920009, 5.1111270127095665, 8.365369981415057, 8.365369981415057, 8.470730497072886, 7.4899012440611585, 7.449079249540903, 7.6722228008551125, 7.449079249540903, 7.449079249540903, 7.777583316512939, 8.470730497072886, 6.930285456125736, 7.449079249540903, 7.4899012440611585, 8.103005716947568, 7.959904873306893, 8.470730497072886, 7.372118208404775, 7.959904873306893, 6.493567804513467, 8.365369981415057, 8.470730497072886, 8.365369981415057, 7.266757692746948, 6.930285456125736, 7.6722228008551125, 6.607512063862685, 6.350466960872794, 6.285928439735222, 7.6722228008551125, 5.880463331627058, 6.716711355827677, 8.470730497072886, 7.171447512942623, 7.409858536387621, 6.32414965255542, 8.365369981415057, 6.660621889176633, 7.959904873306893, 8.028897744793845, 8.470730497072886, 5.344945095270695, 6.32414965255542, 8.183048424621104, 8.270059801610733, 7.030368914682718, 8.365369981415057, 7.895366352169322, 7.895366352169322, 4.615865905484687, 5.592781259175277, 7.62343263668568, 6.716711355827677, 6.2371382755657905, 6.607512063862685, 7.3357505642339, 8.183048424621104, 8.103005716947568, 4.310112807901004, 2.9461632975915677, 3.9075403833256757, 8.470730497072886, 3.46902383372093, 6.796754063501213, 7.959904873306893, 6.540820689364012, 8.270059801610733, 8.270059801610733, 5.532156637358842, 7.3357505642339, 7.895366352169322, 7.6722228008551125, 8.270059801610733, 6.32414965255542, 7.057037161764879, 8.183048424621104, 8.470730497072886, 7.409858536387621, 6.624903806574554, 7.834741730352888, 7.4899012440611585, 7.723516095242664, 8.028897744793845, 8.365369981415057, 7.084436135952994, 6.624903806574554, 7.777583316512939, 8.183048424621104, 6.906754958715541, 7.266757692746948, 6.660621889176633, 7.723516095242664, 6.249114466612506, 8.028897744793845, 6.839313677920009, 7.4899012440611585, 8.365369981415057, 8.470730497072886, 8.028897744793845, 6.01399472425158, 6.363889981204934, 7.62343263668568, 8.103005716947568, 7.777583316512939, 7.959904873306893, 5.463948387332309, 6.405275197367788, 8.470730497072886, 8.270059801610733, 7.6722228008551125, 6.755932068980957, 8.470730497072886, 7.6722228008551125, 7.372118208404775, 6.716711355827677, 7.4899012440611585, 4.8508439144459, 5.7553001886730515, 7.895366352169322, 7.895366352169322, 8.365369981415057, 5.306662908699678, 4.801487017475807, 6.448447369232997, 5.335236281143735, 8.183048424621104, 6.32414965255542, 6.023564175267731, 8.183048424621104, 7.171447512942623, 7.409858536387621, 8.365369981415057, 6.478300332382678, 8.365369981415057, 8.470730497072886, 5.705110444149197, 8.365369981415057, 5.6843484527007675, 8.183048424621104, 7.532460858479954, 7.6722228008551125, 6.337221734122773, 6.0829875957385315, 8.103005716947568, 7.777583316512939, 7.723516095242664, 6.033226086179468, 7.62343263668568, 5.158566737781126, 6.776134776298477, 8.470730497072886, 7.300659244422629, 8.470730497072886, 8.470730497072886, 8.270059801610733, 8.365369981415057, 8.365369981415057, 8.103005716947568, 7.449079249540903, 8.365369981415057, 7.959904873306893, 8.103005716947568, 6.755932068980957, 8.183048424621104, 7.449079249540903, 8.470730497072886, 7.6722228008551125, 8.270059801610733, 7.202219171609377, 4.637269814147841, 8.103005716947568, 7.6722228008551125, 7.895366352169322, 6.377495633260713, 6.32414965255542, 6.32414965255542, 7.895366352169322, 7.834741730352888, 8.470730497072886, 6.573610512187003, 7.959904873306893, 8.470730497072886, 7.576912621050788, 5.985823847284884, 6.433848569811844, 7.449079249540903, 7.4899012440611585, 8.270059801610733, 7.449079249540903, 6.817807472699045, 8.270059801610733, 5.344945095270695, 8.470730497072886, 7.895366352169322, 7.532460858479954, 8.470730497072886, 8.365369981415057, 8.103005716947568, 8.470730497072886, 7.834741730352888, 7.777583316512939, 7.030368914682718, 7.959904873306893, 5.436846457554517, 5.831673167457626, 6.906754958715541, 6.776134776298477, 6.433848569811844, 8.270059801610733, 6.979075620295167, 8.470730497072886, 8.365369981415057, 6.377495633260713, 8.270059801610733, 5.1626235384767405, 7.409858536387621, 7.202219171609377, 6.249114466612506, 7.959904873306893, 6.736129441684778, 4.545462264894718, 8.470730497072886, 6.624903806574554, 5.880463331627058, 8.470730497072886, 7.895366352169322, 6.298507221942082, 6.433848569811844, 8.470730497072886, 8.028897744793845, 8.270059801610733, 6.157095567892254, 8.270059801610733, 8.470730497072886, 3.5803813688511306, 6.463262455018137, 6.285928439735222, 5.420931002248618, 7.266757692746948, 5.234233070854864, 5.216916620843403, 8.103005716947568, 7.576912621050788, 6.883765440490842, 8.470730497072886, 7.723516095242664, 5.199894933273972, 6.478300332382678, 5.808142670047432, 7.0043934282794575, 8.103005716947568, 6.736129441684778, 5.208369560264945, 7.141594549792942, 7.895366352169322, 6.979075620295167, 4.654239918366303, 7.4899012440611585, 8.183048424621104, 6.493567804513467, 8.028897744793845, 7.084436135952994, 5.043937568221765, 5.618099067159567, 8.270059801610733, 8.365369981415057, 6.1246602921391, 6.930285456125736, 7.084436135952994, 3.5770452523291203, 5.97660719217996, 7.834741730352888, 6.979075620295167, 8.028897744793845, 7.532460858479954, 8.103005716947568, 7.6722228008551125, 8.183048424621104, 7.576912621050788, 6.979075620295167, 8.365369981415057, 7.6722228008551125, 7.532460858479954, 7.233967869923958, 8.270059801610733, 7.449079249540903, 5.698141774833103, 5.888831581297574, 7.449079249540903, 6.157095567892254, 7.834741730352888, 7.11260701291969, 7.959904873306893, 8.365369981415057, 4.4715109466145835, 7.202219171609377, 8.470730497072886, 4.4715109466145835, 7.409858536387621, 7.959904873306893, 4.998074151428584, 6.103606882941268, 8.365369981415057, 8.470730497072886, 8.470730497072886, 7.723516095242664, 5.712128016807843, 7.62343263668568, 8.470730497072886, 7.959904873306893, 8.365369981415057, 8.103005716947568, 7.3357505642339, 7.62343263668568, 8.470730497072886, 8.103005716947568, 6.298507221942082, 6.405275197367788, 7.0043934282794575, 8.470730497072886, 4.041237325160079, 7.11260701291969, 5.53805635948603, 8.470730497072886, 6.906754958715541, 8.470730497072886, 5.670742800644989, 8.103005716947568, 8.103005716947568, 4.338234168886407, 8.183048424621104, 7.834741730352888, 7.084436135952994, 6.817807472699045, 7.4899012440611585, 6.135355581255848, 7.11260701291969, 6.861292584638784, 7.3357505642339, 8.470730497072886, 4.642089100583789, 5.855770719036686, 7.300659244422629, 6.883765440490842, 8.365369981415057, 8.103005716947568, 7.723516095242664, 8.103005716947568, 8.183048424621104, 5.099610570648007, 6.776134776298477, 6.524820348017571, 8.183048424621104, 6.979075620295167, 6.755932068980957, 8.365369981415057, 7.4899012440611585, 5.568088646584905, 8.470730497072886, 7.449079249540903, 6.337221734122773, 7.11260701291969, 8.103005716947568, 8.365369981415057, 8.270059801610733, 7.895366352169322, 7.532460858479954, 7.141594549792942, 7.895366352169322, 6.573610512187003, 6.023564175267731, 8.365369981415057, 8.270059801610733, 8.028897744793845, 5.234233070854864, 4.453346975986912, 4.957528057034234, 8.470730497072886, 7.3357505642339, 8.103005716947568, 8.103005716947568, 7.6722228008551125, 7.449079249540903, 5.474998223518893, 5.97660719217996, 5.043937568221765, 6.093244095905721, 6.213607778155596, 4.383820913338302, 4.887211558616775, 7.62343263668568, 6.5090719910494315, 8.365369981415057, 5.770115274458193, 6.590417630503384, 3.4323359333423538, 8.470730497072886, 8.103005716947568, 7.62343263668568, 7.959904873306893, 5.599050872188872, 5.199894933273972, 6.146166497360063, 6.249114466612506, 6.5570812102357925, 6.660621889176633, 7.723516095242664, 8.270059801610733, 7.834741730352888, 5.532156637358842, 8.365369981415057, 5.297317046281441, 6.573610512187003, 8.183048424621104, 8.183048424621104, 6.052834557567844, 7.084436135952994, 8.103005716947568, 5.469458043143278, 8.365369981415057, 5.7553001886730515, 7.266757692746948, 7.532460858479954, 8.183048424621104, 7.141594549792942, 6.20204695575452, 8.270059801610733, 7.959904873306893, 7.959904873306893, 6.839313677920009, 6.590417630503384, 5.65067523759418, 8.470730497072886, 6.930285456125736, 6.906754958715541, 7.532460858479954, 8.365369981415057, 8.470730497072886, 7.62343263668568, 5.839641337106802, 7.777583316512939, 7.449079249540903, 6.642603383673954, 8.183048424621104, 7.959904873306893, 8.365369981415057, 7.959904873306893, 8.183048424621104, 6.861292584638784, 7.723516095242664, 8.270059801610733, 7.723516095242664, 7.959904873306893, 8.470730497072886, 5.208369560264945, 7.895366352169322, 7.777583316512939, 8.365369981415057, 8.470730497072886, 8.365369981415057, 6.337221734122773, 6.405275197367788, 8.365369981415057, 7.576912621050788, 8.028897744793845, 7.4899012440611585, 7.723516095242664, 5.6843484527007675, 6.678971027844829, 8.270059801610733, 8.183048424621104, 8.270059801610733, 7.834741730352888, 4.768057720826612, 5.762680295970674, 7.576912621050788, 7.030368914682718, 5.808142670047432, 6.042982261124832, 6.225303817918787, 8.470730497072886, 6.883765440490842, 7.300659244422629, 6.093244095905721, 8.365369981415057, 7.4899012440611585, 8.270059801610733, 7.723516095242664, 7.057037161764879, 7.576912621050788, 7.62343263668568, 8.470730497072886, 7.0043934282794575, 6.697663160856982, 7.171447512942623, 7.266757692746948, 7.3357505642339, 6.405275197367788, 7.233967869923958, 6.954383007704796, 8.470730497072886, 6.678971027844829, 5.747974148580979, 7.959904873306893, 7.3357505642339, 7.233967869923958, 7.895366352169322, 7.834741730352888, 8.183048424621104, 8.270059801610733, 8.103005716947568, 8.103005716947568, 7.895366352169322, 8.470730497072886, 7.409858536387621, 8.103005716947568, 7.895366352169322, 8.470730497072886, 7.030368914682718, 7.895366352169322, 7.4899012440611585, 8.028897744793845, 5.914364883302739, 8.103005716947568, 7.723516095242664, 6.716711355827677, 7.233967869923958, 8.183048424621104, 8.270059801610733, 7.576912621050788, 8.470730497072886, 8.028897744793845, 8.028897744793845, 6.273505919736665, 8.270059801610733, 6.642603383673954, 5.170786849115902, 7.300659244422629, 8.470730497072886, 7.372118208404775, 7.777583316512939, 5.940567255696763, 8.365369981415057, 8.028897744793845, 7.409858536387621, 6.607512063862685, 7.057037161764879, 8.365369981415057, 7.576912621050788, 8.470730497072886, 8.270059801610733, 7.959904873306893, 7.6722228008551125, 7.777583316512939, 5.800420623953522, 7.6722228008551125, 5.770115274458193, 8.270059801610733, 8.270059801610733, 8.028897744793845, 5.940567255696763, 7.4899012440611585, 8.028897744793845, 7.084436135952994, 6.716711355827677, 7.372118208404775, 4.308381205736726, 7.723516095242664, 8.103005716947568, 7.959904873306893, 8.103005716947568, 7.895366352169322, 6.930285456125736, 8.470730497072886, 8.183048424621104, 6.4194598323597445, 7.834741730352888, 8.270059801610733, 8.365369981415057, 7.202219171609377, 4.899634078615332, 7.300659244422629, 8.028897744793845, 5.985823847284884, 6.478300332382678, 7.62343263668568, 5.047554208691953, 7.895366352169322, 7.449079249540903, 7.300659244422629, 8.365369981415057, 7.834741730352888, 7.959904873306893, 5.0119632635892515, 8.470730497072886, 5.208369560264945, 4.941107326821907, 4.727783821688672, 7.576912621050788, 8.183048424621104, 7.6722228008551125, 8.365369981415057, 8.270059801610733, 8.470730497072886, 5.670742800644989, 8.470730497072886, 7.723516095242664, 8.028897744793845, 8.103005716947568, 5.847673508804067, 8.470730497072886, 8.365369981415057, 6.590417630503384, 8.270059801610733, 7.057037161764879, 5.624529957489857, 8.103005716947568, 7.895366352169322, 8.470730497072886, 7.3357505642339, 8.183048424621104, 8.365369981415057, 5.410459702381322, 8.365369981415057, 7.300659244422629, 7.171447512942623, 7.723516095242664, 8.183048424621104, 7.895366352169322, 6.337221734122773, 7.532460858479954, 6.524820348017571, 6.2371382755657905, 7.723516095242664, 8.028897744793845, 7.723516095242664, 5.278883344592603, 5.486171524117019, 6.01399472425158, 6.213607778155596, 7.4899012440611585, 5.503169100485589, 6.590417630503384, 4.994631807237612, 5.9057811396113475, 8.270059801610733, 6.493567804513467, 5.880463331627058, 8.365369981415057, 6.796754063501213, 6.607512063862685, 8.270059801610733, 6.5090719910494315, 7.6722228008551125, 5.880463331627058, 8.270059801610733, 5.880463331627058, 8.365369981415057, 7.576912621050788, 4.125483113902299, 7.723516095242664, 7.576912621050788, 5.897270449943439, 8.270059801610733, 6.660621889176633, 8.028897744793845, 6.146166497360063, 6.072835224274514, 4.35079038766182, 6.979075620295167, 7.300659244422629, 7.6722228008551125, 7.777583316512939, 7.6722228008551125, 7.777583316512939, 4.079028596875585, 7.6722228008551125, 8.470730497072886, 8.183048424621104, 8.103005716947568, 8.270059801610733, 7.959904873306893, 7.202219171609377, 8.183048424621104, 8.103005716947568, 7.959904873306893, 6.493567804513467, 5.426208059349461, 8.365369981415057, 6.660621889176633, 7.084436135952994, 8.183048424621104, 7.723516095242664, 7.532460858479954, 5.923022946045854, 7.202219171609377, 4.336453224515413, 8.470730497072886, 6.883765440490842, 8.028897744793845, 6.839313677920009, 8.183048424621104, 8.103005716947568, 7.834741730352888, 7.372118208404775, 7.141594549792942, 7.3357505642339, 8.103005716947568, 6.225303817918787, 7.834741730352888, 8.270059801610733, 5.800420623953522, 6.524820348017571, 7.171447512942623, 5.7553001886730515, 4.8302246272431635, 5.400096915345776, 7.202219171609377, 5.526291517906444, 8.103005716947568, 4.473549683304432, 5.888831581297574, 8.103005716947568, 7.723516095242664, 7.834741730352888, 6.590417630503384, 8.183048424621104, 4.5520629489260696, 6.573610512187003, 8.365369981415057, 6.883765440490842, 7.233967869923958, 7.409858536387621, 7.372118208404775, 7.723516095242664, 8.028897744793845, 8.365369981415057, 8.470730497072886, 8.183048424621104, 7.372118208404775, 6.4194598323597445, 7.723516095242664, 8.028897744793845, 8.470730497072886, 7.895366352169322, 8.028897744793845, 7.62343263668568, 6.660621889176633, 7.4899012440611585, 6.1246602921391, 8.470730497072886, 6.213607778155596, 8.270059801610733, 7.0043934282794575, 7.266757692746948, 8.183048424621104, 7.4899012440611585, 7.895366352169322, 5.815924810489487, 8.183048424621104, 7.372118208404775, 8.470730497072886, 8.365369981415057, 7.895366352169322, 7.057037161764879, 8.365369981415057, 6.755932068980957, 8.103005716947568, 8.470730497072886, 8.183048424621104, 7.723516095242664, 8.470730497072886, 7.4899012440611585, 8.103005716947568, 7.171447512942623, 7.895366352169322, 8.270059801610733, 8.270059801610733, 6.678971027844829, 7.233967869923958, 8.365369981415057, 6.573610512187003, 7.409858536387621, 7.233967869923958, 7.723516095242664, 8.470730497072886, 5.985823847284884, 7.3357505642339, 8.028897744793845, 8.183048424621104, 8.028897744793845, 7.266757692746948, 7.372118208404775, 8.270059801610733, 8.365369981415057, 7.233967869923958, 8.183048424621104, 6.5570812102357925, 8.470730497072886, 8.270059801610733, 7.532460858479954, 6.298507221942082, 7.3357505642339, 5.221217702742794, 7.895366352169322, 8.183048424621104, 6.540820689364012, 7.3357505642339, 7.723516095242664, 8.028897744793845, 7.62343263668568, 8.470730497072886, 8.183048424621104, 8.270059801610733, 8.470730497072886, 8.028897744793845, 7.959904873306893, 6.114078182808563, 6.540820689364012, 8.470730497072886, 8.183048424621104, 5.126691529250677, 7.11260701291969, 7.171447512942623, 5.823767987950513, 8.270059801610733, 6.861292584638784, 6.2371382755657905, 7.62343263668568, 7.959904873306893, 8.270059801610733, 7.372118208404775, 7.449079249540903, 7.6722228008551125, 8.183048424621104, 8.365369981415057, 3.980846466542589, 5.364650166350028, 7.576912621050788, 5.97660719217996, 7.777583316512939, 7.723516095242664, 8.103005716947568, 8.270059801610733, 7.62343263668568, 8.365369981415057, 7.6722228008551125, 8.470730497072886, 8.028897744793845, 8.470730497072886, 7.057037161764879, 8.270059801610733, 7.62343263668568, 7.0043934282794575, 8.103005716947568, 5.069533115410729, 6.1246602921391, 8.028897744793845, 8.365369981415057, 7.895366352169322, 7.084436135952994, 6.5090719910494315, 7.6722228008551125, 8.365369981415057, 7.266757692746948, 7.895366352169322, 7.959904873306893, 8.183048424621104, 8.183048424621104, 7.777583316512939, 8.470730497072886, 7.202219171609377, 7.959904873306893, 8.365369981415057, 7.084436135952994, 7.723516095242664, 8.028897744793845, 7.959904873306893, 7.4899012440611585, 7.62343263668568, 8.103005716947568, 7.62343263668568, 8.365369981415057, 7.777583316512939, 8.470730497072886, 8.470730497072886, 6.755932068980957, 7.723516095242664, 7.895366352169322, 8.365369981415057, 8.365369981415057, 7.62343263668568, 8.365369981415057, 8.470730497072886, 8.270059801610733, 6.405275197367788, 7.409858536387621, 7.372118208404775, 8.270059801610733, 7.895366352169322, 8.470730497072886, 8.470730497072886, 8.365369981415057, 6.607512063862685, 7.4899012440611585, 5.191491522477593, 8.183048424621104, 7.6722228008551125, 7.895366352169322, 8.365369981415057, 7.777583316512939, 7.834741730352888, 8.470730497072886, 6.776134776298477, 4.749061220135957, 8.470730497072886, 8.028897744793845, 8.103005716947568, 6.697663160856982, 6.979075620295167, 8.365369981415057, 8.270059801610733, 7.576912621050788, 7.723516095242664, 8.270059801610733, 8.365369981415057, 6.298507221942082, 3.9525716880744226, 6.979075620295167, 6.433848569811844, 7.895366352169322, 8.470730497072886, 6.062784888421012, 7.030368914682718, 4.824410657377744, 7.576912621050788, 7.895366352169322, 7.449079249540903, 6.930285456125736, 5.792757751207952, 6.607512063862685, 6.448447369232997, 8.270059801610733, 8.470730497072886, 8.365369981415057, 5.410459702381322, 6.524820348017571, 7.4899012440611585, 7.532460858479954, 5.040333960718467, 5.800420623953522, 5.931756626014608, 6.776134776298477, 8.028897744793845, 7.0043934282794575, 8.028897744793845, 4.9090533005318235, 6.954383007704796, 8.270059801610733, 7.959904873306893, 8.365369981415057, 5.400096915345776, 5.243005056927701, 6.2612358271448505, 6.524820348017571, 8.365369981415057, 6.954383007704796, 5.677522487630368, 4.449354954717375, 6.493567804513467, 8.365369981415057, 8.365369981415057, 8.365369981415057, 6.540820689364012, 7.895366352169322, 8.183048424621104, 7.895366352169322, 8.470730497072886, 7.777583316512939, 4.3014846266776665, 4.231804706039676, 7.834741730352888, 8.103005716947568, 8.103005716947568, 5.95842487309677, 8.270059801610733, 6.5570812102357925, 5.863934029675847, 6.930285456125736, 4.490010960358504, 7.532460858479954, 6.954383007704796, 6.906754958715541, 4.620582895362826, 7.449079249540903, 8.103005716947568, 4.219065680262246, 4.865836699032041, 5.018980836247898, 7.959904873306893, 8.103005716947568, 5.995126239947197, 7.576912621050788, 7.959904873306893, 7.6722228008551125, 5.6843484527007675, 8.270059801610733, 6.573610512187003, 8.365369981415057, 5.839641337106802, 4.1666654038687145, 6.337221734122773, 8.028897744793845, 7.62343263668568, 7.449079249540903, 6.697663160856982, 7.084436135952994, 8.470730497072886, 7.62343263668568, 7.959904873306893, 6.607512063862685, 8.470730497072886, 6.4194598323597445, 8.270059801610733, 7.300659244422629, 6.179318704676964, 8.183048424621104, 6.930285456125736, 7.372118208404775, 8.103005716947568, 7.959904873306893, 8.270059801610733, 7.959904873306893, 7.895366352169322, 8.028897744793845, 5.008472858649482, 6.225303817918787, 6.697663160856982, 5.084458765627405, 6.540820689364012, 6.273505919736665, 4.519486778491457, 8.470730497072886, 7.030368914682718, 7.777583316512939, 8.183048424621104, 7.409858536387621, 7.171447512942623, 8.028897744793845, 6.607512063862685, 4.717312521821377, 5.1111270127095665, 6.716711355827677, 6.796754063501213, 6.954383007704796, 6.3912889553930485, 7.449079249540903, 6.249114466612506, 8.270059801610733, 6.004515980297037, 7.202219171609377, 8.103005716947568, 8.028897744793845, 8.028897744793845, 7.959904873306893, 6.179318704676964, 7.171447512942623, 7.777583316512939, 8.365369981415057, 5.985823847284884, 8.365369981415057, 8.028897744793845, 5.526291517906444, 7.62343263668568, 4.282760675411378, 7.233967869923958, 7.834741730352888, 8.103005716947568, 5.940567255696763, 7.266757692746948, 8.270059801610733, 7.266757692746948, 6.5090719910494315, 7.576912621050788, 6.363889981204934, 8.270059801610733, 6.377495633260713, 4.977595620085044, 5.316096940933037, 7.62343263668568, 5.092005971262788, 8.183048424621104, 7.449079249540903, 8.470730497072886, 8.028897744793845, 8.270059801610733, 7.300659244422629, 8.470730497072886, 8.365369981415057, 8.028897744793845, 7.895366352169322, 7.777583316512939, 8.028897744793845, 6.573610512187003, 8.270059801610733, 7.895366352169322, 7.4899012440611585, 8.270059801610733, 8.183048424621104, 8.470730497072886, 5.55596728605256, 7.532460858479954, 6.0829875957385315, 8.470730497072886, 7.576912621050788, 7.834741730352888, 6.839313677920009, 7.723516095242664, 8.470730497072886, 8.183048424621104, 8.470730497072886, 8.103005716947568, 5.69122133198853, 7.834741730352888, 7.576912621050788, 7.895366352169322, 6.114078182808563, 6.607512063862685, 8.470730497072886, 5.199894933273972, 7.532460858479954, 6.716711355827677, 7.532460858479954, 7.0043934282794575, 7.959904873306893, 8.183048424621104, 8.183048424621104, 8.470730497072886, 8.365369981415057, 8.365369981415057, 8.365369981415057, 8.365369981415057, 5.349835080564888, 6.979075620295167, 5.5742048736023415, 8.470730497072886, 8.183048424621104, 8.470730497072886, 7.6722228008551125, 5.359687377007899, 8.103005716947568, 6.979075620295167, 7.834741730352888, 7.895366352169322, 8.470730497072886, 8.365369981415057, 8.470730497072886, 7.300659244422629, 8.183048424621104, 5.5146634799113246, 6.861292584638784, 8.365369981415057, 8.103005716947568, 8.270059801610733, 5.733481141278412, 7.959904873306893, 7.834741730352888, 7.266757692746948, 7.834741730352888, 7.834741730352888, 8.365369981415057, 8.270059801610733, 7.895366352169322, 8.365369981415057, 8.270059801610733, 8.183048424621104, 8.470730497072886, 8.470730497072886, 8.270059801610733, 7.057037161764879, 7.300659244422629, 7.959904873306893, 7.409858536387621, 8.470730497072886, 6.298507221942082, 8.028897744793845, 5.949456203114009, 8.365369981415057, 7.4899012440611585, 7.62343263668568, 7.62343263668568, 8.470730497072886, 7.084436135952994, 8.470730497072886, 7.449079249540903, 8.028897744793845, 7.202219171609377, 8.103005716947568, 8.103005716947568, 6.642603383673954, 7.834741730352888, 7.372118208404775, 8.183048424621104, 8.470730497072886, 7.576912621050788, 4.924951886599621, 8.103005716947568, 7.723516095242664, 8.028897744793845, 6.861292584638784, 6.01399472425158, 7.057037161764879, 7.959904873306893, 7.141594549792942, 7.6722228008551125, 8.270059801610733, 6.311246247719512, 5.431513111579155, 7.895366352169322, 8.365369981415057, 8.365369981415057, 5.415681646362474, 6.839313677920009, 6.817807472699045, 8.470730497072886, 8.103005716947568, 6.493567804513467, 7.777583316512939, 8.365369981415057, 7.266757692746948, 7.777583316512939, 8.470730497072886, 8.270059801610733, 7.3357505642339, 8.365369981415057, 8.470730497072886, 8.470730497072886, 7.171447512942623, 6.839313677920009, 4.746376654765289, 8.470730497072886, 4.219065680262246, 7.959904873306893, 5.225537363887311, 8.270059801610733, 5.831673167457626, 7.0043934282794575, 7.6722228008551125, 7.4899012440611585, 5.705110444149197, 5.532156637358842, 6.114078182808563, 4.967511501018418, 7.449079249540903, 8.183048424621104, 8.470730497072886, 8.103005716947568, 7.834741730352888, 7.62343263668568, 6.796754063501213, 5.543991095005845, 3.711409631257535, 4.214330075516412, 7.030368914682718, 7.057037161764879, 4.807168850943238, 8.183048424621104, 8.365369981415057, 5.503169100485589, 6.493567804513467, 8.470730497072886, 8.103005716947568, 8.183048424621104, 6.796754063501213, 3.6749399514761434, 5.092005971262788, 8.365369981415057, 4.332900822911045, 5.297317046281441, 4.455348978657585, 6.755932068980957, 8.470730497072886, 6.5570812102357925, 5.229875765485908, 7.723516095242664, 6.273505919736665, 7.3357505642339, 6.678971027844829, 7.834741730352888, 5.664008768463645, 8.470730497072886, 5.677522487630368, 8.470730497072886, 7.959904873306893, 5.374650249684612, 7.62343263668568, 7.834741730352888, 8.103005716947568, 8.028897744793845, 8.103005716947568, 4.941107326821907, 6.363889981204934, 6.839313677920009, 6.930285456125736, 6.146166497360063, 8.470730497072886, 8.270059801610733, 7.62343263668568, 7.0043934282794575, 6.179318704676964, 6.930285456125736, 8.270059801610733, 6.590417630503384, 7.233967869923958, 6.3912889553930485, 8.270059801610733, 7.777583316512939, 7.141594549792942, 6.660621889176633, 7.449079249540903, 6.861292584638784, 8.183048424621104, 8.365369981415057, 8.270059801610733, 7.959904873306893, 8.028897744793845, 8.470730497072886, 4.974222935606404, 7.6722228008551125, 8.270059801610733, 5.474998223518893, 7.959904873306893, 7.3357505642339, 6.736129441684778, 7.202219171609377, 6.042982261124832, 6.285928439735222, 8.365369981415057, 8.183048424621104, 8.470730497072886, 7.723516095242664, 7.233967869923958, 6.448447369232997, 7.777583316512939, 7.959904873306893, 4.606498155481087, 7.409858536387621, 6.023564175267731, 6.736129441684778, 8.470730497072886, 6.590417630503384, 5.306662908699678, 6.979075620295167, 7.62343263668568, 6.796754063501213, 7.233967869923958, 7.777583316512939, 7.11260701291969, 8.270059801610733, 8.028897744793845, 8.365369981415057, 7.576912621050788, 8.470730497072886, 8.365369981415057, 8.103005716947568, 8.470730497072886, 7.777583316512939, 8.470730497072886, 7.4899012440611585, 5.442208400695902, 7.723516095242664, 7.959904873306893, 8.270059801610733, 8.365369981415057, 7.723516095242664, 7.3357505642339, 8.470730497072886, 7.266757692746948, 6.033226086179468, 6.736129441684778, 5.949456203114009, 7.959904873306893, 6.930285456125736, 8.470730497072886, 8.103005716947568, 6.285928439735222, 8.470730497072886, 4.313585033611753, 5.469458043143278, 8.470730497072886, 6.624903806574554, 6.405275197367788, 5.800420623953522, 5.4475992493307785, 5.897270449943439, 6.168145404078839, 5.549961261992348, 7.6722228008551125, 6.697663160856982, 8.028897744793845, 8.365369981415057, 8.365369981415057, 8.270059801610733, 4.583455661333932, 7.171447512942623, 7.959904873306893, 8.470730497072886, 5.043937568221765, 8.183048424621104, 8.470730497072886, 6.954383007704796, 7.6722228008551125, 8.470730497072886, 8.365369981415057, 8.183048424621104, 5.53805635948603, 7.723516095242664, 7.959904873306893, 7.777583316512939, 7.723516095242664, 8.365369981415057, 6.796754063501213, 7.3357505642339, 7.895366352169322, 5.897270449943439, 6.5570812102357925, 6.796754063501213, 7.777583316512939, 7.959904873306893, 8.183048424621104, 8.470730497072886, 7.449079249540903, 8.270059801610733, 6.350466960872794, 8.270059801610733, 8.470730497072886, 7.895366352169322, 4.928162162229869, 6.249114466612506, 5.97660719217996, 7.3357505642339, 8.103005716947568, 8.103005716947568, 6.660621889176633, 6.861292584638784, 8.470730497072886, 6.755932068980957, 8.028897744793845, 8.470730497072886, 7.723516095242664, 7.409858536387621, 8.470730497072886, 6.624903806574554, 8.028897744793845, 6.298507221942082, 8.183048424621104, 7.62343263668568, 6.103606882941268, 6.906754958715541, 6.448447369232997, 7.171447512942623, 6.114078182808563, 8.365369981415057, 8.183048424621104, 7.11260701291969, 6.5090719910494315, 8.028897744793845, 8.470730497072886, 7.62343263668568, 8.103005716947568, 7.895366352169322, 7.532460858479954, 8.470730497072886, 6.590417630503384, 8.470730497072886, 7.057037161764879, 8.470730497072886, 8.183048424621104, 4.376385934850784, 5.897270449943439, 7.171447512942623, 5.631002471995474, 6.337221734122773, 7.959904873306893, 7.723516095242664, 5.618099067159567, 7.777583316512939, 6.678971027844829, 6.249114466612506, 7.084436135952994, 7.834741730352888, 6.377495633260713, 7.576912621050788, 7.6722228008551125, 8.470730497072886, 8.270059801610733, 7.030368914682718, 8.365369981415057, 5.808142670047432, 5.359687377007899, 5.823767987950513, 6.697663160856982, 5.4475992493307785, 6.590417630503384, 7.141594549792942, 4.836072597125587, 6.678971027844829, 4.069446045794589, 7.959904873306893, 8.470730497072886, 8.103005716947568, 8.028897744793845, 7.777583316512939, 8.028897744793845, 4.987782465392037, 6.796754063501213, 8.365369981415057, 8.183048424621104, 5.225537363887311, 7.449079249540903, 8.470730497072886, 8.103005716947568, 6.642603383673954, 6.023564175267731, 7.532460858479954, 8.365369981415057, 8.365369981415057, 8.270059801610733, 8.183048424621104, 3.9984569845512246, 7.233967869923958, 6.463262455018137, 6.493567804513467, 8.365369981415057, 8.365369981415057, 6.906754958715541, 7.834741730352888, 6.179318704676964, 6.954383007704796, 7.834741730352888, 8.470730497072886, 7.723516095242664, 6.463262455018137, 8.103005716947568, 8.270059801610733, 7.266757692746948, 7.084436135952994, 7.959904873306893, 6.405275197367788, 7.233967869923958, 7.3357505642339, 7.266757692746948, 7.4899012440611585, 8.028897744793845, 6.363889981204934, 7.057037161764879, 6.20204695575452, 6.861292584638784, 7.532460858479954, 6.796754063501213, 8.270059801610733, 8.470730497072886, 8.365369981415057, 7.777583316512939, 8.028897744793845, 7.030368914682718, 8.470730497072886, 8.365369981415057, 8.103005716947568, 8.183048424621104, 8.470730497072886, 6.5570812102357925, 6.642603383673954, 8.470730497072886, 8.470730497072886, 8.470730497072886, 5.058483279224144, 7.777583316512939, 5.4584689215676825, 6.093244095905721, 7.62343263668568, 7.266757692746948, 7.62343263668568, 6.5570812102357925, 7.723516095242664, 7.576912621050788, 7.11260701291969, 7.834741730352888, 6.573610512187003, 5.97660719217996, 6.590417630503384, 7.171447512942623, 8.470730497072886, 5.847673508804067, 5.815924810489487, 5.705110444149197, 7.4899012440611585, 7.372118208404775, 5.5146634799113246, 6.979075620295167, 8.365369981415057, 6.954383007704796, 4.65179791471075, 5.1505021779443965, 6.273505919736665, 5.726312651799799, 5.073243694807265, 8.470730497072886, 5.586550709424641, 8.470730497072886, 6.20204695575452, 8.183048424621104, 7.834741730352888, 8.470730497072886, 6.0829875957385315, 6.190618259930897, 8.028897744793845, 6.979075620295167, 7.62343263668568, 7.030368914682718, 8.470730497072886, 7.084436135952994, 8.365369981415057, 6.540820689364012, 7.6722228008551125, 8.365369981415057, 7.300659244422629, 8.270059801610733, 6.883765440490842, 8.103005716947568, 5.491805341835275, 5.183158140918449, 7.300659244422629, 7.409858536387621, 4.504640270374463, 8.270059801610733, 7.62343263668568, 8.270059801610733, 8.270059801610733, 4.947643297801692, 8.103005716947568, 8.183048424621104, 8.470730497072886, 8.103005716947568, 7.449079249540903, 7.777583316512939, 6.32414965255542, 7.959904873306893, 7.895366352169322, 7.6722228008551125, 7.723516095242664, 7.895366352169322, 8.183048424621104, 7.6722228008551125, 8.183048424621104, 5.586550709424641, 7.233967869923958, 8.365369981415057, 8.470730497072886, 8.365369981415057, 8.270059801610733, 5.949456203114009, 8.183048424621104, 8.365369981415057, 8.183048424621104, 7.233967869923958, 8.028897744793845, 8.183048424621104, 8.183048424621104, 8.270059801610733, 8.183048424621104, 8.270059801610733, 7.62343263668568, 8.365369981415057, 8.365369981415057, 8.270059801610733, 6.524820348017571, 7.266757692746948, 7.3357505642339, 6.298507221942082, 5.02604800347099, 8.028897744793845, 3.7814234318785935, 5.306662908699678, 7.449079249540903, 6.20204695575452, 5.839641337106802, 7.409858536387621, 5.344945095270695, 5.018980836247898, 4.773552240144253, 5.6843484527007675, 8.270059801610733, 7.62343263668568, 7.409858536387621, 7.959904873306893, 8.028897744793845, 6.190618259930897, 7.834741730352888, 8.103005716947568, 3.325823343824382, 5.53805635948603, 8.365369981415057, 5.605360041382137, 7.171447512942623, 7.834741730352888, 8.028897744793845, 7.233967869923958, 8.028897744793845, 8.470730497072886, 6.5090719910494315, 7.62343263668568, 8.028897744793845, 7.6722228008551125, 7.141594549792942, 5.664008768463645, 5.349835080564888, 7.372118208404775, 6.3912889553930485, 7.233967869923958, 6.052834557567844, 7.959904873306893, 7.723516095242664, 7.030368914682718, 6.157095567892254, 7.532460858479954, 8.470730497072886, 8.365369981415057, 6.883765440490842, 5.712128016807843, 7.409858536387621, 7.084436135952994, 6.697663160856982, 6.377495633260713, 6.776134776298477, 8.270059801610733, 7.4899012440611585, 7.576912621050788, 6.405275197367788, 7.233967869923958, 7.723516095242664, 8.365369981415057, 5.0119632635892515, 6.796754063501213, 7.202219171609377, 7.6722228008551125, 6.540820689364012, 6.524820348017571, 6.839313677920009, 8.470730497072886, 6.906754958715541, 7.834741730352888, 7.233967869923958, 7.6722228008551125, 6.839313677920009, 7.834741730352888, 8.103005716947568, 8.270059801610733, 7.6722228008551125, 8.365369981415057, 8.028897744793845, 7.723516095242664, 6.285928439735222, 7.895366352169322, 6.4194598323597445, 8.365369981415057, 8.470730497072886, 7.723516095242664, 8.103005716947568, 8.470730497072886, 8.270059801610733, 6.32414965255542, 8.183048424621104, 7.372118208404775, 6.883765440490842, 8.183048424621104, 7.834741730352888, 6.363889981204934, 7.202219171609377, 7.576912621050788, 7.141594549792942, 7.3357505642339, 8.470730497072886, 7.11260701291969, 8.365369981415057, 7.723516095242664, 7.895366352169322, 7.409858536387621, 8.028897744793845, 8.183048424621104, 7.777583316512939, 7.959904873306893, 6.906754958715541, 7.959904873306893, 8.270059801610733, 6.796754063501213, 5.256309022554063, 6.337221734122773, 6.433848569811844, 6.377495633260713, 6.642603383673954, 8.365369981415057, 7.0043934282794575, 8.103005716947568, 8.028897744793845, 8.028897744793845, 7.62343263668568, 7.895366352169322, 6.776134776298477, 7.6722228008551125, 8.470730497072886, 7.959904873306893, 6.861292584638784, 7.449079249540903, 7.62343263668568, 8.028897744793845, 8.365369981415057, 8.270059801610733, 7.300659244422629, 8.270059801610733, 7.723516095242664, 6.249114466612506, 8.365369981415057, 8.183048424621104, 7.202219171609377, 8.470730497072886, 8.028897744793845, 6.607512063862685, 7.777583316512939, 7.895366352169322, 7.834741730352888, 8.183048424621104, 8.028897744793845, 7.895366352169322, 6.839313677920009, 7.372118208404775, 7.959904873306893, 5.7553001886730515, 8.103005716947568, 7.834741730352888, 8.270059801610733, 7.4899012440611585, 7.4899012440611585, 7.576912621050788, 4.329360996205921, 8.103005716947568, 8.270059801610733, 8.470730497072886, 8.028897744793845, 8.365369981415057, 8.103005716947568, 8.183048424621104, 8.365369981415057, 8.365369981415057, 8.365369981415057, 8.470730497072886, 7.895366352169322, 7.532460858479954, 7.62343263668568, 8.270059801610733, 5.474998223518893, 7.300659244422629, 8.183048424621104, 7.895366352169322, 8.028897744793845, 8.183048424621104, 8.183048424621104, 6.493567804513467, 7.3357505642339, 8.028897744793845, 6.979075620295167, 7.409858536387621, 6.298507221942082, 7.11260701291969, 7.141594549792942, 8.183048424621104, 8.270059801610733, 6.755932068980957, 8.365369981415057, 7.959904873306893, 8.103005716947568, 8.103005716947568, 8.183048424621104, 4.252858115237508, 6.979075620295167, 7.6722228008551125, 4.543271683514899, 4.222235255023525, 8.365369981415057, 7.0043934282794575, 5.949456203114009, 7.202219171609377, 7.777583316512939, 8.183048424621104, 4.347186780158522, 5.923022946045854, 4.315325678089538, 5.400096915345776, 7.171447512942623, 8.103005716947568, 7.895366352169322, 8.365369981415057, 7.449079249540903, 7.266757692746948, 8.028897744793845, 6.954383007704796, 7.4899012440611585, 7.723516095242664, 5.631002471995474, 6.1246602921391, 6.660621889176633, 5.247420075136818, 7.723516095242664, 6.311246247719512, 7.449079249540903, 7.449079249540903, 7.723516095242664, 6.273505919736665, 7.532460858479954, 5.374650249684612, 6.796754063501213, 7.6722228008551125, 6.072835224274514, 8.270059801610733, 8.365369981415057, 7.959904873306893, 7.6722228008551125, 5.863934029675847, 7.576912621050788, 6.716711355827677, 6.2371382755657905, 7.777583316512939, 7.62343263668568, 5.940567255696763, 6.954383007704796, 8.470730497072886, 7.084436135952994, 5.099610570648007, 7.449079249540903, 8.470730497072886, 5.624529957489857, 8.270059801610733, 7.723516095242664, 7.266757692746948, 6.168145404078839, 7.030368914682718, 8.470730497072886, 6.839313677920009, 8.103005716947568, 8.103005716947568, 7.300659244422629, 8.028897744793845, 8.365369981415057, 7.895366352169322, 6.861292584638784, 8.470730497072886, 8.028897744793845, 8.183048424621104, 7.723516095242664, 7.266757692746948, 5.995126239947197, 6.5090719910494315, 6.796754063501213, 6.930285456125736, 6.103606882941268, 6.337221734122773, 7.895366352169322, 4.070809372522453, 8.270059801610733, 5.1345655856815835, 5.940567255696763, 8.183048424621104, 7.3357505642339, 5.532156637358842, 8.365369981415057, 8.365369981415057, 4.92175188386895, 6.433848569811844, 7.057037161764879, 8.028897744793845, 6.135355581255848, 5.792757751207952, 8.103005716947568, 6.930285456125736, 5.705110444149197, 4.455348978657585, 8.470730497072886, 5.897270449943439, 8.365369981415057, 7.576912621050788, 8.183048424621104, 7.834741730352888, 8.028897744793845, 7.202219171609377, 7.959904873306893, 7.4899012440611585, 7.895366352169322, 6.573610512187003, 7.576912621050788, 7.62343263668568, 6.168145404078839, 7.6722228008551125, 6.179318704676964, 7.959904873306893, 8.183048424621104, 8.365369981415057, 7.057037161764879, 7.057037161764879, 7.233967869923958, 7.576912621050788, 8.470730497072886, 8.470730497072886, 8.270059801610733, 5.5146634799113246, 7.777583316512939, 7.576912621050788, 7.0043934282794575, 8.103005716947568, 7.4899012440611585, 5.657319780312848, 3.5330642228432194, 5.2697923728913505, 5.415681646362474, 6.979075620295167, 6.755932068980957, 7.959904873306893, 6.285928439735222, 7.266757692746948, 7.202219171609377, 7.895366352169322, 6.590417630503384, 7.62343263668568, 8.365369981415057, 7.057037161764879, 6.405275197367788, 7.959904873306893, 7.3357505642339, 8.183048424621104, 8.183048424621104, 5.2697923728913505, 6.979075620295167, 6.839313677920009, 7.532460858479954, 6.2612358271448505, 8.470730497072886, 8.183048424621104, 6.839313677920009, 6.5570812102357925, 7.6722228008551125, 7.171447512942623, 8.103005716947568, 7.834741730352888, 7.4899012440611585, 8.183048424621104, 8.470730497072886, 4.525917668821748, 8.183048424621104, 5.923022946045854, 6.736129441684778, 8.365369981415057, 7.576912621050788, 8.183048424621104, 7.576912621050788, 7.0043934282794575, 4.70694973478583, 7.449079249540903, 7.895366352169322, 6.0829875957385315, 6.839313677920009, 7.834741730352888, 7.834741730352888, 7.3357505642339, 6.607512063862685, 6.2371382755657905, 6.607512063862685, 6.072835224274514, 6.249114466612506, 6.298507221942082, 6.540820689364012, 8.365369981415057, 7.4899012440611585, 4.541085890294919, 6.157095567892254, 5.65067523759418, 8.183048424621104, 8.183048424621104, 7.959904873306893, 7.409858536387621, 6.642603383673954, 5.880463331627058, 5.599050872188872, 8.470730497072886, 7.576912621050788, 8.470730497072886, 5.297317046281441, 4.7304188693266775, 7.777583316512939, 8.028897744793845, 6.540820689364012, 7.895366352169322, 7.409858536387621, 8.470730497072886, 8.183048424621104, 7.576912621050788, 7.532460858479954, 8.028897744793845, 6.839313677920009, 8.270059801610733, 8.365369981415057, 7.449079249540903, 4.749061220135957, 7.409858536387621, 7.777583316512939, 3.1674255890138086, 8.103005716947568, 5.95842487309677, 7.959904873306893, 8.028897744793845, 6.298507221942082, 8.028897744793845, 6.796754063501213, 7.372118208404775, 6.736129441684778, 6.817807472699045, 7.576912621050788, 7.084436135952994, 8.028897744793845, 7.171447512942623, 6.697663160856982, 7.62343263668568, 8.470730497072886, 6.839313677920009, 8.470730497072886, 7.834741730352888, 7.084436135952994, 6.524820348017571, 6.817807472699045, 7.141594549792942, 6.311246247719512, 5.274327528056742, 8.365369981415057, 8.270059801610733, 7.6722228008551125, 6.642603383673954, 8.183048424621104, 7.3357505642339, 6.776134776298477, 8.470730497072886, 7.300659244422629, 7.4899012440611585, 8.365369981415057, 8.270059801610733, 7.6722228008551125, 7.233967869923958, 8.103005716947568, 7.4899012440611585, 8.183048424621104, 3.3574049158746813, 3.319367543481511, 8.470730497072886, 2.4986186784807174, 8.470730497072886, 8.365369981415057, 4.65179791471075, 5.486171524117019, 8.270059801610733, 7.141594549792942, 7.834741730352888, 7.723516095242664, 6.861292584638784, 7.6722228008551125, 5.022508176765866, 7.723516095242664, 6.642603383673954, 7.6722228008551125, 7.057037161764879, 8.183048424621104, 8.028897744793845, 6.861292584638784, 6.883765440490842, 8.270059801610733, 6.883765440490842, 3.6860203972527152, 8.183048424621104, 5.785153151822733, 5.747974148580979, 5.10343466708641, 5.274327528056742, 8.470730497072886, 7.409858536387621, 5.426208059349461, 7.141594549792942, 6.249114466612506, 6.405275197367788, 7.723516095242664, 6.839313677920009, 7.266757692746948, 6.213607778155596, 8.270059801610733, 7.4899012440611585, 7.834741730352888, 8.365369981415057, 7.959904873306893, 7.449079249540903, 8.103005716947568, 7.532460858479954, 7.202219171609377, 7.576912621050788, 5.320847543691635, 8.365369981415057, 6.052834557567844, 5.831673167457626, 7.372118208404775, 7.171447512942623, 8.270059801610733, 8.270059801610733, 7.11260701291969, 7.895366352169322, 8.365369981415057, 7.0043934282794575, 7.532460858479954, 8.470730497072886, 6.954383007704796, 8.470730497072886, 5.415681646362474, 8.270059801610733, 8.470730497072886, 7.777583316512939, 7.777583316512939, 6.540820689364012, 7.959904873306893, 8.365369981415057, 8.470730497072886, 8.470730497072886, 5.967474708616687, 6.493567804513467, 8.183048424621104, 6.042982261124832, 6.273505919736665, 8.103005716947568, 7.409858536387621, 6.642603383673954, 7.084436135952994, 7.084436135952994, 8.183048424621104, 5.995126239947197, 8.028897744793845, 8.183048424621104, 8.183048424621104, 8.270059801610733, 7.62343263668568, 8.470730497072886, 8.365369981415057, 7.6722228008551125, 8.365369981415057, 6.20204695575452, 7.777583316512939, 5.306662908699678, 2.529098323712778, 8.028897744793845, 7.723516095242664, 6.979075620295167, 7.895366352169322, 3.787570992223099, 8.183048424621104, 6.298507221942082, 7.777583316512939, 7.532460858479954, 6.573610512187003, 7.723516095242664, 8.470730497072886, 8.470730497072886, 6.20204695575452, 8.103005716947568, 6.624903806574554, 6.755932068980957, 6.839313677920009, 6.796754063501213, 6.103606882941268, 6.448447369232997, 7.62343263668568, 7.233967869923958, 7.0043934282794575, 4.934613797511359, 6.954383007704796, 6.249114466612506, 8.470730497072886, 7.959904873306893, 8.103005716947568, 8.365369981415057, 5.888831581297574, 7.409858536387621, 8.028897744793845, 7.777583316512939, 8.270059801610733, 7.4899012440611585, 7.233967869923958, 7.6722228008551125, 7.62343263668568, 8.103005716947568, 3.9971887535632296, 8.270059801610733, 6.590417630503384, 8.103005716947568, 8.365369981415057, 7.171447512942623, 7.532460858479954, 7.3357505642339, 3.7085565622751284, 8.470730497072886, 6.755932068980957, 8.470730497072886, 8.028897744793845, 7.576912621050788, 8.103005716947568, 7.084436135952994, 5.080706416008854, 8.470730497072886, 8.183048424621104, 8.365369981415057, 8.470730497072886, 6.285928439735222, 6.213607778155596, 7.372118208404775, 6.590417630503384, 7.723516095242664, 8.028897744793845, 7.141594549792942, 8.103005716947568, 5.967474708616687, 7.0043934282794575, 5.204123269383494, 4.162171014280876, 5.637517153016669, 6.5090719910494315, 7.532460858479954, 5.442208400695902, 7.959904873306893, 8.270059801610733, 5.4974710793709525, 6.337221734122773, 8.365369981415057, 6.954383007704796, 7.62343263668568, 7.449079249540903, 6.839313677920009, 7.834741730352888, 8.270059801610733, 7.834741730352888, 6.023564175267731, 8.365369981415057, 7.030368914682718, 5.1149954894874865, 6.883765440490842, 7.959904873306893, 6.906754958715541, 6.930285456125736, 8.270059801610733, 5.967474708616687, 6.883765440490842, 7.576912621050788, 7.409858536387621, 7.576912621050788, 4.494168970507167, 8.365369981415057, 8.183048424621104, 5.080706416008854, 7.62343263668568, 8.470730497072886, 8.183048424621104, 5.508899775194575, 6.979075620295167, 7.895366352169322, 7.532460858479954, 8.270059801610733, 8.270059801610733, 5.420931002248618, 7.266757692746948, 8.103005716947568, 6.190618259930897, 8.183048424621104, 7.6722228008551125, 7.6722228008551125, 8.103005716947568, 7.895366352169322, 6.697663160856982, 8.470730497072886, 7.777583316512939, 7.6722228008551125, 8.470730497072886, 8.470730497072886, 6.573610512187003, 7.576912621050788, 5.4974710793709525, 6.954383007704796, 8.365369981415057, 6.642603383673954, 8.365369981415057, 7.449079249540903, 6.524820348017571, 7.834741730352888, 7.959904873306893, 8.028897744793845, 7.777583316512939, 7.300659244422629, 6.448447369232997, 7.576912621050788, 8.365369981415057, 7.4899012440611585, 7.030368914682718, 5.260783302948985, 8.028897744793845, 7.777583316512939, 6.776134776298477, 6.776134776298477, 7.576912621050788, 8.270059801610733, 8.270059801610733, 8.470730497072886, 4.833144337346498, 6.448447369232997, 7.62343263668568, 8.365369981415057, 7.723516095242664, 7.409858536387621, 6.093244095905721, 5.931756626014608, 5.726312651799799, 7.141594549792942, 7.030368914682718, 5.364650166350028, 8.470730497072886, 8.103005716947568, 6.493567804513467, 6.954383007704796, 7.141594549792942, 8.028897744793845, 8.183048424621104, 8.028897744793845, 7.834741730352888, 6.524820348017571, 6.405275197367788, 5.379688043714569, 7.959904873306893, 8.270059801610733, 7.6722228008551125, 8.365369981415057, 8.365369981415057, 7.4899012440611585, 7.233967869923958, 7.057037161764879, 7.0043934282794575, 8.365369981415057, 8.470730497072886, 8.103005716947568, 8.365369981415057, 5.216916620843403, 8.270059801610733, 7.202219171609377, 7.300659244422629, 7.0043934282794575, 7.300659244422629, 7.449079249540903, 7.576912621050788, 7.895366352169322, 7.895366352169322, 8.470730497072886, 7.576912621050788, 8.103005716947568, 7.723516095242664, 7.141594549792942, 6.979075620295167, 6.642603383673954, 7.777583316512939, 7.777583316512939, 5.914364883302739, 7.057037161764879, 8.028897744793845, 8.103005716947568, 5.897270449943439, 7.372118208404775, 6.817807472699045, 8.028897744793845, 6.5090719910494315, 7.084436135952994, 7.576912621050788, 8.103005716947568, 7.202219171609377, 7.895366352169322, 6.337221734122773, 7.0043934282794575, 8.183048424621104, 6.954383007704796, 8.183048424621104, 7.576912621050788, 7.449079249540903, 6.817807472699045, 7.62343263668568, 8.103005716947568, 7.959904873306893, 5.800420623953522, 8.470730497072886, 7.576912621050788, 8.103005716947568, 8.470730497072886, 6.979075620295167, 7.6722228008551125, 8.028897744793845, 8.028897744793845, 8.365369981415057, 8.183048424621104, 7.834741730352888, 8.365369981415057, 6.642603383673954, 5.97660719217996, 5.831673167457626, 7.777583316512939, 6.839313677920009, 5.335236281143735, 6.954383007704796, 7.777583316512939, 6.930285456125736, 6.179318704676964, 7.141594549792942, 7.300659244422629, 6.883765440490842, 7.834741730352888, 8.270059801610733, 8.270059801610733, 6.135355581255848, 7.266757692746948, 7.4899012440611585, 7.449079249540903, 5.384751345671115, 6.249114466612506, 7.3357505642339, 8.470730497072886, 7.62343263668568, 7.62343263668568, 7.895366352169322, 8.183048424621104, 7.233967869923958, 5.97660719217996, 8.470730497072886, 8.365369981415057, 8.028897744793845, 6.776134776298477, 6.979075620295167, 7.11260701291969, 4.154724963496797, 5.931756626014608, 6.736129441684778, 7.834741730352888, 6.979075620295167, 8.103005716947568, 7.576912621050788, 7.895366352169322, 7.834741730352888, 7.777583316512939, 7.266757692746948, 7.6722228008551125, 5.949456203114009, 8.270059801610733, 6.660621889176633, 8.365369981415057, 8.183048424621104, 8.365369981415057, 6.930285456125736, 7.084436135952994, 8.470730497072886, 7.532460858479954, 6.642603383673954, 8.470730497072886, 8.183048424621104, 5.823767987950513, 7.834741730352888, 7.233967869923958, 4.827313417035706, 7.3357505642339, 7.202219171609377, 8.470730497072886, 8.103005716947568, 7.4899012440611585, 8.470730497072886, 6.311246247719512, 6.796754063501213, 3.7028747288076973, 7.62343263668568, 8.365369981415057, 7.372118208404775, 7.895366352169322, 5.394955515845357, 8.270059801610733, 7.372118208404775, 7.11260701291969, 5.051183976742532, 6.642603383673954, 8.103005716947568, 8.365369981415057, 4.833144337346498, 8.365369981415057, 7.084436135952994, 6.979075620295167, 8.470730497072886, 3.5282947384441843, 3.745311182933216, 7.959904873306893, 7.532460858479954, 8.270059801610733, 7.6722228008551125, 7.723516095242664, 6.776134776298477, 7.11260701291969, 8.270059801610733, 7.6722228008551125, 7.959904873306893, 6.350466960872794, 8.470730497072886, 8.183048424621104, 6.249114466612506, 8.470730497072886, 7.141594549792942, 8.365369981415057, 8.365369981415057, 6.493567804513467, 5.1626235384767405, 8.470730497072886, 8.365369981415057, 7.62343263668568, 8.470730497072886, 8.365369981415057, 8.470730497072886, 6.573610512187003, 7.0043934282794575, 8.365369981415057, 8.365369981415057, 7.576912621050788, 8.470730497072886, 7.834741730352888, 6.004515980297037, 7.777583316512939, 7.834741730352888, 8.270059801610733, 7.171447512942623, 5.95842487309677, 5.762680295970674, 7.449079249540903, 6.023564175267731, 8.103005716947568, 4.354407028132009, 7.959904873306893, 4.815752594634629, 6.906754958715541, 5.605360041382137, 8.470730497072886, 8.028897744793845, 5.480569268568349, 8.028897744793845, 8.270059801610733, 8.183048424621104, 8.270059801610733, 7.576912621050788, 7.959904873306893, 4.558707491644738, 7.62343263668568, 7.834741730352888, 7.233967869923958, 8.470730497072886, 5.359687377007899, 7.6722228008551125, 8.183048424621104, 6.776134776298477, 7.141594549792942, 7.171447512942623, 7.409858536387621, 8.028897744793845, 8.470730497072886, 7.532460858479954, 6.2612358271448505, 6.906754958715541, 8.028897744793845, 8.183048424621104, 7.834741730352888, 4.215906119971878, 7.372118208404775, 5.1425021352773195, 5.469458043143278, 6.2612358271448505, 6.796754063501213, 7.834741730352888, 8.470730497072886, 7.409858536387621, 8.103005716947568, 8.270059801610733, 7.834741730352888, 8.028897744793845, 7.895366352169322, 7.141594549792942, 7.4899012440611585, 8.270059801610733, 8.470730497072886, 8.365369981415057, 8.270059801610733, 8.365369981415057, 8.365369981415057, 8.470730497072886, 8.028897744793845, 7.895366352169322, 7.777583316512939, 8.028897744793845, 7.171447512942623, 8.028897744793845, 8.270059801610733, 7.266757692746948, 8.365369981415057, 7.449079249540903, 7.895366352169322, 7.6722228008551125, 8.103005716947568, 7.6722228008551125, 8.470730497072886, 6.4194598323597445, 6.642603383673954, 7.449079249540903, 8.103005716947568, 7.723516095242664, 6.023564175267731, 7.233967869923958, 7.141594549792942, 6.776134776298477, 6.954383007704796, 8.103005716947568, 6.311246247719512, 7.723516095242664, 8.103005716947568, 8.470730497072886, 6.716711355827677, 8.470730497072886, 7.723516095242664, 6.716711355827677, 6.573610512187003, 5.880463331627058, 7.834741730352888, 7.959904873306893, 6.883765440490842, 6.930285456125736, 7.409858536387621, 7.834741730352888, 4.931382776929912, 8.270059801610733, 3.9453252795536553, 8.365369981415057, 8.103005716947568, 7.834741730352888, 7.233967869923958, 8.365369981415057, 7.532460858479954, 7.959904873306893, 7.4899012440611585, 7.0043934282794575, 6.179318704676964, 6.179318704676964, 6.103606882941268, 8.365369981415057, 8.270059801610733, 8.470730497072886, 8.103005716947568, 7.233967869923958, 7.449079249540903, 6.817807472699045, 7.300659244422629, 7.372118208404775, 8.183048424621104, 5.967474708616687, 6.5090719910494315, 7.834741730352888, 8.365369981415057, 6.954383007704796, 7.409858536387621, 7.834741730352888, 8.103005716947568, 8.470730497072886, 5.532156637358842, 6.883765440490842, 8.103005716947568, 8.183048424621104, 8.028897744793845, 8.270059801610733, 8.028897744793845, 7.3357505642339, 8.270059801610733, 7.449079249540903, 8.365369981415057, 7.11260701291969, 7.895366352169322, 8.365369981415057, 7.300659244422629, 8.028897744793845, 7.3357505642339, 8.028897744793845, 7.834741730352888, 6.590417630503384, 7.449079249540903, 8.183048424621104, 7.532460858479954, 7.532460858479954, 8.365369981415057, 7.057037161764879, 6.883765440490842, 7.084436135952994, 7.449079249540903, 7.959904873306893, 7.777583316512939, 7.6722228008551125, 8.103005716947568, 8.103005716947568, 8.470730497072886, 7.576912621050788, 7.959904873306893, 8.270059801610733, 7.300659244422629, 8.270059801610733, 8.270059801610733, 8.183048424621104, 8.270059801610733, 7.777583316512939, 7.723516095242664, 8.028897744793845, 8.028897744793845, 7.409858536387621, 8.365369981415057, 6.642603383673954, 8.365369981415057, 7.834741730352888, 8.470730497072886, 6.716711355827677, 7.895366352169322, 8.365369981415057, 8.028897744793845, 7.409858536387621, 8.183048424621104, 4.108339836915862, 7.409858536387621, 8.183048424621104, 5.1227776299295416, 7.171447512942623, 5.726312651799799, 8.103005716947568, 8.270059801610733, 8.183048424621104, 7.6722228008551125, 8.028897744793845, 8.270059801610733, 8.470730497072886, 8.103005716947568, 8.183048424621104, 8.028897744793845, 7.11260701291969, 8.270059801610733, 7.62343263668568, 6.716711355827677, 8.028897744793845, 7.3357505642339, 8.270059801610733, 6.573610512187003, 8.365369981415057, 7.895366352169322, 6.540820689364012, 4.779077116076223, 7.777583316512939, 8.270059801610733, 8.365369981415057, 8.183048424621104, 7.030368914682718, 8.183048424621104, 8.365369981415057, 6.093244095905721, 8.183048424621104, 8.365369981415057, 8.028897744793845, 7.777583316512939, 6.642603383673954, 7.777583316512939, 7.777583316512939, 8.270059801610733, 8.103005716947568, 7.777583316512939, 5.389840415178586, 7.171447512942623, 6.114078182808563, 8.183048424621104, 8.103005716947568, 8.270059801610733, 5.1149954894874865, 7.723516095242664, 4.762593226354534, 5.949456203114009, 6.883765440490842, 7.084436135952994, 5.985823847284884, 7.6722228008551125, 5.77760594618735, 8.470730497072886, 6.839313677920009, 4.174201234557417, 5.058483279224144, 8.028897744793845, 8.103005716947568, 8.270059801610733, 5.77760594618735, 7.959904873306893, 7.409858536387621, 4.201810350171485, 5.580358739176719, 5.543991095005845, 7.202219171609377, 8.365369981415057, 8.103005716947568, 8.365369981415057, 8.183048424621104, 8.103005716947568, 8.028897744793845, 7.233967869923958, 8.103005716947568, 8.103005716947568, 8.470730497072886, 7.777583316512939, 8.270059801610733, 7.895366352169322, 6.796754063501213, 8.183048424621104, 7.959904873306893, 8.470730497072886, 8.028897744793845, 8.470730497072886, 8.103005716947568, 8.028897744793845, 8.470730497072886, 8.470730497072886, 7.895366352169322, 8.183048424621104, 7.723516095242664, 7.834741730352888, 7.6722228008551125, 8.470730497072886, 8.028897744793845, 8.365369981415057, 6.861292584638784, 8.365369981415057, 7.895366352169322, 7.449079249540903, 7.959904873306893, 8.103005716947568, 7.959904873306893, 8.365369981415057, 8.183048424621104, 7.777583316512939, 8.103005716947568, 8.470730497072886, 8.270059801610733, 8.365369981415057, 7.777583316512939, 7.834741730352888, 8.365369981415057, 7.959904873306893, 7.959904873306893, 8.470730497072886, 8.183048424621104, 8.365369981415057, 8.365369981415057, 6.861292584638784, 7.62343263668568, 8.103005716947568, 8.183048424621104, 7.576912621050788, 6.114078182808563, 7.959904873306893, 7.777583316512939, 6.624903806574554, 8.470730497072886, 8.183048424621104, 7.777583316512939, 8.470730497072886, 7.449079249540903, 8.183048424621104, 7.449079249540903, 8.270059801610733, 8.103005716947568, 7.723516095242664, 6.736129441684778, 7.959904873306893, 7.532460858479954, 8.365369981415057, 7.171447512942623, 6.01399472425158, 6.103606882941268, 6.839313677920009, 7.777583316512939, 6.273505919736665, 8.470730497072886, 5.53805635948603, 6.697663160856982, 7.0043934282794575, 6.590417630503384, 7.959904873306893, 7.895366352169322, 7.4899012440611585, 7.141594549792942, 7.576912621050788, 8.028897744793845, 6.103606882941268, 7.895366352169322, 7.576912621050788, 6.311246247719512, 6.157095567892254, 8.470730497072886, 8.103005716947568, 7.723516095242664, 7.723516095242664, 7.449079249540903, 8.028897744793845, 7.777583316512939, 7.834741730352888, 8.270059801610733, 7.895366352169322, 6.678971027844829, 7.449079249540903, 8.028897744793845, 6.796754063501213, 6.5090719910494315, 8.365369981415057, 7.6722228008551125, 8.365369981415057, 7.895366352169322, 7.4899012440611585, 8.270059801610733, 5.065836253529403, 6.839313677920009, 8.183048424621104, 6.225303817918787, 8.470730497072886, 6.796754063501213, 7.895366352169322, 2.724882357131171, 8.183048424621104, 2.985933563582229, 4.881057693042396, 8.365369981415057, 8.028897744793845, 5.949456203114009, 5.146494156546857, 4.773552240144253, 7.895366352169322, 4.686540863154623, 4.445378806337735, 8.470730497072886, 3.2563987865979405, 7.62343263668568, 6.573610512187003, 7.202219171609377, 5.274327528056742, 4.374535795562622, 8.470730497072886, 7.11260701291969, 7.777583316512939, 6.716711355827677, 7.959904873306893, 8.365369981415057, 8.103005716947568, 8.028897744793845, 6.168145404078839, 8.365369981415057, 8.365369981415057, 7.777583316512939, 6.168145404078839, 5.770115274458193, 8.183048424621104, 7.777583316512939, 7.895366352169322, 7.11260701291969, 7.959904873306893, 8.028897744793845, 8.270059801610733, 8.470730497072886, 8.470730497072886, 6.954383007704796, 7.834741730352888, 7.6722228008551125, 6.979075620295167, 8.365369981415057, 6.716711355827677, 8.470730497072886, 6.493567804513467, 4.905903691628927, 8.365369981415057, 8.028897744793845, 7.576912621050788, 7.0043934282794575, 5.9057811396113475, 7.3357505642339, 7.4899012440611585, 7.777583316512939, 7.449079249540903, 8.270059801610733, 7.777583316512939, 8.183048424621104, 8.365369981415057, 6.839313677920009, 7.834741730352888, 7.4899012440611585, 6.697663160856982, 6.883765440490842, 7.62343263668568, 7.409858536387621, 6.093244095905721, 7.141594549792942, 7.959904873306893, 8.028897744793845, 8.365369981415057, 8.270059801610733, 7.959904873306893, 7.233967869923958, 8.470730497072886, 8.183048424621104, 6.776134776298477, 6.930285456125736, 8.183048424621104, 7.057037161764879, 7.723516095242664, 6.697663160856982, 8.470730497072886, 6.755932068980957, 8.365369981415057, 8.365369981415057, 8.470730497072886, 6.642603383673954, 6.979075620295167, 8.365369981415057, 7.084436135952994, 7.959904873306893, 8.028897744793845, 7.057037161764879, 8.103005716947568, 7.62343263668568, 8.183048424621104, 7.266757692746948, 5.480569268568349, 8.103005716947568, 8.270059801610733, 8.183048424621104, 6.954383007704796, 6.736129441684778, 8.028897744793845, 6.225303817918787, 4.597217346406614, 7.4899012440611585, 5.330416994707786, 6.3912889553930485, 7.777583316512939, 5.586550709424641, 8.365369981415057, 7.834741730352888, 6.114078182808563, 7.959904873306893, 8.365369981415057, 8.365369981415057, 8.183048424621104, 8.365369981415057, 8.183048424621104, 8.028897744793845, 7.895366352169322, 8.028897744793845, 8.270059801610733, 8.183048424621104, 8.183048424621104, 6.32414965255542, 7.057037161764879, 8.028897744793845, 7.372118208404775, 7.895366352169322, 7.449079249540903, 7.202219171609377, 7.6722228008551125, 7.171447512942623, 5.526291517906444, 4.639676554178406, 6.168145404078839, 7.202219171609377, 8.183048424621104, 6.062784888421012, 7.202219171609377, 7.959904873306893, 8.365369981415057, 8.103005716947568, 7.895366352169322, 8.270059801610733, 6.5570812102357925, 7.895366352169322, 8.270059801610733, 7.6722228008551125, 8.470730497072886, 8.183048424621104, 8.365369981415057, 8.270059801610733, 8.365369981415057, 7.834741730352888, 7.171447512942623, 8.365369981415057, 7.959904873306893, 2.9207901078887692, 7.777583316512939, 8.470730497072886, 7.057037161764879, 8.183048424621104, 8.365369981415057, 6.906754958715541, 8.103005716947568, 5.415681646362474, 6.01399472425158, 8.270059801610733, 8.470730497072886, 7.3357505642339, 8.365369981415057, 7.532460858479954, 8.270059801610733, 6.979075620295167, 8.470730497072886, 6.4194598323597445, 6.493567804513467, 8.470730497072886, 8.365369981415057, 8.365369981415057, 8.365369981415057, 8.270059801610733, 8.365369981415057, 8.183048424621104, 8.103005716947568, 8.028897744793845, 6.5570812102357925, 7.895366352169322, 7.895366352169322, 6.817807472699045, 7.233967869923958, 7.4899012440611585, 7.959904873306893, 7.532460858479954, 8.365369981415057, 8.270059801610733, 8.365369981415057, 8.365369981415057, 7.141594549792942, 7.723516095242664, 8.365369981415057, 7.266757692746948, 7.171447512942623, 6.32414965255542, 8.470730497072886, 8.270059801610733, 8.183048424621104, 7.300659244422629, 6.930285456125736, 8.270059801610733, 6.573610512187003, 8.365369981415057, 6.478300332382678, 4.147333946850408, 5.354749095367317, 6.463262455018137, 6.540820689364012, 8.270059801610733, 8.103005716947568, 6.3912889553930485, 8.470730497072886, 7.777583316512939, 7.959904873306893, 7.834741730352888, 8.270059801610733, 6.796754063501213, 7.409858536387621, 7.532460858479954, 7.723516095242664, 8.028897744793845, 7.895366352169322, 5.618099067159567, 8.365369981415057, 8.470730497072886, 8.103005716947568, 7.11260701291969, 6.954383007704796, 8.028897744793845, 7.202219171609377, 7.834741730352888, 7.895366352169322, 8.183048424621104, 5.508899775194575, 8.365369981415057, 7.834741730352888, 7.372118208404775, 8.103005716947568, 6.249114466612506, 5.923022946045854, 7.300659244422629, 7.300659244422629, 7.6722228008551125, 5.586550709424641, 8.470730497072886, 4.381956979900239, 7.723516095242664, 7.409858536387621, 8.183048424621104, 7.030368914682718, 4.3969666425508045, 6.5090719910494315, 6.5570812102357925, 6.433848569811844, 6.478300332382678, 6.776134776298477, 8.103005716947568, 5.301979059387252, 8.365369981415057, 8.470730497072886, 8.270059801610733, 8.103005716947568, 7.723516095242664, 6.979075620295167, 8.103005716947568, 6.093244095905721, 8.470730497072886, 6.213607778155596, 8.470730497072886, 7.959904873306893, 6.883765440490842, 8.270059801610733, 8.270059801610733, 7.723516095242664, 8.103005716947568, 7.777583316512939, 7.0043934282794575, 6.573610512187003, 7.6722228008551125, 7.141594549792942, 6.32414965255542, 6.697663160856982, 5.712128016807843, 5.8721645288123625, 8.365369981415057, 7.233967869923958, 8.470730497072886, 8.028897744793845, 8.470730497072886, 6.697663160856982, 5.260783302948985, 8.270059801610733, 5.931756626014608, 5.995126239947197, 7.3357505642339, 8.028897744793845, 6.2612358271448505, 6.906754958715541, 7.777583316512939, 7.030368914682718, 8.270059801610733, 5.831673167457626, 5.69122133198853, 8.103005716947568, 5.9057811396113475, 6.736129441684778, 6.839313677920009, 6.755932068980957, 7.3357505642339, 8.028897744793845, 6.042982261124832, 8.103005716947568, 7.532460858479954, 7.834741730352888, 7.959904873306893, 6.298507221942082, 7.6722228008551125, 8.028897744793845, 7.202219171609377, 7.300659244422629, 6.5090719910494315, 7.895366352169322, 7.4899012440611585, 7.723516095242664, 7.723516095242664, 8.365369981415057, 6.337221734122773, 8.270059801610733, 7.030368914682718, 8.183048424621104, 7.532460858479954, 8.270059801610733, 8.365369981415057, 5.0367432925877385, 7.723516095242664, 7.233967869923958, 6.776134776298477, 8.270059801610733, 6.540820689364012, 7.834741730352888, 8.470730497072886, 8.365369981415057, 7.266757692746948, 6.20204695575452, 8.270059801610733, 8.270059801610733, 7.233967869923958, 5.384751345671115, 7.11260701291969, 7.959904873306893, 6.660621889176633, 6.883765440490842, 7.3357505642339, 7.62343263668568, 7.959904873306893, 7.3357505642339, 8.470730497072886, 5.320847543691635, 6.225303817918787, 7.959904873306893, 6.168145404078839, 6.363889981204934, 6.4194598323597445, 8.270059801610733, 8.183048424621104, 8.365369981415057, 7.532460858479954, 8.470730497072886, 8.470730497072886, 7.62343263668568, 7.4899012440611585, 8.470730497072886, 7.777583316512939, 6.463262455018137, 5.247420075136818, 6.660621889176633, 8.183048424621104, 8.470730497072886, 7.576912621050788, 8.365369981415057, 6.716711355827677, 8.183048424621104, 8.183048424621104, 7.0043934282794575, 8.183048424621104, 8.470730497072886, 8.470730497072886, 8.470730497072886, 8.270059801610733, 8.103005716947568, 8.270059801610733, 7.6722228008551125, 8.470730497072886, 8.365369981415057, 8.183048424621104, 8.028897744793845, 8.470730497072886, 6.796754063501213, 8.470730497072886, 5.4974710793709525, 7.057037161764879, 8.270059801610733, 7.171447512942623, 8.028897744793845, 7.372118208404775, 7.777583316512939, 7.266757692746948, 8.365369981415057, 8.470730497072886, 8.028897744793845, 8.470730497072886, 4.749061220135957, 6.861292584638784, 5.389840415178586, 8.365369981415057, 6.2612358271448505, 7.959904873306893, 8.028897744793845, 8.470730497072886, 5.677522487630368, 5.611709269060796, 6.350466960872794, 6.433848569811844, 6.2612358271448505, 7.532460858479954, 6.796754063501213, 5.410459702381322, 8.365369981415057, 7.834741730352888, 7.895366352169322, 6.377495633260713, 7.723516095242664, 8.183048424621104, 6.540820689364012, 8.365369981415057, 7.0043934282794575, 8.470730497072886, 8.183048424621104, 8.270059801610733, 7.532460858479954, 6.839313677920009, 2.941742423901575, 4.291228126510477, 6.32414965255542, 4.459365048312475, 4.479690951326514, 6.736129441684778, 8.365369981415057, 8.103005716947568, 8.270059801610733, 8.470730497072886, 7.266757692746948, 6.225303817918787, 8.470730497072886, 8.103005716947568, 8.028897744793845, 8.365369981415057, 6.642603383673954, 5.474998223518893, 7.576912621050788, 5.469458043143278, 6.755932068980957, 7.266757692746948, 7.777583316512939, 5.863934029675847, 8.270059801610733, 7.141594549792942, 6.285928439735222, 6.642603383673954, 8.270059801610733, 7.895366352169322, 7.6722228008551125, 5.831673167457626, 7.959904873306893, 8.365369981415057, 8.028897744793845, 7.576912621050788, 6.736129441684778, 7.171447512942623, 7.576912621050788, 7.62343263668568, 4.770801206772363, 4.490010960358504, 8.028897744793845, 7.576912621050788, 5.426208059349461, 6.573610512187003, 8.103005716947568, 8.103005716947568, 6.678971027844829, 4.841954967028654, 7.057037161764879, 5.931756626014608, 7.834741730352888, 5.243005056927701, 8.470730497072886, 8.103005716947568, 5.170786849115902, 8.365369981415057, 8.028897744793845, 7.202219171609377, 8.183048424621104, 8.028897744793845, 6.590417630503384, 7.0043934282794575, 6.697663160856982, 8.470730497072886, 5.897270449943439, 7.834741730352888, 8.028897744793845, 6.861292584638784, 7.202219171609377, 7.030368914682718, 2.7327255345921966, 5.940567255696763, 4.762593226354534, 7.6722228008551125, 7.084436135952994, 8.103005716947568, 8.470730497072886, 6.954383007704796, 8.183048424621104, 5.53805635948603, 7.723516095242664, 8.270059801610733, 8.103005716947568, 7.202219171609377, 8.365369981415057, 8.470730497072886, 6.861292584638784, 7.372118208404775, 6.817807472699045, 7.202219171609377, 5.967474708616687, 7.723516095242664, 5.1345655856815835, 5.923022946045854, 6.004515980297037, 8.183048424621104, 8.470730497072886, 6.103606882941268, 7.6722228008551125, 6.1246602921391, 7.895366352169322, 8.470730497072886, 5.69122133198853, 6.678971027844829, 7.202219171609377, 6.930285456125736, 7.4899012440611585, 8.470730497072886, 5.330416994707786, 7.895366352169322, 4.038591820971655, 5.480569268568349, 7.834741730352888, 6.540820689364012, 4.451348973324238, 8.365369981415057, 7.532460858479954, 7.62343263668568, 8.470730497072886, 7.266757692746948, 5.436846457554517, 8.183048424621104, 7.895366352169322, 6.32414965255542, 7.409858536387621, 8.028897744793845, 8.365369981415057, 5.306662908699678, 6.607512063862685, 8.365369981415057, 8.470730497072886, 6.624903806574554, 7.11260701291969, 7.171447512942623, 8.270059801610733, 8.183048424621104, 4.141460214838314, 5.5146634799113246, 7.895366352169322, 7.777583316512939, 7.576912621050788, 7.777583316512939, 5.022508176765866, 5.274327528056742, 8.470730497072886, 7.057037161764879, 8.365369981415057, 7.057037161764879, 8.270059801610733, 8.470730497072886, 8.365369981415057, 8.365369981415057, 8.270059801610733, 8.365369981415057, 7.4899012440611585, 8.183048424621104, 7.409858536387621, 6.478300332382678, 8.270059801610733, 5.800420623953522, 7.576912621050788, 8.028897744793845, 6.796754063501213, 8.270059801610733, 7.141594549792942, 6.930285456125736, 8.470730497072886, 7.959904873306893, 7.409858536387621, 7.532460858479954, 8.270059801610733, 7.777583316512939, 8.270059801610733, 4.574385304363968, 8.470730497072886, 8.470730497072886, 7.4899012440611585, 7.959904873306893, 7.171447512942623, 7.576912621050788, 8.183048424621104, 8.365369981415057, 7.171447512942623, 7.723516095242664, 7.895366352169322, 8.470730497072886, 5.065836253529403, 5.405264885504218, 8.183048424621104, 6.493567804513467, 6.2612358271448505, 6.249114466612506, 6.660621889176633, 6.624903806574554, 7.3357505642339, 5.051183976742532, 8.365369981415057, 7.959904873306893, 5.831673167457626, 8.183048424621104, 7.834741730352888, 7.959904873306893, 7.372118208404775, 8.470730497072886, 5.4475992493307785, 5.855770719036686, 7.4899012440611585, 4.664068007302564, 7.62343263668568, 7.449079249540903, 7.576912621050788, 7.895366352169322, 6.225303817918787, 7.576912621050788, 8.270059801610733, 4.050552096434627, 6.796754063501213, 8.365369981415057, 8.103005716947568, 8.365369981415057, 6.190618259930897, 7.959904873306893, 4.556487734906425, 7.959904873306893, 3.823139595200841, 7.576912621050788, 7.959904873306893, 8.365369981415057, 8.183048424621104, 7.372118208404775, 8.183048424621104, 7.532460858479954, 6.1246602921391, 7.532460858479954, 7.576912621050788, 8.470730497072886, 8.470730497072886, 5.77760594618735, 8.183048424621104, 7.895366352169322, 5.792757751207952, 6.463262455018137, 5.018980836247898, 6.979075620295167, 8.365369981415057, 8.470730497072886, 5.5742048736023415, 8.365369981415057, 8.270059801610733, 6.213607778155596, 7.959904873306893, 7.3357505642339, 7.409858536387621, 8.470730497072886, 6.20204695575452, 7.11260701291969, 8.365369981415057, 6.607512063862685, 6.697663160856982, 6.377495633260713, 7.777583316512939, 7.409858536387621, 7.233967869923958, 6.660621889176633, 7.057037161764879, 6.042982261124832, 5.9057811396113475, 8.270059801610733, 4.896513951279088, 7.532460858479954, 6.405275197367788, 7.777583316512939, 7.6722228008551125, 7.449079249540903, 7.723516095242664, 6.736129441684778, 7.233967869923958, 8.365369981415057, 7.6722228008551125, 7.532460858479954, 8.470730497072886, 8.270059801610733, 8.028897744793845, 8.470730497072886, 8.365369981415057, 6.052834557567844, 6.839313677920009, 6.4194598323597445, 8.183048424621104, 8.270059801610733, 7.141594549792942, 8.028897744793845, 7.723516095242664, 8.365369981415057, 8.183048424621104, 7.532460858479954, 6.716711355827677, 8.470730497072886, 7.834741730352888, 8.270059801610733, 8.270059801610733, 7.62343263668568, 7.532460858479954, 8.183048424621104, 8.183048424621104, 7.300659244422629, 5.325620822444293, 4.749061220135957, 3.654039599598576, 4.812883152206677, 6.716711355827677, 5.863934029675847, 8.183048424621104, 4.717312521821377, 7.11260701291969, 7.4899012440611585, 7.0043934282794575, 7.959904873306893, 6.2371382755657905, 7.3357505642339, 7.171447512942623, 7.409858536387621, 8.103005716947568, 8.470730497072886, 8.183048424621104, 4.1429254165656415, 7.171447512942623, 7.372118208404775, 8.365369981415057, 4.465419557221182, 7.576912621050788, 3.0995758065725814, 7.449079249540903, 8.103005716947568, 4.699247514423738, 7.057037161764879, 6.023564175267731, 7.959904873306893, 7.834741730352888, 4.081783419554429, 8.183048424621104, 7.372118208404775, 4.028079240582568, 7.202219171609377, 8.270059801610733, 8.365369981415057, 6.405275197367788, 6.624903806574554, 3.2977244326020227, 8.470730497072886, 8.270059801610733, 7.0043934282794575, 6.135355581255848, 7.6722228008551125, 8.103005716947568, 7.300659244422629, 5.9057811396113475, 6.906754958715541, 5.532156637358842, 7.171447512942623, 4.905903691628927, 6.249114466612506, 8.365369981415057, 7.834741730352888, 8.103005716947568, 8.183048424621104, 5.364650166350028, 4.560932186666849, 6.660621889176633, 6.660621889176633, 6.463262455018137, 4.175715239388633, 7.141594549792942, 6.906754958715541, 6.930285456125736, 6.249114466612506, 7.449079249540903, 6.478300332382678, 6.839313677920009, 8.103005716947568, 8.103005716947568, 7.030368914682718, 7.4899012440611585, 8.103005716947568, 8.470730497072886, 7.777583316512939, 8.028897744793845, 8.470730497072886, 7.6722228008551125, 7.6722228008551125, 6.573610512187003, 7.723516095242664, 7.723516095242664, 4.361679787461089, 6.052834557567844, 6.249114466612506, 1.7739706354693094, 4.970861587903699, 6.405275197367788, 4.56763612238904, 3.7219410833098765, 7.723516095242664, 8.028897744793845, 8.028897744793845, 8.183048424621104, 3.6594498923268235, 7.62343263668568, 7.372118208404775, 8.470730497072886, 7.532460858479954, 8.270059801610733, 8.470730497072886, 7.959904873306893, 6.930285456125736, 6.660621889176633, 7.723516095242664, 8.270059801610733, 7.62343263668568, 8.270059801610733, 7.959904873306893, 8.470730497072886, 7.202219171609377, 8.365369981415057, 7.62343263668568, 6.478300332382678, 8.365369981415057, 8.470730497072886, 8.270059801610733, 7.6722228008551125, 6.004515980297037, 8.270059801610733, 6.839313677920009, 5.949456203114009, 7.895366352169322, 7.6722228008551125, 8.470730497072886, 8.270059801610733, 8.183048424621104, 8.103005716947568, 7.959904873306893, 8.470730497072886, 8.470730497072886, 7.834741730352888, 8.028897744793845, 8.270059801610733, 8.183048424621104, 8.470730497072886, 7.409858536387621, 7.959904873306893, 8.028897744793845, 7.834741730352888, 8.028897744793845, 7.202219171609377, 8.270059801610733, 8.183048424621104, 7.6722228008551125, 7.300659244422629, 8.365369981415057, 7.895366352169322, 8.270059801610733, 7.834741730352888, 8.470730497072886, 8.470730497072886, 8.103005716947568, 8.470730497072886, 8.470730497072886, 8.470730497072886, 7.959904873306893, 8.183048424621104, 6.5090719910494315, 7.834741730352888, 7.959904873306893, 7.834741730352888, 8.183048424621104, 8.470730497072886, 8.470730497072886, 7.449079249540903, 7.532460858479954, 8.365369981415057, 8.183048424621104, 8.103005716947568, 7.777583316512939, 8.470730497072886, 8.365369981415057, 7.895366352169322, 8.103005716947568, 8.270059801610733, 7.723516095242664, 6.135355581255848, 8.365369981415057, 6.311246247719512, 7.959904873306893, 8.365369981415057, 8.365369981415057, 8.270059801610733, 8.470730497072886, 6.350466960872794, 6.660621889176633, 8.270059801610733, 8.103005716947568, 8.028897744793845, 7.300659244422629, 7.266757692746948, 7.532460858479954, 8.103005716947568, 7.895366352169322, 8.365369981415057, 8.470730497072886, 8.365369981415057, 8.103005716947568, 7.959904873306893, 8.365369981415057, 8.365369981415057, 8.470730497072886, 8.365369981415057, 6.213607778155596, 8.470730497072886, 8.028897744793845, 7.834741730352888, 6.573610512187003, 6.906754958715541, 7.777583316512939, 7.4899012440611585, 6.979075620295167, 7.777583316512939, 8.470730497072886, 6.930285456125736, 7.171447512942623, 7.834741730352888, 8.028897744793845, 8.365369981415057, 7.959904873306893, 6.839313677920009, 7.449079249540903, 5.10343466708641, 3.001733148746379, 7.723516095242664, 3.1299924146408955, 6.979075620295167, 8.270059801610733, 8.183048424621104, 8.183048424621104, 8.103005716947568, 8.365369981415057, 7.372118208404775, 6.624903806574554, 8.365369981415057, 7.409858536387621, 6.817807472699045, 8.183048424621104, 8.103005716947568, 3.778363766054638, 5.486171524117019, 8.365369981415057, 8.470730497072886, 7.576912621050788, 8.365369981415057, 8.103005716947568, 7.409858536387621, 7.959904873306893, 7.895366352169322, 8.028897744793845, 8.183048424621104, 8.183048424621104, 8.183048424621104, 7.300659244422629, 8.470730497072886, 8.270059801610733, 8.470730497072886, 4.841954967028654, 8.103005716947568, 7.834741730352888, 4.71471174012132, 6.32414965255542, 8.183048424621104, 7.4899012440611585, 8.103005716947568, 8.028897744793845, 6.642603383673954, 8.365369981415057, 7.372118208404775, 7.576912621050788, 8.470730497072886, 8.365369981415057, 8.183048424621104, 7.449079249540903, 8.365369981415057, 7.895366352169322, 7.777583316512939, 8.270059801610733, 8.365369981415057, 8.183048424621104, 6.861292584638784, 7.62343263668568, 7.141594549792942, 6.861292584638784, 8.183048424621104, 8.470730497072886, 8.270059801610733, 8.470730497072886, 8.365369981415057, 7.372118208404775, 8.028897744793845, 7.3357505642339, 8.365369981415057, 7.895366352169322, 8.183048424621104, 8.470730497072886, 7.300659244422629, 8.470730497072886, 7.895366352169322, 8.365369981415057, 8.183048424621104, 8.365369981415057, 8.365369981415057, 6.678971027844829, 7.300659244422629, 8.183048424621104, 8.183048424621104, 8.183048424621104, 5.7553001886730515, 8.365369981415057, 6.906754958715541, 7.777583316512939, 8.470730497072886, 8.470730497072886, 8.470730497072886, 8.470730497072886, 7.62343263668568, 8.470730497072886, 7.300659244422629, 6.861292584638784, 7.532460858479954, 5.785153151822733, 8.365369981415057, 8.470730497072886, 8.470730497072886, 5.8721645288123625, 7.409858536387621, 6.839313677920009, 7.057037161764879, 8.470730497072886, 8.270059801610733, 8.365369981415057, 8.365369981415057, 8.470730497072886, 8.470730497072886, 8.028897744793845, 7.959904873306893, 8.365369981415057, 7.3357505642339, 8.365369981415057]\n"
          ],
          "name": "stdout"
        }
      ]
    },
    {
      "metadata": {
        "id": "cyUr8AfBMYa1",
        "colab_type": "code",
        "colab": {
          "base_uri": "https://localhost:8080/",
          "height": 34
        },
        "outputId": "0c02c756-c8eb-4886-98be-093abd5bd883"
      },
      "cell_type": "code",
      "source": [
        "with open('tfidf_vocab.json') as f:\n",
        "    vocab=json.load(f)\n",
        "type(vocab)"
      ],
      "execution_count": 13,
      "outputs": [
        {
          "output_type": "execute_result",
          "data": {
            "text/plain": [
              "dict"
            ]
          },
          "metadata": {
            "tags": []
          },
          "execution_count": 13
        }
      ]
    },
    {
      "metadata": {
        "id": "mdnYwtrolQov",
        "colab_type": "code",
        "colab": {
          "base_uri": "https://localhost:8080/",
          "height": 17812
        },
        "outputId": "d6c46708-6ae0-4f73-b91b-de2cbdd59b65"
      },
      "cell_type": "code",
      "source": [
        "with open('idf_.json') as f:\n",
        "    idf=json.load(f)\n",
        "idf"
      ],
      "execution_count": 12,
      "outputs": [
        {
          "output_type": "execute_result",
          "data": {
            "text/plain": [
              "[4.107290840001257,\n",
              " 7.460537399804139,\n",
              " 9.003530212830087,\n",
              " 8.443914424894665,\n",
              " 9.003530212830087,\n",
              " 8.869998820205563,\n",
              " 8.724816810361066,\n",
              " 8.934537341343134,\n",
              " 8.116227017829184,\n",
              " 8.073054845963975,\n",
              " 7.115378897926965,\n",
              " 7.372890092745383,\n",
              " 7.565050098539626,\n",
              " 7.325099428909034,\n",
              " 8.869998820205563,\n",
              " 8.901747518520144,\n",
              " 9.03989785700096,\n",
              " 9.003530212830087,\n",
              " 8.80937419838913,\n",
              " 5.793262762498486,\n",
              " 8.83922716153881,\n",
              " 8.598065104721922,\n",
              " 9.03989785700096,\n",
              " 5.239841501907759,\n",
              " 8.32840153777282,\n",
              " 8.672173076875644,\n",
              " 7.515453157400254,\n",
              " 8.724816810361066,\n",
              " 9.003530212830087,\n",
              " 7.991929301151607,\n",
              " 8.780386661515877,\n",
              " 8.423711717577145,\n",
              " 7.720614206164031,\n",
              " 7.626204521692956,\n",
              " 8.52907223323497,\n",
              " 7.445385594783537,\n",
              " 4.815500166530663,\n",
              " 8.258197279099571,\n",
              " 8.968438893018817,\n",
              " 8.780386661515877,\n",
              " 8.29268345517074,\n",
              " 6.622001917495921,\n",
              " 8.934537341343134,\n",
              " 7.437894923054379,\n",
              " 8.52907223323497,\n",
              " 8.724816810361066,\n",
              " 8.310383032270142,\n",
              " 5.017858524378795,\n",
              " 8.901747518520144,\n",
              " 8.32840153777282,\n",
              " 6.622001917495921,\n",
              " 7.7406148728707,\n",
              " 8.384491004423863,\n",
              " 5.1976616889609435,\n",
              " 8.901747518520144,\n",
              " 8.724816810361066,\n",
              " 6.919634320800871,\n",
              " 8.087239480955931,\n",
              " 9.003530212830087,\n",
              " 5.270121359407573,\n",
              " 9.003530212830087,\n",
              " 8.622162656300983,\n",
              " 7.148348917164536,\n",
              " 7.979025896315699,\n",
              " 9.003530212830087,\n",
              " 8.622162656300983,\n",
              " 4.992308493857923,\n",
              " 8.24139016078319,\n",
              " 8.32840153777282,\n",
              " 7.109988049292089,\n",
              " 8.968438893018817,\n",
              " 8.934537341343134,\n",
              " 8.698148563278904,\n",
              " 7.499452816053813,\n",
              " 8.672173076875644,\n",
              " 5.413090831529403,\n",
              " 8.403909090280965,\n",
              " 8.83922716153881,\n",
              " 7.858397908527084,\n",
              " 8.901747518520144,\n",
              " 8.01824660946898,\n",
              " 5.099395380250947,\n",
              " 8.672173076875644,\n",
              " 8.968438893018817,\n",
              " 8.192599996613758,\n",
              " 8.968438893018817,\n",
              " 7.279488917656982,\n",
              " 8.901747518520144,\n",
              " 7.701005734775655,\n",
              " 9.03989785700096,\n",
              " 4.779829629393944,\n",
              " 8.598065104721922,\n",
              " 9.03989785700096,\n",
              " 8.698148563278904,\n",
              " 8.310383032270142,\n",
              " 6.452412334517011,\n",
              " 8.75221578454918,\n",
              " 7.211770743602031,\n",
              " 8.310383032270142,\n",
              " 8.32840153777282,\n",
              " 4.457579386501966,\n",
              " 8.423711717577145,\n",
              " 8.208600337960199,\n",
              " 8.52907223323497,\n",
              " 8.365442809453167,\n",
              " 8.423711717577145,\n",
              " 8.934537341343134,\n",
              " 8.551545089087028,\n",
              " 8.4645337120974,\n",
              " 8.32840153777282,\n",
              " 8.622162656300983,\n",
              " 7.78185783140475,\n",
              " 8.507093326516195,\n",
              " 6.300253290480534,\n",
              " 8.869998820205563,\n",
              " 8.934537341343134,\n",
              " 8.646855268891354,\n",
              " 8.27529171245887,\n",
              " 8.780386661515877,\n",
              " 8.310383032270142,\n",
              " 8.258197279099571,\n",
              " 7.653603495881071,\n",
              " 9.003530212830087,\n",
              " 7.8031352298520344,\n",
              " 8.672173076875644,\n",
              " 7.548242980223244,\n",
              " 7.548242980223244,\n",
              " 8.968438893018817,\n",
              " 2.57918227859286,\n",
              " 6.625307705630421,\n",
              " 7.869826604350707,\n",
              " 8.087239480955931,\n",
              " 8.32840153777282,\n",
              " 8.83922716153881,\n",
              " 8.968438893018817,\n",
              " 7.672295628893223,\n",
              " 8.622162656300983,\n",
              " 8.346750676441015,\n",
              " 7.599536274610795,\n",
              " 7.8813874267517825,\n",
              " 6.806305635493867,\n",
              " 8.968438893018817,\n",
              " 8.901747518520144,\n",
              " 6.937572021487537,\n",
              " 6.539676972239919,\n",
              " 6.988627192287821,\n",
              " 7.0992927601753415,\n",
              " 6.0761532589403675,\n",
              " 7.042429898280798,\n",
              " 7.792439940735287,\n",
              " 7.84709835327315,\n",
              " 6.919634320800871,\n",
              " 6.625307705630421,\n",
              " 8.365442809453167,\n",
              " 5.038643717844873,\n",
              " 6.863464049333816,\n",
              " 6.969758707983439,\n",
              " 7.36592142342929,\n",
              " 8.22486085883198,\n",
              " 7.531713678272034,\n",
              " 7.599536274610795,\n",
              " 8.869998820205563,\n",
              " 8.869998820205563,\n",
              " 9.003530212830087,\n",
              " 6.80234523427777,\n",
              " 8.901747518520144,\n",
              " 8.869998820205563,\n",
              " 8.80937419838913,\n",
              " 9.003530212830087,\n",
              " 8.598065104721922,\n",
              " 8.507093326516195,\n",
              " 8.80937419838913,\n",
              " 8.901747518520144,\n",
              " 8.622162656300983,\n",
              " 8.131042103614323,\n",
              " 8.551545089087028,\n",
              " 9.03989785700096,\n",
              " 8.83922716153881,\n",
              " 8.968438893018817,\n",
              " 7.953708088331409,\n",
              " 8.646855268891354,\n",
              " 8.901747518520144,\n",
              " 9.03989785700096,\n",
              " 7.869826604350707,\n",
              " 8.934537341343134,\n",
              " 8.574534607311728,\n",
              " 8.75221578454918,\n",
              " 9.003530212830087,\n",
              " 8.934537341343134,\n",
              " 8.869998820205563,\n",
              " 8.192599996613758,\n",
              " 7.681774372847767,\n",
              " 6.782775138083673,\n",
              " 8.968438893018817,\n",
              " 6.741023343403452,\n",
              " 8.646855268891354,\n",
              " 9.03989785700096,\n",
              " 8.83922716153881,\n",
              " 8.968438893018817,\n",
              " 8.01824660946898,\n",
              " 7.052530994267302,\n",
              " 8.780386661515877,\n",
              " 8.934537341343134,\n",
              " 8.869998820205563,\n",
              " 8.551545089087028,\n",
              " 8.045275281856899,\n",
              " 8.901747518520144,\n",
              " 8.101628218408031,\n",
              " 8.80937419838913,\n",
              " 9.003530212830087,\n",
              " 8.968438893018817,\n",
              " 8.75221578454918,\n",
              " 8.52907223323497,\n",
              " 7.681774372847767,\n",
              " 8.29268345517074,\n",
              " 8.574534607311728,\n",
              " 8.75221578454918,\n",
              " 8.622162656300983,\n",
              " 8.83922716153881,\n",
              " 8.27529171245887,\n",
              " 5.9692642752738525,\n",
              " 8.087239480955931,\n",
              " 6.61214962105291,\n",
              " 8.80937419838913,\n",
              " 7.599536274610795,\n",
              " 7.893083466514974,\n",
              " 8.045275281856899,\n",
              " 8.698148563278904,\n",
              " 8.346750676441015,\n",
              " 8.346750676441015,\n",
              " 9.03989785700096,\n",
              " 7.710761909721019,\n",
              " 5.977892456497191,\n",
              " 7.681774372847767,\n",
              " 8.80937419838913,\n",
              " 7.9049179241619765,\n",
              " 8.598065104721922,\n",
              " 8.698148563278904,\n",
              " 8.901747518520144,\n",
              " 8.698148563278904,\n",
              " 7.9049179241619765,\n",
              " 8.161347453109652,\n",
              " 8.80937419838913,\n",
              " 8.869998820205563,\n",
              " 8.423711717577145,\n",
              " 8.574534607311728,\n",
              " 6.759785619858974,\n",
              " 9.003530212830087,\n",
              " 8.724816810361066,\n",
              " 8.968438893018817,\n",
              " 8.384491004423863,\n",
              " 8.574534607311728,\n",
              " 8.83922716153881,\n",
              " 8.698148563278904,\n",
              " 8.901747518520144,\n",
              " 5.977892456497191,\n",
              " 5.495188193716603,\n",
              " 3.6593180260410754,\n",
              " 7.635254357212874,\n",
              " 8.423711717577145,\n",
              " 7.430459944566861,\n",
              " 8.24139016078319,\n",
              " 7.991929301151607,\n",
              " 7.205836008082217,\n",
              " 9.03989785700096,\n",
              " 8.83922716153881,\n",
              " 8.83922716153881,\n",
              " 8.52907223323497,\n",
              " 8.934537341343134,\n",
              " 7.36592142342929,\n",
              " 8.01824660946898,\n",
              " 8.32840153777282,\n",
              " 8.698148563278904,\n",
              " 8.443914424894665,\n",
              " 6.046019152096293,\n",
              " 8.52907223323497,\n",
              " 7.869826604350707,\n",
              " 6.457998941225651,\n",
              " 8.258197279099571,\n",
              " 8.258197279099571,\n",
              " 7.792439940735287,\n",
              " 8.4645337120974,\n",
              " 7.022528743963504,\n",
              " 4.906807528203018,\n",
              " 8.934537341343134,\n",
              " 8.780386661515877,\n",
              " 8.83922716153881,\n",
              " 8.005001382718959,\n",
              " 8.698148563278904,\n",
              " 5.466720272339584,\n",
              " 8.934537341343134,\n",
              " 9.03989785700096,\n",
              " 5.561510836647676,\n",
              " 8.346750676441015,\n",
              " 8.005001382718959,\n",
              " 8.646855268891354,\n",
              " 9.003530212830087,\n",
              " 8.968438893018817,\n",
              " 8.901747518520144,\n",
              " 9.003530212830087,\n",
              " 7.644386840776146,\n",
              " 8.059068603989235,\n",
              " 6.527592233024847,\n",
              " 6.960456315321125,\n",
              " 8.622162656300983,\n",
              " 8.059068603989235,\n",
              " 8.22486085883198,\n",
              " 6.910784705523888,\n",
              " 8.934537341343134,\n",
              " 8.672173076875644,\n",
              " 7.032429814946215,\n",
              " 6.798400455986754,\n",
              " 9.03989785700096,\n",
              " 7.109988049292089,\n",
              " 6.969758707983439,\n",
              " 7.223746934648747,\n",
              " 8.03166962980112,\n",
              " 7.792439940735287,\n",
              " 7.017614729161074,\n",
              " 8.901747518520144,\n",
              " 8.423711717577145,\n",
              " 7.941285568332852,\n",
              " 8.75221578454918,\n",
              " 8.258197279099571,\n",
              " 8.32840153777282,\n",
              " 8.968438893018817,\n",
              " 7.941285568332852,\n",
              " 6.242164952960155,\n",
              " 8.75221578454918,\n",
              " 8.83922716153881,\n",
              " 8.698148563278904,\n",
              " 3.303206092345234,\n",
              " 6.7789066613057525,\n",
              " 8.934537341343134,\n",
              " 8.423711717577145,\n",
              " 8.80937419838913,\n",
              " 8.83922716153881,\n",
              " 8.598065104721922,\n",
              " 8.384491004423863,\n",
              " 8.01824660946898,\n",
              " 7.869826604350707,\n",
              " 7.4915476365466995,\n",
              " 8.073054845963975,\n",
              " 7.9049179241619765,\n",
              " 7.37990766540403,\n",
              " 8.403909090280965,\n",
              " 8.83922716153881,\n",
              " 8.4645337120974,\n",
              " 8.52907223323497,\n",
              " 8.17685163964562,\n",
              " 8.80937419838913,\n",
              " 8.443914424894665,\n",
              " 8.423711717577145,\n",
              " 5.641172664484195,\n",
              " 8.598065104721922,\n",
              " 8.780386661515877,\n",
              " 8.869998820205563,\n",
              " 8.622162656300983,\n",
              " 8.622162656300983,\n",
              " 8.4645337120974,\n",
              " 8.934537341343134,\n",
              " 7.14277787211508,\n",
              " 8.934537341343134,\n",
              " 9.003530212830087,\n",
              " 8.724816810361066,\n",
              " 8.622162656300983,\n",
              " 8.901747518520144,\n",
              " 8.83922716153881,\n",
              " 8.672173076875644,\n",
              " 8.901747518520144,\n",
              " 8.045275281856899,\n",
              " 8.968438893018817,\n",
              " 8.83922716153881,\n",
              " 8.384491004423863,\n",
              " 8.780386661515877,\n",
              " 8.507093326516195,\n",
              " 7.929015475741037,\n",
              " 9.003530212830087,\n",
              " 8.83922716153881,\n",
              " 7.386974832627122,\n",
              " 8.869998820205563,\n",
              " 7.691343823863917,\n",
              " 8.780386661515877,\n",
              " 8.646855268891354,\n",
              " 8.869998820205563,\n",
              " 8.52907223323497,\n",
              " 8.75221578454918,\n",
              " 6.37989735354046,\n",
              " 8.346750676441015,\n",
              " 8.485587121295232,\n",
              " 8.80937419838913,\n",
              " 7.345302136226554,\n",
              " 6.919634320800871,\n",
              " 7.869826604350707,\n",
              " 8.507093326516195,\n",
              " 9.003530212830087,\n",
              " 8.29268345517074,\n",
              " 8.75221578454918,\n",
              " 9.03989785700096,\n",
              " 8.80937419838913,\n",
              " 7.617235851710196,\n",
              " 7.573560788207534,\n",
              " 6.276611527423493,\n",
              " 8.101628218408031,\n",
              " 6.99340047104048,\n",
              " 7.437894923054379,\n",
              " 8.443914424894665,\n",
              " 8.672173076875644,\n",
              " 8.672173076875644,\n",
              " 6.838566497712089,\n",
              " 9.03989785700096,\n",
              " 7.188240246191837,\n",
              " 7.266830520785059,\n",
              " 8.968438893018817,\n",
              " 8.32840153777282,\n",
              " 7.445385594783537,\n",
              " 6.80234523427777,\n",
              " 8.29268345517074,\n",
              " 9.003530212830087,\n",
              " 7.104626106150704,\n",
              " 8.869998820205563,\n",
              " 7.415753797177166,\n",
              " 7.176679423790762,\n",
              " 7.153951172713206,\n",
              " 8.22486085883198,\n",
              " 8.365442809453167,\n",
              " 8.901747518520144,\n",
              " 6.521604191180224,\n",
              " 8.80937419838913,\n",
              " 3.114949093167569,\n",
              " 6.655562113988223,\n",
              " 9.03989785700096,\n",
              " 7.279488917656982,\n",
              " 8.485587121295232,\n",
              " 8.934537341343134,\n",
              " 8.75221578454918,\n",
              " 8.507093326516195,\n",
              " 8.32840153777282,\n",
              " 8.672173076875644,\n",
              " 8.346750676441015,\n",
              " 7.8031352298520344,\n",
              " 8.780386661515877,\n",
              " 7.929015475741037,\n",
              " 7.653603495881071,\n",
              " 7.565050098539626,\n",
              " 7.266830520785059,\n",
              " 7.9168941152086925,\n",
              " 8.005001382718959,\n",
              " 7.9049179241619765,\n",
              " 8.485587121295232,\n",
              " 8.161347453109652,\n",
              " 9.003530212830087,\n",
              " 9.03989785700096,\n",
              " 8.574534607311728,\n",
              " 5.462570888792772,\n",
              " 8.4645337120974,\n",
              " 8.698148563278904,\n",
              " 8.869998820205563,\n",
              " 8.4645337120974,\n",
              " 8.384491004423863,\n",
              " 8.75221578454918,\n",
              " 8.75221578454918,\n",
              " 8.83922716153881,\n",
              " 7.359000980584716,\n",
              " 8.75221578454918,\n",
              " 8.83922716153881,\n",
              " 8.507093326516195,\n",
              " 8.672173076875644,\n",
              " 8.780386661515877,\n",
              " 8.780386661515877,\n",
              " 8.574534607311728,\n",
              " 8.968438893018817,\n",
              " 8.574534607311728,\n",
              " 8.698148563278904,\n",
              " 8.507093326516195,\n",
              " 9.003530212830087,\n",
              " 8.52907223323497,\n",
              " 9.003530212830087,\n",
              " 8.52907223323497,\n",
              " 8.968438893018817,\n",
              " 7.318454886190366,\n",
              " 7.672295628893223,\n",
              " 8.780386661515877,\n",
              " 9.003530212830087,\n",
              " 8.934537341343134,\n",
              " 8.646855268891354,\n",
              " 8.507093326516195,\n",
              " 7.523550367632873,\n",
              " 7.701005734775655,\n",
              " 9.003530212830087,\n",
              " 8.131042103614323,\n",
              " 8.574534607311728,\n",
              " 6.398198517922864,\n",
              " 8.005001382718959,\n",
              " 7.483704459085673,\n",
              " 5.893194556537091,\n",
              " 8.698148563278904,\n",
              " 8.869998820205563,\n",
              " 8.01824660946898,\n",
              " 8.83922716153881,\n",
              " 6.822305976840308,\n",
              " 9.03989785700096,\n",
              " 8.131042103614323,\n",
              " 8.574534607311728,\n",
              " 8.698148563278904,\n",
              " 8.83922716153881,\n",
              " 8.52907223323497,\n",
              " 8.551545089087028,\n",
              " 8.672173076875644,\n",
              " 7.170948749081776,\n",
              " 6.665853800024771,\n",
              " 5.510274686749984,\n",
              " 8.423711717577145,\n",
              " 7.644386840776146,\n",
              " 7.991929301151607,\n",
              " 8.724816810361066,\n",
              " 6.2836455540808736,\n",
              " 6.942107176652929,\n",
              " 7.966286870538269,\n",
              " 7.311854202159014,\n",
              " 7.266830520785059,\n",
              " 7.1940711665026305,\n",
              " 8.780386661515877,\n",
              " 7.205836008082217,\n",
              " 6.230941490590305,\n",
              " 8.485587121295232,\n",
              " 8.4645337120974,\n",
              " 8.258197279099571,\n",
              " 7.460537399804139,\n",
              " 7.083461294958661,\n",
              " 8.83922716153881,\n",
              " 9.003530212830087,\n",
              " 6.810281783873506,\n",
              " 8.551545089087028,\n",
              " 7.720614206164031,\n",
              " 7.027467025604086,\n",
              " 9.03989785700096,\n",
              " 6.6797429121854375,\n",
              " 3.581889630250051,\n",
              " 8.27529171245887,\n",
              " 7.9168941152086925,\n",
              " 8.901747518520144,\n",
              " 8.75221578454918,\n",
              " 8.551545089087028,\n",
              " 8.01824660946898,\n",
              " 7.507420985702989,\n",
              " 8.258197279099571,\n",
              " 8.485587121295232,\n",
              " 8.934537341343134,\n",
              " 9.03989785700096,\n",
              " 8.968438893018817,\n",
              " 9.03989785700096,\n",
              " 5.35658944793648,\n",
              " 8.80937419838913,\n",
              " 8.551545089087028,\n",
              " 8.80937419838913,\n",
              " 7.617235851710196,\n",
              " 7.869826604350707,\n",
              " 8.698148563278904,\n",
              " 8.27529171245887,\n",
              " 8.598065104721922,\n",
              " 6.897655414082095,\n",
              " 8.365442809453167,\n",
              " 8.968438893018817,\n",
              " 8.80937419838913,\n",
              " 8.27529171245887,\n",
              " 7.052530994267302,\n",
              " 7.681774372847767,\n",
              " 8.780386661515877,\n",
              " 8.934537341343134,\n",
              " 8.968438893018817,\n",
              " 8.724816810361066,\n",
              " 8.780386661515877,\n",
              " 7.452932800418919,\n",
              " 7.437894923054379,\n",
              " 5.6777236771345425,\n",
              " 8.698148563278904,\n",
              " 8.443914424894665,\n",
              " 6.902012719451051,\n",
              " 6.786658638110071,\n",
              " 9.003530212830087,\n",
              " 7.345302136226554,\n",
              " 7.352128101296954,\n",
              " 7.84709835327315,\n",
              " 7.408481037848086,\n",
              " 7.445385594783537,\n",
              " 7.088710650844805,\n",
              " 7.325099428909034,\n",
              " 6.919634320800871,\n",
              " 8.80937419838913,\n",
              " 9.003530212830087,\n",
              " 7.437894923054379,\n",
              " 8.724816810361066,\n",
              " 9.03989785700096,\n",
              " 7.60834690429295,\n",
              " 7.556611229893761,\n",
              " 7.565050098539626,\n",
              " 8.75221578454918,\n",
              " 6.521604191180224,\n",
              " 8.934537341343134,\n",
              " 3.4989248406069264,\n",
              " 8.598065104721922,\n",
              " 8.146079980978865,\n",
              " 8.646855268891354,\n",
              " 8.258197279099571,\n",
              " 8.646855268891354,\n",
              " 7.430459944566861,\n",
              " 8.17685163964562,\n",
              " 8.75221578454918,\n",
              " 8.4645337120974,\n",
              " 8.869998820205563,\n",
              " 8.83922716153881,\n",
              " 8.443914424894665,\n",
              " 5.301346793089787,\n",
              " 8.80937419838913,\n",
              " 8.598065104721922,\n",
              " 9.03989785700096,\n",
              " 8.574534607311728,\n",
              " 8.869998820205563,\n",
              " 8.672173076875644,\n",
              " 7.750767244334718,\n",
              " 7.953708088331409,\n",
              " 8.698148563278904,\n",
              " 8.83922716153881,\n",
              " 7.84709835327315,\n",
              " 9.03989785700096,\n",
              " 8.22486085883198,\n",
              " 8.968438893018817,\n",
              " 7.131728035928495,\n",
              " 8.403909090280965,\n",
              " 8.75221578454918,\n",
              " 8.780386661515877,\n",
              " 9.003530212830087,\n",
              " 8.574534607311728,\n",
              " 7.0078585542157095,\n",
              " 7.991929301151607,\n",
              " 8.27529171245887,\n",
              " 8.698148563278904,\n",
              " 8.869998820205563,\n",
              " 8.968438893018817,\n",
              " 8.598065104721922,\n",
              " 7.0678765639419625,\n",
              " 7.345302136226554,\n",
              " 6.0666384392990285,\n",
              " 8.724816810361066,\n",
              " 8.75221578454918,\n",
              " 8.934537341343134,\n",
              " 7.0374173564572535,\n",
              " 7.394092300395986,\n",
              " 8.03166962980112,\n",
              " 7.644386840776146,\n",
              " 7.681774372847767,\n",
              " 9.03989785700096,\n",
              " 7.599536274610795,\n",
              " 7.394092300395986,\n",
              " 8.622162656300983,\n",
              " 7.126248570163869,\n",
              " 7.565050098539626,\n",
              " 7.437894923054379,\n",
              " 7.5908025946420405,\n",
              " 6.969758707983439,\n",
              " 8.901747518520144,\n",
              " 6.6867604848440845,\n",
              " 3.0097469275031457,\n",
              " 7.720614206164031,\n",
              " 8.672173076875644,\n",
              " 8.598065104721922,\n",
              " 8.934537341343134,\n",
              " 8.934537341343134,\n",
              " 8.80937419838913,\n",
              " 8.574534607311728,\n",
              " 8.83922716153881,\n",
              " 9.03989785700096,\n",
              " 7.3052968016128546,\n",
              " 7.401260789874598,\n",
              " 7.211770743602031,\n",
              " 8.901747518520144,\n",
              " 8.80937419838913,\n",
              " 7.681774372847767,\n",
              " 7.761023744501908,\n",
              " 7.893083466514974,\n",
              " 7.979025896315699,\n",
              " 8.52907223323497,\n",
              " 8.724816810361066,\n",
              " 7.401260789874598,\n",
              " 8.365442809453167,\n",
              " 5.244824900925307,\n",
              " 8.901747518520144,\n",
              " 8.646855268891354,\n",
              " 8.75221578454918,\n",
              " 8.869998820205563,\n",
              " 7.858397908527084,\n",
              " 7.672295628893223,\n",
              " 9.003530212830087,\n",
              " 9.03989785700096,\n",
              " 8.646855268891354,\n",
              " 9.003530212830087,\n",
              " 8.901747518520144,\n",
              " 8.598065104721922,\n",
              " 8.622162656300983,\n",
              " 9.003530212830087,\n",
              " 7.4915476365466995,\n",
              " 7.248138387772906,\n",
              " 8.574534607311728,\n",
              " 7.531713678272034,\n",
              " 8.901747518520144,\n",
              " 9.03989785700096,\n",
              " 8.146079980978865,\n",
              " 8.698148563278904,\n",
              " 8.598065104721922,\n",
              " 8.672173076875644,\n",
              " 6.217637524963942,\n",
              " 8.01824660946898,\n",
              " 5.63500361345748,\n",
              " 8.059068603989235,\n",
              " 8.161347453109652,\n",
              " 8.622162656300983,\n",
              " 8.310383032270142,\n",
              " 7.966286870538269,\n",
              " 8.52907223323497,\n",
              " 6.377310029975509,\n",
              " 7.401260789874598,\n",
              " 8.574534607311728,\n",
              " 8.087239480955931,\n",
              " 9.03989785700096,\n",
              " 8.507093326516195,\n",
              " 7.539944177408549,\n",
              " 8.646855268891354,\n",
              " 8.901747518520144,\n",
              " 9.03989785700096,\n",
              " 6.269626632901542,\n",
              " 5.874266546651573,\n",
              " 5.067511701845724,\n",
              " 8.869998820205563,\n",
              " 7.941285568332852,\n",
              " 7.386974832627122,\n",
              " 7.345302136226554,\n",
              " 8.310383032270142,\n",
              " 6.101323997286919,\n",
              " 6.605634940031716,\n",
              " 7.148348917164536,\n",
              " 6.90638909405085,\n",
              " 7.523550367632873,\n",
              " 7.475922318643619,\n",
              " 9.03989785700096,\n",
              " 9.03989785700096,\n",
              " 7.653603495881071,\n",
              " 7.869826604350707,\n",
              " 7.468200272549708,\n",
              " 7.771386531537455,\n",
              " 7.460537399804139,\n",
              " 7.761023744501908,\n",
              " 7.565050098539626,\n",
              " 7.37990766540403,\n",
              " 7.60834690429295,\n",
              " 8.423711717577145,\n",
              " 6.583162084179658,\n",
              " 9.003530212830087,\n",
              " 8.968438893018817,\n",
              " 3.4941418762021095,\n",
              " 8.622162656300983,\n",
              " 8.423711717577145,\n",
              " 9.003530212830087,\n",
              " 8.901747518520144,\n",
              " 8.485587121295232,\n",
              " 8.80937419838913,\n",
              " 7.78185783140475,\n",
              " 8.780386661515877,\n",
              " 7.507420985702989,\n",
              " 7.78185783140475,\n",
              " 8.75221578454918,\n",
              " 8.551545089087028,\n",
              " 8.80937419838913,\n",
              " 8.365442809453167,\n",
              " 5.200047375977147,\n",
              " 8.83922716153881,\n",
              " 8.780386661515877,\n",
              " 8.724816810361066,\n",
              " 8.443914424894665,\n",
              " 8.75221578454918,\n",
              " 8.968438893018817,\n",
              " 8.622162656300983,\n",
              " 7.4915476365466995,\n",
              " 7.953708088331409,\n",
              " 7.941285568332852,\n",
              " 8.83922716153881,\n",
              " 6.983876589529224,\n",
              " 8.346750676441015,\n",
              " 8.934537341343134,\n",
              " 8.485587121295232,\n",
              " 8.101628218408031,\n",
              " 6.99340047104048,\n",
              " 7.835925052675026,\n",
              " 8.598065104721922,\n",
              " 9.003530212830087,\n",
              " 8.780386661515877,\n",
              " 8.780386661515877,\n",
              " 7.941285568332852,\n",
              " 8.901747518520144,\n",
              " 9.03989785700096,\n",
              " 7.60834690429295,\n",
              " 7.372890092745383,\n",
              " 6.314711373655764,\n",
              " 8.80937419838913,\n",
              " 8.365442809453167,\n",
              " 7.032429814946215,\n",
              " 7.681774372847767,\n",
              " 8.192599996613758,\n",
              " 7.730564537017199,\n",
              " 7.626204521692956,\n",
              " 7.515453157400254,\n",
              " 8.869998820205563,\n",
              " 7.82487521648844,\n",
              " 7.1652507279671385,\n",
              " 8.901747518520144,\n",
              " 9.03989785700096,\n",
              " 7.9168941152086925,\n",
              " 7.701005734775655,\n",
              " 7.681774372847767,\n",
              " 7.3317884170598315,\n",
              " 7.423079837269238,\n",
              " 8.869998820205563,\n",
              " 9.003530212830087,\n",
              " 6.638641236499886,\n",
              " 8.698148563278904,\n",
              " 3.711123134821783,\n",
              " 8.146079980978865,\n",
              " 8.346750676441015,\n",
              " 8.780386661515877,\n",
              " 8.698148563278904,\n",
              " 8.310383032270142,\n",
              " 8.75221578454918,\n",
              " 7.81394614595625,\n",
              " 8.622162656300983,\n",
              " 8.507093326516195,\n",
              " 8.507093326516195,\n",
              " 5.638700475338806,\n",
              " 8.83922716153881,\n",
              " 8.27529171245887,\n",
              " 8.780386661515877,\n",
              " 8.968438893018817,\n",
              " 7.81394614595625,\n",
              " 8.101628218408031,\n",
              " 8.75221578454918,\n",
              " 8.698148563278904,\n",
              " 7.653603495881071,\n",
              " 7.298782120591661,\n",
              " 8.83922716153881,\n",
              " 8.869998820205563,\n",
              " 9.003530212830087,\n",
              " 8.80937419838913,\n",
              " 7.14277787211508,\n",
              " 7.835925052675026,\n",
              " 8.29268345517074,\n",
              " 8.83922716153881,\n",
              " 8.75221578454918,\n",
              " 7.188240246191837,\n",
              " 7.523550367632873,\n",
              " 6.536642068544764,\n",
              " 8.780386661515877,\n",
              " 8.698148563278904,\n",
              " 7.083461294958661,\n",
              " 7.565050098539626,\n",
              " 8.52907223323497,\n",
              " 7.858397908527084,\n",
              " 7.626204521692956,\n",
              " 7.8031352298520344,\n",
              " 7.979025896315699,\n",
              " 6.850937789514635,\n",
              " 8.968438893018817,\n",
              " 7.858397908527084,\n",
              " 7.9168941152086925,\n",
              " 7.720614206164031,\n",
              " 7.835925052675026,\n",
              " 6.7045229411839244,\n",
              " 8.75221578454918,\n",
              " 8.24139016078319,\n",
              " 3.6201825970974744,\n",
              " 8.901747518520144,\n",
              " 9.003530212830087,\n",
              " 8.403909090280965,\n",
              " 8.384491004423863,\n",
              " 8.161347453109652,\n",
              " 8.646855268891354,\n",
              " 8.724816810361066,\n",
              " 5.598767765003435,\n",
              " 8.116227017829184,\n",
              " 8.073054845963975,\n",
              " 7.81394614595625,\n",
              " 8.485587121295232,\n",
              " 9.03989785700096,\n",
              " 8.698148563278904,\n",
              " 8.869998820205563,\n",
              " 8.310383032270142,\n",
              " 8.83922716153881,\n",
              " 7.4915476365466995,\n",
              " 7.386974832627122,\n",
              " 8.161347453109652,\n",
              " 8.423711717577145,\n",
              " 7.345302136226554,\n",
              " 8.52907223323497,\n",
              " 8.384491004423863,\n",
              " 6.6487593666654705,\n",
              " 8.968438893018817,\n",
              " 7.153951172713206,\n",
              " 8.03166962980112,\n",
              " 8.551545089087028,\n",
              " 9.003530212830087,\n",
              " 8.365442809453167,\n",
              " 7.0078585542157095,\n",
              " 7.1652507279671385,\n",
              " 6.105253275426809,\n",
              " 8.52907223323497,\n",
              " 8.901747518520144,\n",
              " 8.83922716153881,\n",
              " 8.780386661515877,\n",
              " 7.0078585542157095,\n",
              " 7.475922318643619,\n",
              " 8.310383032270142,\n",
              " 8.24139016078319,\n",
              " 8.968438893018817,\n",
              " 8.258197279099571,\n",
              " 7.771386531537455,\n",
              " 7.691343823863917,\n",
              " 9.003530212830087,\n",
              " 8.968438893018817,\n",
              " 7.539944177408549,\n",
              " 8.598065104721922,\n",
              " 7.423079837269238,\n",
              " 8.698148563278904,\n",
              " 7.771386531537455,\n",
              " 8.059068603989235,\n",
              " 8.75221578454918,\n",
              " 8.968438893018817,\n",
              " 8.934537341343134,\n",
              " 7.672295628893223,\n",
              " 8.968438893018817,\n",
              " 8.75221578454918,\n",
              " 8.698148563278904,\n",
              " 7.662905888543384,\n",
              " 8.598065104721922,\n",
              " 8.934537341343134,\n",
              " 9.03989785700096,\n",
              " 8.83922716153881,\n",
              " 6.42223171736702,\n",
              " 7.691343823863917,\n",
              " 8.83922716153881,\n",
              " 3.8213454589217872,\n",
              " 8.724816810361066,\n",
              " 8.087239480955931,\n",
              " 8.22486085883198,\n",
              " 8.75221578454918,\n",
              " 5.4615362275519965,\n",
              " 8.443914424894665,\n",
              " 8.901747518520144,\n",
              " 8.968438893018817,\n",
              " 8.780386661515877,\n",
              " 8.901747518520144,\n",
              " 8.83922716153881,\n",
              " 7.78185783140475,\n",
              " 7.835925052675026,\n",
              " 8.131042103614323,\n",
              " 8.968438893018817,\n",
              " 7.626204521692956,\n",
              " 8.622162656300983,\n",
              " 8.934537341343134,\n",
              " 9.003530212830087,\n",
              " 8.24139016078319,\n",
              " 7.359000980584716,\n",
              " 7.60834690429295,\n",
              " 8.75221578454918,\n",
              " 7.84709835327315,\n",
              " 7.452932800418919,\n",
              " 8.29268345517074,\n",
              " 7.012724743866882,\n",
              " 8.968438893018817,\n",
              " 7.394092300395986,\n",
              " 8.24139016078319,\n",
              " 8.780386661515877,\n",
              " 8.574534607311728,\n",
              " 8.698148563278904,\n",
              " 9.003530212830087,\n",
              " 8.598065104721922,\n",
              " 8.4645337120974,\n",
              " 8.101628218408031,\n",
              " 8.934537341343134,\n",
              " 8.073054845963975,\n",
              " 8.507093326516195,\n",
              " 8.17685163964562,\n",
              " 8.4645337120974,\n",
              " 8.75221578454918,\n",
              " 8.01824660946898,\n",
              " 8.901747518520144,\n",
              " 8.161347453109652,\n",
              " 8.551545089087028,\n",
              " 8.672173076875644,\n",
              " 8.4645337120974,\n",
              " 8.208600337960199,\n",
              " 7.617235851710196,\n",
              " 7.423079837269238,\n",
              " ...]"
            ]
          },
          "metadata": {
            "tags": []
          },
          "execution_count": 12
        }
      ]
    },
    {
      "metadata": {
        "id": "IjzszL54M10y",
        "colab_type": "code",
        "colab": {}
      },
      "cell_type": "code",
      "source": [
        ""
      ],
      "execution_count": 0,
      "outputs": []
    }
  ]
}